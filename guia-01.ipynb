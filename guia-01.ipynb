{
 "cells": [
  {
   "cell_type": "markdown",
   "metadata": {},
   "source": [
    "# Mecánica de fluidos\n",
    "## Guia ejercicios hidrostática\n",
    "-----------------"
   ]
  },
  {
   "cell_type": "markdown",
   "metadata": {},
   "source": [
    "## Ejercicio 1\n",
    "Los diámetros de 2 pistones de una prensa hidráulica miden 4 y 40cm respectivamnete. ¿Por cuanto aparece multiplicada en el pistón mayor la fuerza que se aplica sobre el menor?"
   ]
  },
  {
   "cell_type": "markdown",
   "metadata": {},
   "source": [
    "### Solución\n",
    "Estamos en equilibrio"
   ]
  },
  {
   "cell_type": "markdown",
   "metadata": {},
   "source": [
    "$\\left.\n",
    "\\begin{array}{l}\n",
    "\\displaystyle P_1 = \\frac{F_1}{A_1} \\\\\n",
    "\\displaystyle P_2 = \\frac{F_2}{A_2} \\\\\n",
    "P_1 = P_2\n",
    "\\end{array}\n",
    "\\right\\} \\quad \n",
    "\\Rightarrow \\quad\n",
    "\\begin{array}{|l|}\n",
    "\\hline\n",
    "\\displaystyle \\frac{F_1}{A_1} = \\frac{F_2}{A_2} \\\\\n",
    "\\hline\n",
    "\\end{array}$"
   ]
  },
  {
   "cell_type": "markdown",
   "metadata": {},
   "source": [
    "Despejo $F_2$\n",
    "$$ F_2 = F_1 \\frac{A_2}{A_1} = F_1 \\frac{\\pi \\phi^2_2/4}{\\pi \\phi^2_1/4} $$"
   ]
  },
  {
   "cell_type": "markdown",
   "metadata": {},
   "source": [
    "Luego, simplifico:\n",
    "$$ F_2 = F_1 \\frac{\\phi^2_2}{\\phi^2_1} $$"
   ]
  },
  {
   "cell_type": "code",
   "execution_count": 10,
   "metadata": {},
   "outputs": [],
   "source": [
    "# Datos:\n",
    "d1 = 4e-2  # [m]\n",
    "d2 = 40e-2 # [m]\n",
    "\n",
    "# Relación\n",
    "relac = d2**2/d1**2"
   ]
  },
  {
   "cell_type": "code",
   "execution_count": 11,
   "metadata": {},
   "outputs": [
    {
     "name": "stdout",
     "output_type": "stream",
     "text": [
      "F2 = 100.0*F1\n"
     ]
    }
   ],
   "source": [
    "print('F2 = %s*F1'%round(relac,1))"
   ]
  },
  {
   "cell_type": "markdown",
   "metadata": {},
   "source": [
    "$$ F_2 = 100 F_1 $$"
   ]
  },
  {
   "cell_type": "code",
   "execution_count": null,
   "metadata": {},
   "outputs": [],
   "source": [
    "%reset -s -f"
   ]
  },
  {
   "cell_type": "markdown",
   "metadata": {},
   "source": [
    "## Ejercicio 2\n",
    "Se solicita:\n",
    "1. Determinar la presión del sistema en kgf/cm² y en Pa y $F_2$ en equilibrio\n",
    "2. El desplazamiento del émbolo 2 si el émbolo 1 se mueve 30mm\n",
    "\n",
    "<img src=\"img/g1-02.svg\" alt=\"g1-02.svg\" width=\"50%\" height=\"50%\">"
   ]
  },
  {
   "cell_type": "markdown",
   "metadata": {},
   "source": [
    "### Solución\n",
    "Cálculo de $F_2$\n",
    "$$ \\frac{F_1}{A_1} = \\frac{F_2}{A_2} \\quad \\Rightarrow \\quad F_2 = \\frac{F_1}{A_1} A_2 $$"
   ]
  },
  {
   "cell_type": "markdown",
   "metadata": {},
   "source": [
    "$$ F_2 = F_1 \\frac{\\phi_2^2}{\\phi_1^2} $$"
   ]
  },
  {
   "cell_type": "code",
   "execution_count": 12,
   "metadata": {},
   "outputs": [],
   "source": [
    "# Datos:\n",
    "d1 = 15e-3 # [m]\n",
    "d2 = 50.8e-3 # [m]\n",
    "F1 = 500 # [N]\n",
    "\n",
    "# Cálculo de F2\n",
    "F2 = F1*(d2/d1)**2"
   ]
  },
  {
   "cell_type": "code",
   "execution_count": 13,
   "metadata": {},
   "outputs": [
    {
     "name": "stdout",
     "output_type": "stream",
     "text": [
      "F2 = 5734.76 [N]\n"
     ]
    }
   ],
   "source": [
    "print('F2 = %s [N]'%round(F2,2))"
   ]
  },
  {
   "cell_type": "markdown",
   "metadata": {},
   "source": [
    "Presión del sistema (estática)\n",
    "$$ P_e = \\frac{F_1}{A_1} $$"
   ]
  },
  {
   "cell_type": "code",
   "execution_count": 14,
   "metadata": {},
   "outputs": [],
   "source": [
    "import math"
   ]
  },
  {
   "cell_type": "code",
   "execution_count": 15,
   "metadata": {},
   "outputs": [],
   "source": [
    "# Cálculo del área A1\n",
    "A1 = (math.pi*d1**2)/4 # [m^2]\n",
    "\n",
    "# Presión del sistema\n",
    "Pe = F1/A1"
   ]
  },
  {
   "cell_type": "code",
   "execution_count": 16,
   "metadata": {},
   "outputs": [
    {
     "name": "stdout",
     "output_type": "stream",
     "text": [
      "Pe = 2829421.21 [Pa]\n"
     ]
    }
   ],
   "source": [
    "print('Pe = %s [Pa]'%round(Pe,2))"
   ]
  },
  {
   "cell_type": "markdown",
   "metadata": {},
   "source": [
    "Conversión a $\\mathrm{[ \\vec{kg}/cm^2 ]}$\n",
    "$$ \\mathrm{ Pa = \\frac{N}{m^2} } $$"
   ]
  },
  {
   "cell_type": "markdown",
   "metadata": {},
   "source": [
    "$$ \\left[ \\mathrm{ \\frac{ \\vec{kg} }{cm^2} } \\right] \\quad \\rightarrow \\quad \\frac{ \\mathrm{ [N] } }{g} \\cdot \\mathrm{ \\frac{ [m]^2}{1 \\times 10^4 \\, [cm]^2} } $$"
   ]
  },
  {
   "cell_type": "code",
   "execution_count": 17,
   "metadata": {},
   "outputs": [
    {
     "name": "stdout",
     "output_type": "stream",
     "text": [
      "Pe = 28.84 [kg/cm^2]\n"
     ]
    }
   ],
   "source": [
    "# Dato:\n",
    "g = 9.81 # [m/s^2]\n",
    "\n",
    "# Imprime el valor en [kg/cm^2]\n",
    "print('Pe = %s [kg/cm^2]'%round(Pe/(g*1e4),2))"
   ]
  },
  {
   "cell_type": "markdown",
   "metadata": {},
   "source": [
    "También\n",
    "$$ F_2 = P_e A_2 $$"
   ]
  },
  {
   "cell_type": "code",
   "execution_count": 18,
   "metadata": {},
   "outputs": [],
   "source": [
    "A2 = (math.pi*d2**2)/4 # [m^2]\n",
    "\n",
    "F2 = Pe*A2"
   ]
  },
  {
   "cell_type": "code",
   "execution_count": 19,
   "metadata": {},
   "outputs": [
    {
     "name": "stdout",
     "output_type": "stream",
     "text": [
      "F2 = 5734.76 [N]\n"
     ]
    }
   ],
   "source": [
    "print('F2 = %s [N]'%round(F2,2))"
   ]
  },
  {
   "cell_type": "markdown",
   "metadata": {},
   "source": [
    "Cálculo de $s_2$\n",
    "$$ V_1 = V_2 $$"
   ]
  },
  {
   "cell_type": "markdown",
   "metadata": {},
   "source": [
    "$$ s_1 A_1 = s_2 A_2 $$"
   ]
  },
  {
   "cell_type": "markdown",
   "metadata": {},
   "source": [
    "$$ s_2 = s_1 \\frac{A_1}{A_2} $$"
   ]
  },
  {
   "cell_type": "markdown",
   "metadata": {},
   "source": [
    "$$ s_2 = s_1 \\frac{\\phi_1^2}{\\phi_2^2} $$"
   ]
  },
  {
   "cell_type": "code",
   "execution_count": 20,
   "metadata": {},
   "outputs": [],
   "source": [
    "# Dato:\n",
    "s1 = 30e-3 # m\n",
    "\n",
    "# Cálculo de s2\n",
    "s2 = s1*(d1/d2)**2"
   ]
  },
  {
   "cell_type": "code",
   "execution_count": 21,
   "metadata": {},
   "outputs": [
    {
     "name": "stdout",
     "output_type": "stream",
     "text": [
      "s2 = 2.62 [mm]\n"
     ]
    }
   ],
   "source": [
    "print('s2 = %s [mm]'%round(s2*1000,2))"
   ]
  },
  {
   "cell_type": "code",
   "execution_count": 22,
   "metadata": {},
   "outputs": [],
   "source": [
    "%reset -s -f"
   ]
  },
  {
   "cell_type": "markdown",
   "metadata": {},
   "source": [
    "## Ejercicio 3\n",
    "Calcular los diámetros de los siguientes cilindros que efectúan el desplazamiento de una carga según el esquema. Presión de trabajo $50 \\, \\mathrm{kgf/cm^2}$\n",
    "\n",
    "<img src=\"img/g1-03.svg\" alt=\"g1-03.svg\" width=\"40%\" height=\"40%\">"
   ]
  },
  {
   "cell_type": "markdown",
   "metadata": {},
   "source": [
    "### Solución\n",
    "Diagrama de cuerpo libre\n",
    "\n",
    "<img src=\"img/g1-03-2.svg\" alt=\"g1-03-2.svg\" width=\"25%\" height=\"25%\">"
   ]
  },
  {
   "cell_type": "markdown",
   "metadata": {},
   "source": [
    "$$ \\mathrm{ Presi \\acute o n = \\frac{Fuerza}{\\acute Area} } \\quad \\rightarrow \\quad \\mathrm{ \\acute Area = \\frac{Fuerza}{Presi \\acute on} } $$"
   ]
  },
  {
   "cell_type": "markdown",
   "metadata": {},
   "source": [
    "$$ A_2 = \\frac{\\pi \\phi_2^2}{4} = \\mathrm{ \\frac{Peso}{Presi \\acute on } } $$"
   ]
  },
  {
   "cell_type": "markdown",
   "metadata": {},
   "source": [
    "$$ \\phi_2 = 2 \\, \\sqrt{  \\mathrm{ \\frac{Peso}{\\pi \\, Presi \\acute on } } } $$"
   ]
  },
  {
   "cell_type": "code",
   "execution_count": 23,
   "metadata": {},
   "outputs": [],
   "source": [
    "import math"
   ]
  },
  {
   "cell_type": "code",
   "execution_count": 24,
   "metadata": {},
   "outputs": [],
   "source": [
    "# Datos:\n",
    "g = 9.81 # [m/s^2]\n",
    "Peso = 4000/g # [N]\n",
    "Presion = (50/g)*1e4 # [Pa]\n",
    "\n",
    "# Cálculo de d2:\n",
    "d2 = 2*math.sqrt( Peso/(math.pi*Presion) )"
   ]
  },
  {
   "cell_type": "code",
   "execution_count": 25,
   "metadata": {},
   "outputs": [
    {
     "name": "stdout",
     "output_type": "stream",
     "text": [
      "d2 = 0.10093 [m]\n",
      "d2 = 10.093 [cm]\n"
     ]
    }
   ],
   "source": [
    "print('d2 = %s [m]'%round(d2,5))\n",
    "print('d2 = %s [cm]'%round(d2*100,3))"
   ]
  },
  {
   "cell_type": "code",
   "execution_count": null,
   "metadata": {},
   "outputs": [],
   "source": [
    "%reset -s -f"
   ]
  },
  {
   "cell_type": "markdown",
   "metadata": {},
   "source": [
    "## Ejercicio 4\n",
    "Determinar la presión solicitada para que el vástago se traslade $0,5 \\, \\mathrm{[cm]}$. $k=150 \\, \\mathrm{[N/cm]}$.\n",
    "<center>\n",
    "<img src=\"img/g1-04.png\" alt=\"g1.04.png\">\n",
    "</center>    "
   ]
  },
  {
   "cell_type": "markdown",
   "metadata": {},
   "source": [
    "## Solución\n",
    "Cálculo de la fuerza necesaria para comprimir el resorte:\n",
    "\n",
    "__Ley de Hooke:__\n",
    "$$ F = k \\cdot \\Delta x $$"
   ]
  },
  {
   "cell_type": "code",
   "execution_count": 26,
   "metadata": {},
   "outputs": [],
   "source": [
    "# Datos:\n",
    "k = 150 # [N/cm]\n",
    "Dx = 0.5 # [cm]\n",
    "\n",
    "# Fuerza:\n",
    "F = k*Dx"
   ]
  },
  {
   "cell_type": "code",
   "execution_count": 27,
   "metadata": {},
   "outputs": [
    {
     "name": "stdout",
     "output_type": "stream",
     "text": [
      "F = 75.0 [N]\n"
     ]
    }
   ],
   "source": [
    "print('F = %s [N]'%round(F,2))"
   ]
  },
  {
   "cell_type": "markdown",
   "metadata": {},
   "source": [
    "Cálculo de la presión:\n",
    "$$ P = \\frac{F}{A} \\qquad \\wedge \\qquad A = \\pi \\frac{\\phi^2}{4} $$"
   ]
  },
  {
   "cell_type": "code",
   "execution_count": 28,
   "metadata": {},
   "outputs": [],
   "source": [
    "import math"
   ]
  },
  {
   "cell_type": "code",
   "execution_count": 29,
   "metadata": {},
   "outputs": [],
   "source": [
    "# Datos:\n",
    "diam = 2.54 # [cm]\n",
    "g = 9.81 # [m/s^2]\n",
    "\n",
    "# Cálculo del área:\n",
    "A = (math.pi*diam**2)/4\n",
    "\n",
    "# Cálculo de la presión:\n",
    "P = F/A"
   ]
  },
  {
   "cell_type": "code",
   "execution_count": 30,
   "metadata": {},
   "outputs": [
    {
     "name": "stdout",
     "output_type": "stream",
     "text": [
      "P = 14.801 [N/cm^2]\n",
      "P = 1.509 [kgf/cm^2]\n"
     ]
    }
   ],
   "source": [
    "print('P = %s [N/cm^2]'%round(P,3))\n",
    "print('P = %s [kgf/cm^2]'%round(P/g,3))"
   ]
  },
  {
   "cell_type": "code",
   "execution_count": 32,
   "metadata": {},
   "outputs": [],
   "source": [
    "%reset -s -f"
   ]
  },
  {
   "cell_type": "markdown",
   "metadata": {},
   "source": [
    "## Ejercicio 5\n",
    "Determinar la presión solicitada. (Multiplicador de presión).\n",
    "\n",
    "\n",
    "\n",
    "<table style=\"width:100%\">\n",
    "  <tr>\n",
    "    <th><img src=\"img/g1-05.png\" alt=\"g1-05.png\"></th>\n",
    "    <th><img src=\"img/g1-05.svg\" alt=\"g1-05.svg\" width=\"100%\" height=\"100%\"></th>\n",
    "  </tr>\n",
    "</table>    "
   ]
  },
  {
   "cell_type": "markdown",
   "metadata": {},
   "source": [
    "### Solución\n",
    "En un fluido se transmiten persiones.     \n",
    "En los sólidos se transmiten fuerzas."
   ]
  },
  {
   "cell_type": "markdown",
   "metadata": {},
   "source": [
    "$$ F_1 = P_1 A_1 \\qquad \\wedge \\qquad A_1 = \\pi \\frac{d_1^2}{4} $$"
   ]
  },
  {
   "cell_type": "code",
   "execution_count": 2,
   "metadata": {},
   "outputs": [],
   "source": [
    "import math"
   ]
  },
  {
   "cell_type": "code",
   "execution_count": 3,
   "metadata": {},
   "outputs": [],
   "source": [
    "# Datos:\n",
    "P1 = 10e5 # [Pa]\n",
    "d1 = 4*25.4e-3 # [m]\n",
    "d2 = 1*25.4e-3 # [m]"
   ]
  },
  {
   "cell_type": "code",
   "execution_count": 4,
   "metadata": {},
   "outputs": [],
   "source": [
    "# Cálculo de área 1\n",
    "A1 = math.pi*(d1**2)/4\n",
    "# Cálculo de F1\n",
    "F1 = P1*A1"
   ]
  },
  {
   "cell_type": "code",
   "execution_count": 5,
   "metadata": {},
   "outputs": [
    {
     "name": "stdout",
     "output_type": "stream",
     "text": [
      "A1 = 0.0081073 [m^2]\n",
      "F1 = 8107.32 [N]\n"
     ]
    }
   ],
   "source": [
    "print('A1 = %s [m^2]'%round(A1,7))\n",
    "print('F1 = %s [N]'%round(F1,2))"
   ]
  },
  {
   "cell_type": "markdown",
   "metadata": {},
   "source": [
    "La fuerza se transmite por la barra\n",
    "$$ F_1 = F_2 $$"
   ]
  },
  {
   "cell_type": "markdown",
   "metadata": {},
   "source": [
    "$$ P_2 = \\frac{F_2}{A_2} \\qquad \\wedge \\qquad A_2 = \\frac{d_2^2}{4} $$"
   ]
  },
  {
   "cell_type": "code",
   "execution_count": 6,
   "metadata": {},
   "outputs": [],
   "source": [
    "F2 = F1\n",
    "# Cálculo de área 2\n",
    "A2 = math.pi*(d2**2)/4\n",
    "# Cálculo de P2\n",
    "P2 = F2/A2"
   ]
  },
  {
   "cell_type": "code",
   "execution_count": 8,
   "metadata": {},
   "outputs": [
    {
     "name": "stdout",
     "output_type": "stream",
     "text": [
      "A2 = 0.0005067 [m^2]\n",
      "P2 = 16000000.0 [Pa]\n",
      "P2 = 160.0 [Bar]\n"
     ]
    }
   ],
   "source": [
    "print('A2 = %s [m^2]'%round(A2,7))\n",
    "print('P2 = %s [Pa]'%round(P2,2))\n",
    "print('P2 = %s [Bar]'%round(P2/1e5,2))"
   ]
  },
  {
   "cell_type": "code",
   "execution_count": 9,
   "metadata": {},
   "outputs": [],
   "source": [
    "%reset -s -f"
   ]
  },
  {
   "cell_type": "markdown",
   "metadata": {},
   "source": [
    "## Ejercicio 6\n",
    "Se quiere saber la presión máxima que se soporta en el tanque de combustible de la figura [Pa]. Graficar el diagrama de presiones absolutas.\n",
    "\n",
    "<img src=\"img/g1-06.svg\" alt=\"g1-06.svg\" width=\"50%\" height=\"50%\">\n",
    "$\\begin{array}{lcr}\n",
    "\\gamma_{gas,oil} & = & 870 \\, \\mathrm{[\\vec{kg}/m^3]} \\\\\n",
    "\\gamma_{agua} & = & 1000 \\, \\mathrm{[\\vec{kg}/m^3]}\n",
    "\\end{array}$"
   ]
  },
  {
   "cell_type": "markdown",
   "metadata": {},
   "source": [
    "### Solución\n",
    "$$ P = \\gamma \\cdot h $$"
   ]
  },
  {
   "cell_type": "markdown",
   "metadata": {},
   "source": [
    "Presiones:\n",
    "$$\\begin{array}{lcl}\n",
    "P_{agua} & = & \\gamma_{agua} \\cdot h_{agua} \\\\\n",
    "P_{gas,oil} & = & \\gamma_{gas,oil} \\cdot h_{gas,oil} \\\\\n",
    "P_{aire} & = & P_{atm}\n",
    "\\end{array}$$"
   ]
  },
  {
   "cell_type": "markdown",
   "metadata": {},
   "source": [
    "Presión máxima:\n",
    "$$ P_{m \\acute ax} = P_{agua} + P_{gas,oil} + P_{aire} $$"
   ]
  },
  {
   "cell_type": "code",
   "execution_count": 4,
   "metadata": {},
   "outputs": [],
   "source": [
    "g = 9.81 # m/s^2\n",
    "gamma_gasoil = 870 # [kg/m^3]\n",
    "gamma_agua = 1000 # [kg/m^3]\n",
    "P_atm = 10130 # [kg/m^2]\n",
    "h_agua = 0.3 # [m]\n",
    "h_gasoil = 4 - (0.3 + 0.5) # [m]"
   ]
  },
  {
   "cell_type": "code",
   "execution_count": 5,
   "metadata": {},
   "outputs": [],
   "source": [
    "# Cálculo de presiones\n",
    "P_agua = gamma_agua*h_agua\n",
    "P_gasoil = gamma_gasoil*h_gasoil\n",
    "P_aire = P_atm\n",
    "# Cálculo de la presión máxima\n",
    "P_max = P_aire + P_gasoil + P_agua"
   ]
  },
  {
   "cell_type": "code",
   "execution_count": 11,
   "metadata": {},
   "outputs": [
    {
     "name": "stdout",
     "output_type": "stream",
     "text": [
      "P_max = 13214.0 [kg/m^2]\n",
      "P_max = 129.629 [kPa]\n",
      "P_max = 1.296 [bar]\n"
     ]
    }
   ],
   "source": [
    "print('P_max = %s [kg/m^2]'%round(P_max,2))\n",
    "print('P_max = %s [kPa]'%round(P_max*g/1e3,3))\n",
    "print('P_max = %s [bar]'%round(P_max*g/1e5,3))"
   ]
  },
  {
   "cell_type": "code",
   "execution_count": 12,
   "metadata": {},
   "outputs": [],
   "source": [
    "%reset -s -f"
   ]
  },
  {
   "cell_type": "markdown",
   "metadata": {},
   "source": [
    "## Ejercicio 7\n",
    "Determinar la altura del bloque de hielo que se encuentra por encima de la superficie.\n",
    "\n",
    "<img src=\"img/g1-07.png\" alt=\"g1-07.png\">\n",
    "\n",
    "$\\begin{array}{l}\n",
    "\\gamma_{Hielo} = 960 \\, \\mathrm{[\\vec{kg}/m^3]} \\\\\n",
    "\\gamma_{agua} = 1000 \\, \\mathrm{[\\vec{kg}/m^3]}\n",
    "\\end{array}$"
   ]
  },
  {
   "cell_type": "markdown",
   "metadata": {},
   "source": [
    "### Solución\n",
    "$$ P = E $$"
   ]
  },
  {
   "cell_type": "code",
   "execution_count": 1,
   "metadata": {},
   "outputs": [],
   "source": [
    "# Importa bibliotaca sympy\n",
    "import sympy as sp"
   ]
  },
  {
   "cell_type": "code",
   "execution_count": 2,
   "metadata": {},
   "outputs": [],
   "source": [
    "# Datos:\n",
    "gamma_hielo = 960 # [kgf/m^3]\n",
    "gamma_agua = 1000 # [kgf/m^3]\n",
    "ancho = 25 # [m]\n",
    "largo = 20 # [m]\n",
    "alto = 10 # [m]"
   ]
  },
  {
   "cell_type": "markdown",
   "metadata": {},
   "source": [
    "$$ \\gamma_{hielo} \\mathrm{(ancho \\times largo \\times alto)} = \\gamma_{agua} \\mathrm{(ancho \\times largo \\times (alto} - x)) $$"
   ]
  },
  {
   "cell_type": "code",
   "execution_count": 3,
   "metadata": {},
   "outputs": [],
   "source": [
    "# Declara variable x\n",
    "x = sp.symbols('x')\n",
    "# Ecuación\n",
    "eq = sp.Eq( gamma_hielo*(ancho*largo*alto) , gamma_agua*(ancho*largo*(alto - x)) )\n",
    "# Resuelve la ecuación en x\n",
    "Sol = sp.solve(eq,x)\n",
    "x = Sol[0]"
   ]
  },
  {
   "cell_type": "code",
   "execution_count": 4,
   "metadata": {},
   "outputs": [
    {
     "name": "stdout",
     "output_type": "stream",
     "text": [
      "x = 0.4 [m]\n"
     ]
    }
   ],
   "source": [
    "# Imprime resultado\n",
    "print('x = %s [m]'%round(x,3))"
   ]
  },
  {
   "cell_type": "code",
   "execution_count": 5,
   "metadata": {},
   "outputs": [],
   "source": [
    "%reset -s -f"
   ]
  },
  {
   "cell_type": "markdown",
   "metadata": {},
   "source": [
    "## Ejercicio 8\n",
    "Hallar la fuerza resultante ejercida sobre la presa, por la presión (manométrica) del agua.\n",
    "\n",
    "<img src=\"img/g1-08.png\" alt=\"g1-08.png\">"
   ]
  },
  {
   "cell_type": "markdown",
   "metadata": {},
   "source": [
    "### Solución\n",
    "$$ \\gamma = \\delta \\cdot g $$"
   ]
  },
  {
   "cell_type": "markdown",
   "metadata": {},
   "source": [
    "$$ P = \\frac{F}{A} \\qquad \\Rightarrow \\qquad F = P \\cdot A $$"
   ]
  },
  {
   "cell_type": "markdown",
   "metadata": {},
   "source": [
    "<img src=\"img/g1-08-2.png\" alt=\"g1-08-2.png\">\n",
    "\n",
    "$\\begin{array}{l}\n",
    "dA = dy \\, W \\\\\n",
    "dF = P \\, dA\n",
    "\\end{array}$"
   ]
  },
  {
   "cell_type": "markdown",
   "metadata": {},
   "source": [
    "$$ P = \\gamma_{agua} \\cdot h $$"
   ]
  },
  {
   "cell_type": "markdown",
   "metadata": {},
   "source": [
    "$$ P_{fondo} = \\gamma_{agua} \\cdot D $$"
   ]
  },
  {
   "cell_type": "markdown",
   "metadata": {},
   "source": [
    "$$ dF = W \\int \\gamma_{agua} \\cdot h \\; dy $$"
   ]
  },
  {
   "cell_type": "markdown",
   "metadata": {},
   "source": [
    "$$ F_T = \\gamma_{agua} W \\int_0^D y \\; dy $$"
   ]
  },
  {
   "cell_type": "code",
   "execution_count": 6,
   "metadata": {},
   "outputs": [],
   "source": [
    "# Datos:\n",
    "gamma_agua = 1000 # [kgf/m^3]\n",
    "W = 7 # [m]\n",
    "D = 3 # [m]"
   ]
  },
  {
   "cell_type": "code",
   "execution_count": 8,
   "metadata": {},
   "outputs": [],
   "source": [
    "F_T = gamma_agua*W*(D**2)/2"
   ]
  },
  {
   "cell_type": "code",
   "execution_count": 9,
   "metadata": {},
   "outputs": [
    {
     "name": "stdout",
     "output_type": "stream",
     "text": [
      "F_T = 31500.0 [kgf/m^3]\n"
     ]
    }
   ],
   "source": [
    "print('F_T = %s [kgf/m^3]'%round(F_T,3))"
   ]
  },
  {
   "cell_type": "code",
   "execution_count": 10,
   "metadata": {},
   "outputs": [],
   "source": [
    "%reset -s -f"
   ]
  },
  {
   "cell_type": "code",
   "execution_count": null,
   "metadata": {},
   "outputs": [],
   "source": []
  }
 ],
 "metadata": {
  "kernelspec": {
   "display_name": "Python 3",
   "language": "python",
   "name": "python3"
  },
  "language_info": {
   "codemirror_mode": {
    "name": "ipython",
    "version": 3
   },
   "file_extension": ".py",
   "mimetype": "text/x-python",
   "name": "python",
   "nbconvert_exporter": "python",
   "pygments_lexer": "ipython3",
   "version": "3.7.3"
  }
 },
 "nbformat": 4,
 "nbformat_minor": 2
}
