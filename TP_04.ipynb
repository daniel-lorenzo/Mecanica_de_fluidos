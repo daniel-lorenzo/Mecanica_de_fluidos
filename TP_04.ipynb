{
 "cells": [
  {
   "cell_type": "markdown",
   "metadata": {},
   "source": [
    "# Mecánica de fluidos - Práctico 4\n",
    "__UNLZ - FI -- Jupyter Notebook + Python 3__\n",
    "   \n",
    "__Alumno: Lorenzo, Daniel Antonio__\n",
    "\n",
    "[<- Previous](https://nbviewer.jupyter.org/github/daniel-lorenzo/Mecanica_de_fluidos/blob/master/TP_03.ipynb) - \n",
    "[Index](https://github.com/daniel-lorenzo/Mecanica_de_fluidos/blob/master/Readme.md)"
   ]
  },
  {
   "cell_type": "markdown",
   "metadata": {},
   "source": [
    "# Ejercicio 1\n",
    "A través de una tubería horizontal de 15 cm de diámetro fluye agua a una presión de 4,2 kg/cm². Suponiendo que no hay pérdidas. ¿Cuál es el caudal si en una reducción de la mitad del diámetro la presión es 1,4 kg/cm²?\n",
    "\n",
    "![tp4e1.png](img/tp4e1.png)"
   ]
  },
  {
   "cell_type": "markdown",
   "metadata": {},
   "source": [
    "## Solución\n",
    "Aplicando la ecuación de continuidad o balance de masa.\n",
    "\n",
    "$$ \\dot{m}_{ent} - \\dot{m}_{sal} =  \\frac{dm_{vc}}{dt} = 0 \\qquad \\mbox{como} \\qquad \\rho = \\mathrm{cte.} $$\n",
    "\n",
    "$$ m_e = m_s $$\n",
    "\n",
    "$$ W_1 A_1 = W_2 A_2 $$\n",
    "\n",
    "$$ W_1 \\frac{\\pi}{4} d^2_1 = W_2 \\frac{\\pi}{4} d^2_2 $$\n",
    "Entonces\n",
    "$$ W_1 = W_2 \\left( \\frac{d_2}{d_2} \\right)^2 \\tag{1} $$\n",
    "\n",
    "Aplicando Bernoulli, resulta\n",
    "\n",
    "$$ \\frac{P_1}{\\gamma} + \\frac{W^2_1}{2g} + z_1 = \\frac{P_2}{\\gamma} + \\frac{W^2_2}{2g} + z_2 $$\n",
    "\n",
    "$$ \\frac{P_1 - P_2}{\\gamma} = \\frac{W^2_2}{2g} - \\frac{W^2_1}{2g} \\tag{2} $$\n",
    "Reemplazando (1) en (2)\n",
    "$$ \\frac{P_1 - P_2}{\\gamma} = \\frac{W^2_2}{2g} - \\frac{W^2_2}{2g} \\left( \\frac{d_2}{d_2} \\right)^4  $$\n",
    "Despejando $W_2$\n",
    "$$ W_2 = \\sqrt{ \\frac{(P_1 - P_2) \\, 2g}{\\gamma \\, [1 - (d_2/d_1)^4]} } \\tag{3} $$"
   ]
  },
  {
   "cell_type": "code",
   "execution_count": 1,
   "metadata": {},
   "outputs": [],
   "source": [
    "import math as m"
   ]
  },
  {
   "cell_type": "code",
   "execution_count": 2,
   "metadata": {},
   "outputs": [
    {
     "name": "stdout",
     "output_type": "stream",
     "text": [
      "W_2 = 24.207 m/s\n"
     ]
    }
   ],
   "source": [
    "# Datos\n",
    "P_1 = 42000 # kgf/m^2\n",
    "P_2 = 14000 # kgf/m^2\n",
    "d_1 = 0.15 # m\n",
    "d_2 = 0.075 # m\n",
    "gamma = 1000 # kgf/m^3\n",
    "g = 9.81 # m/s^2\n",
    "\n",
    "W_2 = m.sqrt( ((P_1 - P_2)*2*g)/(gamma* (1 - (d_2/d_1)**4 ) ) )\n",
    "\n",
    "print('W_2 = %s m/s'%round(W_2,3))"
   ]
  },
  {
   "cell_type": "markdown",
   "metadata": {},
   "source": [
    "Como\n",
    "$$ Q = W_2 \\, A_2 $$"
   ]
  },
  {
   "cell_type": "code",
   "execution_count": 3,
   "metadata": {},
   "outputs": [
    {
     "name": "stdout",
     "output_type": "stream",
     "text": [
      "Q = 0.1069 m^3/s\n"
     ]
    }
   ],
   "source": [
    "A_2 = (m.pi/4)*(d_2)**2\n",
    "\n",
    "Q = W_2 * A_2\n",
    "\n",
    "print('Q = %s m^3/s'%round(Q,4))"
   ]
  },
  {
   "cell_type": "code",
   "execution_count": 4,
   "metadata": {},
   "outputs": [],
   "source": [
    "%reset -s -f"
   ]
  },
  {
   "cell_type": "markdown",
   "metadata": {},
   "source": [
    "# Ejercicio 2\n",
    "En el sistema de la figura, la bomba BC debe producir un caudal de 160 L/s de aceite de densidad relativa 0,762 hacia el recipiente D. Suponiendo que la pérdida de carga entre A y B es de 2,5 m y desde C a D de 6,5 m, determinar la potencia que la bomba debe suministrar a la corriente.\n",
    "\n",
    "![tp4e2.png](img/tp4e2.png)"
   ]
  },
  {
   "cell_type": "markdown",
   "metadata": {},
   "source": [
    "## Solución\n",
    "Hipótesis: flujo estacionario.\n",
    "\n",
    "$\\begin{array}{l}\n",
    "W_1 = W_2 \\\\\n",
    "z_2 = z_1 + 50 \\, \\mathrm{m} \\\\\n",
    "P_1 = P_2 = P_{atm}\n",
    "\\end{array}$\n",
    "\n",
    "Aplicando la ecuación de conservación de energía\n",
    "\n",
    "$$ H_{Bomba} + \\frac{P_1}{\\gamma} + \\frac{W^2_1}{2g} + z_1 = \\frac{P_2}{\\gamma} + \\frac{W^2_2}{2g} + z_2 + h_{perd} $$\n",
    "\n",
    "Simplificando\n",
    "\n",
    "$$ H_B = z_2 - z_1 + h_{perd} $$\n",
    "\n",
    "$$ H_B = \\mathrm{50 \\, m + 2,5 \\, m + 6,5 \\, m} $$\n",
    "\n",
    "$$ H_B = 59 \\, \\mathrm{m} $$\n",
    "\n",
    "$$ N_B = H_B \\, \\gamma \\, \\dot{Q} $$"
   ]
  },
  {
   "cell_type": "code",
   "execution_count": 3,
   "metadata": {},
   "outputs": [
    {
     "name": "stdout",
     "output_type": "stream",
     "text": [
      "N_B = 7193.28 kgf·m/s\n"
     ]
    }
   ],
   "source": [
    "H_B = 50 + 2.5 + 6.5 # m\n",
    "gamma = 762 # kgf/m^3\n",
    "Q = 160e-3 # m^3/s\n",
    "\n",
    "N_B = H_B * gamma * Q\n",
    "\n",
    "print('N_B = %s kgf·m/s'%round(N_B,2))"
   ]
  },
  {
   "cell_type": "code",
   "execution_count": 4,
   "metadata": {},
   "outputs": [],
   "source": [
    "%reset -s -f"
   ]
  },
  {
   "cell_type": "markdown",
   "metadata": {},
   "source": [
    "# Ejercicio 3\n",
    "En una bomba circulan 20 L/s de agua a 5°C, pasando de una presión de 1,5 atm a 4 atm. Si el diámetro de entrada es de 10 cm y el de salida 2,5 cm y además no hay intercambio de calor ni rozamiento. ¿Cuál es la potencia que desarrolla?\n",
    "\n",
    "![tp4e3.png](img/tp4e3.png)\n",
    "\n",
    "$1 \\, \\mathrm{atm} \\approx 10000 \\, \\mathrm{kgf/m^2} $"
   ]
  },
  {
   "cell_type": "markdown",
   "metadata": {},
   "source": [
    "## Solución\n",
    "\n",
    "$\\left\\{\n",
    "\\begin{array}{l}\n",
    "\\dot{Q} = \\dot{W}_1 A_1 \\\\\n",
    "\\displaystyle A_1 = \\pi \\, \\frac{d_1^2}{4} \\\\\n",
    "\\dot{Q} = \\dot{W}_2 A_2 \\\\\n",
    "\\displaystyle A_2 = \\pi \\, \\frac{d_2^2}{4}\n",
    "\\end{array}\n",
    "\\right. \\qquad \\rightarrow \\qquad\n",
    "\\begin{array}{l}\n",
    "\\displaystyle \\dot{W}_1 = \\frac{\\dot{Q}}{A_1} \\\\\n",
    "\\displaystyle \\dot{W}_2 = \\frac{\\dot{Q}}{A_2}\n",
    "\\end{array}\n",
    "$"
   ]
  },
  {
   "cell_type": "code",
   "execution_count": 1,
   "metadata": {},
   "outputs": [],
   "source": [
    "import math"
   ]
  },
  {
   "cell_type": "code",
   "execution_count": 2,
   "metadata": {},
   "outputs": [
    {
     "name": "stdout",
     "output_type": "stream",
     "text": [
      "W1 = 2.55 m/s\n",
      "W2 = 40.74 m/s\n"
     ]
    }
   ],
   "source": [
    "# Datos\n",
    "Q = 20e-3 # m^3/s\n",
    "d1 = 10e-2 # m\n",
    "d2 = 2.5e-2 # m\n",
    "A1 = math.pi*(d1**2/4) # m^2\n",
    "A2 = math.pi*(d2**2/4) # m^2\n",
    "\n",
    "W1 = Q/A1\n",
    "W2 = Q/A2\n",
    "\n",
    "print('W1 = %s m/s'%round(W1,2))\n",
    "print('W2 = %s m/s'%round(W2,2))"
   ]
  },
  {
   "cell_type": "markdown",
   "metadata": {},
   "source": [
    "$$ H_B + \\frac{P_1}{\\gamma} + \\frac{W^2_1}{2g} + z_1 = \\frac{P_2}{\\gamma} + \\frac{W^2_2}{2g} + z_2 $$\n",
    "Entonces\n",
    "$$ H_B = \\frac{P_2 - P_1}{\\gamma} + \\frac{W^2_2 - W^2_1}{2g} $$"
   ]
  },
  {
   "cell_type": "code",
   "execution_count": 3,
   "metadata": {},
   "outputs": [
    {
     "name": "stdout",
     "output_type": "stream",
     "text": [
      "Hb = 109.28 m\n"
     ]
    }
   ],
   "source": [
    "# Datos\n",
    "P1 = 1.5e4 # kgf/m^2\n",
    "P2 = 4e4 # kgf/m^2\n",
    "gamma = 1000 # kgf/m^3\n",
    "g = 9.81 # m/s^2\n",
    "\n",
    "Hb = (P2 - P1)/gamma + (W2**2 - W1**2)/(2*g) \n",
    "\n",
    "print('Hb = %s m'%round(Hb,2))"
   ]
  },
  {
   "cell_type": "markdown",
   "metadata": {},
   "source": [
    "$$ N_B = \\gamma \\, Q \\, H_B $$"
   ]
  },
  {
   "cell_type": "code",
   "execution_count": 4,
   "metadata": {},
   "outputs": [
    {
     "name": "stdout",
     "output_type": "stream",
     "text": [
      "Nb = 2185.59 kgf·m/s\n"
     ]
    }
   ],
   "source": [
    "Nb = gamma*Q*Hb\n",
    "\n",
    "print('Nb = %s kgf·m/s'%round(Nb,2))"
   ]
  },
  {
   "cell_type": "code",
   "execution_count": 5,
   "metadata": {},
   "outputs": [],
   "source": [
    "%reset -s -f"
   ]
  },
  {
   "cell_type": "markdown",
   "metadata": {},
   "source": [
    "# Ejercicio 4\n",
    "Mediante una bomba se hace circular agua desde un recipiente A, a una elevación de 225 m, hasta otro depósito E a una elevación de 240 m. A través de una tubería de 30 cm de diámetro. La presión en la tubería en un punto D ubicado a una elevación de 195 m es de 5,6 kg/cm. Las pérdidas de carga son: de A hasta la entrada de la bomba B, igual a 0,6 m; de C la salida de la bomba hasta B igual a 38 W²/2g y desde D a E igual a 40 W²/2g.\n",
    "\n",
    "Determinar el caudal y la potencia suministrada por la bomba.\n",
    "\n",
    "![tp4e4.png](img/tp4e4.png)\n",
    "\n",
    "$\\begin{array}{l}\n",
    "hp(AB) = 0,6 \\, \\mathrm{m} \\\\\n",
    "\\displaystyle hp(CD) = \\frac{38 W^2}{2g} \\\\\n",
    "\\displaystyle hp(DE) = \\frac{40 W^2}{2g}\n",
    "\\end{array}\n",
    "$"
   ]
  },
  {
   "cell_type": "markdown",
   "metadata": {},
   "source": [
    "## Solución\n",
    "Desde D hasta E\n",
    "\n",
    "$W_E \\approx 0 \\; \\wedge \\; P_E = 0 $\n",
    "\n",
    "$$ \\frac{P_D}{\\gamma} + \\frac{W^2_D}{2g} + z_D = \\frac{P_E}{\\gamma} + \\frac{W^2_E}{2g} + z_E + hp(DE) \\tag{1} $$\n",
    "$W_D = W$\n",
    "$$ \\frac{P_D}{\\gamma} + \\frac{W^2}{2g} + z_D =  z_E + \\frac{40W^2}{2g} $$"
   ]
  },
  {
   "cell_type": "code",
   "execution_count": 6,
   "metadata": {},
   "outputs": [],
   "source": [
    "import sympy as sp"
   ]
  },
  {
   "cell_type": "code",
   "execution_count": 16,
   "metadata": {},
   "outputs": [
    {
     "name": "stdout",
     "output_type": "stream",
     "text": [
      "W = 2.35 m/s\n"
     ]
    }
   ],
   "source": [
    "# Datos\n",
    "g = 9.81 # m/s\n",
    "W = sp.symbols('W')\n",
    "P_D = 56000 # kgf/m^2\n",
    "gamma = 1000 # kgf/m^3\n",
    "z_D = 195 # m\n",
    "z_E = 240 # m\n",
    "P_E = 0\n",
    "W_E = 0\n",
    "hpDE = (40*W**2)/(2*g)\n",
    "\n",
    "eq1 = sp.Eq(P_D/gamma + W**2/(2*g) + z_D , P_E/gamma + W_E**2/(2*g) + z_E + hpDE )\n",
    "\n",
    "Seq1 = sp.solve(eq1,W)\n",
    "W = Seq1[1]\n",
    "\n",
    "print('W = %s m/s'%round(W,2))"
   ]
  },
  {
   "cell_type": "markdown",
   "metadata": {},
   "source": [
    "Desde A hasta E\n",
    "\n",
    "$P_A = P_E \\quad \\wedge \\quad W_A = W_E$\n",
    "\n",
    "$$ z_A + H_B = z_E + hp(AB) + hp(CD) + hp(DE) $$\n",
    "\n",
    "$$ z_A + H_B = z_E + 0,6 \\, \\mathrm{m} + 78 \\frac{W^2}{2g} $$\n",
    "\n",
    "$$ H_B = z_E - z_A + 0,6 \\, \\mathrm{m} + 78 \\frac{W^2}{2g} $$"
   ]
  },
  {
   "cell_type": "code",
   "execution_count": 23,
   "metadata": {},
   "outputs": [
    {
     "name": "stdout",
     "output_type": "stream",
     "text": [
      "H_B = 37.6 m\n"
     ]
    }
   ],
   "source": [
    "z_A = 225 # m\n",
    "hpAB = 0.6 # m\n",
    "hpCD = (38*W**2)/(2*g)\n",
    "hpDE = (40*W**2)/(2*g)\n",
    "\n",
    "H_B = z_E - z_A + hpAB + hpCD + hpDE\n",
    "\n",
    "print('H_B = %s m'%round(H_B,2))"
   ]
  },
  {
   "cell_type": "markdown",
   "metadata": {},
   "source": [
    "$$ N_B = H_B \\, Q \\, \\gamma  $$\n",
    "\n",
    "$$ N_B = H_B \\, W \\frac{\\pi}{4} d^2 \\, \\gamma $$"
   ]
  },
  {
   "cell_type": "code",
   "execution_count": null,
   "metadata": {},
   "outputs": [],
   "source": [
    "import math"
   ]
  },
  {
   "cell_type": "code",
   "execution_count": 27,
   "metadata": {},
   "outputs": [
    {
     "name": "stdout",
     "output_type": "stream",
     "text": [
      "N_B = 6252.21 kgf·m/s\n",
      "N_B = 637.33 Watt\n"
     ]
    }
   ],
   "source": [
    "d = 0.3 # m\n",
    "A = (math.pi/4)*d**2\n",
    "\n",
    "N_B = H_B*W*A*gamma\n",
    "\n",
    "print('N_B = %s kgf·m/s'%round(N_B,2))\n",
    "print('N_B = %s Watt'%round(N_B/g,2))"
   ]
  },
  {
   "cell_type": "markdown",
   "metadata": {},
   "source": [
    "$$ Q = W_D \\frac{\\pi}{4} d^2 $$"
   ]
  },
  {
   "cell_type": "code",
   "execution_count": 28,
   "metadata": {},
   "outputs": [
    {
     "name": "stdout",
     "output_type": "stream",
     "text": [
      "Q = 0.166 m^3/s\n"
     ]
    }
   ],
   "source": [
    "Q = W * math.pi/4 * d**2\n",
    "\n",
    "print('Q = %s m^3/s'%round(Q,3))"
   ]
  },
  {
   "cell_type": "code",
   "execution_count": 29,
   "metadata": {},
   "outputs": [],
   "source": [
    "%reset -s -f"
   ]
  },
  {
   "cell_type": "markdown",
   "metadata": {},
   "source": [
    "# Ejercicio 5\n",
    "Un tanque cilíndrico contiene aire, aceite y agua. En el aceite se mantiene una presión manométrica P = 5 lb/pulg² ¿Cuál es la velocidad y el caudal del agua que sale si se ignoran la fricción y la energía cinética del fluido por encima de la elevación A? El chorro de agua que sale tiene un diámetro de 1 pie.\n",
    "\n",
    "![tp4e5.png](img/tp4e5.png)\n",
    "$\\begin{array}{l}\n",
    "\\mbox{Aceite} \\\\\n",
    "Dr = 0,8\n",
    "\\end{array}$"
   ]
  },
  {
   "cell_type": "markdown",
   "metadata": {},
   "source": [
    "## Solución\n",
    "$\\begin{array}{l}\n",
    "\\mathrm{1 \\, ft = 0,3048 \\, m} \\\\\n",
    "\\mathrm{1 \\, lb/in^2 = 703,07 \\, kgf/m^2 }\n",
    "\\end{array}$\n",
    "\n",
    "Planteando Beronoulli entre 1 y 2\n",
    "\n",
    "$$ \\frac{P_1}{\\gamma} + \\frac{W^2_1}{2g} + z_1 = \\frac{P_2}{\\gamma} + \\frac{W^2_2}{2g} + z_2 \\tag{1} $$\n",
    "\n",
    "Como $P_2 = P_{atm}$, trabajando con presiones relativas se tiene \n",
    "\n",
    "$$ P_2 = 0 \\tag{2} $$\n",
    "\n",
    "$$ P_1 = P_{aire} + \\gamma_{aceite} \\, h_{aceite} \\tag{3} $$"
   ]
  },
  {
   "cell_type": "code",
   "execution_count": 4,
   "metadata": {},
   "outputs": [
    {
     "name": "stdout",
     "output_type": "stream",
     "text": [
      "P_1 = 4246.87 kgf/m^2\n"
     ]
    }
   ],
   "source": [
    "P_aire = 5 * 703.07 # kgf/m^2\n",
    "h_aceite = 3 * 0.3048 # m\n",
    "gamma_aceite = 800 # kgf//m^3\n",
    "\n",
    "P_1 = P_aire + gamma_aceite * h_aceite\n",
    "\n",
    "print('P_1 = %s kgf/m^2'%round(P_1,2))"
   ]
  },
  {
   "cell_type": "markdown",
   "metadata": {},
   "source": [
    "$$ \\frac{P_1}{\\gamma_{agua}} + h_{agua} = \\frac{W^2_2}{2g} $$\n",
    "\n",
    "$$ W_2 = \\sqrt{ 2g \\left( \\frac{P_1}{\\gamma_{agua}} + h_{agua} \\right) } $$"
   ]
  },
  {
   "cell_type": "code",
   "execution_count": 5,
   "metadata": {},
   "outputs": [],
   "source": [
    "import math"
   ]
  },
  {
   "cell_type": "code",
   "execution_count": 7,
   "metadata": {},
   "outputs": [
    {
     "name": "stdout",
     "output_type": "stream",
     "text": [
      "W_2 = 11.96 m/s\n"
     ]
    }
   ],
   "source": [
    "gamma_agua = 1000 # kgf/m^3\n",
    "h_agua = 10 * 0.3048 # m\n",
    "g = 9.81 # m/s^2\n",
    "\n",
    "W_2 = math.sqrt( 2*g * ( P_1/gamma_agua + h_agua ) )\n",
    "\n",
    "print('W_2 = %s m/s'%round(W_2,2))"
   ]
  },
  {
   "cell_type": "markdown",
   "metadata": {},
   "source": [
    "$$ Q = W_2 \\pi \\frac{d^2}{4} $$"
   ]
  },
  {
   "cell_type": "code",
   "execution_count": 9,
   "metadata": {},
   "outputs": [
    {
     "name": "stdout",
     "output_type": "stream",
     "text": [
      "Q = 0.873 m^3/s\n"
     ]
    }
   ],
   "source": [
    "d = 0.3048 # m\n",
    "\n",
    "Q = W_2 * math.pi * d**2/4\n",
    "\n",
    "print('Q = %s m^3/s'%round(Q,3))"
   ]
  },
  {
   "cell_type": "code",
   "execution_count": 10,
   "metadata": {},
   "outputs": [],
   "source": [
    "%reset -s -f"
   ]
  },
  {
   "cell_type": "markdown",
   "metadata": {},
   "source": [
    "# Ejercicio 6\n",
    "Un depósito que contiene agua, densidad d=1kg/L, está herméticamente cerrado teniendo en la cámara interior una presión de 3 atm. Determinar la velocidad de salida del agua por un grifo situado a 6 m por debajo del nivel del agua."
   ]
  },
  {
   "cell_type": "markdown",
   "metadata": {},
   "source": [
    "## Solución\n",
    "$\\mathrm{1 \\, atm = 10332,3 \\, kgf/m^2}$\n",
    "\n",
    "Desprecindo la pérdida de carga y aplicando Bernoulli entre la superficie del líquido en el depósito y el grifo y considerando $W_d \\approx 0$\n",
    "\n",
    "$$ \\frac{P_d}{\\gamma} + \\overbrace{ \\frac{W^2_d}{2g} }^{= \\, 0} + z_d = \\overbrace{ \\frac{Pg}{\\gamma} }^{= \\, 0} + \\frac{W^2_g}{2g} + \\overbrace{ z_g }^{= \\, 0} $$\n",
    "\n",
    "$$ W_g = \\sqrt{ \\left( \\frac{P_d}{\\gamma} + z_d  \\right) 2g } $$"
   ]
  },
  {
   "cell_type": "code",
   "execution_count": 1,
   "metadata": {},
   "outputs": [],
   "source": [
    "import math"
   ]
  },
  {
   "cell_type": "code",
   "execution_count": 2,
   "metadata": {},
   "outputs": [
    {
     "name": "stdout",
     "output_type": "stream",
     "text": [
      "W_g = 26.94 m/s\n"
     ]
    }
   ],
   "source": [
    "P_d = 3 * 10332.3 # kgf/m^2\n",
    "gamma = 1000 # kgf/m^3\n",
    "z_d = 6 # m\n",
    "g = 9.81 # m/s^2\n",
    "\n",
    "W_g = math.sqrt( (P_d/gamma + z_d)*2*g )\n",
    "\n",
    "print('W_g = %s m/s'%round(W_g,2))"
   ]
  },
  {
   "cell_type": "code",
   "execution_count": 3,
   "metadata": {},
   "outputs": [],
   "source": [
    "%reset -s -f"
   ]
  },
  {
   "cell_type": "markdown",
   "metadata": {},
   "source": [
    "# Ejercicio 7\n",
    "Con el fin de mover una bomba centrífuga de agua se consumen 50 caballos de fuerza. La presión manométrica del agua es 2 es 30 lb/in², y en 1, donde entra el agua, es de 10 lb/in² ¿Cuánta agua se está bombeando?\n",
    "\n",
    "![tp4e7.png](img/tp4e7.png)"
   ]
  },
  {
   "cell_type": "markdown",
   "metadata": {},
   "source": [
    "## Solución\n",
    "$\\begin{array}{l}\n",
    "\\mathrm{1 \\, hp = 745,7 \\, N \\, m/s \\quad (kg \\, m^2/s^3)} \\\\\n",
    "\\mathrm{1 \\, lbf/in^2 = 6895 \\, N/m^2 \\quad (kg/ms^2)}\n",
    "\\end{array}$\n",
    "\n",
    "Planteamos la ecuación de la energía suponiendo que no hay pérdidas\n",
    "\n",
    "$$ \\dot{L}_{Bomba} + \\dot{m}_{ent} \\left( \\frac{P_1}{\\rho} + \\frac{W^2_1}{2} + g z_1  \\right) = \\dot{m}_{sal} \\left( \\frac{P_2}{\\rho} + \\frac{W^2_2}{2} + g z_2 \\right) \\tag{1} $$\n",
    "\n",
    "Considerando flujo permanente, por continuidad se tiene\n",
    "\n",
    "$$ \\dot{m}_{ent} - \\dot{m}_{sal} =  \\frac{dm_{vc}}{dt} =  0 $$\n",
    "\n",
    "$$ \\dot{m}_{ent} = \\dot{m}_{sal} $$\n",
    "$\\rho = \\mathrm{cte}$\n",
    "$$ \\rho_1 W_1 A_1 = \\rho_2 W_2 A_2 $$\n",
    "\n",
    "$$ W_1 A_1 = W_2 A_2 $$\n",
    "\n",
    "Como \n",
    "$$D_1 = D_2 \\; \\Rightarrow \\; A_1 = A_2 \\; \\therefore \\; W_1 = W_2 \\tag{2}$$\n",
    "Reemplazando (2) en (1)\n",
    "$$ \\dot{L}_{Bomba} = \\dot{m} \\left( \\frac{P_2 - P_1}{\\rho} + g(z_2 - z_1)  \\right) $$\n",
    "Entonces\n",
    "$$ \\dot{m} = \\frac{ \\dot{L}_{Bomba} }{ \\frac{P_2 - P_1}{\\rho} + g(z_2 - z_1) } $$"
   ]
  },
  {
   "cell_type": "code",
   "execution_count": 5,
   "metadata": {},
   "outputs": [
    {
     "name": "stdout",
     "output_type": "stream",
     "text": [
      "m = 259.14 kg/s\n"
     ]
    }
   ],
   "source": [
    "L_bomba = 50 * 745.7 # kg·m^2/s^3\n",
    "P_2 = 30 * 6895 # kg/ms^2\n",
    "P_1 = 10 * 6895 # kg/ms^2\n",
    "rho = 1000 # kg/m^3\n",
    "g = 9.81 # m/s^2\n",
    "z_2 = 2 * 0.3048 # m\n",
    "z_1 = 0\n",
    "\n",
    "m = L_bomba/( (P_2 - P_1)/rho + g*(z_2 - z_1) )\n",
    "\n",
    "print('m = %s kg/s'%round(m,2))"
   ]
  },
  {
   "cell_type": "markdown",
   "metadata": {},
   "source": [
    "$$ \\dot{Q} = \\frac{\\dot{m}}{\\rho} $$"
   ]
  },
  {
   "cell_type": "code",
   "execution_count": 6,
   "metadata": {},
   "outputs": [
    {
     "name": "stdout",
     "output_type": "stream",
     "text": [
      "Q = 0.2591 m^3/s\n"
     ]
    }
   ],
   "source": [
    "Q = m/rho\n",
    "\n",
    "print('Q = %s m^3/s'%round(Q,4))"
   ]
  },
  {
   "cell_type": "markdown",
   "metadata": {},
   "source": [
    "De manera análoga\n",
    "$$ \\frac{P_1}{\\gamma} + \\overbrace{ \\frac{W^2_1}{2g} }^{\\nearrow \\, 0} + \\underbrace{ z_1 }_{\\searrow \\, 0} + H_B =  \\frac{P_2}{\\gamma}  + \\overbrace{ \\frac{W^2_2}{2g} }^{\\nearrow \\, 0} + z_2 $$\n",
    "\n",
    "$$ H_B = \\frac{P_2 - P_1}{\\gamma} + z_2 $$"
   ]
  },
  {
   "cell_type": "code",
   "execution_count": 9,
   "metadata": {},
   "outputs": [
    {
     "name": "stdout",
     "output_type": "stream",
     "text": [
      "H_B = 14.6667 m\n"
     ]
    }
   ],
   "source": [
    "gamma = 1000*g # kgf/m^3\n",
    "\n",
    "H_B = (P_2 - P_1)/gamma + z_2\n",
    "    \n",
    "print('H_B = %s m'%round(H_B,4))"
   ]
  },
  {
   "cell_type": "code",
   "execution_count": 11,
   "metadata": {},
   "outputs": [],
   "source": [
    "%reset -s -f"
   ]
  },
  {
   "cell_type": "markdown",
   "metadata": {},
   "source": [
    "# Ejercicio 8\n",
    "Un depósito de agua está cerrado por encima con una placa deslizante de 12m² y 1200kg de peso. El nivel del agua en el depósito es de 3,5m de altura. Calcular la presión en el fondo. Si se abre un orificio circular de 5cm de radio a medio metro por encima del fondo, calcúlese el volumen de agua que sale por segundo por este orificio (se considera que el área del orificio es muy pequeña frente al área del depósito).\n",
    "\n",
    "![tp4e8.png](img/tp4e8.png)"
   ]
  },
  {
   "cell_type": "markdown",
   "metadata": {},
   "source": [
    "## Solución\n",
    "$$ P_1 = \\frac{F}{A} $$\n",
    "\n",
    "$$ P_f = P_1 + \\gamma_{agua} \\, (3,5 \\, \\mathrm{m}) $$"
   ]
  },
  {
   "cell_type": "code",
   "execution_count": 2,
   "metadata": {},
   "outputs": [
    {
     "name": "stdout",
     "output_type": "stream",
     "text": [
      "P_1 = 100.0 kgf/m^2\n",
      "P_f = 3600.0 kgf/m^2\n"
     ]
    }
   ],
   "source": [
    "F = 1200 # kgf\n",
    "A = 12 # m^2\n",
    "gamma = 1000 # kgf/m^3\n",
    "h = 3.5 # m\n",
    "\n",
    "P_1 = F/A\n",
    "P_f = P_1 + gamma*h\n",
    "\n",
    "print('P_1 = %s kgf/m^2'%round(P_1,2))\n",
    "print('P_f = %s kgf/m^2'%round(P_f,2))"
   ]
  },
  {
   "cell_type": "markdown",
   "metadata": {},
   "source": [
    "Si $D_d \\ggg D_o \\; \\Rightarrow \\;$ considero un tirante $\\Rightarrow \\; W_1 \\cong 0$ y considero régimen permanente sin pérdidas por fricción.\n",
    "\n",
    "$$ \\frac{P_1}{\\gamma} + \\frac{W^2_1}{2g} + z_1 = \\frac{P_2}{\\gamma} + \\frac{W^2_2}{2g} + z_2 $$\n",
    "\n",
    "$$ W_2 = \\sqrt{ \\left( \\frac{P_1}{\\gamma} + z_1 \\right) 2g } $$"
   ]
  },
  {
   "cell_type": "code",
   "execution_count": 3,
   "metadata": {},
   "outputs": [],
   "source": [
    "import math"
   ]
  },
  {
   "cell_type": "code",
   "execution_count": 5,
   "metadata": {},
   "outputs": [
    {
     "name": "stdout",
     "output_type": "stream",
     "text": [
      "W_2 = 7.8 m/s\n"
     ]
    }
   ],
   "source": [
    "g = 9.81 # m/s^2\n",
    "z_1 = 3 # m\n",
    "\n",
    "W_2 = math.sqrt( (P_1/gamma + z_1)*2*g )\n",
    "\n",
    "print('W_2 = %s m/s'%round(W_2,2))"
   ]
  },
  {
   "cell_type": "markdown",
   "metadata": {},
   "source": [
    "$$ \\dot{Q} = W_2 \\, A_2 $$"
   ]
  },
  {
   "cell_type": "code",
   "execution_count": 8,
   "metadata": {},
   "outputs": [
    {
     "name": "stdout",
     "output_type": "stream",
     "text": [
      "Q = 0.0613 m^3/s\n"
     ]
    }
   ],
   "source": [
    "r_o = 5e-2 # m\n",
    "A_2 = math.pi * r_o**2\n",
    "\n",
    "Q = W_2*A_2\n",
    "\n",
    "print('Q = %s m^3/s'%round(Q,4))"
   ]
  },
  {
   "cell_type": "code",
   "execution_count": 9,
   "metadata": {},
   "outputs": [],
   "source": [
    "%reset -s -f"
   ]
  },
  {
   "cell_type": "markdown",
   "metadata": {},
   "source": [
    "# Ejercicio 9\n",
    "Ignorando la fricción en la tubería, calcule la potencia desarrollada en la turbina por el agua que sale desde un embalse grande.\n",
    "\n",
    "![tp4e9.png](img/tp4e9.png)"
   ]
  },
  {
   "cell_type": "markdown",
   "metadata": {},
   "source": [
    "## Solución\n",
    "Planteando la ecuación de energía entre 1 y 2 y considerando $W_1 \\cong 0$ y $P_{r1} = P_{r2} = 0$\n",
    "\n",
    "$$ \\frac{P_1}{\\gamma} + \\frac{W^2_1}{2g} + z_1 = \\frac{P_2}{\\gamma} + \\frac{W^2_2}{2g} + z_2 + H_T $$\n",
    "\n",
    "$$ H_T = z_1 - \\frac{W^2_2}{2g} $$\n",
    "\n",
    "$$ N_T = \\gamma_{agua} \\, Q \\, H_T $$"
   ]
  },
  {
   "cell_type": "code",
   "execution_count": 1,
   "metadata": {},
   "outputs": [],
   "source": [
    "import math"
   ]
  },
  {
   "cell_type": "code",
   "execution_count": 4,
   "metadata": {},
   "outputs": [
    {
     "name": "stdout",
     "output_type": "stream",
     "text": [
      "H_T = 28.726 m\n",
      "Q = 0.088 m^3/s\n",
      "N_T = 2538.13 kgf·m/s\n"
     ]
    }
   ],
   "source": [
    "z_1 = 30 # m\n",
    "W_2 = 5 # m/s\n",
    "g = 9.81 # m/s^2\n",
    "gamma_agua = 1000 # kgf/m^3\n",
    "d = 150e-3 # m\n",
    "\n",
    "H_T = z_1 - (W_2**2)/(2*g)\n",
    "Q = W_2 * math.pi/4 * d**2\n",
    "N_T = gamma_agua*Q*H_T\n",
    "\n",
    "print('H_T = %s m'%round(H_T,3))\n",
    "print('Q = %s m^3/s'%round(Q,3))\n",
    "print('N_T = %s kgf·m/s'%round(N_T,2))"
   ]
  },
  {
   "cell_type": "code",
   "execution_count": 5,
   "metadata": {},
   "outputs": [],
   "source": [
    "%reset -s -f"
   ]
  },
  {
   "cell_type": "code",
   "execution_count": null,
   "metadata": {},
   "outputs": [],
   "source": []
  }
 ],
 "metadata": {
  "kernelspec": {
   "display_name": "Python 3",
   "language": "python",
   "name": "python3"
  },
  "language_info": {
   "codemirror_mode": {
    "name": "ipython",
    "version": 3
   },
   "file_extension": ".py",
   "mimetype": "text/x-python",
   "name": "python",
   "nbconvert_exporter": "python",
   "pygments_lexer": "ipython3",
   "version": "3.7.3"
  }
 },
 "nbformat": 4,
 "nbformat_minor": 2
}
