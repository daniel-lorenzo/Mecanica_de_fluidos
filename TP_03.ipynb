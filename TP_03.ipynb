{
 "cells": [
  {
   "cell_type": "markdown",
   "metadata": {},
   "source": [
    "# Mecánica de fluidos - Práctico 3\n",
    "__UNLZ - FI -- Jupyter Notebook + Python 3__\n",
    "   \n",
    "__Alumno: Lorenzo, Daniel Antonio__\n",
    "\n",
    "[<- Previous](https://nbviewer.jupyter.org/github/daniel-lorenzo/Mecanica_de_fluidos/blob/master/TP_02.ipynb) - \n",
    "[Index](https://github.com/daniel-lorenzo/Mecanica_de_fluidos/blob/master/Readme.md)"
   ]
  },
  {
   "cell_type": "markdown",
   "metadata": {},
   "source": [
    "# Ejercicio 1.1\n",
    "Determinar la ecuación de continuidad para una vena sanguínea (considerar densidad constante a una temperatura dada)"
   ]
  },
  {
   "cell_type": "markdown",
   "metadata": {},
   "source": [
    "## Solución\n",
    "__Condiciones de borde:__\n",
    "$\\left\\{\n",
    "\\begin{array}{l}\n",
    "\\mathrm{Regimen \\, no \\, permanente} \\\\\n",
    "\\mathrm{fluido \\, incompresible \\, \\rho (t) = cte} \\\\\n",
    "V_C \\, \\mathrm{no \\, rigido}\n",
    "\\end{array}\n",
    "\\right. $\n",
    "\n",
    "$$ \\frac{\\partial (\\rho \\, dV_C)}{\\partial t} + \\underbrace{ \\vec{W} \\, \\nabla \\rho \\, dV_C }_{= \\, 0}+ \\rho \\, \\nabla \\vec{W} \\, dV_C = 0 $$\n",
    "\n",
    "Hipótesis: flujo incompresible $\\Rightarrow \\, \\rho = \\mathrm{cte} \\; \\Rightarrow \\, \\nabla \\rho = 0$     \n",
    "Análisis: volumen de control variable y flujo no estacionario.\n",
    "\n",
    "$$ \\frac{\\partial (\\rho \\, dV_C)}{\\partial t} + \\rho \\, \\nabla \\vec{W} \\, dV_C = 0 $$\n",
    "\n",
    "$$ \\frac{\\partial (\\rho \\, dV_C)}{\\partial t} + \\underbrace{A \\, W \\, d \\rho}_{= \\, 0} + \\rho \\, W \\, dA + \\rho \\, A \\, dW = 0 $$"
   ]
  },
  {
   "cell_type": "markdown",
   "metadata": {},
   "source": [
    "# Ejercicio 1.2\n",
    "Determinar la ecuación de continuidad para una tubería\n",
    "\n",
    "__Condiciones de borde:__ \n",
    "$\\left\\{\n",
    "\\begin{array}{l}\n",
    "\\mathrm{Regimen \\, permanente} \\\\\n",
    "\\rho(t) = \\mathrm{cte} \\\\\n",
    "V_C \\, \\mathrm{rigido}\n",
    "\\end{array}\n",
    "\\right.$\n",
    "\n",
    "$$ \\nabla \\vec{W} = 0 $$\n",
    "\n",
    "$$ \\rho W \\, dA + \\rho A \\, dW = 0 $$\n",
    "\n",
    "$$ W \\, dA + A \\, dW = 0 $$"
   ]
  },
  {
   "cell_type": "markdown",
   "metadata": {},
   "source": [
    "# Ejemplo 1\n",
    "Determinar la Ecuación de continuidad para un flujo permanente en el caso\n",
    "1. de un fluido compresible\n",
    "2. de un fluido incompresible\n",
    "\n",
    "![tp3ex01.png](img/tp3ex01.png)\n",
    "\n",
    "(considerar densidad constante a una temperatura dada)"
   ]
  },
  {
   "cell_type": "markdown",
   "metadata": {},
   "source": [
    "## Solución\n",
    "1. Se considera un flujo a través de un tubo de corriente, siendo las secciones 1 y 2 normales a las líneas de corriente que forman el tubo. Para un valor de densidad $\\rho_1$ y una velocidad normal $W_1$, el caudal en masa por unidad de tiempo que atraviesa la sección 1 es $\\rho_1 W_1 \\, dA_1$, ya que $W_1 \\, dA$ es el volumen por unidad de tiempo. Análogamente, el caudal en masa que atraviesa la sección 2 es $\\rho_2 W_2 \\, dA_2$. Como en un flujo permanente la masa no puede variar con el tiempo, y como no hay paso de fluido a través de la superficie que contornea el tubo de corriente, el caudal en masa a través del tubo de corriente. Por lo tanto,\n",
    "\n",
    "$$ \\rho_1 W_1 \\, dA_1 = \\rho_2 W_2 \\, dA_2 $$\n",
    "\n",
    "Las densidades $\\rho_1$ y $\\rho_2$ se mantienen constantes en cada sección genérica $dA$, y las velocidades $W_1$ y $W_2$ representan las velocidades del fluido en el tubo de corriente en las secciones 1 y 2, respectivamente. De aquí,\n",
    "\n",
    "$$ \\rho_1 W_1 \\int_{A_1} dA_1 = \\rho_2 W_2 \\int_{A_2} \\, dA_2 $$\n",
    "\n",
    "Integrando:\n",
    "$$ \\rho_1 W_1 A_1 = \\rho_2 W_2 A_2 \\qquad \\mathrm{o} \\qquad \\gamma_1 W_1 A_1 = \\gamma_2 W_2 A_2 $$\n",
    "\n",
    "2. Para fluidos incompresibles (y para algunos casos de flujos compresibles) la densidad es constante, es decir, $\\rho_1 = \\rho_2$. Por tanto,\n",
    "\n",
    "$$ Q = A_1 W_1 = A_2 W_2 = \\mathrm{constante} $$\n",
    "\n",
    "Así, el caudal es constante a través de un haz de tubos de corriente. En muchos casos de flujos de fluidos pueden utilizarse en las ecuaciones de continuidad (B) y (C) las velocidades medias en la sección transversal."
   ]
  },
  {
   "cell_type": "markdown",
   "metadata": {},
   "source": [
    "# Ejercicio 2\n",
    "Una variación en el flujo másico de una circulación se deberá:\n",
    "1. Un variación en el volumen de control\n",
    "2. Un estrechamiento\n",
    "3. Ninguna de las anteriores"
   ]
  },
  {
   "cell_type": "markdown",
   "metadata": {},
   "source": [
    "## Solución\n",
    "Rta: 1"
   ]
  },
  {
   "cell_type": "markdown",
   "metadata": {},
   "source": [
    "# Ejercicio 3\n",
    "Determinar la ecuación de continuidad, para un fluido compresible y régimen permanente."
   ]
  },
  {
   "cell_type": "markdown",
   "metadata": {},
   "source": [
    "## Solución\n",
    "$$ \\underbrace{\\frac{\\partial (\\rho \\, dV_C)}{\\partial t}}_{\\equiv \\, 0} + \\vec{W} \\nabla \\rho \\, d V_C + \\rho \\nabla \\vec{W} \\, d V_C = 0 $$ \n",
    "Entonces\n",
    "$$ A W \\, d \\rho + A \\rho \\, dW + \\rho W \\, dA = 0 $$"
   ]
  },
  {
   "cell_type": "markdown",
   "metadata": {},
   "source": [
    "# Ejercicio 4\n",
    "Determine la ecuación de continuidad para un fluido incompresible y régimen permanente."
   ]
  },
  {
   "cell_type": "markdown",
   "metadata": {},
   "source": [
    "## Solución\n",
    "$$ \\underbrace{\\frac{\\partial (\\rho \\, dV_C)}{\\partial t}}_{\\equiv \\, 0} + \\overbrace{ \\vec{W} \\nabla \\rho \\, dV_C }^{\\equiv \\, 0}+ \\rho \\nabla \\vec{W} \\, dV_C = 0 $$\n",
    "Entonces\n",
    "$$ \\rho A \\, dW + \\rho W \\, dA = 0 $$"
   ]
  },
  {
   "cell_type": "markdown",
   "metadata": {},
   "source": [
    "# Ejercicio 5\n",
    "Determine la ecuación de continuidad, para un fluido compresible, volumen de control rígido y régimen permanente.\n",
    "\n",
    "![tp3ex01.png](img/tp3ex01.png)"
   ]
  },
  {
   "cell_type": "markdown",
   "metadata": {},
   "source": [
    "## Solución\n",
    "$$ \\underbrace{\\frac{\\partial (\\rho \\, dV_C)}{\\partial t}}_{= \\, 0} + \\vec{W} \\nabla \\rho \\, dV_C + \\rho \\nabla \\vec{W} \\, dV_C $$\n",
    "\n",
    "$$ A W \\, d \\rho + \\rho A \\, dW + \\rho W \\, dA $$"
   ]
  },
  {
   "cell_type": "markdown",
   "metadata": {},
   "source": [
    "# Ejercicio 6\n",
    "Condiciones de borde para un fenómeno donde la ecuación de continuidad se reduzca a divergente de la velocidad igual a cero."
   ]
  },
  {
   "cell_type": "markdown",
   "metadata": {},
   "source": [
    "## Solución\n",
    "$$ \\underbrace{\\frac{\\partial (\\rho \\, dV)}{\\partial t}}_{\\equiv \\, 0} + \\overbrace{ \\vec{W} \\nabla \\rho \\, dV_C}^{\\equiv \\, 0} + \\rho \\nabla \\vec{W} \\, dV_C = 0 $$\n",
    "\n",
    "$$ \\Rightarrow \\; \\nabla \\vec{W} = 0 $$\n",
    "\n",
    "__Condiciones:__ flujo estacionario e incompresible."
   ]
  },
  {
   "cell_type": "markdown",
   "metadata": {},
   "source": [
    "# Ejercicio 7\n",
    "Que condiciones de borde debo tener para poder aplicar Bernoulli.\n",
    "* Flujo estacionario, $\\displaystyle \\frac{\\partial \\phi }{ \\partial t} = 0$\n",
    "* Flujo sin fricción, $\\mu = 0$\n",
    "* Ningún trabajo en la flecha, $W_s = 0$\n",
    "* Flujo incompresible, $\\rho = \\mathrm{cte.}$\n",
    "* Ninguna transferencia de calor.\n",
    "* Flujo irrotacional $\\Rightarrow$ vorticidad = 0."
   ]
  },
  {
   "cell_type": "markdown",
   "metadata": {},
   "source": [
    "# Ejercicio 8\n",
    "En el esquema adjunto las secciones de la tubería son 40 cm² y 12 cm², y la velocidad del agua en la primera sección es de 0,1 m/s. Calcular el desnivel entre ambas ramas del manometro, si el líquido que contiene es mercurio.\n",
    "\n",
    "![tp3e8.png](img/tp3e8.png)"
   ]
  },
  {
   "cell_type": "markdown",
   "metadata": {},
   "source": [
    "## Solución\n",
    "Datos: $\\left\\{\n",
    "\\begin{array}{l}\n",
    "A_1 = 0,004 \\, \\mathrm{m^2} \\\\\n",
    "A_2 = 0,0012 \\, \\mathrm{m^2}\n",
    "\\end{array}\n",
    "\\right.$\n",
    "\n",
    "Como $A = \\pi r^2 \\quad \\Rightarrow \\quad r = \\sqrt{A/\\pi}$"
   ]
  },
  {
   "cell_type": "code",
   "execution_count": 21,
   "metadata": {},
   "outputs": [],
   "source": [
    "import math as m"
   ]
  },
  {
   "cell_type": "code",
   "execution_count": 22,
   "metadata": {},
   "outputs": [],
   "source": [
    "# Datos:\n",
    "A1 = 0.004 # m^2\n",
    "A2 = 0.0012 # m^2\n",
    "\n",
    "r1 = m.sqrt(A1/m.pi)\n",
    "r2 = m.sqrt(A2/m.pi)"
   ]
  },
  {
   "cell_type": "code",
   "execution_count": 23,
   "metadata": {},
   "outputs": [
    {
     "name": "stdout",
     "output_type": "stream",
     "text": [
      "r1 = 0.0357 m\n",
      "r2 = 0.0195 m\n"
     ]
    }
   ],
   "source": [
    "print('r1 = %s m'%round(r1,4))\n",
    "print('r2 = %s m'%round(r2,4))"
   ]
  },
  {
   "cell_type": "markdown",
   "metadata": {},
   "source": [
    "$$ Q_1 = W_1 A_1 $$"
   ]
  },
  {
   "cell_type": "code",
   "execution_count": 24,
   "metadata": {},
   "outputs": [],
   "source": [
    "# Datos:\n",
    "W1 = 0.1 # m/s\n",
    "\n",
    "Q1 = W1*A1"
   ]
  },
  {
   "cell_type": "code",
   "execution_count": 25,
   "metadata": {},
   "outputs": [
    {
     "name": "stdout",
     "output_type": "stream",
     "text": [
      "Q1 = 0.0004 m³/s\n"
     ]
    }
   ],
   "source": [
    "print('Q1 = %s m³/s'%round(Q1,5))"
   ]
  },
  {
   "cell_type": "markdown",
   "metadata": {},
   "source": [
    "Tomando como volumen de control al agua contenida entre $S_1$ y $S_2$, la ecuación de continuidad resulta:\n",
    "\n",
    "$$ \\dot{m}_e - \\dot{m}_s =  \\frac{dm_{V_C}}{dt} = 0$$\n",
    "\n",
    "$$ \\dot{m}_e = \\dot{m}_s $$\n",
    "Luego\n",
    "$$ \\rho W_1 A_1 = \\rho W_2 A_2 \\qquad  \\mathrm{(\\rho = cte)}  $$\n",
    "\n",
    "$$ W_1 A_1 = W_2 A_2 $$\n",
    "\n",
    "$$ W_2 = \\frac{W_1 A_1}{A_2} $$"
   ]
  },
  {
   "cell_type": "code",
   "execution_count": 26,
   "metadata": {},
   "outputs": [],
   "source": [
    "W2 = W1*A1/A2"
   ]
  },
  {
   "cell_type": "code",
   "execution_count": 27,
   "metadata": {},
   "outputs": [
    {
     "name": "stdout",
     "output_type": "stream",
     "text": [
      "W2 = 0.333 m/s\n"
     ]
    }
   ],
   "source": [
    "print('W2 = %s m/s'%round(W2,3))"
   ]
  },
  {
   "cell_type": "markdown",
   "metadata": {},
   "source": [
    "Por Bernoulli\n",
    "$$ \\frac{P_1}{\\gamma} + \\frac{W^2_1}{2g} + z_1 = \\frac{P_2}{\\gamma} + \\frac{W^2_2}{2g} + z_2 \\quad \\wedge \\quad (z_1 = z_2 = 0)$$\n",
    "\n",
    "$$ \\frac{P_1}{\\gamma} + \\frac{W^2_1}{2g} = \\frac{P_2}{\\gamma} + \\frac{W^2_2}{2g} $$\n",
    "\n",
    "$$\\rightarrow \\quad \\Delta P = P_1 - P_2 = \\frac{W^2_2 - W^2_1}{2} \\rho $$"
   ]
  },
  {
   "cell_type": "code",
   "execution_count": 29,
   "metadata": {},
   "outputs": [],
   "source": [
    "rho_agua = 1000 # kg/m^3\n",
    "rho_Hg = 13600  # kg/m^3\n",
    "g = 9.81 # m/s^2\n",
    "\n",
    "DP = (W2**2 - W1**2)/2 * rho_agua"
   ]
  },
  {
   "cell_type": "code",
   "execution_count": 30,
   "metadata": {},
   "outputs": [
    {
     "name": "stdout",
     "output_type": "stream",
     "text": [
      "DP = (P1 - P2) = 50.56 kg/m·s² = 50.56 N/m²\n",
      "DP = (P1 - P2) = 5.15 kgf/m²\n"
     ]
    }
   ],
   "source": [
    "print('DP = (P1 - P2) = %s kg/m·s² = %s N/m²'%(round(DP,2),round(DP,2) ))\n",
    "print('DP = (P1 - P2) = %s kgf/m²'%round(DP/g,2))"
   ]
  },
  {
   "cell_type": "markdown",
   "metadata": {},
   "source": [
    "De la lectura del manómetro\n",
    "$$ P_1 - \\rho_{agua} g \\, z = P_2 - \\rho_{agua} g \\, z - \\rho_{agua} g \\, h + \\rho_{Hg} g \\, h $$\n",
    "\n",
    "$$ P_1 - P_2 = (\\rho_{Hg} - \\rho_{agua}) g \\, h $$\n",
    "\n",
    "$$ h = \\frac{P_1 - P_2}{(\\rho_{Hg} - \\rho_{agua}) g} $$"
   ]
  },
  {
   "cell_type": "code",
   "execution_count": 31,
   "metadata": {},
   "outputs": [],
   "source": [
    "gamma_agua = 1000 # kgf/m^3\n",
    "gamma_Hg = 13600 # kgf/m^3\n",
    "\n",
    "h = DP/((rho_Hg - rho_agua)*g)"
   ]
  },
  {
   "cell_type": "code",
   "execution_count": 32,
   "metadata": {},
   "outputs": [
    {
     "name": "stdout",
     "output_type": "stream",
     "text": [
      "h = 0.000409 m\n",
      "h = 0.0409 cm\n"
     ]
    }
   ],
   "source": [
    "print('h = %s m'%round(h,6))\n",
    "print('h = %s cm'%round(h*100,4))"
   ]
  },
  {
   "cell_type": "code",
   "execution_count": 33,
   "metadata": {},
   "outputs": [],
   "source": [
    "%reset -s -f"
   ]
  },
  {
   "cell_type": "markdown",
   "metadata": {},
   "source": [
    "# Ejercicio 9\n",
    "En una tubería de 30 cm de diámetro tiene un corto tramo en el que el diámetro se reduce gradualmente hasta 15 cm, luego aumenta hasta 30 cm. La sección de 15 cm está 60 cm por debajo de la sección A de 30 cm, donde la presión es de 5,25 kgf/cm². Si entre las dos secciones se conecta un manómetro deferencial de mercurio. ¿Cuál es la lectura del manómetro cuando circula hacia abajo un caudal de agua de 120 L/s? Suponer que no existe pérdida de carga.\n",
    "\n",
    "![tp3e9.png](img/tp3e9.png)"
   ]
  },
  {
   "cell_type": "markdown",
   "metadata": {},
   "source": [
    "## Solución\n",
    "__Hipotesis:__\n",
    "* Flujo incompresible $\\rho (t) = \\mathrm{cte}$\n",
    "* Flujo ideal $\\mu = 0$\n",
    "* Flujo irrotacional $\\nabla W = 0 $\n",
    "* Flujo estacionario $\\displaystyle \\frac{\\partial \\phi}{\\partial t = 0}$\n",
    "* Sin trabajo de flecha\n",
    "* Ni intercambio de calor\n",
    "\n",
    "Ecuación de continuidad o de conservación de la masa\n",
    "\n",
    "$$ \\underbrace{ \\frac{\\partial}{\\partial t} \\int_{VC} \\rho \\, dV }_{\\equiv \\, 0} + \\int_{SC} \\rho (\\vec{v} \\cdot \\hat{n}) \\, dA = 0 $$\n",
    "Entonces\n",
    "$$ \\int_{SC} \\rho (\\vec{v} \\cdot \\hat{n}) \\, dA = 0 $$\n",
    "\n",
    "$$ m_e - m_s = 0 $$\n",
    "\n",
    "$$ \\rho W_A A_A = \\rho W_B A_B $$\n",
    "\n",
    "$$ \\therefore \\; W_B = \\frac{Q}{A_B} $$"
   ]
  },
  {
   "cell_type": "code",
   "execution_count": 18,
   "metadata": {},
   "outputs": [],
   "source": [
    "import math as m"
   ]
  },
  {
   "cell_type": "code",
   "execution_count": 19,
   "metadata": {},
   "outputs": [],
   "source": [
    "Q = 120e-3 # m^3/s\n",
    "d_B = 15e-2 # m\n",
    "A_B = m.pi*(d_B**2)/4 # m^2\n",
    "\n",
    "W_B = Q/A_B"
   ]
  },
  {
   "cell_type": "code",
   "execution_count": 20,
   "metadata": {},
   "outputs": [
    {
     "name": "stdout",
     "output_type": "stream",
     "text": [
      "W_B = 6.7906 m/s\n"
     ]
    }
   ],
   "source": [
    "print('W_B = %s m/s'%round(W_B,4))"
   ]
  },
  {
   "cell_type": "markdown",
   "metadata": {},
   "source": [
    "$$ Q = W_A A_A \\quad \\rightarrow \\quad W_A = \\frac{Q}{A_A} $$\n",
    "\n",
    "$$ z_A - z_B = 0,6 \\, \\mathrm{m} $$\n",
    "\n",
    "Por Bernoullli\n",
    "$$ \\frac{P_A}{\\gamma} + \\frac{W^2_A}{2g} + z_A = \\frac{P_B}{\\gamma} + \\frac{W^2_B}{2g} + z_B $$\n",
    "\n",
    "$$ P_B = \\left( \\frac{P_A}{\\gamma} + \\frac{W^2_A}{2g} + z_A - z_B - \\frac{W^2_B}{2g} \\right) \\, \\gamma $$"
   ]
  },
  {
   "cell_type": "code",
   "execution_count": 21,
   "metadata": {},
   "outputs": [],
   "source": [
    "d_A = 30e-2 # m\n",
    "A_A = m.pi*(d_A**2)/4\n",
    "\n",
    "W_A = Q/A_A"
   ]
  },
  {
   "cell_type": "code",
   "execution_count": 22,
   "metadata": {},
   "outputs": [
    {
     "name": "stdout",
     "output_type": "stream",
     "text": [
      "W_A = 1.6977 m/s\n"
     ]
    }
   ],
   "source": [
    "print('W_A = %s m/s'%round(W_A,4))"
   ]
  },
  {
   "cell_type": "code",
   "execution_count": 23,
   "metadata": {},
   "outputs": [],
   "source": [
    "P_A = 52500 # kgf/m^2\n",
    "gamma_agua = 1000 # kgf/m^3\n",
    "g = 9.81 # m/s^2\n",
    "Dz = 0.6 # m\n",
    "\n",
    "\n",
    "P_B = (P_A/gamma_agua + (W_A**2)/(2*g) + Dz - (W_B**2)/(2*g) )*gamma_agua"
   ]
  },
  {
   "cell_type": "code",
   "execution_count": 24,
   "metadata": {},
   "outputs": [
    {
     "name": "stdout",
     "output_type": "stream",
     "text": [
      "P_B = 50896.62 kgf/m^2\n"
     ]
    }
   ],
   "source": [
    "print('P_B = %s kgf/m^2'%round(P_B,2))"
   ]
  },
  {
   "cell_type": "markdown",
   "metadata": {},
   "source": [
    "Teniendo en cuenta la lectura del manómetro diferencial\n",
    "\n",
    "$$ P_A + \\gamma_{agua} \\Delta z + \\gamma_{agua} \\, h = P_B + \\gamma_{Hg} \\, h $$\n",
    "\n",
    "$$ P_A - P_B + \\gamma_{agua} \\Delta z = (\\gamma_{Hg} - \\gamma_{agua}) \\, h $$\n",
    "\n",
    "$$ h = \\frac{P_A - P_B + \\gamma_{agua} \\Delta z}{\\gamma_{Hg} - \\gamma_{agua}} $$"
   ]
  },
  {
   "cell_type": "code",
   "execution_count": 27,
   "metadata": {},
   "outputs": [],
   "source": [
    "gamma_Hg = 13600 # kgf/m^3\n",
    "\n",
    "h = (P_A - P_B + gamma_agua * Dz)/(gamma_Hg - gamma_agua)"
   ]
  },
  {
   "cell_type": "code",
   "execution_count": 28,
   "metadata": {},
   "outputs": [
    {
     "name": "stdout",
     "output_type": "stream",
     "text": [
      "h = 0.175 m\n"
     ]
    }
   ],
   "source": [
    "print('h = %s m'%round(h,3))"
   ]
  },
  {
   "cell_type": "code",
   "execution_count": 29,
   "metadata": {},
   "outputs": [],
   "source": [
    "%reset -s -f"
   ]
  },
  {
   "cell_type": "markdown",
   "metadata": {},
   "source": [
    "# Ejercicio 10\n",
    "La velocidad del aire por encima de las alas de un avión es 500 m/s y por debaja 400 m/s. El avión tiene 80 toneladas de masa  y el área de las alas es de 20 m², si la densidad del aire es 1 kg/m³ ¿El avión sube o baja? Calcular la aceleración."
   ]
  },
  {
   "cell_type": "markdown",
   "metadata": {},
   "source": [
    "## Solución\n",
    "![tp3e10.png](img/tp3e10.png)\n",
    "\n",
    "Las líneas de flujo se aprietan arriba del ala, lo que corresponde a una mayor rapidez de flujo y una presión reducida en esta región, igual que en la garganta de un Venturi.      \n",
    "La fuerza que actúa hacia arriba sobre el lado inferior del ala es mayor que la que actúa hacia abajo sobre el lado superior, hay una fuerza neta hacia arriba, o sustentación.    \n",
    "La sustentación no se debe sólo al impulso del aire que incide bajo el ala; de hecho, la presión reducida en la superficie superior del ala es lo que más contribuye a la sustentación.\n",
    "\n",
    "Aplicando Bernoulli entre dos puntos convenientes se tiene\n",
    "\n",
    "$$ \\frac{P_1}{\\gamma} + \\frac{W^2_1}{2g} + z_1 = \\frac{P_2}{\\gamma} + \\frac{W^2_2}{2g} + z_2 $$\n",
    "\n",
    "$$ \\frac{P_2 - P_1}{\\gamma} = \\frac{W^2_1}{2g} - \\frac{W^2_2}{2g} $$\n",
    "\n",
    "$$ \\Delta P = \\frac{W^2_1 - W^2_2}{2} \\, \\rho $$"
   ]
  },
  {
   "cell_type": "code",
   "execution_count": 32,
   "metadata": {},
   "outputs": [],
   "source": [
    "# Datos\n",
    "W1 = 500 # m/s\n",
    "W2 = 400 # m/s\n",
    "rho = 1 # kg/m^3\n",
    "\n",
    "DP = (W1**2 - W2**2)/2 * rho"
   ]
  },
  {
   "cell_type": "code",
   "execution_count": 33,
   "metadata": {},
   "outputs": [
    {
     "name": "stdout",
     "output_type": "stream",
     "text": [
      "DP = 45000.0 N/m^2\n"
     ]
    }
   ],
   "source": [
    "print('DP = %s N/m^2'%round(DP,2))"
   ]
  },
  {
   "cell_type": "code",
   "execution_count": 34,
   "metadata": {},
   "outputs": [],
   "source": [
    "# Datos\n",
    "m = 80e3 # kg\n",
    "g = 9.81 # m/s^2\n",
    "A = 20 # m^2\n",
    "\n",
    "Peso = m * g\n",
    "F_R = DP * A"
   ]
  },
  {
   "cell_type": "code",
   "execution_count": 35,
   "metadata": {},
   "outputs": [
    {
     "name": "stdout",
     "output_type": "stream",
     "text": [
      "Peso = 784800.0 N\n",
      "F_R = 900000.0 N\n"
     ]
    }
   ],
   "source": [
    "print('Peso = %s N'%round(Peso,2))\n",
    "print('F_R = %s N'%round(F_R,2))"
   ]
  },
  {
   "cell_type": "markdown",
   "metadata": {},
   "source": [
    "La fuerza que ejerce el avión hacia arriba es mayor que el peso, de lo que se concluye que el avión está subiendo.\n",
    "\n",
    "$$ \\sum F_y = m \\, a \\quad \\Rightarrow \\quad F_R - Peso = m \\, a $$\n",
    "\n",
    "$$ a = \\frac{F_R - Peso}{m} $$"
   ]
  },
  {
   "cell_type": "code",
   "execution_count": 36,
   "metadata": {},
   "outputs": [
    {
     "name": "stdout",
     "output_type": "stream",
     "text": [
      "a = 1.44 m/s^2\n"
     ]
    }
   ],
   "source": [
    "a = (F_R - Peso)/m\n",
    "\n",
    "print('a = %s m/s^2'%round(a,2))"
   ]
  },
  {
   "cell_type": "code",
   "execution_count": 37,
   "metadata": {},
   "outputs": [],
   "source": [
    "%reset -s -f"
   ]
  },
  {
   "cell_type": "markdown",
   "metadata": {},
   "source": [
    "# Ejercicio 11\n",
    "El caudal en una tubería por la que circula agua es 208 L/s. En la tubería hay instalado un Venturi con mercurio como líquido manométrico. Si las secciones de las tuberías son 800 y 400 cm², calcular el desnivel h que se produce en el mercurio. Dato: Dens. rel.: Hg = 13,6 gr/cm³\n",
    "\n",
    "![tp3e11.png](img/tp3e11.png)"
   ]
  },
  {
   "cell_type": "markdown",
   "metadata": {},
   "source": [
    "## Solución\n",
    "Hipótesis: \n",
    "$\\left\\{\n",
    "\\begin{array}{l}\n",
    "\\displaystyle \\frac{\\partial \\phi}{\\partial t} = 0 \\\\\n",
    "\\rho(t) = \\mathrm{cte} \\\\\n",
    "\\mu = 0 \\\\\n",
    "\\nabla W = 0\n",
    "\\end{array}\n",
    "\\right.\n",
    "$ \n",
    "\n",
    "Balance de masas\n",
    "\n",
    "$$ \\dot{m}_e - \\dot{m}_s =  \\frac{dm_{V_C}}{dt} = 0$$\n",
    "\n",
    "$$ \\dot{m}_e = \\dot{m}_s $$\n",
    "Luego\n",
    "$$ \\rho W_1 A_1 = \\rho W_2 A_2 \\qquad  \\mathrm{(\\rho = cte)}  $$\n",
    "\n",
    "$$ W_1 A_1 = W_2 A_2 $$\n",
    "\n",
    "$$ W_2 = \\frac{W_1 A_1}{A_2} = \\frac{\\dot{Q}}{A_2} $$\n",
    "\n",
    "Sabemos que $\\dot{Q} = W_1 A_1 = 208 \\times 10^{-3} \\, \\mathrm{m^3/s}$"
   ]
  },
  {
   "cell_type": "code",
   "execution_count": 38,
   "metadata": {},
   "outputs": [],
   "source": [
    "Q = 208e-3 # m^3/s\n",
    "A2 = 400e-4 # m^2\n",
    "\n",
    "W2 = Q/A2"
   ]
  },
  {
   "cell_type": "code",
   "execution_count": 39,
   "metadata": {},
   "outputs": [
    {
     "name": "stdout",
     "output_type": "stream",
     "text": [
      "W2 = 5.2 m/s\n"
     ]
    }
   ],
   "source": [
    "print('W2 = %s m/s'%round(W2,2))"
   ]
  },
  {
   "cell_type": "markdown",
   "metadata": {},
   "source": [
    "$$ W_1 = \\frac{W_2 A_2}{A_1} $$"
   ]
  },
  {
   "cell_type": "code",
   "execution_count": 40,
   "metadata": {},
   "outputs": [],
   "source": [
    "A1 = 800e-4 # m^2f\n",
    "\n",
    "W1 = W2*A2/A1"
   ]
  },
  {
   "cell_type": "code",
   "execution_count": 41,
   "metadata": {},
   "outputs": [
    {
     "name": "stdout",
     "output_type": "stream",
     "text": [
      "W1 = 2.6 m/s\n"
     ]
    }
   ],
   "source": [
    "print('W1 = %s m/s'%round(W1,2))"
   ]
  },
  {
   "cell_type": "markdown",
   "metadata": {},
   "source": [
    "Aplicando Bernoulli\n",
    "\n",
    "$$ \\frac{P_1}{\\gamma} + \\frac{W^2_1}{2g} + z_1 = \\frac{P_2}{\\gamma} + \\frac{W^2_2}{2g} + z_2 $$\n",
    "\n",
    "$$ P_1 - P_2 = \\frac{W^2_2 - W^2_1}{2g} \\, \\gamma $$"
   ]
  },
  {
   "cell_type": "code",
   "execution_count": 44,
   "metadata": {},
   "outputs": [],
   "source": [
    "g = 9.81 # m/s^2\n",
    "gamma_agua = 1000 # kgf/m^3\n",
    "\n",
    "DP = (W2**2 - W1**2)/(2*g) * gamma_agua"
   ]
  },
  {
   "cell_type": "code",
   "execution_count": 45,
   "metadata": {},
   "outputs": [
    {
     "name": "stdout",
     "output_type": "stream",
     "text": [
      "DP = 1033.64 kgf/m^2\n"
     ]
    }
   ],
   "source": [
    "print('DP = %s kgf/m^2'%round(DP,2))"
   ]
  },
  {
   "cell_type": "markdown",
   "metadata": {},
   "source": [
    "De la lectura del manómetro, tenemos\n",
    "\n",
    "$$ P_1 + \\gamma_{agua} h = P_2 + \\gamma_{Hg} h $$\n",
    "\n",
    "$$ h = \\frac{P_1 - P_2}{\\gamma_{Hg} - \\gamma_{agua}} $$"
   ]
  },
  {
   "cell_type": "code",
   "execution_count": 46,
   "metadata": {},
   "outputs": [],
   "source": [
    "gamma_Hg = 13600 # kgf/m^3\n",
    "\n",
    "h = DP/(gamma_Hg - gamma_agua)"
   ]
  },
  {
   "cell_type": "code",
   "execution_count": 47,
   "metadata": {},
   "outputs": [
    {
     "name": "stdout",
     "output_type": "stream",
     "text": [
      "h = 0.082 m\n"
     ]
    }
   ],
   "source": [
    "print('h = %s m'%round(h,3))"
   ]
  },
  {
   "cell_type": "code",
   "execution_count": 48,
   "metadata": {},
   "outputs": [],
   "source": [
    "%reset -s -f"
   ]
  },
  {
   "cell_type": "markdown",
   "metadata": {},
   "source": [
    "# Ejercicio 12\n",
    "El agua fluye en un tubo a 45° hacia abajo como se muestra en la figura. El salto de presión $P_1 - P_2$ se debe en parte a la gravedad y en parte a la fricción. El manómetro de mercurio lee una diferencia de 6 pulgadas de altura.\n",
    "1. ¿Cuál es el salto de presión entre los puntos 1 y 2 expresado en kgf/cm² debido solamente a la fricción?\n",
    "2. ¿Corresponde la lectura del manómetro solamente a la caída de presión por fricción? ¿Por qué?\n",
    "\n",
    "![tp3e12.png](img/tp3e12.png)"
   ]
  },
  {
   "cell_type": "markdown",
   "metadata": {},
   "source": [
    "## Solución\n",
    "$\\begin{array}{l}\n",
    "\\mathrm{1 \\, pie = 0,3048 \\, m}  \\\\\n",
    "\\mathrm{1 \\, pulg = 0,0254 \\, m} \n",
    "\\end{array}$"
   ]
  },
  {
   "cell_type": "code",
   "execution_count": 1,
   "metadata": {},
   "outputs": [],
   "source": [
    "import math as m"
   ]
  },
  {
   "cell_type": "code",
   "execution_count": 5,
   "metadata": {},
   "outputs": [
    {
     "name": "stdout",
     "output_type": "stream",
     "text": [
      "Dz12 = 1.0776 m\n"
     ]
    }
   ],
   "source": [
    "ang = m.pi/4 # rad\n",
    "Dz12 = ( 5 * m.sin(ang) ) * 0.3048 # m\n",
    "z1 = Dz12\n",
    "\n",
    "print('Dz12 = %s m'%round(Dz12,4))"
   ]
  },
  {
   "cell_type": "markdown",
   "metadata": {},
   "source": [
    "1. Por la ecuación de continuidad se tiene \n",
    "\n",
    "$$ A_1 W_1 = A_2 W_2 $$\n",
    "como $A_1 = A_2$, entonces\n",
    "$$ W_1 = W_2 $$\n",
    "\n",
    "Planteando la ecuación de energía\n",
    "\n",
    "$$ \\frac{P_1}{\\gamma} + \\frac{W^2_1}{2g} + z_1 = \\frac{P_2}{\\gamma} + \\frac{W^2_2}{2g} + z_2 + h_f $$\n",
    "$(z_2 = 0)$\n",
    "$$ h_f = \\frac{P_1 - P_2}{\\gamma} + z_1 \\tag{1} $$\n",
    "Por hidrostática se tiene\n",
    "$$ P_1 + \\gamma_{agua} \\, z_1 + \\gamma_{agua} \\, \\Delta z_{Hg} = P_2 + \\gamma_{Hg} \\, \\Delta z_{Hg} $$\n",
    "\n",
    "$$ P_1 - P_2 = \\gamma_{Hg} \\, \\Delta z_{Hg} - \\gamma_{agua} \\, z_1 - \\gamma_{agua} \\, \\Delta z_{Hg} $$\n",
    "\n",
    "$$ \\Delta P = P_1 - P_2 = \\Delta z_{Hg} \\, (\\gamma_{Hg} - \\gamma_{agua}) - \\gamma_{agua} \\, z_1  \\tag{2} $$"
   ]
  },
  {
   "cell_type": "code",
   "execution_count": 6,
   "metadata": {},
   "outputs": [
    {
     "name": "stdout",
     "output_type": "stream",
     "text": [
      "DP = 842.61 m\n"
     ]
    }
   ],
   "source": [
    "DzHg = 6 * 0.0254 # m\n",
    "gamma_Hg = 13600 # kgf/m^3\n",
    "gamma_agua = 1000 # kgf/m^3\n",
    "\n",
    "DP = DzHg*(gamma_Hg - gamma_agua) - gamma_agua * z1\n",
    "\n",
    "print('DP = %s m'%round(DP,2))"
   ]
  },
  {
   "cell_type": "markdown",
   "metadata": {},
   "source": [
    "de $(2)$ en $(1)$ resulta"
   ]
  },
  {
   "cell_type": "code",
   "execution_count": 7,
   "metadata": {},
   "outputs": [
    {
     "name": "stdout",
     "output_type": "stream",
     "text": [
      "hf = 1.92 m\n"
     ]
    }
   ],
   "source": [
    "hf = DP/gamma_agua + z1\n",
    "\n",
    "print('hf = %s m'%round(hf,2))"
   ]
  },
  {
   "cell_type": "code",
   "execution_count": 8,
   "metadata": {},
   "outputs": [
    {
     "name": "stdout",
     "output_type": "stream",
     "text": [
      "DPhf = 1920 kgf/m^2\n"
     ]
    }
   ],
   "source": [
    "DPhf = gamma_agua * hf\n",
    "\n",
    "print('DPhf = %s kgf/m^2'%round(DPhf))"
   ]
  },
  {
   "cell_type": "markdown",
   "metadata": {},
   "source": [
    "2. No, la lectura del manómetro corresponde a la caída de presión por fricción y a los efectos de la gravedad pues se trata de una toma piezométrica."
   ]
  },
  {
   "cell_type": "code",
   "execution_count": 9,
   "metadata": {},
   "outputs": [],
   "source": [
    "%reset -s -f"
   ]
  },
  {
   "cell_type": "markdown",
   "metadata": {},
   "source": [
    "# Ejercicio 13\n",
    "Un fluido incompresible fluye de izquierda a derecha por un tubo cilíndrico como el que se muestra en la figura. El peso específico de la sustancia es de $850 \\, \\mathrm{kgf/m^3}$. Su velocidad en el extremo de entrada es $v_0 = 1,5 \\, \\mathrm{m/s}$ y la presión allí es de $P_0 = 1,75 \\, \\mathrm{kgf/cm^2}$, y el radio de la sección es $r_0 = 20 \\, \\mathrm{cm}$. El extremo de salida está $4,5 \\, \\mathrm{m}$ abajo del extremo de entrada y el radio de la sección allí, es, $r_1 = 7,5 \\, \\mathrm{cm}$. Encontrar la presión $P_1$ en ese extremo.\n",
    "\n",
    "![tp3e13.png](img/tp3e13.png)\n",
    "$\\begin{array}{l}\n",
    "\\mathrm{Datos:} \\\\\n",
    "\\gamma_s = 850 \\, \\mathrm{kgf/m^3} \\\\\n",
    "V_0 = 1,5 \\, \\mathrm{m/s} \\\\\n",
    "P_0 = 1,75 \\times 10^4 \\, \\mathrm{kgf/m^2} \\\\\n",
    "r_0 = 20 \\, \\mathrm{cm} = 0,2 \\, \\mathrm{m} \\\\\n",
    "r_1 = 7,5 \\, \\mathrm{cm} = 0,075 \\, \\mathrm{m} \\\\\n",
    "A_0 = \\mathrm{\\pi \\, (r_0)^2 = 0,04 \\pi \\, m^2} \\\\\n",
    "A_1 = \\mathrm{\\pi (r_1)^2 = 5,625 \\times 10^{-3} \\pi \\, m^2}\n",
    "\\end{array}\n",
    "$"
   ]
  },
  {
   "cell_type": "markdown",
   "metadata": {},
   "source": [
    "## Solución\n",
    "De la ecuación de continuidad\n",
    "$$ A_1 V_1 = A_0 V_0 $$\n",
    "\n",
    "$$\\Rightarrow \\quad V_1 = \\frac{A_0 V_0}{A_1} $$"
   ]
  },
  {
   "cell_type": "code",
   "execution_count": 10,
   "metadata": {},
   "outputs": [],
   "source": [
    "import math as m"
   ]
  },
  {
   "cell_type": "code",
   "execution_count": 15,
   "metadata": {},
   "outputs": [],
   "source": [
    "# Datos\n",
    "gamma_s = 850 # kgf/m^3\n",
    "V_0 = 1.5 # m\n",
    "P_0 = 1.75e4 # kgf/m^2\n",
    "r_0 = 0.2 # m\n",
    "r_1 = 0.075 # m\n",
    "A_0 = m.pi*r_0**2 # m^2\n",
    "A_1 = m.pi*r_1**2 # m^2\n",
    "g = 9.81 # m/s^2\n",
    "z_0 = 4.5 # m"
   ]
  },
  {
   "cell_type": "code",
   "execution_count": 13,
   "metadata": {},
   "outputs": [
    {
     "name": "stdout",
     "output_type": "stream",
     "text": [
      "V_1 = 10.67 m/s\n"
     ]
    }
   ],
   "source": [
    "V_1 = (A_0*V_0)/A_1\n",
    "\n",
    "print('V_1 = %s m/s'%round(V_1,2))"
   ]
  },
  {
   "cell_type": "markdown",
   "metadata": {},
   "source": [
    "Aplicando Bernoulli entre 1 y 0\n",
    "$$ \\frac{P_1}{\\gamma_s} + \\frac{V^2_1}{2g} - z_1 = \\frac{P_0}{\\gamma_s} + \\frac{V^2_0}{2g} + z_0 $$\n",
    "\n",
    "$$ P_1 = \\left( \\frac{P_0}{\\gamma_s} + \\frac{V^2_0}{2g} - \\frac{V^2_1}{2g} + z_0 \\right) \\, \\gamma_s $$"
   ]
  },
  {
   "cell_type": "code",
   "execution_count": 16,
   "metadata": {},
   "outputs": [
    {
     "name": "stdout",
     "output_type": "stream",
     "text": [
      "P_1 = 16493.27 kgf/m^2\n"
     ]
    }
   ],
   "source": [
    "P_1 = ( P_0/gamma_s + V_0**2/(2*g) - V_1**2/(2*g) + z_0 ) * gamma_s\n",
    "\n",
    "print('P_1 = %s kgf/m^2'%round(P_1,2))"
   ]
  },
  {
   "cell_type": "code",
   "execution_count": 18,
   "metadata": {},
   "outputs": [],
   "source": [
    "%reset -s -f"
   ]
  },
  {
   "cell_type": "markdown",
   "metadata": {},
   "source": [
    "[<- Previous](https://nbviewer.jupyter.org/github/daniel-lorenzo/Mecanica_de_fluidos/blob/master/TP_02.ipynb) - \n",
    "[Index](https://github.com/daniel-lorenzo/Mecanica_de_fluidos/blob/master/Readme.md)"
   ]
  }
 ],
 "metadata": {
  "kernelspec": {
   "display_name": "Python 3",
   "language": "python",
   "name": "python3"
  },
  "language_info": {
   "codemirror_mode": {
    "name": "ipython",
    "version": 3
   },
   "file_extension": ".py",
   "mimetype": "text/x-python",
   "name": "python",
   "nbconvert_exporter": "python",
   "pygments_lexer": "ipython3",
   "version": "3.7.3"
  }
 },
 "nbformat": 4,
 "nbformat_minor": 2
}
