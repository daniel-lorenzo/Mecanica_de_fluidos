{
 "cells": [
  {
   "cell_type": "raw",
   "metadata": {},
   "source": [
    "<script>\n",
    "  function code_toggle() {\n",
    "    if (code_shown){\n",
    "      $('div.input').hide('500');\n",
    "      $('#toggleButton').val('Show Code')\n",
    "    } else {\n",
    "      $('div.input').show('500');\n",
    "      $('#toggleButton').val('Hide Code')\n",
    "    }\n",
    "    code_shown = !code_shown\n",
    "  }\n",
    "\n",
    "  $( document ).ready(function(){\n",
    "    code_shown=true;\n",
    "    $('div.input').show()\n",
    "  });\n",
    "</script>\n",
    "<form action=\"javascript:code_toggle()\"><input type=\"submit\" id=\"toggleButton\" value=\"Hide Code\"></form>"
   ]
  },
  {
   "cell_type": "markdown",
   "metadata": {},
   "source": [
    "# Ejercicio 1\n",
    "¿A qué velocidad debe ensayarse en un túnel aerodinámico un modelo de ala del avión de 15 cm de cuerda para que el número de Reynolds sea el mismo que en el prototipo de 90 cm de cuerda y que se mueve a una velocidad de 150 km/h?"
   ]
  },
  {
   "cell_type": "markdown",
   "metadata": {},
   "source": [
    "## Solución\n",
    "$$ \\Re e_m = \\Re e_p $$ \n",
    "\n",
    "$$ \\frac{\\rho L_m W_m}{\\mu} = \\frac{\\rho L_p W_p}{\\mu} $$\n",
    "\n",
    "Considero fluido: agua $\\displaystyle \\frac{L_m}{L_p} = \\frac{15}{90}$\n",
    "\n",
    "$$ W_m = W_p \\frac{90}{15} $$"
   ]
  },
  {
   "cell_type": "code",
   "execution_count": 1,
   "metadata": {},
   "outputs": [
    {
     "name": "stdout",
     "output_type": "stream",
     "text": [
      "W_m = 900.0 km/h\n"
     ]
    }
   ],
   "source": [
    "W_p = 150 # km/h\n",
    "\n",
    "W_m = W_p*90/15\n",
    "\n",
    "print('W_m = %s km/h'%round(W_m,2))"
   ]
  },
  {
   "cell_type": "code",
   "execution_count": 2,
   "metadata": {},
   "outputs": [],
   "source": [
    "%reset -s -f"
   ]
  },
  {
   "cell_type": "markdown",
   "metadata": {},
   "source": [
    "# Ejemplo 7-9 Fricción de un tubo\n",
    "Considere el flujo de un fluido incompresible de densidad $\\rho$ y viscosidad $\\mu$ a través de una larga sección horizontal de tubo redondo de diámetro $D$. El perfil de velocidad se bosqueja en la figura; $V$ es la velocidad promedio a través de la sección transversal del tubo, que por conservación de masa permanece constante a lo largo del tubo. Para un tubo muy largo, el flujo finalmente se volverá totalmente desarrollado, lo que significa que el perfil de velocidad también permanece uniforme a lo largo del tubo. Debido a las fuerzas de fricción entre el fluido y la pared del tubo, existe un esfuerzo de corte $\\tau_w$ sobre la superficie interior interior del tubo, como se ilustra. El esfuerzo de corte también es constante a lo largo del tubo en la región totalmente desarrollada. Se supone cierta rugosidad promedio constante $\\varepsilon$ a lo largo de la superficie interior del tubo. De hecho, el único parámetro que no es constante a lo largo del tubo es la presión, que debe disminuir (linealmente) a lo largo del tubo con la finalidad de \"empujar\" el fluido a través del tubo para superar la fricción. Desarrolle una relación adimensional entre esfuerzo de corte $\\tau_w$ y los parámetros en el problema.\n",
    "\n",
    "![ej7-9-1.png](img/ej7-9-1.png)"
   ]
  },
  {
   "cell_type": "markdown",
   "metadata": {},
   "source": [
    "## Solución\n",
    "Se debe generar una relación adimensional entre el esfuerzo de corte y otros parámetros.      \n",
    "__Hipótesis__\n",
    "1. El flujo está totalmente desarrollado.\n",
    "2. El fluido es incompresible.\n",
    "3. En el problema no son significativos otros parámetros.\n",
    "\n",
    "__Análisis:__ Se emplea paso a paso el método de repetición de variables para obtener los parámetros adicionales."
   ]
  },
  {
   "cell_type": "markdown",
   "metadata": {},
   "source": [
    "### Paso 1\n",
    "En este problema existen seis variables y constantes; $n=6$. Con ellos se elabora una lista en forma funcional, y la variable dependiente se menciona como una función de las variables y constantes independientes:\n",
    "\n",
    "Lista de parámetros relevantes: $\\tau_w = f(V, \\, \\varepsilon, \\, \\rho, \\, \\mu, \\, D) \\qquad n=6$"
   ]
  },
  {
   "cell_type": "markdown",
   "metadata": {},
   "source": [
    "### Paso 2\n",
    "Se hace una lista con las dimensiones primarias de cada parámetro. Note que el esfuerzo de corte es una fuerza por unidad de área y, por lo tanto, tiene las mismas dimensiones que presión:\n",
    "\n",
    "$$ \\begin{array}{|c|c|c|c|c|c|}\n",
    "\\hline\n",
    "\\tau_w & V & \\varepsilon & \\rho & \\mu & D \\\\\n",
    "\\hline\n",
    "\\displaystyle \\frac{m}{Lt^2} & \\displaystyle \\frac{L}{t} & L & \\displaystyle \\frac{m}{L^3} & \\displaystyle \\frac{m}{Lt} & L \\\\\n",
    "\\hline\n",
    "\\end{array} \n",
    "$$"
   ]
  },
  {
   "cell_type": "markdown",
   "metadata": {},
   "source": [
    "### Paso 3\n",
    "Como primera suposición, $j$ sw hace igual a 3, el número de dimensiones primarias representadas en el problema $(m, L, t)$\n",
    "\n",
    "Reducción: $j = 3$\n",
    "\n",
    "Si este valor de $j$ es correcto, el número esperado de $\\Pi 's$ es: $\\; k=n-j=6-3=3$."
   ]
  },
  {
   "cell_type": "markdown",
   "metadata": {},
   "source": [
    "### Paso 4\n",
    "Se eligen tres parámetros repetitivos pues $j=3$. Cuando se siguen los lineamientos de la tabla 7-3, no se puede elegir la variable dependiente $\\tau_w$. No se puede elegir simultáneamente $\\varepsilon$ y $D$ pues sus dimensiones son idénticas y no sería deseable que ni $\\mu$ ni $\\varepsilon$ apareciesen en todas las $\\Pi$. La mejor elección de parámetros repetitivos es por tanto $V, D, \\rho$.\n",
    "\n",
    "Parámetros repetitivos:$ \\quad V, D, \\rho $"
   ]
  },
  {
   "cell_type": "markdown",
   "metadata": {},
   "source": [
    "### Paso 5\n",
    "Se genera la $\\Pi$ dependiente\n",
    "\n",
    "$$ \\Pi_1 = \\tau_w V^{a_1} D^{b_1} \\rho^{c_1} \\quad \\rightarrow \\quad \\Pi_1 = \\frac{m}{Lt^2} \\left( \\frac{L}{t} \\right)^{a_1} L^{b_1} \\left( \\frac{m}{L^3} \\right)^{c_1} $$\n",
    "\n",
    "a partir de lo cual:\n",
    "$\\left\\{\n",
    "\\begin{array}{l}\n",
    "a_1 = -2 \\\\\n",
    "b_1 = 0 \\\\\n",
    "c_1 = -1\n",
    "\\end{array}\n",
    "\\right.$\n",
    "\n",
    "$$ \\Pi_1 = \\frac{\\tau_w}{\\rho V^2} $$"
   ]
  },
  {
   "cell_type": "markdown",
   "metadata": {},
   "source": [
    "A partir de la tabla 7-5, el parámetro adimensional establecido más similar a esta $\\Pi_1$ es el factor de fricción de Darcy, que se define con un factor de 8 en el numerador. Por lo tanto, esta $\\Pi$ se puede manipular del modo siguiente de acuerdo con los lineamientos mencionados en la tabla 7-4:\n",
    "\n",
    "$$ \\Pi_\\mathrm{1,modificada} = \\frac{8 \\tau_w}{\\rho V^2} = \\mbox{factor de fricción de Darcy} = f $$\n",
    "\n",
    "De manera similar se generan las dos $\\Pi$ independientes, cuyos detalles se dejan al lector:\n",
    "\n",
    "$\\begin{array}{l}\n",
    "\\displaystyle \\Pi_2 = \\mu V^{a_2} D^{b_2} \\rho^{c_2} \\qquad \\rightarrow \\qquad \\Pi_2 = \\frac{\\rho V D}{\\mu} = \\mbox{número de Reynolds = Re} \\\\\n",
    "\\displaystyle \\Pi_3 = \\varepsilon V^{a_3} D^{b_3} \\rho^{c_3} \\qquad \\rightarrow \\qquad \\Pi_3 = \\frac{\\varepsilon}{D} = \\mbox{rigosidad relativa} \n",
    "\\end{array}$"
   ]
  },
  {
   "cell_type": "markdown",
   "metadata": {},
   "source": [
    "### Paso 6\n",
    "La relación funcional final se escribe como:\n",
    "\n",
    "$$ f = \\frac{8 \\tau_w}{\\rho V^2} = f \\left( Re, \\frac{\\varepsilon}{D} \\right) \\tag{1} $$"
   ]
  },
  {
   "cell_type": "markdown",
   "metadata": {},
   "source": [
    "__Discusión__ El resultado se aplica a flujo en tubo totalmente desarrollado tanto laminar como turbulento; sin embargo, se evidencia que la segunda $\\Pi$ independiente (rugosidad relativa $\\varepsilon/D$) no es tan importante en flujo laminar como en flujo turbulento. Este problema presenta una interesante conexión entre similitud geométrica y análisis dimensional. A saber, es necesario empatar $\\varepsilon/D$ pues es una $\\Pi$ independiente en el problema. Desde una perspectiva diferente, si de considera la rugosidad como una propiedad geométrica, es necesario empatar $\\varepsilon/D$ para garantizar similitud entre dos tubos."
   ]
  },
  {
   "cell_type": "markdown",
   "metadata": {},
   "source": [
    "# Ejercicio 2\n",
    "El gasto a través de un tubo capilar horizontal depende de la caída de presión por unidad de longitud, del diámetro del tubo y de la viscosidad del fluido. Determinar la expresión del caudal."
   ]
  },
  {
   "cell_type": "markdown",
   "metadata": {},
   "source": [
    "## Solución\n",
    "Parámetros importantes:\n",
    "$$ \\dot{Q} = f \\left(\\frac{ \\Delta P}{L}, D, \\mu \\right) \\; \\Rightarrow \\; n = 4 $$\n",
    "\n",
    "$$ \\begin{array}{|c|c|c|}\n",
    "\\hline\n",
    "\\displaystyle \\dot{Q} & \\displaystyle \\frac{\\Delta P}{L} & D & \\mu \\\\\n",
    "\\hline\n",
    "\\displaystyle \\frac{L^3}{T} & \\displaystyle \\frac{M}{T^2 L^2} & L & \\displaystyle \\frac{M}{LT} \\\\\n",
    "\\hline\n",
    "\\end{array} \\; \\Rightarrow \\; j=3 $$\n",
    "$k = n-j = 1$ "
   ]
  },
  {
   "cell_type": "markdown",
   "metadata": {},
   "source": [
    "$$ \\Pi_1 = M^0 L^0 T^0 = \\dot{Q} \\left( \\frac{\\Delta P}{L} \\right)^x D^y \\mu^z $$\n",
    "\n",
    "$$ \\Pi_1 = M^0 L^0 T^0 = \\frac{L^3}{T} \\left( \\frac{\\Delta P}{L} \\right)^x L^y  \\left( \\frac{M}{LT} \\right)^z $$\n",
    "\n",
    "$\\begin{array}{lll}\n",
    "\\mathrm{Masa:} & 0=x+z & [1] \\\\\n",
    "\\mathrm{Longitud:} & 0=3-2x+y-z & [2] \\\\\n",
    "\\mathrm{Tiempo:} & 0=-1-2x-z & [3]\n",
    "\\end{array}$"
   ]
  },
  {
   "cell_type": "code",
   "execution_count": 11,
   "metadata": {},
   "outputs": [],
   "source": [
    "import sympy as sp"
   ]
  },
  {
   "cell_type": "code",
   "execution_count": 17,
   "metadata": {},
   "outputs": [
    {
     "name": "stdout",
     "output_type": "stream",
     "text": [
      "Soución: {x: -1, y: -4, z: 1} \n"
     ]
    }
   ],
   "source": [
    "x = sp.symbols('x')\n",
    "y = sp.symbols('y')\n",
    "z = sp.symbols('z')\n",
    "\n",
    "eq1 = sp.Eq(0 , x + z)\n",
    "eq2 = sp.Eq(0 , 3 - 2*x + y - z)\n",
    "eq3 = sp.Eq(0 , -1 -2*x - z)\n",
    "\n",
    "Sol = sp.solve([eq1,eq2,eq3],[x,y,z])\n",
    "\n",
    "print('Soución: %s '%Sol)"
   ]
  },
  {
   "cell_type": "markdown",
   "metadata": {},
   "source": [
    "$$ \\Pi = \\dot{Q} \\left( \\frac{\\Delta P}{L} \\right)^{-1} D^{-4} \\mu^1 $$\n",
    "\n",
    "$$ \\Rightarrow \\; \\Pi = \\frac{\\dot{Q} L \\mu}{\\Delta P D^4} $$"
   ]
  },
  {
   "cell_type": "markdown",
   "metadata": {},
   "source": [
    "De $\\Pi_1$ se observa que:\n",
    "$$ \\dot{Q} \\propto \\frac{ \\Delta P D^4 }{ L \\mu } $$"
   ]
  },
  {
   "cell_type": "code",
   "execution_count": 18,
   "metadata": {},
   "outputs": [],
   "source": [
    "%reset -s -f"
   ]
  },
  {
   "cell_type": "markdown",
   "metadata": {},
   "source": [
    "# Ejercicio 3\n",
    "A través de una tubería de 15 cm de diámetro fluye un aceite de viscosidad cinemática $5,65 \\times 10^{-6} \\, \\mathrm{m^2/s}$ a una velocidad de $4 \\, \\mathrm{m/s}$ ¿A que velocidad debe circular agua a 20°C a través de una tubería de 30 cm de diámetro para que los flujos sean dinámicamente semejantes?\n",
    "\n",
    "Fuerzas relevantes: $F_I, F_\\mu$      \n",
    "Parámetro adimensional $Re$\n",
    "\n",
    "$$ Re_{aceite} = Re_{agua} $$\n",
    "\n",
    "$$ \\frac{\\rho_{aceite} L_{aceite} W_{aceite}}{\\mu_{aceite}} = \\frac{\\rho_{agua} L_{agua} W_{agua}}{\\mu_{agua}} $$\n",
    "\n",
    "Viscosidad cinemática: \n",
    "$\\displaystyle \\nu = \\frac{\\mu}{\\rho} = \\frac{\\mathrm{viscosidad}}{\\mathrm{densidad}}$\n",
    "\n",
    "$\\nu_{agua} = 1,007 \\times 10^{-6} \\, \\mathrm{m^2/s} \\quad$ (de tabla)\n",
    "\n",
    "$$ \\frac{L_{aceite} W_{aceite}}{\\nu_{aceite}} = \\frac{L_{agua} W_{agua}}{\\nu_{agua}} $$\n",
    "\n",
    "$$ W_{agua} = \\frac{ L_{aceite} W_{aceite} \\nu_{aceite} }{L_{agua} \\nu_\\mathrm{aceite}} $$"
   ]
  },
  {
   "cell_type": "code",
   "execution_count": 20,
   "metadata": {},
   "outputs": [
    {
     "name": "stdout",
     "output_type": "stream",
     "text": [
      "W_agua = 0.3565 m/s\n"
     ]
    }
   ],
   "source": [
    "# Datos:\n",
    "L_aceite = 0.15 # m\n",
    "L_agua = 0.3 # m\n",
    "W_aceite = 4 # m/s\n",
    "v_agua = 1.007e-6 # m^2/s\n",
    "v_aceite = 5.65e-6 # m^2/s\n",
    "\n",
    "W_agua = (L_aceite * W_aceite * v_agua)/(L_agua * v_aceite)\n",
    "\n",
    "print('W_agua = %s m/s'%round(W_agua,4))"
   ]
  },
  {
   "cell_type": "code",
   "execution_count": 21,
   "metadata": {},
   "outputs": [],
   "source": [
    "%reset -s -f"
   ]
  },
  {
   "cell_type": "markdown",
   "metadata": {},
   "source": [
    "# Ejercicio 4\n",
    "Demostrar que para orificios semejantes geométricamente la relación de velocidades es proporcional a la raíz cuadrada de la relación de alturas de cargas."
   ]
  },
  {
   "cell_type": "markdown",
   "metadata": {},
   "source": [
    "## Solución\n",
    "$$ F_{r1} = F_{r2} $$\n",
    "\n",
    "$$ \\frac{W_1}{\\sqrt{L_1 g}} = \\frac{W_2}{\\sqrt{L_2 g}} $$\n",
    "Donde la longitud característica es la altura de carga.\n",
    "$$ \\frac{W_1}{W_2} = \\sqrt{ \\frac{L_1}{L_2} } $$\n",
    "De otro modo\n",
    "$$ W_1 = \\sqrt{ 2gh_1 } \\quad \\wedge \\quad W_2 = \\sqrt{ 2gh_1 } $$\n",
    "Dividiendo $W_1$ por $W_2$ se tiene\n",
    "$$ \\frac{W_1}{W_2} = \\frac{\\sqrt{2gh_1}}{\\sqrt{2gh_2}} \\quad \\Rightarrow \\quad \\frac{W_1}{W_2} = \\sqrt{ \\frac{2gh_1}{2gh_2} } $$\n",
    "Luego\n",
    "$$ \\frac{W_1}{W_2} = \\sqrt{ \\frac{h_1}{h_2} } $$"
   ]
  },
  {
   "cell_type": "markdown",
   "metadata": {},
   "source": [
    "# Ejercicio 6\n",
    "Un modelo de submarino escala 1:15 va a ser ensayado en un canal de agua salada. Si el submarino real se debería mover a una velocidad de 5,4 m/s ¿A que velocidad deberá ser arrastrado el modelo para que exista semejanza dinámica?"
   ]
  },
  {
   "cell_type": "markdown",
   "metadata": {},
   "source": [
    "## Solución\n",
    "$\\begin{array}{l}\n",
    "\\mathrm{Parámetros \\; relevantes:} \\, \\mu, \\rho, W, g, L \\\\\n",
    "\\mathrm{Fuerzas:} \\, F_I, F_\\mu \\\\\n",
    "\\mathrm{Parámetros \\; adimensionales:} \\, Re\n",
    "\\end{array}$\n",
    "\n",
    "$$ Re_m = Re_p $$\n",
    "\n",
    "$$ \\frac{L_m W_m}{\\nu_m} = \\frac{L_p W_p}{\\nu_p} $$\n",
    "Suponiendo igual fluido para prototipo y modelo\n",
    "$$ W_m = \\frac{L_p}{L_m} W_p $$"
   ]
  },
  {
   "cell_type": "code",
   "execution_count": 22,
   "metadata": {},
   "outputs": [
    {
     "name": "stdout",
     "output_type": "stream",
     "text": [
      "W_m = 81.0 m/s\n"
     ]
    }
   ],
   "source": [
    "L_p = 15\n",
    "L_m = 1\n",
    "W_p = 5.4 # m/s\n",
    "\n",
    "W_m = L_p/L_m * W_p\n",
    "\n",
    "print('W_m = %s m/s'%round(W_m,2))"
   ]
  },
  {
   "cell_type": "markdown",
   "metadata": {},
   "source": [
    "Para flujos sin efectos de superficie libre (tuberías, flujo alrededor de un submarino o torpedo totalmente sumergidos, movimientos de automóviles, aviones, etc.) la gravedad no afecta la dinámica del flujo. El efecto de la gravedad sólo es importante en flujos con efectos de superficie libre (por ej. ondas, derrames de presas, flujo en ríos, etc.)."
   ]
  },
  {
   "cell_type": "code",
   "execution_count": 31,
   "metadata": {},
   "outputs": [],
   "source": [
    "%reset -s -f"
   ]
  },
  {
   "cell_type": "markdown",
   "metadata": {},
   "source": [
    "# Ejercicio 7\n",
    "Un barco cuyo casco tiene una longitud de 140 cm debe moverse a 7,5 m/s.\n",
    "\n",
    "a) Calcular el número de Froude   \n",
    "b) Para que exista semejanza dinámica ¿A qué velocidad debe remolcarse en el agua un modelo a escala 1:30?"
   ]
  },
  {
   "cell_type": "markdown",
   "metadata": {},
   "source": [
    "## Solución\n",
    "a) Suponiendo que la longitud dada es el calado del casco, es decir, la altura de la parte sumergida del casco.\n",
    "\n",
    "$$ Fr = \\frac{W}{\\sqrt{gL}} $$"
   ]
  },
  {
   "cell_type": "code",
   "execution_count": 32,
   "metadata": {},
   "outputs": [],
   "source": [
    "import math"
   ]
  },
  {
   "cell_type": "code",
   "execution_count": 33,
   "metadata": {},
   "outputs": [
    {
     "name": "stdout",
     "output_type": "stream",
     "text": [
      "Fr = 0.202\n"
     ]
    }
   ],
   "source": [
    "W_p = 7.5 # m/s\n",
    "g = 9.81 # m/s^2\n",
    "L_p = 140 # m\n",
    "L_m = L_p/30 # m\n",
    "\n",
    "Fr = W_p/( math.sqrt(g*L_p) )\n",
    "\n",
    "print('Fr = %s'%round(Fr,3))"
   ]
  },
  {
   "cell_type": "markdown",
   "metadata": {},
   "source": [
    "Como $Fr < 1 \\; \\Rightarrow$ Flujo subcrítico o tranquilo"
   ]
  },
  {
   "cell_type": "markdown",
   "metadata": {},
   "source": [
    "b) \n",
    "$$ Fr_m = Fr_p  $$\n",
    "\n",
    "$$ \\frac{W_m}{ \\sqrt{g L_m} } = \\frac{W_p}{ \\sqrt{gL_p} } $$\n",
    "\n",
    "$$ W_m = W_p \\left( \\frac{L_m}{L_p} \\right)^{1/2} $$"
   ]
  },
  {
   "cell_type": "code",
   "execution_count": 34,
   "metadata": {},
   "outputs": [
    {
     "name": "stdout",
     "output_type": "stream",
     "text": [
      "W_m = 1.3693 m/s\n"
     ]
    }
   ],
   "source": [
    "W_m = W_p * math.sqrt(L_m/L_p)\n",
    "\n",
    "print('W_m = %s m/s'%round(W_m,4))"
   ]
  },
  {
   "cell_type": "markdown",
   "metadata": {},
   "source": [
    "Para que se cumpla la semejanza dinámica $Re_m = Re_p$\n",
    "\n",
    "$$ \\frac{L_m W_m}{\\nu_m} = \\frac{L_p W_p}{\\nu_p} $$\n",
    "\n",
    "$$ \\nu_m = \\nu_p \\, \\frac{L_m W_m}{L_p W_p} $$"
   ]
  },
  {
   "cell_type": "markdown",
   "metadata": {},
   "source": [
    "Suponiendo para el prototipo agua a presión atmosférica y $t=20^\\circ \\mathrm{C}$, la viscosidad cinemática del prototipo será $\\nu_p = 1,007 \\times 10^{-6} \\, \\mathrm{m^2/s}$.\n",
    "\n",
    "Por lo tanto:"
   ]
  },
  {
   "cell_type": "code",
   "execution_count": 40,
   "metadata": {},
   "outputs": [
    {
     "name": "stdout",
     "output_type": "stream",
     "text": [
      "v_m = 6.128e-09 m^2/s\n"
     ]
    }
   ],
   "source": [
    "v_p = 1.007e-6 # m^2/s\n",
    "\n",
    "v_m = v_p * (L_m*W_m)/(L_p*W_p)\n",
    "\n",
    "print('v_m = %s m^2/s'%round(v_m,12))"
   ]
  },
  {
   "cell_type": "markdown",
   "metadata": {},
   "source": [
    "La viscosidad cinemática del modelo deberá ser $\\nu_m = 6,128 \\times 10^{-9} \\, \\mathrm{m^2/s}$"
   ]
  },
  {
   "cell_type": "code",
   "execution_count": 42,
   "metadata": {},
   "outputs": [],
   "source": [
    "%reset -s -f"
   ]
  },
  {
   "cell_type": "markdown",
   "metadata": {},
   "source": [
    "# Ejercicio 8\n",
    "Se sabe que el caudal de un soplador de aire depende de la presión de trabajo, el diámetro y la densidad del aire. Encuentre una expresión que los relacione."
   ]
  },
  {
   "cell_type": "markdown",
   "metadata": {},
   "source": [
    "## Solución\n",
    "Parámetros importantes: $\\dot{Q} = f(P,D,\\rho) \\; \\Rightarrow \\; n=4$\n",
    "\n",
    "Dimensiones primarias:\n",
    "$$\\begin{array}{|c|c|c|c|}\n",
    "\\hline\n",
    "\\displaystyle \\dot{Q} = \\frac{L^3}{T} & \\displaystyle P = \\frac{M}{LT^2} & D = L & \\displaystyle \\rho = \\frac{M}{L^3} \\\\\n",
    "\\hline\n",
    "\\end{array} \\; \\Rightarrow \\; j=3$$\n",
    "Entonces: \n",
    "$k = n-j = 1$\n",
    "\n",
    "Por lo tanto\n",
    "$$ \\Pi_1 = \\dot{Q} \\, P^x D^y \\rho^z $$\n",
    "\n",
    "$$ \\Pi_1 = M^0 L^0 T^0 = \\frac{L^3}{T} \\, \\left( \\frac{M}{LT^2} \\right)^x L^y \\left( \\frac{M}{L^3} \\right)^z $$"
   ]
  },
  {
   "cell_type": "markdown",
   "metadata": {},
   "source": [
    "$\\begin{array}{lll}\n",
    "\\mathrm{Masa:} & 0 = x + z & [1] \\\\\n",
    "\\mathrm{Longitud:} & 0 = 3 - 1x + y - 3z & [2] \\\\\n",
    "\\mathrm{Tiempo:} & 0 = -1 - 2x & [3]\n",
    "\\end{array}$"
   ]
  },
  {
   "cell_type": "code",
   "execution_count": 1,
   "metadata": {},
   "outputs": [],
   "source": [
    "import sympy as sp"
   ]
  },
  {
   "cell_type": "code",
   "execution_count": 2,
   "metadata": {},
   "outputs": [
    {
     "name": "stdout",
     "output_type": "stream",
     "text": [
      "Solución: {x: -1/2, y: -2, z: 1/2}\n"
     ]
    }
   ],
   "source": [
    "x = sp.symbols('x')\n",
    "y = sp.symbols('y')\n",
    "z = sp.symbols('z')\n",
    "\n",
    "eq1 = sp.Eq(0 , x + z)\n",
    "eq2 = sp.Eq(0 , 3 - 1*x + y - 3*z)\n",
    "eq3 = sp.Eq(0 , -1 - 2*x)\n",
    "\n",
    "Sol = sp.solve([eq1,eq2,eq3],[x,y,z])\n",
    "print('Solución: %s'%Sol)"
   ]
  },
  {
   "cell_type": "markdown",
   "metadata": {},
   "source": [
    "$$ \\Pi_1 = \\dot{Q} (P)^{-1/2} (D)^{-2} (\\rho)^{1/2}  $$\n",
    "\n",
    "$$ \\Pi_1 = \\frac{\\dot{Q}}{D^2} \\sqrt{ \\frac{\\rho}{P} } $$"
   ]
  },
  {
   "cell_type": "code",
   "execution_count": 3,
   "metadata": {},
   "outputs": [],
   "source": [
    "%reset -s -f"
   ]
  },
  {
   "cell_type": "markdown",
   "metadata": {},
   "source": [
    "# Ejercicio 9\n",
    "Para el caso de un fluido ideal, expresar la velocidad a través de un orificio en función de la densidad, diámetro del orificio y la diferencia de presiones."
   ]
  },
  {
   "cell_type": "markdown",
   "metadata": {},
   "source": [
    "## Solución\n",
    "Parámetros importantes: $ W = f(\\rho, D, \\Delta P) \\; \\Rightarrow \\; n = 4 $\n",
    "\n",
    "Dimensiones primarias:\n",
    "$$\\begin{array}{|c|c|c|c|}\n",
    "\\hline\n",
    "\\displaystyle W = \\frac{L}{T} & \\displaystyle \\rho = \\frac{M}{L^3} & D = L & \\displaystyle \\Delta P = \\frac{M}{LT^2} \\\\\n",
    "\\hline\n",
    "\\end{array} \\; \\Rightarrow \\; j = 3 $$\n",
    "Entonces: $k = n - j = 1$"
   ]
  },
  {
   "cell_type": "markdown",
   "metadata": {},
   "source": [
    "$$ \\Pi_1 = M^0 L^0 T^0 = W \\, \\rho^x D^y \\Delta P^z $$"
   ]
  },
  {
   "cell_type": "markdown",
   "metadata": {},
   "source": [
    "$$ \\Pi_1 = \\frac{L}{T} \\, \\left( \\frac{M}{L^3} \\right)^x L^y \\left( \\frac{M}{LT^2} \\right)^z $$"
   ]
  },
  {
   "cell_type": "markdown",
   "metadata": {},
   "source": [
    "$\\begin{array}{lll}\n",
    "\\mathrm{Masa:} & 0 = x + z & [1] \\\\\n",
    "\\mathrm{Longitud:} & 0 = 1 - 3x + y - z & [2] \\\\\n",
    "\\mathrm{Tiempo:} & 0 = -1 - 2z & [3]\n",
    "\\end{array}$"
   ]
  },
  {
   "cell_type": "code",
   "execution_count": 4,
   "metadata": {},
   "outputs": [],
   "source": [
    "import sympy as sp"
   ]
  },
  {
   "cell_type": "code",
   "execution_count": 6,
   "metadata": {},
   "outputs": [
    {
     "name": "stdout",
     "output_type": "stream",
     "text": [
      "Solución: {x: 1/2, y: 0, z: -1/2}\n"
     ]
    }
   ],
   "source": [
    "x = sp.symbols('x')\n",
    "y = sp.symbols('y')\n",
    "z = sp.symbols('z')\n",
    "\n",
    "eq1 = sp.Eq(0 , x + z)\n",
    "eq2 = sp.Eq(0 , 1 - 3*x + y - z)\n",
    "eq3 = sp.Eq(0 , -1 -2*z)\n",
    "\n",
    "Sol = sp.solve([eq1,eq2,eq3],[x,y,z])\n",
    "\n",
    "print('Solución: %s'%Sol)"
   ]
  },
  {
   "cell_type": "markdown",
   "metadata": {},
   "source": [
    "$$ \\Pi_1 = W \\rho^{1/2} D^0 \\Delta P^{-1/2} $$"
   ]
  },
  {
   "cell_type": "markdown",
   "metadata": {},
   "source": [
    "$$ \\Pi_ 1 = W \\sqrt{ \\frac{\\rho}{\\Delta P} } $$"
   ]
  },
  {
   "cell_type": "markdown",
   "metadata": {},
   "source": [
    "$$ W = \\Pi_1 \\sqrt{ \\frac{\\Delta P}{\\rho} } $$"
   ]
  },
  {
   "cell_type": "markdown",
   "metadata": {},
   "source": [
    "$$ W^2 = \\Pi_1^2 \\frac{\\Delta P}{\\rho} $$"
   ]
  },
  {
   "cell_type": "markdown",
   "metadata": {},
   "source": [
    "$$ \\frac{W^2}{2g} = \\frac{\\Pi_1^2}{2} \\frac{\\Delta P}{\\gamma} $$\n",
    "\n",
    "haciendo $\\Pi_1^2/2 = C$ resulta"
   ]
  },
  {
   "cell_type": "markdown",
   "metadata": {},
   "source": [
    "$$ \\frac{W^2}{2g} = C \\, \\frac{\\Delta P}{\\gamma} \\quad $$\n",
    "\n",
    "resolviendo para W"
   ]
  },
  {
   "cell_type": "markdown",
   "metadata": {},
   "source": [
    "$$ W = \\sqrt{C} \\sqrt{ \\frac{\\Delta P}{\\gamma} 2g } $$\n",
    "\n",
    "haciendo $\\sqrt{C} = k$ y como $\\frac{\\Delta P}{\\gamma} = h$"
   ]
  },
  {
   "cell_type": "markdown",
   "metadata": {},
   "source": [
    "$$ W = k \\sqrt{2gh} $$"
   ]
  },
  {
   "cell_type": "markdown",
   "metadata": {},
   "source": [
    "O también\n",
    "$$ \\Pi_1 = W \\sqrt{ \\frac{\\rho}{\\Delta P} } $$\n",
    "\n",
    "$$ \\Pi_1^2 = \\frac{\\rho W^2}{\\Delta P} $$"
   ]
  },
  {
   "cell_type": "markdown",
   "metadata": {},
   "source": [
    "Haciendo $P_i$ modificada: $\\Pi_1^{-2}$\n",
    "\n",
    "$$ \\Pi_{mod} = \\frac{\\Delta P}{\\rho W^2} = \\mbox{nro. de Euler} $$"
   ]
  },
  {
   "cell_type": "code",
   "execution_count": null,
   "metadata": {},
   "outputs": [],
   "source": []
  }
 ],
 "metadata": {
  "kernelspec": {
   "display_name": "Python 3",
   "language": "python",
   "name": "python3"
  },
  "language_info": {
   "codemirror_mode": {
    "name": "ipython",
    "version": 3
   },
   "file_extension": ".py",
   "mimetype": "text/x-python",
   "name": "python",
   "nbconvert_exporter": "python",
   "pygments_lexer": "ipython3",
   "version": "3.7.3"
  }
 },
 "nbformat": 4,
 "nbformat_minor": 2
}
