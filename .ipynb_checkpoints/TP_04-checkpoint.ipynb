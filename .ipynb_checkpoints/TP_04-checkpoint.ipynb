{
 "cells": [
  {
   "cell_type": "raw",
   "metadata": {},
   "source": [
    "<script>\n",
    "  function code_toggle() {\n",
    "    if (code_shown){\n",
    "      $('div.input').hide('500');\n",
    "      $('#toggleButton').val('Show Code')\n",
    "    } else {\n",
    "      $('div.input').show('500');\n",
    "      $('#toggleButton').val('Hide Code')\n",
    "    }\n",
    "    code_shown = !code_shown\n",
    "  }\n",
    "\n",
    "  $( document ).ready(function(){\n",
    "    code_shown=true;\n",
    "    $('div.input').show()\n",
    "  });\n",
    "</script>\n",
    "<form action=\"javascript:code_toggle()\"><input type=\"submit\" id=\"toggleButton\" value=\"Hide Code\"></form>"
   ]
  },
  {
   "cell_type": "markdown",
   "metadata": {},
   "source": [
    "# Mecánica de fluidos - Práctico 4\n",
    "__UNLZ - FI -- Jupyter Notebook + Python 3__\n",
    "   \n",
    "__Alumno: Lorenzo, Daniel Antonio__\n",
    "\n",
    "[<- Previous](https://nbviewer.jupyter.org/github/daniel-lorenzo/Mecanica_de_fluidos/blob/master/TP_03.ipynb) - \n",
    "[Index](https://github.com/daniel-lorenzo/Mecanica_de_fluidos/blob/master/Readme.md)"
   ]
  },
  {
   "cell_type": "markdown",
   "metadata": {},
   "source": [
    "# Ejercicio 1\n",
    "A través de una tubería horizontal de 15 cm de diámetro fluye agua a una presión de 4,2 kg/cm². Suponiendo que no hay pérdidas. ¿Cuál es el caudal si en una reducción de la mitad del diámetro la presión es 1,4 kg/cm²?\n",
    "\n",
    "![tp4e1.png](img/tp4e1.png)"
   ]
  },
  {
   "cell_type": "markdown",
   "metadata": {},
   "source": [
    "## Solución\n",
    "Aplicando la ecuación de continuidad o balance de masa."
   ]
  },
  {
   "cell_type": "markdown",
   "metadata": {},
   "source": [
    "$$ \\dot{m}_{ent} - \\dot{m}_{sal} =  \\frac{dm_{vc}}{dt} = 0 \\qquad \\mbox{como} \\qquad \\rho = \\mathrm{cte.} $$"
   ]
  },
  {
   "cell_type": "markdown",
   "metadata": {},
   "source": [
    "$$ m_e = m_s $$"
   ]
  },
  {
   "cell_type": "markdown",
   "metadata": {},
   "source": [
    "$$ W_1 A_1 = W_2 A_2 $$"
   ]
  },
  {
   "cell_type": "markdown",
   "metadata": {},
   "source": [
    "$$ W_1 \\frac{\\pi}{4} d^2_1 = W_2 \\frac{\\pi}{4} d^2_2 $$"
   ]
  },
  {
   "cell_type": "markdown",
   "metadata": {},
   "source": [
    "Entonces\n",
    "$$ W_1 = W_2 \\left( \\frac{d_2}{d_2} \\right)^2 \\tag{1} $$"
   ]
  },
  {
   "cell_type": "markdown",
   "metadata": {},
   "source": [
    "Aplicando Bernoulli, resulta\n",
    "\n",
    "$$ \\frac{P_1}{\\gamma} + \\frac{W^2_1}{2g} + z_1 = \\frac{P_2}{\\gamma} + \\frac{W^2_2}{2g} + z_2 $$"
   ]
  },
  {
   "cell_type": "markdown",
   "metadata": {},
   "source": [
    "$$ \\frac{P_1 - P_2}{\\gamma} = \\frac{W^2_2}{2g} - \\frac{W^2_1}{2g} \\tag{2} $$"
   ]
  },
  {
   "cell_type": "markdown",
   "metadata": {},
   "source": [
    "Reemplazando (1) en (2)\n",
    "$$ \\frac{P_1 - P_2}{\\gamma} = \\frac{W^2_2}{2g} - \\frac{W^2_2}{2g} \\left( \\frac{d_2}{d_2} \\right)^4  $$"
   ]
  },
  {
   "cell_type": "markdown",
   "metadata": {},
   "source": [
    "Despejando $W_2$\n",
    "$$ W_2 = \\sqrt{ \\frac{(P_1 - P_2) \\, 2g}{\\gamma \\, [1 - (d_2/d_1)^4]} } \\tag{3} $$"
   ]
  },
  {
   "cell_type": "code",
   "execution_count": 1,
   "metadata": {},
   "outputs": [],
   "source": [
    "import math as m"
   ]
  },
  {
   "cell_type": "code",
   "execution_count": 2,
   "metadata": {},
   "outputs": [
    {
     "name": "stdout",
     "output_type": "stream",
     "text": [
      "W_2 = 24.207 m/s\n"
     ]
    }
   ],
   "source": [
    "# Datos\n",
    "P_1 = 42000 # kgf/m^2\n",
    "P_2 = 14000 # kgf/m^2\n",
    "d_1 = 0.15 # m\n",
    "d_2 = 0.075 # m\n",
    "gamma = 1000 # kgf/m^3\n",
    "g = 9.81 # m/s^2\n",
    "\n",
    "W_2 = m.sqrt( ((P_1 - P_2)*2*g)/(gamma* (1 - (d_2/d_1)**4 ) ) )\n",
    "\n",
    "print('W_2 = %s m/s'%round(W_2,3))"
   ]
  },
  {
   "cell_type": "markdown",
   "metadata": {},
   "source": [
    "Como\n",
    "$$ Q = W_2 \\, A_2 $$"
   ]
  },
  {
   "cell_type": "code",
   "execution_count": 3,
   "metadata": {},
   "outputs": [
    {
     "name": "stdout",
     "output_type": "stream",
     "text": [
      "Q = 0.1069 m^3/s\n"
     ]
    }
   ],
   "source": [
    "A_2 = (m.pi/4)*(d_2)**2\n",
    "\n",
    "Q = W_2 * A_2\n",
    "\n",
    "print('Q = %s m^3/s'%round(Q,4))"
   ]
  },
  {
   "cell_type": "code",
   "execution_count": 4,
   "metadata": {},
   "outputs": [],
   "source": [
    "%reset -s -f"
   ]
  },
  {
   "cell_type": "markdown",
   "metadata": {},
   "source": [
    "# Ejercicio 2\n",
    "En el sistema de la figura, la bomba BC debe producir un caudal de 160 L/s de aceite de densidad relativa 0,762 hacia el recipiente D. Suponiendo que la pérdida de carga entre A y B es de 2,5 m y desde C a D de 6,5 m, determinar la potencia que la bomba debe suministrar a la corriente.\n",
    "\n",
    "![tp4e2.png](img/tp4e2.png)"
   ]
  },
  {
   "cell_type": "markdown",
   "metadata": {},
   "source": [
    "## Solución\n",
    "Hipótesis: flujo estacionario.\n",
    "\n",
    "$\\begin{array}{l}\n",
    "W_1 = W_2 \\\\\n",
    "z_2 = z_1 + 50 \\, \\mathrm{m} \\\\\n",
    "P_1 = P_2 = P_{atm}\n",
    "\\end{array}$"
   ]
  },
  {
   "cell_type": "markdown",
   "metadata": {},
   "source": [
    "Aplicando la ecuación de conservación de energía\n",
    "\n",
    "$$ H_{Bomba} + \\frac{P_1}{\\gamma} + \\frac{W^2_1}{2g} + z_1 = \\frac{P_2}{\\gamma} + \\frac{W^2_2}{2g} + z_2 + h_{perd} $$"
   ]
  },
  {
   "cell_type": "markdown",
   "metadata": {},
   "source": [
    "Simplificando\n",
    "\n",
    "$$ H_B = z_2 - z_1 + h_{perd} $$"
   ]
  },
  {
   "cell_type": "markdown",
   "metadata": {},
   "source": [
    "$$ H_B = \\mathrm{50 \\, m + 2,5 \\, m + 6,5 \\, m} $$"
   ]
  },
  {
   "cell_type": "markdown",
   "metadata": {},
   "source": [
    "$$ H_B = 59 \\, \\mathrm{m} $$"
   ]
  },
  {
   "cell_type": "markdown",
   "metadata": {},
   "source": [
    "$$ N_B = H_B \\, \\gamma \\, \\dot{Q} $$"
   ]
  },
  {
   "cell_type": "code",
   "execution_count": 5,
   "metadata": {},
   "outputs": [
    {
     "name": "stdout",
     "output_type": "stream",
     "text": [
      "N_B = 7193.28 kgf·m/s\n"
     ]
    }
   ],
   "source": [
    "H_B = 50 + 2.5 + 6.5 # m\n",
    "gamma = 762 # kgf/m^3\n",
    "Q = 160e-3 # m^3/s\n",
    "\n",
    "N_B = H_B * gamma * Q\n",
    "\n",
    "print('N_B = %s kgf·m/s'%round(N_B,2))"
   ]
  },
  {
   "cell_type": "code",
   "execution_count": 6,
   "metadata": {},
   "outputs": [],
   "source": [
    "%reset -s -f"
   ]
  },
  {
   "cell_type": "markdown",
   "metadata": {},
   "source": [
    "# Ejercicio 3\n",
    "En una bomba circulan 20 L/s de agua a 5°C, pasando de una presión de 1,5 atm a 4 atm. Si el diámetro de entrada es de 10 cm y el de salida 2,5 cm y además no hay intercambio de calor ni rozamiento. ¿Cuál es la potencia que desarrolla?\n",
    "\n",
    "![tp4e3.png](img/tp4e3.png)\n",
    "\n",
    "$1 \\, \\mathrm{atm} \\approx 10000 \\, \\mathrm{kgf/m^2} $"
   ]
  },
  {
   "cell_type": "markdown",
   "metadata": {},
   "source": [
    "## Solución\n",
    "\n",
    "$\\left\\{\n",
    "\\begin{array}{l}\n",
    "\\dot{Q} = \\dot{W}_1 A_1 \\\\\n",
    "\\displaystyle A_1 = \\pi \\, \\frac{d_1^2}{4} \\\\\n",
    "\\dot{Q} = \\dot{W}_2 A_2 \\\\\n",
    "\\displaystyle A_2 = \\pi \\, \\frac{d_2^2}{4}\n",
    "\\end{array}\n",
    "\\right. \\qquad \\rightarrow \\qquad\n",
    "\\begin{array}{l}\n",
    "\\displaystyle \\dot{W}_1 = \\frac{\\dot{Q}}{A_1} \\\\\n",
    "\\displaystyle \\dot{W}_2 = \\frac{\\dot{Q}}{A_2}\n",
    "\\end{array}\n",
    "$"
   ]
  },
  {
   "cell_type": "code",
   "execution_count": 7,
   "metadata": {},
   "outputs": [],
   "source": [
    "import math"
   ]
  },
  {
   "cell_type": "code",
   "execution_count": 8,
   "metadata": {},
   "outputs": [
    {
     "name": "stdout",
     "output_type": "stream",
     "text": [
      "W1 = 2.55 m/s\n",
      "W2 = 40.74 m/s\n"
     ]
    }
   ],
   "source": [
    "# Datos\n",
    "Q = 20e-3 # m^3/s\n",
    "d1 = 10e-2 # m\n",
    "d2 = 2.5e-2 # m\n",
    "A1 = math.pi*(d1**2/4) # m^2\n",
    "A2 = math.pi*(d2**2/4) # m^2\n",
    "\n",
    "W1 = Q/A1\n",
    "W2 = Q/A2\n",
    "\n",
    "print('W1 = %s m/s'%round(W1,2))\n",
    "print('W2 = %s m/s'%round(W2,2))"
   ]
  },
  {
   "cell_type": "markdown",
   "metadata": {},
   "source": [
    "$$ H_B + \\frac{P_1}{\\gamma} + \\frac{W^2_1}{2g} + z_1 = \\frac{P_2}{\\gamma} + \\frac{W^2_2}{2g} + z_2 $$"
   ]
  },
  {
   "cell_type": "markdown",
   "metadata": {},
   "source": [
    "Entonces\n",
    "$$ H_B = \\frac{P_2 - P_1}{\\gamma} + \\frac{W^2_2 - W^2_1}{2g} $$"
   ]
  },
  {
   "cell_type": "code",
   "execution_count": 9,
   "metadata": {},
   "outputs": [
    {
     "name": "stdout",
     "output_type": "stream",
     "text": [
      "Hb = 109.28 m\n"
     ]
    }
   ],
   "source": [
    "# Datos\n",
    "P1 = 1.5e4 # kgf/m^2\n",
    "P2 = 4e4 # kgf/m^2\n",
    "gamma = 1000 # kgf/m^3\n",
    "g = 9.81 # m/s^2\n",
    "\n",
    "Hb = (P2 - P1)/gamma + (W2**2 - W1**2)/(2*g) \n",
    "\n",
    "print('Hb = %s m'%round(Hb,2))"
   ]
  },
  {
   "cell_type": "markdown",
   "metadata": {},
   "source": [
    "$$ N_B = \\gamma \\, Q \\, H_B $$"
   ]
  },
  {
   "cell_type": "code",
   "execution_count": 10,
   "metadata": {},
   "outputs": [
    {
     "name": "stdout",
     "output_type": "stream",
     "text": [
      "Nb = 2185.59 kgf·m/s\n"
     ]
    }
   ],
   "source": [
    "Nb = gamma*Q*Hb\n",
    "\n",
    "print('Nb = %s kgf·m/s'%round(Nb,2))"
   ]
  },
  {
   "cell_type": "code",
   "execution_count": 11,
   "metadata": {},
   "outputs": [],
   "source": [
    "%reset -s -f"
   ]
  },
  {
   "cell_type": "markdown",
   "metadata": {},
   "source": [
    "# Ejercicio 4\n",
    "Mediante una bomba se hace circular agua desde un recipiente A, a una elevación de 225 m, hasta otro depósito E a una elevación de 240 m. A través de una tubería de 30 cm de diámetro. La presión en la tubería en un punto D ubicado a una elevación de 195 m es de 5,6 kg/cm. Las pérdidas de carga son: de A hasta la entrada de la bomba B, igual a 0,6 m; de C la salida de la bomba hasta B igual a 38 W²/2g y desde D a E igual a 40 W²/2g.\n",
    "\n",
    "Determinar el caudal y la potencia suministrada por la bomba.\n",
    "\n",
    "![tp4e4.png](img/tp4e4.png)\n",
    "\n",
    "$\\begin{array}{l}\n",
    "hp(AB) = 0,6 \\, \\mathrm{m} \\\\\n",
    "\\displaystyle hp(CD) = \\frac{38 W^2}{2g} \\\\\n",
    "\\displaystyle hp(DE) = \\frac{40 W^2}{2g}\n",
    "\\end{array}\n",
    "$"
   ]
  },
  {
   "cell_type": "markdown",
   "metadata": {},
   "source": [
    "## Solución\n",
    "Desde D hasta E\n",
    "\n",
    "$W_E \\approx 0 \\; \\wedge \\; P_E = 0 $"
   ]
  },
  {
   "cell_type": "markdown",
   "metadata": {},
   "source": [
    "$$ \\frac{P_D}{\\gamma} + \\frac{W^2_D}{2g} + z_D = \\frac{P_E}{\\gamma} + \\frac{W^2_E}{2g} + z_E + hp(DE) \\tag{1} $$"
   ]
  },
  {
   "cell_type": "markdown",
   "metadata": {},
   "source": [
    "$W_D = W$\n",
    "$$ \\frac{P_D}{\\gamma} + \\frac{W^2}{2g} + z_D =  z_E + \\frac{40W^2}{2g} $$"
   ]
  },
  {
   "cell_type": "code",
   "execution_count": 12,
   "metadata": {},
   "outputs": [],
   "source": [
    "import sympy as sp"
   ]
  },
  {
   "cell_type": "code",
   "execution_count": 13,
   "metadata": {},
   "outputs": [
    {
     "name": "stdout",
     "output_type": "stream",
     "text": [
      "W = 2.35 m/s\n"
     ]
    }
   ],
   "source": [
    "# Datos\n",
    "g = 9.81 # m/s\n",
    "W = sp.symbols('W')\n",
    "P_D = 56000 # kgf/m^2\n",
    "gamma = 1000 # kgf/m^3\n",
    "z_D = 195 # m\n",
    "z_E = 240 # m\n",
    "P_E = 0\n",
    "W_E = 0\n",
    "hpDE = (40*W**2)/(2*g)\n",
    "\n",
    "eq1 = sp.Eq(P_D/gamma + W**2/(2*g) + z_D , P_E/gamma + W_E**2/(2*g) + z_E + hpDE )\n",
    "\n",
    "Seq1 = sp.solve(eq1,W)\n",
    "W = Seq1[1]\n",
    "\n",
    "print('W = %s m/s'%round(W,2))"
   ]
  },
  {
   "cell_type": "markdown",
   "metadata": {},
   "source": [
    "Desde A hasta E\n",
    "\n",
    "$P_A = P_E \\quad \\wedge \\quad W_A = W_E$"
   ]
  },
  {
   "cell_type": "markdown",
   "metadata": {},
   "source": [
    "$$ z_A + H_B = z_E + hp(AB) + hp(CD) + hp(DE) $$"
   ]
  },
  {
   "cell_type": "markdown",
   "metadata": {},
   "source": [
    "$$ z_A + H_B = z_E + 0,6 \\, \\mathrm{m} + 78 \\frac{W^2}{2g} $$"
   ]
  },
  {
   "cell_type": "markdown",
   "metadata": {},
   "source": [
    "$$ H_B = z_E - z_A + 0,6 \\, \\mathrm{m} + 78 \\frac{W^2}{2g} $$"
   ]
  },
  {
   "cell_type": "code",
   "execution_count": 14,
   "metadata": {},
   "outputs": [
    {
     "name": "stdout",
     "output_type": "stream",
     "text": [
      "H_B = 37.6 m\n"
     ]
    }
   ],
   "source": [
    "z_A = 225 # m\n",
    "hpAB = 0.6 # m\n",
    "hpCD = (38*W**2)/(2*g)\n",
    "hpDE = (40*W**2)/(2*g)\n",
    "\n",
    "H_B = z_E - z_A + hpAB + hpCD + hpDE\n",
    "\n",
    "print('H_B = %s m'%round(H_B,2))"
   ]
  },
  {
   "cell_type": "markdown",
   "metadata": {},
   "source": [
    "$$ N_B = H_B \\, Q \\, \\gamma  $$"
   ]
  },
  {
   "cell_type": "markdown",
   "metadata": {},
   "source": [
    "$$ N_B = H_B \\, W \\frac{\\pi}{4} d^2 \\, \\gamma $$"
   ]
  },
  {
   "cell_type": "code",
   "execution_count": 15,
   "metadata": {},
   "outputs": [],
   "source": [
    "import math"
   ]
  },
  {
   "cell_type": "code",
   "execution_count": 16,
   "metadata": {},
   "outputs": [
    {
     "name": "stdout",
     "output_type": "stream",
     "text": [
      "N_B = 6252.21 kgf·m/s\n",
      "N_B = 637.33 Watt\n"
     ]
    }
   ],
   "source": [
    "d = 0.3 # m\n",
    "A = (math.pi/4)*d**2\n",
    "\n",
    "N_B = H_B*W*A*gamma\n",
    "\n",
    "print('N_B = %s kgf·m/s'%round(N_B,2))\n",
    "print('N_B = %s Watt'%round(N_B/g,2))"
   ]
  },
  {
   "cell_type": "markdown",
   "metadata": {},
   "source": [
    "$$ Q = W_D \\frac{\\pi}{4} d^2 $$"
   ]
  },
  {
   "cell_type": "code",
   "execution_count": 17,
   "metadata": {},
   "outputs": [
    {
     "name": "stdout",
     "output_type": "stream",
     "text": [
      "Q = 0.166 m^3/s\n"
     ]
    }
   ],
   "source": [
    "Q = W * math.pi/4 * d**2\n",
    "\n",
    "print('Q = %s m^3/s'%round(Q,3))"
   ]
  },
  {
   "cell_type": "code",
   "execution_count": 18,
   "metadata": {},
   "outputs": [],
   "source": [
    "%reset -s -f"
   ]
  },
  {
   "cell_type": "markdown",
   "metadata": {},
   "source": [
    "# Ejercicio 5\n",
    "Un tanque cilíndrico contiene aire, aceite y agua. En el aceite se mantiene una presión manométrica P = 5 lb/pulg² ¿Cuál es la velocidad y el caudal del agua que sale si se ignoran la fricción y la energía cinética del fluido por encima de la elevación A? El chorro de agua que sale tiene un diámetro de 1 pie.\n",
    "\n",
    "![tp4e5.png](img/tp4e5.png)\n",
    "$\\begin{array}{l}\n",
    "\\mbox{Aceite} \\\\\n",
    "Dr = 0,8\n",
    "\\end{array}$"
   ]
  },
  {
   "cell_type": "markdown",
   "metadata": {},
   "source": [
    "## Solución\n",
    "$\\begin{array}{l}\n",
    "\\mathrm{1 \\, ft = 0,3048 \\, m} \\\\\n",
    "\\mathrm{1 \\, lb/in^2 = 703,07 \\, kgf/m^2 }\n",
    "\\end{array}$"
   ]
  },
  {
   "cell_type": "markdown",
   "metadata": {},
   "source": [
    "Planteando Beronoulli entre 1 y 2\n",
    "\n",
    "$$ \\frac{P_1}{\\gamma} + \\frac{W^2_1}{2g} + z_1 = \\frac{P_2}{\\gamma} + \\frac{W^2_2}{2g} + z_2 \\tag{1} $$"
   ]
  },
  {
   "cell_type": "markdown",
   "metadata": {},
   "source": [
    "Como $P_2 = P_{atm}$, trabajando con presiones relativas se tiene \n",
    "\n",
    "$$ P_2 = 0 \\tag{2} $$"
   ]
  },
  {
   "cell_type": "markdown",
   "metadata": {},
   "source": [
    "$$ P_1 = P_{aire} + \\gamma_{aceite} \\, h_{aceite} \\tag{3} $$"
   ]
  },
  {
   "cell_type": "code",
   "execution_count": 19,
   "metadata": {},
   "outputs": [
    {
     "name": "stdout",
     "output_type": "stream",
     "text": [
      "P_1 = 4246.87 kgf/m^2\n"
     ]
    }
   ],
   "source": [
    "P_aire = 5 * 703.07 # kgf/m^2\n",
    "h_aceite = 3 * 0.3048 # m\n",
    "gamma_aceite = 800 # kgf//m^3\n",
    "\n",
    "P_1 = P_aire + gamma_aceite * h_aceite\n",
    "\n",
    "print('P_1 = %s kgf/m^2'%round(P_1,2))"
   ]
  },
  {
   "cell_type": "markdown",
   "metadata": {},
   "source": [
    "$$ \\frac{P_1}{\\gamma_{agua}} + h_{agua} = \\frac{W^2_2}{2g} $$"
   ]
  },
  {
   "cell_type": "markdown",
   "metadata": {},
   "source": [
    "$$ W_2 = \\sqrt{ 2g \\left( \\frac{P_1}{\\gamma_{agua}} + h_{agua} \\right) } $$"
   ]
  },
  {
   "cell_type": "code",
   "execution_count": 20,
   "metadata": {},
   "outputs": [],
   "source": [
    "import math"
   ]
  },
  {
   "cell_type": "code",
   "execution_count": 21,
   "metadata": {},
   "outputs": [
    {
     "name": "stdout",
     "output_type": "stream",
     "text": [
      "W_2 = 11.96 m/s\n"
     ]
    }
   ],
   "source": [
    "gamma_agua = 1000 # kgf/m^3\n",
    "h_agua = 10 * 0.3048 # m\n",
    "g = 9.81 # m/s^2\n",
    "\n",
    "W_2 = math.sqrt( 2*g * ( P_1/gamma_agua + h_agua ) )\n",
    "\n",
    "print('W_2 = %s m/s'%round(W_2,2))"
   ]
  },
  {
   "cell_type": "markdown",
   "metadata": {},
   "source": [
    "$$ Q = W_2 \\pi \\frac{d^2}{4} $$"
   ]
  },
  {
   "cell_type": "code",
   "execution_count": 22,
   "metadata": {},
   "outputs": [
    {
     "name": "stdout",
     "output_type": "stream",
     "text": [
      "Q = 0.873 m^3/s\n"
     ]
    }
   ],
   "source": [
    "d = 0.3048 # m\n",
    "\n",
    "Q = W_2 * math.pi * d**2/4\n",
    "\n",
    "print('Q = %s m^3/s'%round(Q,3))"
   ]
  },
  {
   "cell_type": "code",
   "execution_count": 23,
   "metadata": {},
   "outputs": [],
   "source": [
    "%reset -s -f"
   ]
  },
  {
   "cell_type": "markdown",
   "metadata": {},
   "source": [
    "# Ejercicio 6\n",
    "Un depósito que contiene agua, densidad d=1kg/L, está herméticamente cerrado teniendo en la cámara interior una presión de 3 atm. Determinar la velocidad de salida del agua por un grifo situado a 6 m por debajo del nivel del agua."
   ]
  },
  {
   "cell_type": "markdown",
   "metadata": {},
   "source": [
    "## Solución\n",
    "$\\mathrm{1 \\, atm = 10332,3 \\, kgf/m^2}$"
   ]
  },
  {
   "cell_type": "markdown",
   "metadata": {},
   "source": [
    "Desprecindo la pérdida de carga y aplicando Bernoulli entre la superficie del líquido en el depósito y el grifo y considerando $W_d \\approx 0$"
   ]
  },
  {
   "cell_type": "markdown",
   "metadata": {},
   "source": [
    "$$ \\frac{P_d}{\\gamma} + \\overbrace{ \\frac{W^2_d}{2g} }^{= \\, 0} + z_d = \\overbrace{ \\frac{Pg}{\\gamma} }^{= \\, 0} + \\frac{W^2_g}{2g} + \\overbrace{ z_g }^{= \\, 0} $$"
   ]
  },
  {
   "cell_type": "markdown",
   "metadata": {},
   "source": [
    "$$ W_g = \\sqrt{ \\left( \\frac{P_d}{\\gamma} + z_d  \\right) 2g } $$"
   ]
  },
  {
   "cell_type": "code",
   "execution_count": 24,
   "metadata": {},
   "outputs": [],
   "source": [
    "import math"
   ]
  },
  {
   "cell_type": "code",
   "execution_count": 25,
   "metadata": {},
   "outputs": [
    {
     "name": "stdout",
     "output_type": "stream",
     "text": [
      "W_g = 26.94 m/s\n"
     ]
    }
   ],
   "source": [
    "P_d = 3 * 10332.3 # kgf/m^2\n",
    "gamma = 1000 # kgf/m^3\n",
    "z_d = 6 # m\n",
    "g = 9.81 # m/s^2\n",
    "\n",
    "W_g = math.sqrt( (P_d/gamma + z_d)*2*g )\n",
    "\n",
    "print('W_g = %s m/s'%round(W_g,2))"
   ]
  },
  {
   "cell_type": "code",
   "execution_count": 26,
   "metadata": {},
   "outputs": [],
   "source": [
    "%reset -s -f"
   ]
  },
  {
   "cell_type": "markdown",
   "metadata": {},
   "source": [
    "# Ejercicio 7\n",
    "Con el fin de mover una bomba centrífuga de agua se consumen 50 caballos de fuerza. La presión manométrica del agua es 2 es 30 lb/in², y en 1, donde entra el agua, es de 10 lb/in² ¿Cuánta agua se está bombeando?\n",
    "\n",
    "![tp4e7.png](img/tp4e7.png)"
   ]
  },
  {
   "cell_type": "markdown",
   "metadata": {},
   "source": [
    "## Solución\n",
    "$\\begin{array}{l}\n",
    "\\mathrm{1 \\, hp = 745,7 \\, N \\, m/s \\quad (kg \\, m^2/s^3)} \\\\\n",
    "\\mathrm{1 \\, lbf/in^2 = 6895 \\, N/m^2 \\quad (kg/ms^2)}\n",
    "\\end{array}$"
   ]
  },
  {
   "cell_type": "markdown",
   "metadata": {},
   "source": [
    "Planteamos la ecuación de la energía suponiendo que no hay pérdidas\n",
    "\n",
    "$$ \\dot{L}_{Bomba} + \\dot{m}_{ent} \\left( \\frac{P_1}{\\rho} + \\frac{W^2_1}{2} + g z_1  \\right) = \\dot{m}_{sal} \\left( \\frac{P_2}{\\rho} + \\frac{W^2_2}{2} + g z_2 \\right) \\tag{1} $$"
   ]
  },
  {
   "cell_type": "markdown",
   "metadata": {},
   "source": [
    "Considerando flujo permanente, por continuidad se tiene\n",
    "\n",
    "$$ \\dot{m}_{ent} - \\dot{m}_{sal} =  \\frac{dm_{vc}}{dt} =  0 $$"
   ]
  },
  {
   "cell_type": "markdown",
   "metadata": {},
   "source": [
    "$$ \\dot{m}_{ent} = \\dot{m}_{sal} $$"
   ]
  },
  {
   "cell_type": "markdown",
   "metadata": {},
   "source": [
    "$\\rho = \\mathrm{cte}$\n",
    "$$ \\rho_1 W_1 A_1 = \\rho_2 W_2 A_2 $$"
   ]
  },
  {
   "cell_type": "markdown",
   "metadata": {},
   "source": [
    "$$ W_1 A_1 = W_2 A_2 $$"
   ]
  },
  {
   "cell_type": "markdown",
   "metadata": {},
   "source": [
    "Como \n",
    "$$D_1 = D_2 \\; \\Rightarrow \\; A_1 = A_2 \\; \\therefore \\; W_1 = W_2 \\tag{2}$$"
   ]
  },
  {
   "cell_type": "markdown",
   "metadata": {},
   "source": [
    "Reemplazando (2) en (1)\n",
    "$$ \\dot{L}_{Bomba} = \\dot{m} \\left( \\frac{P_2 - P_1}{\\rho} + g(z_2 - z_1)  \\right) $$"
   ]
  },
  {
   "cell_type": "markdown",
   "metadata": {},
   "source": [
    "Entonces\n",
    "$$ \\dot{m} = \\frac{ \\dot{L}_{Bomba} }{ \\frac{P_2 - P_1}{\\rho} + g(z_2 - z_1) } $$"
   ]
  },
  {
   "cell_type": "code",
   "execution_count": 27,
   "metadata": {},
   "outputs": [
    {
     "name": "stdout",
     "output_type": "stream",
     "text": [
      "m = 259.14 kg/s\n"
     ]
    }
   ],
   "source": [
    "L_bomba = 50 * 745.7 # kg·m^2/s^3\n",
    "P_2 = 30 * 6895 # kg/ms^2\n",
    "P_1 = 10 * 6895 # kg/ms^2\n",
    "rho = 1000 # kg/m^3\n",
    "g = 9.81 # m/s^2\n",
    "z_2 = 2 * 0.3048 # m\n",
    "z_1 = 0\n",
    "\n",
    "m = L_bomba/( (P_2 - P_1)/rho + g*(z_2 - z_1) )\n",
    "\n",
    "print('m = %s kg/s'%round(m,2))"
   ]
  },
  {
   "cell_type": "markdown",
   "metadata": {},
   "source": [
    "$$ \\dot{Q} = \\frac{\\dot{m}}{\\rho} $$"
   ]
  },
  {
   "cell_type": "code",
   "execution_count": 28,
   "metadata": {},
   "outputs": [
    {
     "name": "stdout",
     "output_type": "stream",
     "text": [
      "Q = 0.2591 m^3/s\n"
     ]
    }
   ],
   "source": [
    "Q = m/rho\n",
    "\n",
    "print('Q = %s m^3/s'%round(Q,4))"
   ]
  },
  {
   "cell_type": "markdown",
   "metadata": {},
   "source": [
    "De manera análoga\n",
    "$$ \\frac{P_1}{\\gamma} + \\overbrace{ \\frac{W^2_1}{2g} }^{\\nearrow \\, 0} + \\underbrace{ z_1 }_{\\searrow \\, 0} + H_B =  \\frac{P_2}{\\gamma}  + \\overbrace{ \\frac{W^2_2}{2g} }^{\\nearrow \\, 0} + z_2 $$"
   ]
  },
  {
   "cell_type": "markdown",
   "metadata": {},
   "source": [
    "$$ H_B = \\frac{P_2 - P_1}{\\gamma} + z_2 $$"
   ]
  },
  {
   "cell_type": "code",
   "execution_count": 29,
   "metadata": {},
   "outputs": [
    {
     "name": "stdout",
     "output_type": "stream",
     "text": [
      "H_B = 14.6667 m\n"
     ]
    }
   ],
   "source": [
    "gamma = 1000*g # kgf/m^3\n",
    "\n",
    "H_B = (P_2 - P_1)/gamma + z_2\n",
    "    \n",
    "print('H_B = %s m'%round(H_B,4))"
   ]
  },
  {
   "cell_type": "code",
   "execution_count": 30,
   "metadata": {},
   "outputs": [],
   "source": [
    "%reset -s -f"
   ]
  },
  {
   "cell_type": "markdown",
   "metadata": {},
   "source": [
    "# Ejercicio 8\n",
    "Un depósito de agua está cerrado por encima con una placa deslizante de 12m² y 1200kg de peso. El nivel del agua en el depósito es de 3,5m de altura. Calcular la presión en el fondo. Si se abre un orificio circular de 5cm de radio a medio metro por encima del fondo, calcúlese el volumen de agua que sale por segundo por este orificio (se considera que el área del orificio es muy pequeña frente al área del depósito).\n",
    "\n",
    "![tp4e8.png](img/tp4e8.png)"
   ]
  },
  {
   "cell_type": "markdown",
   "metadata": {},
   "source": [
    "## Solución\n",
    "$$ P_1 = \\frac{F}{A} $$"
   ]
  },
  {
   "cell_type": "markdown",
   "metadata": {},
   "source": [
    "$$ P_f = P_1 + \\gamma_{agua} \\, (3,5 \\, \\mathrm{m}) $$"
   ]
  },
  {
   "cell_type": "code",
   "execution_count": 31,
   "metadata": {},
   "outputs": [
    {
     "name": "stdout",
     "output_type": "stream",
     "text": [
      "P_1 = 100.0 kgf/m^2\n",
      "P_f = 3600.0 kgf/m^2\n"
     ]
    }
   ],
   "source": [
    "F = 1200 # kgf\n",
    "A = 12 # m^2\n",
    "gamma = 1000 # kgf/m^3\n",
    "h = 3.5 # m\n",
    "\n",
    "P_1 = F/A\n",
    "P_f = P_1 + gamma*h\n",
    "\n",
    "print('P_1 = %s kgf/m^2'%round(P_1,2))\n",
    "print('P_f = %s kgf/m^2'%round(P_f,2))"
   ]
  },
  {
   "cell_type": "markdown",
   "metadata": {},
   "source": [
    "Si $D_d \\ggg D_o \\; \\Rightarrow \\;$ considero un tirante $\\Rightarrow \\; W_1 \\cong 0$ y considero régimen permanente sin pérdidas por fricción.\n",
    "\n",
    "$$ \\frac{P_1}{\\gamma} + \\frac{W^2_1}{2g} + z_1 = \\frac{P_2}{\\gamma} + \\frac{W^2_2}{2g} + z_2 $$"
   ]
  },
  {
   "cell_type": "markdown",
   "metadata": {},
   "source": [
    "$$ W_2 = \\sqrt{ \\left( \\frac{P_1}{\\gamma} + z_1 \\right) 2g } $$"
   ]
  },
  {
   "cell_type": "code",
   "execution_count": 32,
   "metadata": {},
   "outputs": [],
   "source": [
    "import math"
   ]
  },
  {
   "cell_type": "code",
   "execution_count": 33,
   "metadata": {},
   "outputs": [
    {
     "name": "stdout",
     "output_type": "stream",
     "text": [
      "W_2 = 7.8 m/s\n"
     ]
    }
   ],
   "source": [
    "g = 9.81 # m/s^2\n",
    "z_1 = 3 # m\n",
    "\n",
    "W_2 = math.sqrt( (P_1/gamma + z_1)*2*g )\n",
    "\n",
    "print('W_2 = %s m/s'%round(W_2,2))"
   ]
  },
  {
   "cell_type": "markdown",
   "metadata": {},
   "source": [
    "$$ \\dot{Q} = W_2 \\, A_2 $$"
   ]
  },
  {
   "cell_type": "code",
   "execution_count": 34,
   "metadata": {},
   "outputs": [
    {
     "name": "stdout",
     "output_type": "stream",
     "text": [
      "Q = 0.0613 m^3/s\n"
     ]
    }
   ],
   "source": [
    "r_o = 5e-2 # m\n",
    "A_2 = math.pi * r_o**2\n",
    "\n",
    "Q = W_2*A_2\n",
    "\n",
    "print('Q = %s m^3/s'%round(Q,4))"
   ]
  },
  {
   "cell_type": "code",
   "execution_count": 35,
   "metadata": {},
   "outputs": [],
   "source": [
    "%reset -s -f"
   ]
  },
  {
   "cell_type": "markdown",
   "metadata": {},
   "source": [
    "# Ejercicio 9\n",
    "Ignorando la fricción en la tubería, calcule la potencia desarrollada en la turbina por el agua que sale desde un embalse grande.\n",
    "\n",
    "![tp4e9.png](img/tp4e9.png)"
   ]
  },
  {
   "cell_type": "markdown",
   "metadata": {},
   "source": [
    "## Solución\n",
    "Planteando la ecuación de energía entre 1 y 2 y considerando $W_1 \\cong 0$ y $P_{r1} = P_{r2} = 0$"
   ]
  },
  {
   "cell_type": "markdown",
   "metadata": {},
   "source": [
    "$$ \\frac{P_1}{\\gamma} + \\frac{W^2_1}{2g} + z_1 = \\frac{P_2}{\\gamma} + \\frac{W^2_2}{2g} + z_2 + H_T $$"
   ]
  },
  {
   "cell_type": "markdown",
   "metadata": {},
   "source": [
    "$$ H_T = z_1 - \\frac{W^2_2}{2g} $$"
   ]
  },
  {
   "cell_type": "markdown",
   "metadata": {},
   "source": [
    "$$ N_T = \\gamma_{agua} \\, Q \\, H_T $$"
   ]
  },
  {
   "cell_type": "code",
   "execution_count": 36,
   "metadata": {},
   "outputs": [],
   "source": [
    "import math"
   ]
  },
  {
   "cell_type": "code",
   "execution_count": 37,
   "metadata": {},
   "outputs": [
    {
     "name": "stdout",
     "output_type": "stream",
     "text": [
      "H_T = 28.726 m\n",
      "Q = 0.088 m^3/s\n",
      "N_T = 2538.13 kgf·m/s\n"
     ]
    }
   ],
   "source": [
    "z_1 = 30 # m\n",
    "W_2 = 5 # m/s\n",
    "g = 9.81 # m/s^2\n",
    "gamma_agua = 1000 # kgf/m^3\n",
    "d = 150e-3 # m\n",
    "\n",
    "H_T = z_1 - (W_2**2)/(2*g)\n",
    "Q = W_2 * math.pi/4 * d**2\n",
    "N_T = gamma_agua*Q*H_T\n",
    "\n",
    "print('H_T = %s m'%round(H_T,3))\n",
    "print('Q = %s m^3/s'%round(Q,3))\n",
    "print('N_T = %s kgf·m/s'%round(N_T,2))"
   ]
  },
  {
   "cell_type": "code",
   "execution_count": 38,
   "metadata": {},
   "outputs": [],
   "source": [
    "%reset -s -f"
   ]
  },
  {
   "cell_type": "markdown",
   "metadata": {},
   "source": [
    "# Ejercicio 10\n",
    "Un aceite de densidad relativa 0,761. Fluye desde el depósito A al E. Las distintas pérdidas de carga vienen dadas de la siguiente manera:\n",
    "* De A a B  $\\displaystyle = 0,6 \\frac{W^2_{30}}{2g}$\n",
    "* De B a C  $\\displaystyle = 9 \\frac{W^2_{30}}{2g}$\n",
    "* De C a D  $\\displaystyle = 0,4 \\frac{W^2_{15}}{2g} $\n",
    "* De D a E  $\\displaystyle = 9 \\frac{W^2_{15}}{2g} $\n",
    "\n",
    "![tp4e10.png](img/tp4e10.png)\n",
    "\n",
    "__a)__ Determinar el caudal que circula por la instalación.     \n",
    "__b)__ La presión en C.     \n",
    "__c)__ La potencia en C, en CV tomando como plano de referencia el que pasa por E.    "
   ]
  },
  {
   "cell_type": "markdown",
   "metadata": {},
   "source": [
    "## Solución\n",
    "a) Aplicando la ecuación de la energía entre A y B y considerando $W_A = W_E \\cong 0$ tomando como plano de referencia el que pasa por E"
   ]
  },
  {
   "cell_type": "markdown",
   "metadata": {},
   "source": [
    "$$ \\overbrace{ \\frac{P_A}{\\gamma} }^{= \\, 0}  + \\overbrace{ \\frac{W^2_A}{2g} }^{= \\, 0} + z_A = \\overbrace{ \\frac{P_E}{\\gamma} }^{= \\, 0} + \\overbrace{ \\frac{W^2_E}{2g} }^{= \\, 0} + \\overbrace{ z_E }^{= \\, 0} + 9,6 \\frac{W^2_{30}}{2g} + 9,4 \\frac{W^2_{15}}{2g} $$"
   ]
  },
  {
   "cell_type": "markdown",
   "metadata": {},
   "source": [
    "$$ z_A = 9,6 \\frac{W^2_{30}}{2g} + 9,4 \\frac{W^2_{15}}{2g} \\tag{1} $$"
   ]
  },
  {
   "cell_type": "markdown",
   "metadata": {},
   "source": [
    "Planteando la ecuación de continuidad (considerando flujo permanente)\n",
    "\n",
    "$$ W_{30} A_{30} = W_{15} A_{15} $$"
   ]
  },
  {
   "cell_type": "markdown",
   "metadata": {},
   "source": [
    "Entonces:\n",
    "\n",
    "$$ W_{15} = W_{30} \\frac{A_{30}}{A_{15}} = W_{30} \\frac{D^2_{30}}{D^2_{15}} $$"
   ]
  },
  {
   "cell_type": "markdown",
   "metadata": {},
   "source": [
    "$$ W_{15} = W_{30} \\left( \\frac{30 \\, \\mathrm{cm}}{15 \\, \\mathrm{cm}} \\right)^2 $$"
   ]
  },
  {
   "cell_type": "markdown",
   "metadata": {},
   "source": [
    "$$ W_{15} = 4 W_{30} \\tag{2} $$"
   ]
  },
  {
   "cell_type": "markdown",
   "metadata": {},
   "source": [
    "Reemplazando [2] en [1] resulta\n",
    "\n",
    "$$ z_A = 9,6 \\frac{W^2_{30}}{2g} + 9,4 \\frac{(4W_{30})^2}{2g} $$\n",
    "\n",
    "Despejando $W_{30}$\n",
    "\n",
    "$$ W_{30} = \\sqrt{ \\frac{z_A 2 g}{160} } $$"
   ]
  },
  {
   "cell_type": "code",
   "execution_count": 39,
   "metadata": {},
   "outputs": [],
   "source": [
    "import math"
   ]
  },
  {
   "cell_type": "code",
   "execution_count": 40,
   "metadata": {},
   "outputs": [
    {
     "name": "stdout",
     "output_type": "stream",
     "text": [
      "W_30 = 1.213 m/s\n"
     ]
    }
   ],
   "source": [
    "z_A = 12 # m\n",
    "g = 9.81 # m/s^2\n",
    "\n",
    "W_30 = math.sqrt( z_A*2*g/160 )\n",
    "\n",
    "print('W_30 = %s m/s'%round(W_30,3))"
   ]
  },
  {
   "cell_type": "markdown",
   "metadata": {},
   "source": [
    "$$ \\dot{Q} = W_{30} A_{30} $$"
   ]
  },
  {
   "cell_type": "code",
   "execution_count": 41,
   "metadata": {},
   "outputs": [
    {
     "name": "stdout",
     "output_type": "stream",
     "text": [
      "Q = 0.0857 m^3/s\n"
     ]
    }
   ],
   "source": [
    "d_30 = 0.3 # m\n",
    "A_30 = math.pi/4 * (d_30)**2\n",
    "\n",
    "Q = W_30*A_30\n",
    "\n",
    "print('Q = %s m^3/s'%round(Q,4))"
   ]
  },
  {
   "cell_type": "markdown",
   "metadata": {},
   "source": [
    "b) Aplicando la ecuación de energía entre A y C (plano de referencia el que pasa por A)\n",
    "\n",
    "$$ \\overbrace{ \\frac{P_A}{\\gamma} }^{= \\, 0} + \\overbrace{ \\frac{W^2_A}{2g} }^{= \\, 0} + \\overbrace{ z_A }^{= \\, 0} = \\frac{P_C}{\\gamma} + \\frac{W^2_C}{2g} + z_C + 9,6 \\frac{W^2_{30}}{2g} $$"
   ]
  },
  {
   "cell_type": "markdown",
   "metadata": {},
   "source": [
    "$W_c = W_{30}$"
   ]
  },
  {
   "cell_type": "markdown",
   "metadata": {},
   "source": [
    "$$ P_C = - \\gamma \\left( z_C + 10,6 \\frac{W^2_{30}}{2g} \\right) $$"
   ]
  },
  {
   "cell_type": "code",
   "execution_count": 42,
   "metadata": {},
   "outputs": [
    {
     "name": "stdout",
     "output_type": "stream",
     "text": [
      "|P_C| = 1061.6 kgf/m^2\n"
     ]
    }
   ],
   "source": [
    "g = 9.81 # m/s^2\n",
    "gamma = 761 # kgf/m^3\n",
    "z_C = 0.6 # m\n",
    "\n",
    "P_C = gamma* ( z_C + 10.6*(W_30**2)/(2*g) )\n",
    "\n",
    "print('|P_C| = %s kgf/m^2'%round(P_C,2))"
   ]
  },
  {
   "cell_type": "markdown",
   "metadata": {},
   "source": [
    "c) \n",
    "\n",
    "$$ H_C = - \\frac{P_c}{\\gamma} + \\frac{W^2_c}{2g} + z_C + z_A $$"
   ]
  },
  {
   "cell_type": "code",
   "execution_count": 43,
   "metadata": {},
   "outputs": [
    {
     "name": "stdout",
     "output_type": "stream",
     "text": [
      "H_C = 11.28 m\n"
     ]
    }
   ],
   "source": [
    "z_A = 12\n",
    "\n",
    "H_C = -P_C/gamma + W_30**2/(2*g) + z_C + z_A\n",
    "\n",
    "print('H_C = %s m'%round(H_C,2))"
   ]
  },
  {
   "cell_type": "markdown",
   "metadata": {},
   "source": [
    "$$ N_C = \\gamma \\, \\dot{Q} \\, H_C $$\n",
    "\n",
    "$\\mathrm{1 \\, cv = 75 \\, kgf·m}$"
   ]
  },
  {
   "cell_type": "code",
   "execution_count": 44,
   "metadata": {},
   "outputs": [
    {
     "name": "stdout",
     "output_type": "stream",
     "text": [
      "N_C = 736.05 kgf·m/s\n",
      "N_C = 9.81 cv\n"
     ]
    }
   ],
   "source": [
    "N_C = gamma * Q * H_C\n",
    "\n",
    "print('N_C = %s kgf·m/s'%round(N_C,2))\n",
    "print('N_C = %s cv'%round(N_C*1/75,2))"
   ]
  },
  {
   "cell_type": "code",
   "execution_count": 45,
   "metadata": {},
   "outputs": [],
   "source": [
    "%reset -s -f"
   ]
  },
  {
   "cell_type": "markdown",
   "metadata": {},
   "source": [
    "# Ejercicio 11\n",
    "Dos depósitos abiertos muy grandes A y F, contienen el mismo líquido. Un tubo horizontal BCD que tiene un estrechamiento en C, descarga agua del fondo del depósito A, y un tubo vertical E se abre en C en el estrechamiento y se introduce en el líquido del depósito F. Si la sección transversal en C es la mitad que en D, y si D se encuentra a una distancia $h_2$ por debajo del nivel del líquido en A. ¿A qué altura $h_1$ alcanzará el líquido en el tubo E? Expresar la respuesta en función de $h_2$.\n",
    "\n",
    "![tp4e11.png](img/tp4e11.png)"
   ]
  },
  {
   "cell_type": "markdown",
   "metadata": {},
   "source": [
    "## Solución\n",
    "Como los depósitos son muy grandes, puedo suponer régimen permanente, en base a esta suposición y despreciando pérdidas de carga por fricción, aplicando la ecuación de Bernoulli entre 1 y 2 se tiene:\n",
    "\n",
    "$$ \\frac{P_1}{\\gamma} + \\frac{W^2_1}{2g} + z_1 = \\frac{P_2}{\\gamma} + \\frac{W^2_2}{2g} + z_2 $$"
   ]
  },
  {
   "cell_type": "markdown",
   "metadata": {},
   "source": [
    "Entonces\n",
    "$$ \\frac{W^2_1}{2g} = \\frac{P_2}{\\gamma} + \\frac{W^2_2}{2g} \\tag{1} $$"
   ]
  },
  {
   "cell_type": "markdown",
   "metadata": {},
   "source": [
    "Por continuidad se tiene que\n",
    "\n",
    "$$ Q = W_1 A_1 = W_2 A_2 \\qquad \\mbox{como} \\qquad A_2 = \\frac{1}{2} A_1 $$"
   ]
  },
  {
   "cell_type": "markdown",
   "metadata": {},
   "source": [
    "$$ W_2 \\frac{A_1}{2} = W_1 A_1 $$"
   ]
  },
  {
   "cell_type": "markdown",
   "metadata": {},
   "source": [
    "$$ W_2 = 2 W_1 \\tag{2} $$"
   ]
  },
  {
   "cell_type": "markdown",
   "metadata": {},
   "source": [
    "reemplazando (2) en (1) se tiene\n",
    "\n",
    "$$ \\frac{W^2_1}{2g} = \\frac{P_2}{\\gamma} + \\frac{(2W_1)^2}{2g} $$"
   ]
  },
  {
   "cell_type": "markdown",
   "metadata": {},
   "source": [
    "$$ \\frac{P_2}{\\gamma} = \\frac{-3W^2_1}{2g} \\tag{3} $$"
   ]
  },
  {
   "cell_type": "markdown",
   "metadata": {},
   "source": [
    "Por hidrostática\n",
    "\n",
    "$$ P_{atm} - \\gamma h_1 = P_{atm} + P_2 $$"
   ]
  },
  {
   "cell_type": "markdown",
   "metadata": {},
   "source": [
    "Entonces\n",
    "$$ \\frac{P_2}{\\gamma} = - h_1 \\tag{4} $$"
   ]
  },
  {
   "cell_type": "markdown",
   "metadata": {},
   "source": [
    "Aplicando Bernoulli entre 1 y 3 $(W_3 \\cong 0)$\n",
    "\n",
    "$$ \\frac{P_1}{\\gamma} + \\frac{W^2_1}{2g} + z_1 = \\frac{P_3}{\\gamma} + \\frac{W^2_3}{2g} + z_3 $$"
   ]
  },
  {
   "cell_type": "markdown",
   "metadata": {},
   "source": [
    "Entonces\n",
    "$$ W^2_1 = 2g  h_2 \\tag{5} $$"
   ]
  },
  {
   "cell_type": "markdown",
   "metadata": {},
   "source": [
    "Reemplazando (5) y (4) en (3) se tiene\n",
    "\n",
    "$$ -h_1 = \\frac{-3(2gh_2)}{2g} $$"
   ]
  },
  {
   "cell_type": "markdown",
   "metadata": {},
   "source": [
    "$$ h_1 = 3 h_2 $$"
   ]
  },
  {
   "cell_type": "markdown",
   "metadata": {},
   "source": [
    "# Ejercicio 12\n",
    "Del depósito A de la figura sale agua continuamente pasando a través del depósito cilíndrico B por el orificio C. El nivel de agua en A se supone constante, a una altura en 12 m sobre el suelo. La altura del orificio C es de 1,2 m. El radio del depósito cilíndrico B es de 10 cm y el del orificio C, 4 cm.\n",
    "\n",
    "__Calcular:__\n",
    "1. La velocidad del agua que sale por el orificio C.\n",
    "2. La presión del agua en el punto P del depósito B.\n",
    "3. La altura h del agua en el manómetro abierto vertical.\n",
    "\n",
    "__Dato:__ la presión atmosférica es 101293 Pa\n",
    "\n",
    "![tp4e12.png](img/tp4e12.png)"
   ]
  },
  {
   "cell_type": "markdown",
   "metadata": {},
   "source": [
    "## Solución\n",
    "__1)__  Despresiando las posibles pérdidas de carga por fricción y como el nivel de agua en A se supone constante, podemos considerar flujo permanente y $W_A \\cong 0$. Aplicando la ecuación de Bernoulli entre A y C se tiene\n",
    "\n",
    "$$ \\frac{P_A}{\\gamma} + \\frac{W^2_A}{2g} + z_A = \\frac{P_C}{\\gamma} + \\frac{W^2_C}{2g} + z_C $$"
   ]
  },
  {
   "cell_type": "markdown",
   "metadata": {},
   "source": [
    "Entonces\n",
    "$$ W_C = \\sqrt{ (z_A - z_C) \\, 2g } $$"
   ]
  },
  {
   "cell_type": "code",
   "execution_count": 46,
   "metadata": {},
   "outputs": [],
   "source": [
    "import math"
   ]
  },
  {
   "cell_type": "code",
   "execution_count": 47,
   "metadata": {},
   "outputs": [
    {
     "name": "stdout",
     "output_type": "stream",
     "text": [
      "W_C = 14.56 m/s\n"
     ]
    }
   ],
   "source": [
    "z_A = 12 # m\n",
    "z_C = 1.2 # m\n",
    "g = 9.81 # m\n",
    "\n",
    "W_C = math.sqrt( (z_A - z_C)*2*g )\n",
    "\n",
    "print('W_C = %s m/s'%round(W_C,2))"
   ]
  },
  {
   "cell_type": "markdown",
   "metadata": {},
   "source": [
    "__2)__ Aplicando la ecuación de continuidad\n",
    "\n",
    "$$ Q = W_P A_P = W_C A_C $$"
   ]
  },
  {
   "cell_type": "markdown",
   "metadata": {},
   "source": [
    "Entonces\n",
    "$$ W_P = W_C \\frac{A_C}{A_P} $$"
   ]
  },
  {
   "cell_type": "code",
   "execution_count": 48,
   "metadata": {},
   "outputs": [
    {
     "name": "stdout",
     "output_type": "stream",
     "text": [
      "W_P = 2.33 m\n"
     ]
    }
   ],
   "source": [
    "# Datos\n",
    "r_C = 0.04 # m\n",
    "r_B = 0.1 # m\n",
    "\n",
    "# Área C\n",
    "A_C = math.pi*r_C**2\n",
    "# Área P\n",
    "A_P = math.pi*r_B**2\n",
    "# Velocidad en P\n",
    "W_P = W_C*(A_C/A_P)\n",
    "\n",
    "print('W_P = %s m'%round(W_P,2))"
   ]
  },
  {
   "cell_type": "markdown",
   "metadata": {},
   "source": [
    "Aplicando la ecuación de Bernoulli entre P y C se tiene\n",
    "\n",
    "$$ \\frac{P_P}{\\gamma} + \\frac{W^2_P}{2g} + z_P = \\frac{P_C}{\\gamma} + \\frac{W^2_C}{2g} + z_C $$"
   ]
  },
  {
   "cell_type": "markdown",
   "metadata": {},
   "source": [
    "$$ P_P = \\left( \\frac{W^2_C - W^2_P}{2g} \\right) \\gamma $$"
   ]
  },
  {
   "cell_type": "code",
   "execution_count": 49,
   "metadata": {},
   "outputs": [
    {
     "name": "stdout",
     "output_type": "stream",
     "text": [
      "P_P = 10523.52 kgf/m^3\n",
      "P_P = 103235.731 Pa\n"
     ]
    }
   ],
   "source": [
    "gamma = 1000 # kgf/m^3\n",
    "\n",
    "P_P = ( (W_C**2 - W_P**2)/(2*g) )*gamma\n",
    "\n",
    "print('P_P = %s kgf/m^3'%round(P_P,3))\n",
    "print('P_P = %s Pa'%round(P_P*g,3))"
   ]
  },
  {
   "cell_type": "markdown",
   "metadata": {},
   "source": [
    "__3)__ \n",
    "$$ h = \\frac{P_P}{\\gamma} $$"
   ]
  },
  {
   "cell_type": "code",
   "execution_count": 50,
   "metadata": {},
   "outputs": [
    {
     "name": "stdout",
     "output_type": "stream",
     "text": [
      "h = 10.52 m\n"
     ]
    }
   ],
   "source": [
    "h = P_P/gamma\n",
    "\n",
    "print('h = %s m'%round(h,2))"
   ]
  },
  {
   "cell_type": "code",
   "execution_count": 51,
   "metadata": {},
   "outputs": [],
   "source": [
    "%reset -s -f"
   ]
  },
  {
   "cell_type": "markdown",
   "metadata": {},
   "source": [
    "[<- Previous](https://nbviewer.jupyter.org/github/daniel-lorenzo/Mecanica_de_fluidos/blob/master/TP_03.ipynb) - \n",
    "[Index](https://github.com/daniel-lorenzo/Mecanica_de_fluidos/blob/master/Readme.md)"
   ]
  }
 ],
 "metadata": {
  "kernelspec": {
   "display_name": "Python 3",
   "language": "python",
   "name": "python3"
  },
  "language_info": {
   "codemirror_mode": {
    "name": "ipython",
    "version": 3
   },
   "file_extension": ".py",
   "mimetype": "text/x-python",
   "name": "python",
   "nbconvert_exporter": "python",
   "pygments_lexer": "ipython3",
   "version": "3.7.3"
  }
 },
 "nbformat": 4,
 "nbformat_minor": 2
}
