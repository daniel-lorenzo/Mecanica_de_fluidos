{
 "cells": [
  {
   "cell_type": "markdown",
   "metadata": {},
   "source": [
    "## Ejercicio 1\n",
    "Determinar el diámetro del pistón.\n",
    "<center>\n",
    "<img src=\"img/ej_clase01.svg\" alt=\"ej_clase01.svg\" width=\"60%\" height=\"60%\">\n",
    "</center>    "
   ]
  },
  {
   "cell_type": "markdown",
   "metadata": {},
   "source": [
    "### Solución"
   ]
  },
  {
   "cell_type": "code",
   "execution_count": 1,
   "metadata": {},
   "outputs": [],
   "source": [
    "# Datos:\n",
    "k = 300 # [N/cm]\n",
    "Dx = 2  # [cm]\n",
    "mu = 0.15\n",
    "g = 9.81 # [m/s^2]\n",
    "Peso = 2000*g # [N]"
   ]
  },
  {
   "cell_type": "markdown",
   "metadata": {},
   "source": [
    "Ley de Hooke:\n",
    "$$ F = k \\Delta x $$"
   ]
  },
  {
   "cell_type": "markdown",
   "metadata": {},
   "source": [
    "Fuerza de rozamiento:\n",
    "$$ F_r = \\mu \\cdot \\underbrace{mg}_\\mathrm{Peso} $$"
   ]
  },
  {
   "cell_type": "code",
   "execution_count": 2,
   "metadata": {},
   "outputs": [],
   "source": [
    "# Fuerza del resorte:\n",
    "Fres = k*Dx    # [N]\n",
    "# Fuerza de rozamiento:\n",
    "Froz = mu*Peso # [N]"
   ]
  },
  {
   "cell_type": "code",
   "execution_count": 3,
   "metadata": {},
   "outputs": [
    {
     "name": "stdout",
     "output_type": "stream",
     "text": [
      "Fres = 600 [N]\n",
      "Froz = 2943.0 [N]\n"
     ]
    }
   ],
   "source": [
    "print('Fres = %s [N]'%round(Fres,2))\n",
    "print('Froz = %s [N]'%round(Froz,2))"
   ]
  },
  {
   "cell_type": "markdown",
   "metadata": {},
   "source": [
    "Cálculo de la presión:\n",
    "$$ \\frac{F_1}{A_1} = P $$"
   ]
  },
  {
   "cell_type": "code",
   "execution_count": 4,
   "metadata": {},
   "outputs": [],
   "source": [
    "# Datos:\n",
    "F1 = 50   # N\n",
    "d1 = 2e-2 # m"
   ]
  },
  {
   "cell_type": "markdown",
   "metadata": {},
   "source": [
    "Cálculo de área 1:\n",
    "$$ A_1 = \\frac{\\pi d_1^2}{4} $$"
   ]
  },
  {
   "cell_type": "code",
   "execution_count": 5,
   "metadata": {},
   "outputs": [],
   "source": [
    "import math"
   ]
  },
  {
   "cell_type": "code",
   "execution_count": 6,
   "metadata": {},
   "outputs": [],
   "source": [
    "# Area 1:\n",
    "A1 = (math.pi*d1**2)/4 # [m^2]\n",
    "# Presión:\n",
    "P = F1/A1 # [Pa]"
   ]
  },
  {
   "cell_type": "code",
   "execution_count": 7,
   "metadata": {},
   "outputs": [
    {
     "name": "stdout",
     "output_type": "stream",
     "text": [
      "A1 = 0.00031416 [m^2]\n",
      "P = 159154.94 [Pa]\n"
     ]
    }
   ],
   "source": [
    "print('A1 = %s [m^2]'%round(A1,8))\n",
    "print('P = %s [Pa]'%round(P,2))"
   ]
  },
  {
   "cell_type": "markdown",
   "metadata": {},
   "source": [
    "La $F_2$ tiene que vencer la fuerza de rozamoento mas la fuerza del resorte para comprimirlo 2 [cm].\n",
    "$$ F_2 = F_{roz} + F_{res} $$"
   ]
  },
  {
   "cell_type": "code",
   "execution_count": 8,
   "metadata": {},
   "outputs": [],
   "source": [
    "F2 = Froz + Fres"
   ]
  },
  {
   "cell_type": "markdown",
   "metadata": {},
   "source": [
    "$$ P = \\frac{F_2}{A_2} \\quad \\Rightarrow \\quad A_2 = \\frac{\\pi d_2^2}{4} = \\frac{F_2}{P} $$"
   ]
  },
  {
   "cell_type": "markdown",
   "metadata": {},
   "source": [
    "Cálculo de $d_2$:\n",
    "$$ d_2 = 2 \\, \\sqrt{ \\frac{F_2}{\\pi P} } $$"
   ]
  },
  {
   "cell_type": "code",
   "execution_count": 9,
   "metadata": {},
   "outputs": [],
   "source": [
    "# Diámetro del pistón 2\n",
    "d2 = 2*math.sqrt( F2/(math.pi*P) )"
   ]
  },
  {
   "cell_type": "code",
   "execution_count": 10,
   "metadata": {},
   "outputs": [
    {
     "name": "stdout",
     "output_type": "stream",
     "text": [
      "d2 = 0.1684 [m]\n",
      "d2 = 16.84 [cm]\n"
     ]
    }
   ],
   "source": [
    "print('d2 = %s [m]'%round(d2,4))\n",
    "print('d2 = %s [cm]'%round(d2*100,2))"
   ]
  },
  {
   "cell_type": "code",
   "execution_count": 11,
   "metadata": {},
   "outputs": [],
   "source": [
    "%reset -s -f"
   ]
  },
  {
   "cell_type": "markdown",
   "metadata": {},
   "source": [
    "## Ejercicio 2\n",
    "Un bloque de madera y un cubo de hierro se encuentran completamente sumergidos. Determinar las dimensiones del cubo para mantener el equilibrio indiferente.\n",
    "\n",
    "Datos:\n",
    "$\\left\\{\n",
    "\\begin{array}{lcr}\n",
    "\\gamma_{agua} & = & 1000 \\, \\mathrm{kg/m^3} \\\\\n",
    "\\gamma_{madera} & = & 600 \\, \\mathrm{kg/m^3} \\\\\n",
    "\\gamma_{Fe} & = & 7800 \\, \\mathrm{kg/m^3}\n",
    "\\end{array}\n",
    "\\right.$\n",
    "\n",
    "<img src=\"img/ej_clase02.png\" alt=\"ej_clase02.png\" width=\"45%\" height=\"45%\">\n",
    "\n",
    "__Diemensiones del bloque de madera:__ $\\mathrm{ (3 \\, m) \\cdot (1 \\, m) \\cdot (0,6 \\, m) }$"
   ]
  },
  {
   "cell_type": "markdown",
   "metadata": {},
   "source": [
    "### Solución\n",
    "$$ P = E $$"
   ]
  },
  {
   "cell_type": "markdown",
   "metadata": {},
   "source": [
    "Peso = Empuje\n",
    "$$V_{madera} \\cdot \\gamma_{madera} + L^3 \\gamma_{Fe} = V_{madera} \\cdot \\gamma_{agua} + L^3 \\gamma_{agua}$$"
   ]
  },
  {
   "cell_type": "markdown",
   "metadata": {},
   "source": [
    "Aplicamos factor común\n",
    "$$ L^3 \\left( \\gamma_{Fe} - \\gamma_{agua} \\right)\n",
    "=\n",
    "V_\\mathrm{madera} \n",
    "\\cdot\n",
    "\\left( \\gamma_{agua} - \\gamma_{madera} \\right)$$"
   ]
  },
  {
   "cell_type": "markdown",
   "metadata": {},
   "source": [
    "Despejamos $L$\n",
    "$$ L = \\sqrt[3]{\n",
    "\\frac{\n",
    "V_\\mathrm{madera}\n",
    "\\cdot\n",
    "\\left( \\gamma_{agua} - \\gamma_{madera} \\right) }\n",
    "{\\left( \\gamma_{Fe} - \\gamma_{agua} \\right)} }$$"
   ]
  },
  {
   "cell_type": "code",
   "execution_count": 3,
   "metadata": {},
   "outputs": [],
   "source": [
    "# Datos\n",
    "V_madera = 3*1*0.6 # [m^3]\n",
    "gamma_madera = 600 # [kg/m^3]\n",
    "gamma_Fe = 7800 # [kg/m^3]\n",
    "gamma_agua = 1000 # [kg/m^3]"
   ]
  },
  {
   "cell_type": "code",
   "execution_count": 4,
   "metadata": {},
   "outputs": [],
   "source": [
    "# Resolvemos\n",
    "L = ( (V_madera*(gamma_agua - gamma_madera))/(gamma_Fe - gamma_agua) )**(1/3) # [m]"
   ]
  },
  {
   "cell_type": "code",
   "execution_count": 5,
   "metadata": {},
   "outputs": [
    {
     "name": "stdout",
     "output_type": "stream",
     "text": [
      "L = 0.4731 [m]\n"
     ]
    }
   ],
   "source": [
    "# Imprime resultado\n",
    "print('L = %s [m]'%round(L,4))"
   ]
  },
  {
   "cell_type": "code",
   "execution_count": 18,
   "metadata": {},
   "outputs": [],
   "source": [
    "%reset -s -f"
   ]
  }
 ],
 "metadata": {
  "kernelspec": {
   "display_name": "Python 3",
   "language": "python",
   "name": "python3"
  },
  "language_info": {
   "codemirror_mode": {
    "name": "ipython",
    "version": 3
   },
   "file_extension": ".py",
   "mimetype": "text/x-python",
   "name": "python",
   "nbconvert_exporter": "python",
   "pygments_lexer": "ipython3",
   "version": "3.7.3"
  }
 },
 "nbformat": 4,
 "nbformat_minor": 2
}
