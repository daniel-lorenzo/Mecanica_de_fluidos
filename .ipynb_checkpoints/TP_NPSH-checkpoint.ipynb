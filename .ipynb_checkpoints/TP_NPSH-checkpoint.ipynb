{
 "cells": [
  {
   "cell_type": "markdown",
   "metadata": {},
   "source": [
    "# Trabajo práctico NPSH - ANPA"
   ]
  },
  {
   "cell_type": "markdown",
   "metadata": {},
   "source": [
    "Seleccionar bomba centrífuga para la instalación. ANPA requerido."
   ]
  },
  {
   "cell_type": "markdown",
   "metadata": {},
   "source": [
    "<img src=\"img/tp-mpsh-01.png\" alt=\"tp-mpsh-01.png\" width=\"400\" height=auto>"
   ]
  },
  {
   "cell_type": "markdown",
   "metadata": {},
   "source": [
    "$\\left\\{\n",
    "\\begin{array}{ll}\n",
    "x = 8 \\, \\mathrm{m} & \\mbox{Altura del eje de la bomba a la superficie del agua} \\\\\n",
    "y = 40^\\circ \\mathrm{C} & \\mbox{Temperatura del agua} \\\\\n",
    "z = 500 \\, \\mathrm{m} & \\mbox{Altura de la instalación (sobre el nivel del mar)}\n",
    "\\end{array}\n",
    "\\right.\n",
    "$\n",
    "\n",
    "$\\mbox{Factor de seguridad}= 0,5 \\, \\mathrm{m}$"
   ]
  },
  {
   "cell_type": "markdown",
   "metadata": {},
   "source": [
    "## Solución"
   ]
  },
  {
   "cell_type": "markdown",
   "metadata": {},
   "source": [
    "Para una bomba y un sistema de tuberías dados, debemos estimar el caudal de volumen máximo que se puede bombear sin cavitación."
   ]
  },
  {
   "cell_type": "markdown",
   "metadata": {},
   "source": [
    "__Supuestos__\n",
    "1. El flujo es constante.\n",
    "2. El agua es incompresible.\n",
    "3. El flujo es turbulento."
   ]
  },
  {
   "cell_type": "markdown",
   "metadata": {},
   "source": [
    "__Propiedades:__\n",
    "* La presión atmosférica estándar a nivel del mar es 101325 Pa\n",
    "* La temperatura standard a nivel del mar es 288,16 K"
   ]
  },
  {
   "cell_type": "markdown",
   "metadata": {},
   "source": [
    "La instalación se encuenta a 500 m sobre el nivel del mar, por lo que debemos determinar la presión atmosféria a esa altitud.   \n",
    "La presión del aire sobre el nivel del mar se puede calcular como:"
   ]
  },
  {
   "cell_type": "markdown",
   "metadata": {},
   "source": [
    "$$ P = P_0 \\cdot \\left( 1 - \\frac{g \\cdot h }{c_p \\cdot  T_0} \\right)^{\\displaystyle \\frac{c_p \\cdot M}{R_0} } $$"
   ]
  },
  {
   "cell_type": "markdown",
   "metadata": {},
   "source": [
    "$\\begin{array}{l|l}\n",
    "h = 500 \\, \\mathrm{m} & \\mbox{Altitud } h \\\\\n",
    "g = 9,80665 \\, \\mathrm{m/s^2} & \\mbox{Aceleración de la gravedad en la superficie de la Tierra} \\\\\n",
    "T_0 = 288,16 \\, \\mathrm{K} & \\mbox{Temperatura standard a nivel del mar} \\\\\n",
    "c_p = 1004,68506 \\, \\mathrm{J/(kg \\cdot K)} & \\mbox{Calor específico a presión constante} \\\\\n",
    "P_0 = 101325 \\, \\mathrm{Pa} & \\mbox{Presión atmosférica standard a nivel del mar} \\\\\n",
    "M = 0,02896969 \\, \\mathrm{kg/mol} & \\mbox{Masa molar del aire seco} \\\\\n",
    "R_0 = 8,314462618 \\, \\mathrm{J/(mol \\cdot K)} & \\mbox{Constante universal de los gases}\n",
    "\\end{array}$"
   ]
  },
  {
   "cell_type": "code",
   "execution_count": 1,
   "metadata": {},
   "outputs": [],
   "source": [
    "# Datos del problema:\n",
    "x = 8 # [m]  (Altura del eje de la bomba a la superficie del agua)\n",
    "y = 40 + 273.15 # [K]  (Temperatura del agua)\n",
    "z = 500 # [m]  (Altura de la instalación sobre el nivel del mar)\n",
    "H_seg = 0.5 # Factor de seguridad"
   ]
  },
  {
   "cell_type": "code",
   "execution_count": 2,
   "metadata": {},
   "outputs": [],
   "source": [
    "# Cargamos los datos:\n",
    "h = z # [m] Altitud h\n",
    "g = 9.80665 # [m/s^2]  (Aceleración de la gravedad en la superficie de la Tierra)\n",
    "T0 = 288.16 # [K]  (Temperatura standard a nivel del mar)\n",
    "cp = 1004.68506 # [J/(kg·K)]  (Calor específico a presión constante)\n",
    "P_0 = 101325 # Pa  (Presión atmosférica standard a nivel del mar)\n",
    "M = 0.02896968 # [kg/mol]  (Masa molar del aire seco)\n",
    "R0 = 8.314462618 # [J/(mol·K)]  (Constante universal de los gases)"
   ]
  },
  {
   "cell_type": "code",
   "execution_count": 3,
   "metadata": {},
   "outputs": [
    {
     "name": "stdout",
     "output_type": "stream",
     "text": [
      "Presión atmosférica a 500 m de altitud:\n",
      "P_1 = 95443.8 [Pa]\n"
     ]
    }
   ],
   "source": [
    "# Ejecutamos el cálculo\n",
    "P_1 = P_0*(1 - (g*h)/(cp*T0))**( cp*M/R0 )\n",
    "print('Presión atmosférica a 500 m de altitud:')\n",
    "print('P_1 = %s [Pa]'%round(P_1,1))"
   ]
  },
  {
   "cell_type": "markdown",
   "metadata": {},
   "source": [
    "$\\left\\{\n",
    "\\begin{array}{l}\n",
    "P_1 = 95443,8 \\, \\mathrm{Pa} \\\\\n",
    "T_\\mathrm{agua} = 313,15 \\, \\mathrm{K}\n",
    "\\end{array}\n",
    "\\right.\n",
    "$"
   ]
  },
  {
   "cell_type": "markdown",
   "metadata": {},
   "source": [
    "Con estos datos, de tablas termodinámicas obtenemos densidad $\\delta$ y presión de vapor $P_\\mathrm{vapor}$ del agua. \n",
    "\n",
    "A continuación utilizaremos la biblioteca CoolProp para consultar los datos de tabla.      \n",
    "__Fuente:__ <a target=\"_blank\" rel=\"noopener noreferrer\" target=\"_blank\" rel=\"noopener noreferrer\" href=\"http://www.coolprop.org/\">http://www.coolprop.org/</a>"
   ]
  },
  {
   "cell_type": "code",
   "execution_count": 4,
   "metadata": {},
   "outputs": [],
   "source": [
    "# Importa biblioteca coolprop (Tabla termodinámica)\n",
    "from CoolProp.CoolProp import PropsSI"
   ]
  },
  {
   "cell_type": "code",
   "execution_count": 5,
   "metadata": {},
   "outputs": [
    {
     "name": "stdout",
     "output_type": "stream",
     "text": [
      "Densidad del agua en el depósito:\n",
      "delta = 992.214 [kg/m^3]\n"
     ]
    }
   ],
   "source": [
    "# Consultamos densidad del agua con P_1 = 95443.8 [Pa] y T = 40°C\n",
    "delta = PropsSI('D','P',P_1,'T',y,'Water')\n",
    "print('Densidad del agua en el depósito:')\n",
    "print('delta = %s [kg/m^3]'%round(delta,3))"
   ]
  },
  {
   "cell_type": "code",
   "execution_count": 6,
   "metadata": {},
   "outputs": [
    {
     "name": "stdout",
     "output_type": "stream",
     "text": [
      "Presión de vapor del agua en el depósito:\n",
      "P_vapor = 7384.9 [Pa]\n"
     ]
    }
   ],
   "source": [
    "# Presión de vapor del agua a 40°C = 313 K\n",
    "P_vapor = PropsSI('P','T',y,'Q',1,'Water')\n",
    "print('Presión de vapor del agua en el depósito:')\n",
    "print('P_vapor = %s [Pa]'%round(P_vapor,1))"
   ]
  },
  {
   "cell_type": "markdown",
   "metadata": {},
   "source": [
    "$\\left\\{\n",
    "\\begin{array}{l}\n",
    "P_1 = 95443,8 \\, \\mathrm{Pa} \\\\\n",
    "T_\\mathrm{agua} = 313,15 \\, \\mathrm{K}\n",
    "\\end{array}\n",
    "\\right. \\quad \\rightarrow \\quad\n",
    "\\mbox{De tabla:} \\quad\n",
    "\\delta = 992,214 \\, \\mathrm{kg/m^3}\n",
    "$"
   ]
  },
  {
   "cell_type": "markdown",
   "metadata": {},
   "source": [
    "$\\left\\{\n",
    "\\begin{array}{l}\n",
    "T_\\mathrm{agua} = 313,15 \\, \\mathrm{K} \\\\\n",
    "Q = 1 \\; \\mbox{(vapor sat.)}\n",
    "\\end{array}\n",
    "\\right.\\quad \\rightarrow \\quad\n",
    "\\mbox{De tabla:} \\quad P_\\mathrm{vapor} = 7384,9 \\, \\mathrm{Pa}\n",
    "$"
   ]
  },
  {
   "cell_type": "markdown",
   "metadata": {},
   "source": [
    "Consultando las tablas de REFPROP, también obtenemos los mismos resultados"
   ]
  },
  {
   "cell_type": "markdown",
   "metadata": {},
   "source": [
    "<img src=\"img/tp_npsh_tabla.png\" alt=\"tp_npsh_tabla.png\">\n",
    "<center>    \n",
    "<b>Fuente:</b> <a href=\"https://www.nist.gov/srd/refprop\">https://www.nist.gov/srd/refprop</a>\n",
    "</center>    "
   ]
  },
  {
   "cell_type": "markdown",
   "metadata": {},
   "source": [
    "Del trabajo práctico de cañerías y pérdida de carga, tenemos los siguientes datos:\n",
    "\n",
    "$\\left\\{\n",
    "\\begin{array}{l}\n",
    "\\mbox{Caudal} = 300 \\, \\mathrm{[Lt/min]} \\\\\n",
    "\\mbox{Diámetro} = 2,5 \\, \\mathrm{[inch]} \\\\\n",
    "\\mbox{Rugosidad} = 0,05 \\, \\mathrm{[mm]} \\\\\n",
    "\\eta = 1,21 \\times 10^{-6} \\, \\mathrm{[m^2/s]} \\; \\mbox{(viscosidad cinemática del agua)} \\\\\n",
    "g = 9,81 \\, \\mathrm{[m/s^2]} \n",
    "\\end{array}\n",
    "\\right.\n",
    "$"
   ]
  },
  {
   "cell_type": "markdown",
   "metadata": {},
   "source": [
    "### Conversión a unidades SI"
   ]
  },
  {
   "cell_type": "markdown",
   "metadata": {},
   "source": [
    "$$ Q = 300 \\, \\mathrm{ \\frac{[Lt]}{[min]} \\cdot \\frac{1 \\, [m^3]}{1000 \\, [Lt]} \\cdot \\frac{1 \\, [min]}{60 \\, [s]} = 0,005 \\, [m^3/s] \\quad (caudal) } $$"
   ]
  },
  {
   "cell_type": "code",
   "execution_count": 7,
   "metadata": {},
   "outputs": [
    {
     "name": "stdout",
     "output_type": "stream",
     "text": [
      "Q = 0.005 [m^3/s] (caudal)\n"
     ]
    }
   ],
   "source": [
    "Q = 300*(1/1000)*(1/60)\n",
    "print('Q = %s [m^3/s] (caudal)'%round(Q,3))"
   ]
  },
  {
   "cell_type": "markdown",
   "metadata": {},
   "source": [
    "$$ \\phi = 2,5 \\, \\mathrm{ [inch] \\cdot \\frac{25,4 \\times 10^{-3} \\, [m]}{1 \\, [inch]} = 0,0635 \\, [m] \\quad } \\mbox{(diámetro)} $$"
   ]
  },
  {
   "cell_type": "code",
   "execution_count": 8,
   "metadata": {},
   "outputs": [
    {
     "name": "stdout",
     "output_type": "stream",
     "text": [
      "phi = 0.0635 [m] (diámetro)\n"
     ]
    }
   ],
   "source": [
    "phi = 2.5*(25.4e-3)/1\n",
    "print('phi = %s [m] (diámetro)'%round(phi,4))"
   ]
  },
  {
   "cell_type": "markdown",
   "metadata": {},
   "source": [
    "$$ \\varepsilon = \\mathrm{ 0,05 \\, [mm] \\cdot \\frac{1 \\, [m]}{1000 \\, [mm]} = 5 \\times 10^{-5} \\, [m] } \\quad \\mbox{(rugosidad)}$$"
   ]
  },
  {
   "cell_type": "code",
   "execution_count": 9,
   "metadata": {},
   "outputs": [
    {
     "name": "stdout",
     "output_type": "stream",
     "text": [
      "epsilon = 5e-05 [m] (rugosidad)\n"
     ]
    }
   ],
   "source": [
    "epsilon = 0.05*(1/1000)\n",
    "print('epsilon = %s [m] (rugosidad)'%round(epsilon,5))"
   ]
  },
  {
   "cell_type": "markdown",
   "metadata": {},
   "source": [
    "### Cálculo de la sección (área)"
   ]
  },
  {
   "cell_type": "markdown",
   "metadata": {},
   "source": [
    "$$ A = \\frac{\\pi}{4} \\phi^2 $$\n",
    "$\\begin{array}{l}\n",
    "\\phi = \\mbox{diámetro de la cañería} \\\\\n",
    "A = \\mbox{área o sección de la cañería}\n",
    "\\end{array}\n",
    "$\n",
    "$$ A = \\mathrm{ \\frac{\\pi}{4} (0,0635 \\, m)^2 \\cong 3,17 \\times 10^{-3} \\, m^2 } $$"
   ]
  },
  {
   "cell_type": "code",
   "execution_count": 10,
   "metadata": {},
   "outputs": [],
   "source": [
    "import math"
   ]
  },
  {
   "cell_type": "code",
   "execution_count": 11,
   "metadata": {},
   "outputs": [
    {
     "name": "stdout",
     "output_type": "stream",
     "text": [
      "A = 0.00317 [m^2] (área)\n"
     ]
    }
   ],
   "source": [
    "A = (math.pi/4)*phi**2\n",
    "print('A = %s [m^2] (área)'%round(A,5))"
   ]
  },
  {
   "cell_type": "markdown",
   "metadata": {},
   "source": [
    "### Cálculo de velocidad\n",
    "$$ Q = A \\cdot v \\qquad \\Rightarrow \\qquad v = \\frac{Q}{A} $$\n",
    "\n",
    "$\\begin{array}{l}\n",
    "Q = \\mbox{caudal} \\\\\n",
    "v = \\mbox{velocidad} \\\\     \n",
    "A = \\mbox{área o sección de la cañería}\n",
    "\\end{array}\n",
    "$\n",
    "$$ v = \\mathrm{ \\frac{(5 \\times 10^{-3} \\, m^3/s)}{(3.17 \\times 10^{-3} \\, m^2)} \\cong 1,579 \\, m/s } $$"
   ]
  },
  {
   "cell_type": "code",
   "execution_count": 12,
   "metadata": {},
   "outputs": [
    {
     "name": "stdout",
     "output_type": "stream",
     "text": [
      "v = 1.579 [m/s] (velocidad)\n"
     ]
    }
   ],
   "source": [
    "v = Q/A\n",
    "print('v = %s [m/s] (velocidad)'%round(v,3))"
   ]
  },
  {
   "cell_type": "markdown",
   "metadata": {},
   "source": [
    "### Cálculo del número de Reynolds\n",
    "$$ Re= \\frac{\\phi \\cdot v}{\\eta} $$\n",
    "\n",
    "$\\begin{array}{l}\n",
    "Re = \\mbox{número de Reynolds} \\\\\n",
    "\\eta = \\mbox{viscosidad cinemática del agua} \\\\\n",
    "v = \\mbox{velocidad} \\\\\n",
    "\\phi = \\mbox{diámetro}\n",
    "\\end{array}\n",
    "$\n",
    "$$ Re = \\mathrm{ \\frac{(63,5 \\times 10^{-3} \\, m) \\cdot (1,579 \\, m/s)}{(1,21 \\times 10^{-6} \\, m^2/s)} } \\cong 82855,4 $$"
   ]
  },
  {
   "cell_type": "code",
   "execution_count": 13,
   "metadata": {},
   "outputs": [
    {
     "name": "stdout",
     "output_type": "stream",
     "text": [
      "Re = 82855.4 (número de Reynolds)\n"
     ]
    }
   ],
   "source": [
    "eta = 1.21e-6 # [m^2/s] (viscosidad cinamática del agua)\n",
    "Re = (phi*v)/eta # (número de Reynolds)\n",
    "print('Re = %s (número de Reynolds)'%round(Re,1))"
   ]
  },
  {
   "cell_type": "markdown",
   "metadata": {},
   "source": [
    "### Cálculo Rugosidad Relativa"
   ]
  },
  {
   "cell_type": "markdown",
   "metadata": {},
   "source": [
    "$$ \\frac{\\varepsilon}{\\phi} = \\mbox{Rugosidad Relativa} $$\n",
    "\n",
    "$\\begin{array}{l}\n",
    "\\varepsilon = \\mbox{rugosidad} \\\\\n",
    "\\phi = \\mbox{diámetro de la cañería} \\\\\n",
    "\\end{array}\n",
    "$\n",
    "$$ \\frac{\\varepsilon}{\\phi} = \\mathrm{ \\frac{(5 \\times 10^{-5} \\, m)}{(63,5 \\times 10^{-3} \\, m)} } = 7,874 \\times 10^{-4}  $$"
   ]
  },
  {
   "cell_type": "code",
   "execution_count": 14,
   "metadata": {},
   "outputs": [
    {
     "name": "stdout",
     "output_type": "stream",
     "text": [
      "RugRel = 0.0007874 (rugosidad relativa)\n"
     ]
    }
   ],
   "source": [
    "RugRel = epsilon/phi\n",
    "print('RugRel = %s (rugosidad relativa)'%round(RugRel,7))"
   ]
  },
  {
   "cell_type": "markdown",
   "metadata": {},
   "source": [
    "Con el número de Reynolds y la rugosidad relativa, entramos en el diagrama de Moody"
   ]
  },
  {
   "cell_type": "markdown",
   "metadata": {},
   "source": [
    "<img src=\"img/Moody_EN_TP.svg\" alt=\"Moody_EN_TP.svg\">"
   ]
  },
  {
   "cell_type": "markdown",
   "metadata": {},
   "source": [
    "Utilizando el diagrama de Moody obtenemos un $ft = 0.022$, (factor de fricción)"
   ]
  },
  {
   "cell_type": "markdown",
   "metadata": {},
   "source": [
    "### Cálculo de la pérdida primaria\n",
    "Con la ecuación de Darcy obtenemos la pérdida primaria"
   ]
  },
  {
   "cell_type": "markdown",
   "metadata": {},
   "source": [
    "$$ h_p = f_T \\frac{L_\\mathrm{lineal}}{\\phi} \\frac{v^2}{2g} $$\n",
    "\n",
    "$\\begin{array}{l}\n",
    "h_p = \\mbox{pérdida primaria} \\\\\n",
    "f_T = \\mbox{factor de fricción} \\\\  \n",
    "L_\\mathrm{lineal} = \\mbox{longitud de la cañería} \\\\\n",
    "\\phi = \\mbox{diámetro de la cañería} \\\\\n",
    "v = \\mbox{velocidad} \\\\\n",
    "g = \\mbox{aceleración de la gravedad}\n",
    "\\end{array}\n",
    "$\n",
    "$$  h_p = \\mathrm{ 0,022 \\cdot \\frac{(8 \\, m)}{(63,5 \\times 10^{-3} \\, m)} \\cdot  \\frac{(1,579 \\, m/s)^2}{2 \\, (9,81 \\, m/s^2)} \\cong 0,35 \\, m } $$\n",
    "Pérdida primaria: $h_p \\cong \\mathrm{0,35 \\, m}$"
   ]
  },
  {
   "cell_type": "code",
   "execution_count": 15,
   "metadata": {},
   "outputs": [
    {
     "name": "stdout",
     "output_type": "stream",
     "text": [
      "hp = 0.35 [m] (pérdida primaria)\n"
     ]
    }
   ],
   "source": [
    "g = 9.81 # [m/s^2]\n",
    "L = 8 # [m]\n",
    "ft = 0.022\n",
    "\n",
    "hp = ft*(L/phi)*(v**2)/(2*g)\n",
    "print('hp = %s [m] (pérdida primaria)'%round(hp,2))"
   ]
  },
  {
   "cell_type": "markdown",
   "metadata": {},
   "source": [
    "### Cálculo de las pérdidas secundarias (método del factor k)\n",
    "\n",
    "<table cellspacing=\"0\" border=\"0\">\n",
    "\t<colgroup width=\"207\"></colgroup>\n",
    "\t<colgroup span=\"4\" width=\"85\"></colgroup>\n",
    "\t<tr>\n",
    "\t\t<td style=\"border-top: 1px solid #000000; border-bottom: 1px solid #000000; border-left: 1px solid #000000; border-right: 1px solid #000000\" height=\"17\" align=\"left\" bgcolor=\"#FFFBCC\"><b>Accesorio</b></td>\n",
    "\t\t<td style=\"border-top: 1px solid #000000; border-bottom: 1px solid #000000; border-left: 1px solid #000000; border-right: 1px solid #000000\" align=\"center\" bgcolor=\"#FFFBCC\"><b>k</b></td>\n",
    "\t\t<td style=\"border-top: 1px solid #000000; border-bottom: 1px solid #000000; border-left: 1px solid #000000; border-right: 1px solid #000000\" align=\"left\" bgcolor=\"#FFFBCC\"><b>Valor</b></td>\n",
    "\t\t<td style=\"border-top: 1px solid #000000; border-bottom: 1px solid #000000; border-left: 1px solid #000000; border-right: 1px solid #000000\" align=\"left\" bgcolor=\"#FFFBCC\"><b>Cantidad</b></td>\n",
    "\t\t<td style=\"border-top: 1px solid #000000; border-bottom: 1px solid #000000; border-left: 1px solid #000000; border-right: 1px solid #000000\" align=\"left\" bgcolor=\"#FFFBCC\"><b>Total</b></td>\n",
    "\t</tr>\n",
    "\t<tr>\n",
    "\t\t<td style=\"border-top: 1px solid #000000; border-bottom: 1px solid #000000; border-left: 1px solid #000000; border-right: 1px solid #000000\" height=\"17\" align=\"left\">Codo estándar 90°</td>\n",
    "\t\t<td style=\"border-top: 1px solid #000000; border-bottom: 1px solid #000000; border-left: 1px solid #000000; border-right: 1px solid #000000\" align=\"center\">30*ft</td>\n",
    "\t\t<td style=\"border-top: 1px solid #000000; border-bottom: 1px solid #000000; border-left: 1px solid #000000; border-right: 1px solid #000000\" align=\"right\" sdval=\"0,66\" sdnum=\"11274;0;0,000\">0,660</td>\n",
    "\t\t<td style=\"border-top: 1px solid #000000; border-bottom: 1px solid #000000; border-left: 1px solid #000000; border-right: 1px solid #000000\" align=\"right\" sdval=\"2\" sdnum=\"11274;\">1</td>\n",
    "\t\t<td style=\"border-top: 1px solid #000000; border-bottom: 1px solid #000000; border-left: 1px solid #000000; border-right: 1px solid #000000\" align=\"right\" sdval=\"1,32\" sdnum=\"11274;0;0,000\">0,660</td>\n",
    "\t</tr>\n",
    "\t<tr>\n",
    "\t<tr>\n",
    "\t\t<td style=\"border-top: 1px solid #000000; border-bottom: 1px solid #000000; border-left: 1px solid #000000; border-right: 1px solid #000000\" height=\"17\" align=\"left\">Válvula de retención</td>\n",
    "\t\t<td style=\"border-top: 1px solid #000000; border-bottom: 1px solid #000000; border-left: 1px solid #000000; border-right: 1px solid #000000\" align=\"center\">20*ft</td>\n",
    "\t\t<td style=\"border-top: 1px solid #000000; border-bottom: 1px solid #000000; border-left: 1px solid #000000; border-right: 1px solid #000000\" align=\"right\" sdval=\"1,1\" sdnum=\"11274;0;0,000\">0,440</td>\n",
    "\t\t<td style=\"border-top: 1px solid #000000; border-bottom: 1px solid #000000; border-left: 1px solid #000000; border-right: 1px solid #000000\" align=\"right\" sdval=\"1\" sdnum=\"11274;\">1</td>\n",
    "\t\t<td style=\"border-top: 1px solid #000000; border-bottom: 1px solid #000000; border-left: 1px solid #000000; border-right: 1px solid #000000\" align=\"right\" sdval=\"1,1\" sdnum=\"11274;0;0,000\">0,440</td>\n",
    "\t</tr>\n",
    "\t<tr>\n",
    "\t<tr>\n",
    "\t\t<td style=\"border-top: 1px solid #000000; border-bottom: 1px solid #000000; border-left: 1px solid #000000; border-right: 1px solid #000000\" height=\"17\" align=\"left\">Filtro</td>\n",
    "\t\t<td style=\"border-top: 1px solid #000000; border-bottom: 1px solid #000000; border-left: 1px solid #000000; border-right: 1px solid #000000\" align=\"center\">3*ft</td>\n",
    "\t\t<td style=\"border-top: 1px solid #000000; border-bottom: 1px solid #000000; border-left: 1px solid #000000; border-right: 1px solid #000000\" align=\"right\" sdval=\"1,1\" sdnum=\"11274;0;0,000\">0,066</td>\n",
    "\t\t<td style=\"border-top: 1px solid #000000; border-bottom: 1px solid #000000; border-left: 1px solid #000000; border-right: 1px solid #000000\" align=\"right\" sdval=\"1\" sdnum=\"11274;\">1</td>\n",
    "\t\t<td style=\"border-top: 1px solid #000000; border-bottom: 1px solid #000000; border-left: 1px solid #000000; border-right: 1px solid #000000\" align=\"right\" sdval=\"1,1\" sdnum=\"11274;0;0,000\">0,066</td>\n",
    "\t</tr>\n",
    "\t<tr>\n",
    "\t\t<td height=\"17\" align=\"left\"><br></td>\n",
    "\t\t<td align=\"left\"><br></td>\n",
    "\t\t<td align=\"left\"><br></td>\n",
    "\t\t<td align=\"left\"><br></td>\n",
    "\t\t<td align=\"right\" sdval=\"20,68\" sdnum=\"11274;0;0,000\"><b>1,166</b></td>\n",
    "\t</tr>\n",
    "</table>"
   ]
  },
  {
   "cell_type": "code",
   "execution_count": 16,
   "metadata": {},
   "outputs": [
    {
     "name": "stdout",
     "output_type": "stream",
     "text": [
      "SumKL = 1.166\n"
     ]
    }
   ],
   "source": [
    "codo90 = 30*ft ; Valret = 20*ft ; Filtro = 3*ft\n",
    "SumKL = codo90 + Valret + Filtro\n",
    "print('SumKL = %s'%round(SumKL,3))"
   ]
  },
  {
   "cell_type": "markdown",
   "metadata": {},
   "source": [
    "### Pérdida secundaria (factor k)"
   ]
  },
  {
   "cell_type": "markdown",
   "metadata": {},
   "source": [
    "$$ h_s = \\sum K_L \\frac{v^2}{2g} $$\n",
    "\n",
    "$\\begin{array}{l}\n",
    "h_s = \\mbox{pérdida secundaria} \\\\  \n",
    "\\sum K_L = \\mbox{sumatoria de los coeficientes } k \\mbox{ de los accesorios} \\\\\n",
    "v = \\mbox{velocidad} \\\\\n",
    "g = \\mbox{aceleración de la gravedad}\n",
    "\\end{array}\n",
    "$\n",
    "$$ h_s = \\mathrm{ 1.166 \\cdot \\frac{(1.579 \\, m/s)^2}{2 \\, (9.81 \\, m/s^2)} \\cong 0,15 \\, m } $$"
   ]
  },
  {
   "cell_type": "code",
   "execution_count": 17,
   "metadata": {},
   "outputs": [
    {
     "name": "stdout",
     "output_type": "stream",
     "text": [
      "hs = 0.15 [m]\n"
     ]
    }
   ],
   "source": [
    "hs = SumKL*v**2/(2*g)\n",
    "print('hs = %s [m]'%round(hs,2))"
   ]
  },
  {
   "cell_type": "markdown",
   "metadata": {},
   "source": [
    "### Cálculo de pérdida de carga total\n",
    "$$ h_T =  \\left( f_T \\frac{L_\\mathrm{lineal}}{\\phi} + \\sum K_L \\right) \\frac{v^2}{2g} $$"
   ]
  },
  {
   "cell_type": "markdown",
   "metadata": {},
   "source": [
    "$\\begin{array}{l}\n",
    "h_T = \\mbox{pérdida de carga total} \\\\\n",
    "f_T = \\mbox{factor de fricción} \\\\\n",
    "L_\\mathrm{lineal} = \\mbox{longitud de la cañería} \\\\\n",
    "\\phi = \\mbox{diámetro de la cañería} \\\\\n",
    "\\sum K_L =  \\mbox{sumatoria de los coeficientes } k \\mbox{ de los accesorios} \\\\\n",
    "v = \\mbox{velocidad}  \\\\\n",
    "g = \\mbox{aceleración de la gravedad} \\\\\n",
    "\\end{array}\n",
    "$\n",
    "\n",
    "$$ h_T = h_p + h_s  $$\n",
    "$$ h_T = \\mathrm{ 0,35 \\, m + 0,15 \\, m \\cong 0,5 \\, m } $$"
   ]
  },
  {
   "cell_type": "code",
   "execution_count": 18,
   "metadata": {},
   "outputs": [
    {
     "name": "stdout",
     "output_type": "stream",
     "text": [
      "hT = 0.5 [m]\n"
     ]
    }
   ],
   "source": [
    "hT = hp + hs\n",
    "print('hT = %s [m]'%round(hT,2))"
   ]
  },
  {
   "cell_type": "markdown",
   "metadata": {},
   "source": [
    "__Análisis:__\n",
    "Aplicamos la ecuación de energía a lo largo de una línea de corriente desde el punto 1 en la superficie del depósito hasta el punto 2 en la entrada de la bomba."
   ]
  },
  {
   "cell_type": "markdown",
   "metadata": {},
   "source": [
    "$$\\begin{array}{c}\n",
    "\\mathrm{ANPA} \\\\\n",
    "\\mathrm{ \\acute o \\; NPSH}\n",
    "\\end{array}\n",
    "=\\frac{P_\\mathrm{atm}}{\\delta g} - \\frac{P_\\mathrm{vapor}}{\\delta g} + H_\\mathrm{succi \\acute on} - H_c - H_\\mathrm{seg} $$"
   ]
  },
  {
   "cell_type": "markdown",
   "metadata": {},
   "source": [
    "$\\begin{array}{ll}\n",
    "P_\\mathrm{atm} = P_1 = 95443,8 \\, \\mathrm{Pa} & \\mbox{Presión atmosférica a 500 m de altitud} \\\\\n",
    "\\delta = 992,214 \\, \\mathrm{kg/m^3} & \\mbox{Densidad del agua en el depósito} \\\\\n",
    "g = 9,80665 \\, \\mathrm{m/s^2} & \\mbox{Aceleración de la gravedad} \\\\\n",
    "P_\\mathrm{vapor} = 7384,9 \\, \\mathrm{Pa} & \\mbox{Presión de vapor del agua} \\\\\n",
    "H_\\mathrm{succión} = 8 \\, \\mathrm{m} & \\mbox{Altura del eje de la bomba a la superficie del agua} \\\\\n",
    "H_c = \\mbox{Pérdida de carga} & \\mbox{Pérdida de carga primaria + secundaria} \\\\\n",
    "H_\\mathrm{seg} = 0,5 \\, \\mathrm{m} & \\mbox{Factor de seguridad}\n",
    "\\end{array}\n",
    "$"
   ]
  },
  {
   "cell_type": "markdown",
   "metadata": {},
   "source": [
    "__Importante:__\n",
    "La altura se succión $(H_\\mathrm{succi \\acute on} = z_1 - z_2)$, en este caso es __negativa__ $(-)$. El agua está debajo del nivel de la bomba."
   ]
  },
  {
   "cell_type": "code",
   "execution_count": 19,
   "metadata": {},
   "outputs": [],
   "source": [
    "# Cargamos datos:\n",
    "H_succion = -x # (x = 8 [m], dato del problema)\n",
    "H_c = hT"
   ]
  },
  {
   "cell_type": "code",
   "execution_count": 20,
   "metadata": {},
   "outputs": [],
   "source": [
    "NPSH = P_1/(delta*g) - P_vapor/(delta*g) + H_succion - H_c - H_seg"
   ]
  },
  {
   "cell_type": "code",
   "execution_count": 21,
   "metadata": {},
   "outputs": [
    {
     "name": "stdout",
     "output_type": "stream",
     "text": [
      "ANPA: Altura neta positiva de aspiración\n",
      "NPSH: Carga de aspiración neta positiva (por sus siglas en inglés)\n",
      "NPSH = 0.05 [m]\n"
     ]
    }
   ],
   "source": [
    "print('ANPA: Altura neta positiva de aspiración')\n",
    "print('NPSH: Carga de aspiración neta positiva (por sus siglas en inglés)')\n",
    "print('NPSH = %s [m]'%round(NPSH,2))"
   ]
  },
  {
   "cell_type": "markdown",
   "metadata": {},
   "source": [
    "__Resultado obtenido:__   \n",
    "ANPA o NPSH requerido: 0,05 [m]"
   ]
  },
  {
   "cell_type": "code",
   "execution_count": null,
   "metadata": {},
   "outputs": [],
   "source": []
  }
 ],
 "metadata": {
  "kernelspec": {
   "display_name": "Python 3",
   "language": "python",
   "name": "python3"
  },
  "language_info": {
   "codemirror_mode": {
    "name": "ipython",
    "version": 3
   },
   "file_extension": ".py",
   "mimetype": "text/x-python",
   "name": "python",
   "nbconvert_exporter": "python",
   "pygments_lexer": "ipython3",
   "version": "3.7.4"
  }
 },
 "nbformat": 4,
 "nbformat_minor": 4
}
