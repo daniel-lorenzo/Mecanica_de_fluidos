{
 "cells": [
  {
   "cell_type": "markdown",
   "metadata": {},
   "source": [
    "# Trabajo práctico NPSH - ANPA"
   ]
  },
  {
   "cell_type": "markdown",
   "metadata": {},
   "source": [
    "Seleccionar bomba centrífuga para la instalación. ANPA requerido."
   ]
  },
  {
   "cell_type": "markdown",
   "metadata": {},
   "source": [
    "<img src=\"img/tp-mpsh-01.png\" alt=\"tp-mpsh-01.png\" width=\"400\" height=auto>"
   ]
  },
  {
   "cell_type": "markdown",
   "metadata": {},
   "source": [
    "$\\left\\{\n",
    "\\begin{array}{ll}\n",
    "x = 8 \\, \\mathrm{m} & \\mbox{Altura del eje de la bomba a la superficie del agua} \\\\\n",
    "y = 40^\\circ \\mathrm{C} & \\mbox{Temperatura del agua} \\\\\n",
    "z = 500 \\, \\mathrm{m} & \\mbox{Altura de la instalación (sobre el nivel del mar)}\n",
    "\\end{array}\n",
    "\\right.\n",
    "$\n",
    "\n",
    "$\\mbox{Factor de seguridad}= 0,5 \\, \\mathrm{m}$"
   ]
  },
  {
   "cell_type": "markdown",
   "metadata": {},
   "source": [
    "## Solución"
   ]
  },
  {
   "cell_type": "markdown",
   "metadata": {},
   "source": [
    "Para una bomba y un sistema de tuberías dados, debemos estimar el caudal de volumen máximo que se puede bombear sin cavitación."
   ]
  },
  {
   "cell_type": "markdown",
   "metadata": {},
   "source": [
    "__Supuestos__\n",
    "1. El flujo es constante.\n",
    "2. El agua es incompresible.\n",
    "3. El flujo es turbulento."
   ]
  },
  {
   "cell_type": "markdown",
   "metadata": {},
   "source": [
    "__Propiedades:__\n",
    "* La presión atmosférica estándar a nivel del mar es 101325 Pa\n",
    "* La temperatura standard a nivel del mar es 288,16 K"
   ]
  },
  {
   "cell_type": "markdown",
   "metadata": {},
   "source": [
    "La instalación se encuenta a 500 m sobre el nivel del mar, por lo que debemos determinar la presión atmosféria a esa altitud.   \n",
    "La presión del aire sobre el nivel del mar se puede calcular como:"
   ]
  },
  {
   "cell_type": "markdown",
   "metadata": {},
   "source": [
    "$$ P = P_0 \\cdot \\left( 1 - \\frac{g \\cdot h }{c_p \\cdot  T_0} \\right)^{\\displaystyle \\frac{c_p \\cdot M}{R_0} } \\approx P_0 \\cdot \\mathrm{exp} \\left( - \\frac{g \\cdot h \\cdot M}{T_0 \\cdot R_0} \\right) $$"
   ]
  },
  {
   "cell_type": "markdown",
   "metadata": {},
   "source": [
    "$\\begin{array}{l|l}\n",
    "h = 500 \\, \\mathrm{m} & \\mbox{Altitud } h \\\\\n",
    "g = 9,80665 \\, \\mathrm{m/s^2} & \\mbox{Aceleración de la gravedad en la superficie de la Tierra} \\\\\n",
    "T_0 = 288,16 \\, \\mathrm{K} & \\mbox{Temperatura standard a nivel del mar} \\\\\n",
    "c_p = 1004,68506 \\, \\mathrm{J/(kg \\cdot K)} & \\mbox{Calor específico a presión constante} \\\\\n",
    "P_0 = 101325 \\, \\mathrm{Pa} & \\mbox{Presión atmosférica standard a nivel del mar} \\\\\n",
    "M = 0,02896969 \\, \\mathrm{kg/mol} & \\mbox{Masa molar del aire seco} \\\\\n",
    "R_0 = 8,314462618 \\, \\mathrm{J/(mol \\cdot K)} & \\mbox{Constante universal de los gases}\n",
    "\\end{array}$"
   ]
  },
  {
   "cell_type": "code",
   "execution_count": 1,
   "metadata": {},
   "outputs": [],
   "source": [
    "# Datos del problema:\n",
    "x = 8 # [m]  (Altura del eje de la bomba a la superficie del agua)\n",
    "y = 40 + 273.15 # [K]  (Temperatura del agua)\n",
    "z = 500 # [m]  (Altura de la instalación sobre el nivel del mar)\n",
    "H_seg = 0.5 # Factor de seguridad"
   ]
  },
  {
   "cell_type": "code",
   "execution_count": 2,
   "metadata": {},
   "outputs": [],
   "source": [
    "# Cargamos los datos:\n",
    "h = z # [m] Altitud h\n",
    "g = 9.80665 # [m/s^2]  (Aceleración de la gravedad en la superficie de la Tierra)\n",
    "T0 = 288.16 # [K]  (Temperatura standard a nivel del mar)\n",
    "cp = 1004.68506 # [J/(kg·K)]  (Calor específico a presión constante)\n",
    "P_0 = 101325 # Pa  (Presión atmosférica standard a nivel del mar)\n",
    "M = 0.02896968 # [kg/mol]  (Masa molar del aire seco)\n",
    "R0 = 8.314462618 # [J/(mol·K)]  (Constante universal de los gases)"
   ]
  },
  {
   "cell_type": "code",
   "execution_count": 3,
   "metadata": {},
   "outputs": [
    {
     "name": "stdout",
     "output_type": "stream",
     "text": [
      "Presión atmosférica a 500 m de altitud:\n",
      "P_1 = 95443.8 [Pa]\n"
     ]
    }
   ],
   "source": [
    "# Ejecutamos el cálculo\n",
    "P_1 = P_0*(1 - (g*h)/(cp*T0))**( cp*M/R0 )\n",
    "print('Presión atmosférica a 500 m de altitud:')\n",
    "print('P_1 = %s [Pa]'%round(P_1,1))"
   ]
  },
  {
   "cell_type": "markdown",
   "metadata": {},
   "source": [
    "$\\left\\{\n",
    "\\begin{array}{l}\n",
    "P_1 = 95443,8 \\, \\mathrm{Pa} \\\\\n",
    "T_\\mathrm{agua} = 313,15 \\, \\mathrm{K}\n",
    "\\end{array}\n",
    "\\right.\n",
    "$"
   ]
  },
  {
   "cell_type": "markdown",
   "metadata": {},
   "source": [
    "Con estos datos, de tablas termodinámicas obtenemos densidad $\\delta$ y presión de vapor $P_\\mathrm{vapor}$ del agua. \n",
    "\n",
    "A continuación utilizaremos la biblioteca CoolProp para consultar los datos de tabla."
   ]
  },
  {
   "cell_type": "code",
   "execution_count": 4,
   "metadata": {},
   "outputs": [],
   "source": [
    "# Importa biblioteca coolprop (Tabla termodinámica)\n",
    "from CoolProp.CoolProp import PropsSI"
   ]
  },
  {
   "cell_type": "code",
   "execution_count": 5,
   "metadata": {},
   "outputs": [
    {
     "name": "stdout",
     "output_type": "stream",
     "text": [
      "Densidad del agua en el depósito:\n",
      "delta = 992.214 [kg/m^3]\n"
     ]
    }
   ],
   "source": [
    "# Consultamos densidad del agua con P_1 = 95443.8 [Pa] y T = 40°C\n",
    "delta = PropsSI('D','P',P_1,'T',y,'Water')\n",
    "print('Densidad del agua en el depósito:')\n",
    "print('delta = %s [kg/m^3]'%round(delta,3))"
   ]
  },
  {
   "cell_type": "code",
   "execution_count": 6,
   "metadata": {},
   "outputs": [
    {
     "name": "stdout",
     "output_type": "stream",
     "text": [
      "Presión de vapor del agua en el depósito:\n",
      "P_vapor = 7384.9 [Pa]\n"
     ]
    }
   ],
   "source": [
    "# Presión de vapor del agua a 40°C = 313 K\n",
    "P_vapor = PropsSI('P','T',y,'Q',1,'Water')\n",
    "print('Presión de vapor del agua en el depósito:')\n",
    "print('P_vapor = %s [Pa]'%round(P_vapor,1))"
   ]
  },
  {
   "cell_type": "markdown",
   "metadata": {},
   "source": [
    "$\\left\\{\n",
    "\\begin{array}{l}\n",
    "P_1 = 95443,8 \\, \\mathrm{Pa} \\\\\n",
    "T_\\mathrm{agua} = 313,15 \\, \\mathrm{K}\n",
    "\\end{array}\n",
    "\\right. \\quad \\rightarrow \\quad\n",
    "\\mbox{De tabla:} \\quad\n",
    "\\delta = 992,214 \\, \\mathrm{kg/m^3}\n",
    "$"
   ]
  },
  {
   "cell_type": "markdown",
   "metadata": {},
   "source": [
    "$\\left\\{\n",
    "\\begin{array}{l}\n",
    "P_1 = 9544,3 \\, \\mathrm{Pa} \\\\\n",
    "Q = 1 \\; \\mbox{(vapor sat.)}\n",
    "\\end{array}\n",
    "\\right.\\quad \\rightarrow \\quad\n",
    "\\mbox{De tabla:} \\quad P_\\mathrm{vapor} = 7384,9 \\, \\mathrm{Pa}\n",
    "$"
   ]
  },
  {
   "cell_type": "markdown",
   "metadata": {},
   "source": [
    "__Análisis:__\n",
    "Aplicamos la ecuación de energía a lo largo de una línea de corriente desde el punto 1 en la superficie del depósito hasta el punto 2 en la entrada de la bomba."
   ]
  },
  {
   "cell_type": "markdown",
   "metadata": {},
   "source": [
    "$$\\begin{array}{c}\n",
    "\\mathrm{ANPA} \\\\\n",
    "\\mathrm{ \\acute o \\; NPSH}\n",
    "\\end{array}\n",
    "=\\frac{P_\\mathrm{atm}}{\\delta g} - \\frac{P_\\mathrm{vapor}}{\\delta g} + H_\\mathrm{succi \\acute on} - H_c - H_\\mathrm{seg} $$"
   ]
  },
  {
   "cell_type": "markdown",
   "metadata": {},
   "source": [
    "$\\begin{array}{ll}\n",
    "P_\\mathrm{atm} = P_1 = 95443,8 \\, \\mathrm{Pa} & \\mbox{Presión atmosférica a 500 m de altitud} \\\\\n",
    "\\delta = 992,214 \\, \\mathrm{kg/m^3} & \\mbox{Densidad del agua en el depósito} \\\\\n",
    "g = 9,80665 \\, \\mathrm{m/s^2} & \\mbox{Aceleración de la gravedad} \\\\\n",
    "P_\\mathrm{vapor} = 7384,9 \\, \\mathrm{Pa} & \\mbox{Presión de vapor del agua} \\\\\n",
    "H_\\mathrm{succión} = 8 \\, \\mathrm{m} & \\mbox{Altura del eje de la bomba a la superficie del agua} \\\\\n",
    "H_c = \\mbox{Despreciable} & \\mbox{No tenemos datos para calcularlo} \\\\\n",
    "H_\\mathrm{seg} = 0,5 \\, \\mathrm{m} & \\mbox{Factor de seguridad}\n",
    "\\end{array}\n",
    "$"
   ]
  },
  {
   "cell_type": "code",
   "execution_count": 7,
   "metadata": {},
   "outputs": [],
   "source": [
    "# Cargamos datos:\n",
    "H_succion = x # (x = 8 [m], dato del problema)\n",
    "H_c = 0 # Consideramos despreciable"
   ]
  },
  {
   "cell_type": "code",
   "execution_count": 8,
   "metadata": {},
   "outputs": [],
   "source": [
    "NPSH = P_1/(delta*g) - P_vapor/(delta*g) + H_succion - H_c - H_seg"
   ]
  },
  {
   "cell_type": "code",
   "execution_count": 9,
   "metadata": {},
   "outputs": [
    {
     "name": "stdout",
     "output_type": "stream",
     "text": [
      "ANPA: Altura neta positiva de aspiración\n",
      "NPSH: Carga de aspiración neta positiva (por sus siglas en inglés)\n",
      "NPSH = 16.5 [m]\n"
     ]
    }
   ],
   "source": [
    "print('ANPA: Altura neta positiva de aspiración')\n",
    "print('NPSH: Carga de aspiración neta positiva (por sus siglas en inglés)')\n",
    "print('NPSH = %s [m]'%round(NPSH,1))"
   ]
  },
  {
   "cell_type": "markdown",
   "metadata": {},
   "source": [
    "__Resultado obtenido:__   \n",
    "ANPA o NPSH requerido: 16,5 [m]"
   ]
  },
  {
   "cell_type": "code",
   "execution_count": null,
   "metadata": {},
   "outputs": [],
   "source": []
  }
 ],
 "metadata": {
  "kernelspec": {
   "display_name": "Python 3",
   "language": "python",
   "name": "python3"
  },
  "language_info": {
   "codemirror_mode": {
    "name": "ipython",
    "version": 3
   },
   "file_extension": ".py",
   "mimetype": "text/x-python",
   "name": "python",
   "nbconvert_exporter": "python",
   "pygments_lexer": "ipython3",
   "version": "3.7.4"
  }
 },
 "nbformat": 4,
 "nbformat_minor": 4
}
