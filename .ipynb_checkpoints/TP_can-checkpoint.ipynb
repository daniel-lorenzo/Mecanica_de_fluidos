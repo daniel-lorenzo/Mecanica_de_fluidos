{
 "cells": [
  {
   "cell_type": "raw",
   "metadata": {
    "jupyter": {
     "source_hidden": true
    }
   },
   "source": [
    "<script>\n",
    "  function code_toggle() {\n",
    "    if (code_shown){\n",
    "      $('div.input').hide('500');\n",
    "      $('#toggleButton').val('Show Code')\n",
    "    } else {\n",
    "      $('div.input').show('500');\n",
    "      $('#toggleButton').val('Hide Code')\n",
    "    }\n",
    "    code_shown = !code_shown\n",
    "  }\n",
    "\n",
    "  $( document ).ready(function(){\n",
    "    code_shown=true;\n",
    "    $('div.input').show()\n",
    "  });\n",
    "</script>\n",
    "<form action=\"javascript:code_toggle()\"><input type=\"submit\" id=\"toggleButton\" value=\"Hide Code\"></form>"
   ]
  },
  {
   "cell_type": "markdown",
   "metadata": {},
   "source": [
    "# Trabajo Práctico Cañerías - Grupo 3"
   ]
  },
  {
   "cell_type": "markdown",
   "metadata": {},
   "source": [
    "Se tiene una cañería de acero comercial de diámetro $2 ^1/_2 \"$, con una rugosidad de $0,05 \\, \\mathrm{[mm]}$, por la misma circula un caudal de $300 \\, \\mathrm{[Lt/min]}$. Viscosidad cinemática del agua $1,21 \\times 10^{-6} \\, \\mathrm{[m^2/s]}$\n",
    "\n",
    "1. Cálculo de la pérdida de carga del circuito, utilizando para la determinación del factor de fricción el diagrama de Moody (1)\n",
    "2. Aplicando método de longitud equivalente (2)\n",
    "3. Aplicando método del factor K (2)\n",
    "4. Comparar y analizar los resultados obtenidos en 2. y 3. (1)\n",
    "\n",
    "Determinar la potencia teórica necesaria que la bomba debería entregarle al fluido. Si esa bomba forma parte de un sistema bomba + máquina eléctrica (Electrobomba) en el cual se tiene un rendimiento del 75% en la bomba y del 95% en el motor eléctrico, cuál sería la potencia a entregar a la electrobomba. Expresar valores en kW y en HP (1).\n",
    "\n",
    "<img src=\"img/tpcan-01.png\" alt=\"tpcan-01.png\">"
   ]
  },
  {
   "cell_type": "markdown",
   "metadata": {},
   "source": [
    "## Solución"
   ]
  },
  {
   "cell_type": "code",
   "execution_count": 1,
   "metadata": {},
   "outputs": [],
   "source": [
    "# Datos:\n",
    "Caudal = 300 # [Lt/min]\n",
    "Diametro = 2.5 # [inch]\n",
    "Rugosidad = 0.05 # [mm]\n",
    "vch20 = 1.21e-6 # [m²/s] (viscosidad cinemática del agua)\n",
    "g = 9.81 # [m/s²]\n",
    "\n",
    "# Conversión a SI:\n",
    "Q = Caudal*1e-3*(1/60) # [m³/s] (caudal)\n",
    "phi = Diametro*25.4e-3 # [m] (diámetro)\n",
    "n =  vch20 # [m²/s] (viscosidad cinemática del agua)\n",
    "epsilon = Rugosidad*1e-3 # [m] (rugosidad)"
   ]
  },
  {
   "cell_type": "code",
   "execution_count": 2,
   "metadata": {},
   "outputs": [],
   "source": [
    "import math"
   ]
  },
  {
   "cell_type": "markdown",
   "metadata": {},
   "source": [
    "### Cálculo de la longitud de la cañería"
   ]
  },
  {
   "cell_type": "code",
   "execution_count": 3,
   "metadata": {},
   "outputs": [],
   "source": [
    "# Tramos:\n",
    "B = 5 # [m]\n",
    "C = 40 # [m]\n",
    "D = 5 # [m]\n",
    "E = math.sqrt(5**2 + 5**2) # [m]\n",
    "F = 60 # [m]\n",
    "G = 3 # [m]\n",
    "H = 20 # [m]"
   ]
  },
  {
   "cell_type": "code",
   "execution_count": 4,
   "metadata": {},
   "outputs": [],
   "source": [
    "# Longitud:\n",
    "L = B + C + D + E + F + G + H"
   ]
  },
  {
   "cell_type": "code",
   "execution_count": 5,
   "metadata": {},
   "outputs": [
    {
     "name": "stdout",
     "output_type": "stream",
     "text": [
      "L = 140.07 [m]\n"
     ]
    }
   ],
   "source": [
    "# Imprime resultado\n",
    "print('L = %s [m]'%round(L,2))"
   ]
  },
  {
   "cell_type": "markdown",
   "metadata": {},
   "source": [
    "### Cálculo de la sección (área):\n",
    "$$ A = \\frac{\\pi}{4} \\phi^2 $$\n",
    "$\\phi =$ diámetro de la cañería    \n",
    "$A =$ área o sección de la cañería"
   ]
  },
  {
   "cell_type": "code",
   "execution_count": 6,
   "metadata": {},
   "outputs": [],
   "source": [
    "# Cálculo de la sección de la cañería\n",
    "A = (math.pi/4)*phi**2"
   ]
  },
  {
   "cell_type": "code",
   "execution_count": 7,
   "metadata": {},
   "outputs": [
    {
     "name": "stdout",
     "output_type": "stream",
     "text": [
      "A = 0.00317 [m^2]\n"
     ]
    }
   ],
   "source": [
    "# Imprime resultado\n",
    "print('A = %s [m^2]'%round(A,5))"
   ]
  },
  {
   "cell_type": "markdown",
   "metadata": {},
   "source": [
    "### Cálculo de velocidad:\n",
    "$$ Q = A \\cdot v \\qquad \\Rightarrow \\qquad v = \\frac{Q}{A} $$\n",
    "$Q = $ caudal    \n",
    "$v =$ velocidad     \n",
    "$A =$ área o sección de la cañería"
   ]
  },
  {
   "cell_type": "code",
   "execution_count": 8,
   "metadata": {},
   "outputs": [],
   "source": [
    "# Cálculo de velocidad\n",
    "v = Q/A"
   ]
  },
  {
   "cell_type": "code",
   "execution_count": 9,
   "metadata": {},
   "outputs": [
    {
     "name": "stdout",
     "output_type": "stream",
     "text": [
      "v = 1.579 [m/s]\n"
     ]
    }
   ],
   "source": [
    "# Imprime resultado\n",
    "print('v = %s [m/s]'%round(v,3))"
   ]
  },
  {
   "cell_type": "markdown",
   "metadata": {},
   "source": [
    "### Cálculo del número de Reynolds: \n",
    "$$ Re= \\frac{\\phi \\cdot v}{\\eta} $$\n",
    "$Re =$ número de Reynolds    \n",
    "$\\eta$ = viscosidad cinemática del agua    \n",
    "$v$ = velocidad    \n",
    "$\\phi$ = diámetro"
   ]
  },
  {
   "cell_type": "code",
   "execution_count": 10,
   "metadata": {},
   "outputs": [],
   "source": [
    "# Cálculo del número de Reynolds\n",
    "Re = (phi*v)/n"
   ]
  },
  {
   "cell_type": "code",
   "execution_count": 11,
   "metadata": {},
   "outputs": [
    {
     "name": "stdout",
     "output_type": "stream",
     "text": [
      "Número de Reynolds:\n",
      "Re = 82855.4\n"
     ]
    }
   ],
   "source": [
    "# Imprime resultado\n",
    "print('Número de Reynolds:')\n",
    "print('Re = %s'%round(Re,1))"
   ]
  },
  {
   "cell_type": "markdown",
   "metadata": {},
   "source": [
    "### Cálculo Rugosidad Relativa:\n",
    "$$ \\mathrm{RugRel} = \\frac{\\varepsilon}{\\phi} $$\n",
    "$\\varepsilon =$ rugosidad   \n",
    "$\\phi =$ diámetro de la cañería   \n",
    "$\\mathrm{RugRel} =$ rugosidad relativa"
   ]
  },
  {
   "cell_type": "code",
   "execution_count": 12,
   "metadata": {},
   "outputs": [],
   "source": [
    "# e/D (Rugosidad Relativa)\n",
    "RugRel = epsilon/phi"
   ]
  },
  {
   "cell_type": "code",
   "execution_count": 13,
   "metadata": {},
   "outputs": [
    {
     "name": "stdout",
     "output_type": "stream",
     "text": [
      "RugRel = 0.0007874 (rugosidad relativa)\n"
     ]
    }
   ],
   "source": [
    "# Imprime resultado\n",
    "print('RugRel = %s (rugosidad relativa)'%round(RugRel,7))"
   ]
  },
  {
   "cell_type": "markdown",
   "metadata": {},
   "source": [
    "<img src=\"img/tpcan-02.png\" alt=\"tpcan-02.png\">"
   ]
  },
  {
   "cell_type": "markdown",
   "metadata": {},
   "source": [
    "<a href=\"http://maleyengineeringprojects.weebly.com/moody-chart-calculator.html\">http://maleyengineeringprojects.weebly.com/moody-chart-calculator.html</a>"
   ]
  },
  {
   "cell_type": "code",
   "execution_count": 14,
   "metadata": {},
   "outputs": [],
   "source": [
    "# Utilizando el diagrama de Moody obtenemos\n",
    "fr = 0.022 # (factor de fricción)"
   ]
  },
  {
   "cell_type": "markdown",
   "metadata": {},
   "source": [
    "### Cálculo de la pérdida primaria\n",
    "Con la ecuación de Darcy obtenemos la pérdida primaria\n",
    "\n",
    "$$ \\Delta h_p = f_r \\frac{L}{\\phi} \\frac{v^2}{2g} $$\n",
    "$\\Delta h_p =$ pérdida primaria    \n",
    "$f_r =$ factor de fricción   \n",
    "$L =$ longitud de la cañería   \n",
    "$\\phi =$ diámetro de la cañería   \n",
    "$v =$ velocidad     \n",
    "$g =$ aceleración de la gravedad"
   ]
  },
  {
   "cell_type": "code",
   "execution_count": 15,
   "metadata": {},
   "outputs": [],
   "source": [
    "Dhp = fr*(L/phi)*v**2/(2*g)"
   ]
  },
  {
   "cell_type": "code",
   "execution_count": 16,
   "metadata": {},
   "outputs": [
    {
     "name": "stdout",
     "output_type": "stream",
     "text": [
      "Dhp = 6.17 [m]\n"
     ]
    }
   ],
   "source": [
    "# Imprime resultado\n",
    "print('Dhp = %s [m]'%round(Dhp,2))"
   ]
  },
  {
   "cell_type": "markdown",
   "metadata": {},
   "source": [
    "### Cálculo de las pérdidas secundarias\n",
    "Para el cálculo de las pérdidas secundarias, mediante el factor k tenemos:"
   ]
  },
  {
   "cell_type": "code",
   "execution_count": 17,
   "metadata": {},
   "outputs": [],
   "source": [
    "k_cd90 = 30*fr # Codo estándar 90°\n",
    "k_cd45 = 16*fr # Codo estándar 45°\n",
    "k_T_fd = 20*fr # Conexión estándar T flujo directo\n",
    "k_T_de = 60*fr # Conexión estándar T flujo desviado\n",
    "k_valret = 50*fr # Válvulo de retención\n",
    "k_valglob = 3*fr # Válvula globo\n",
    "k_valcomp = 8*fr # Válvula compuesta\n",
    "k_cur180 = 50*fr # Curva de 180°"
   ]
  },
  {
   "cell_type": "markdown",
   "metadata": {},
   "source": [
    "Pérdida secundaria (factor k)\n",
    "$$ \\Delta h_s = \\sum K_L \\frac{v^2}{2g} $$\n",
    "$\\Delta h_s =$ pérdida secundaria   \n",
    "$\\sum K_L = $ sumatoria de los coeficientes $k$ de los accesorios   \n",
    "$v =$ velocidad  \n",
    "$g =$ aceleración de la gravedad"
   ]
  },
  {
   "cell_type": "code",
   "execution_count": 18,
   "metadata": {},
   "outputs": [],
   "source": [
    "# Sumatoria de los coeficientes k de los accesorios\n",
    "SK_L = k_cd90*2 + k_cd45*2 + k_T_fd*3 + k_valret*1 + k_valglob*2 + k_cur180 + k_valcomp"
   ]
  },
  {
   "cell_type": "code",
   "execution_count": 19,
   "metadata": {},
   "outputs": [
    {
     "name": "stdout",
     "output_type": "stream",
     "text": [
      "SK_L = 5.852\n"
     ]
    }
   ],
   "source": [
    "# Imprime resultado\n",
    "print('SK_L = %s'%round(SK_L,3))"
   ]
  },
  {
   "cell_type": "code",
   "execution_count": 20,
   "metadata": {},
   "outputs": [],
   "source": [
    "# Pérdida secundaria\n",
    "Dhs = SK_L * v**2/(2*g)"
   ]
  },
  {
   "cell_type": "code",
   "execution_count": 21,
   "metadata": {},
   "outputs": [
    {
     "name": "stdout",
     "output_type": "stream",
     "text": [
      "Dhs = 0.7435 [m]\n"
     ]
    }
   ],
   "source": [
    "# Imprime resultado\n",
    "print('Dhs = %s [m]'%round(Dhs,4))"
   ]
  },
  {
   "cell_type": "markdown",
   "metadata": {},
   "source": [
    "### Total:\n",
    "$$ \\Delta h_\\mathrm{total} =  \\left( f_r \\frac{L}{\\phi} + \\sum K_L \\right) \\frac{v^2}{2g} $$\n",
    "$\\Delta h_\\mathrm{total} =$ pérdida de carga total   \n",
    "$f_r =$ factor de fricción   \n",
    "$L =$ longitud de la cañería   \n",
    "$\\phi =$ diámetro de la cañería  \n",
    "$\\sum K_L = $ sumatoria de los coeficientes $k$ de los accesorios   \n",
    "$v =$ velocidad  \n",
    "$g =$ aceleración de la gravedad"
   ]
  },
  {
   "cell_type": "code",
   "execution_count": 22,
   "metadata": {},
   "outputs": [],
   "source": [
    "Dh_tot = ( fr*L/phi + SK_L ) * v**2/(2*g)"
   ]
  },
  {
   "cell_type": "code",
   "execution_count": 23,
   "metadata": {},
   "outputs": [
    {
     "name": "stdout",
     "output_type": "stream",
     "text": [
      "Dh_tot = 6.9089 [m]\n"
     ]
    }
   ],
   "source": [
    "# Imprime resultado\n",
    "print('Dh_tot = %s [m]'%round(Dh_tot,4))"
   ]
  },
  {
   "cell_type": "markdown",
   "metadata": {},
   "source": [
    "Las pérdidas secundarias también se expresan en términos de la longitud equivalente que se define como:\n",
    "\n",
    "$$ h_L = K_L \\frac{v^2}{2g} = f_r \\frac{L_\\mathrm{equiv}}{\\phi} \\frac{v^2}{2g} $$"
   ]
  },
  {
   "cell_type": "markdown",
   "metadata": {},
   "source": [
    "$$ L_\\mathrm{equiv} = \\frac{\\phi}{f_r} K_L $$"
   ]
  },
  {
   "cell_type": "code",
   "execution_count": 24,
   "metadata": {},
   "outputs": [],
   "source": [
    "L_equiv = phi/fr * SK_L"
   ]
  },
  {
   "cell_type": "code",
   "execution_count": 25,
   "metadata": {},
   "outputs": [
    {
     "name": "stdout",
     "output_type": "stream",
     "text": [
      "L_eqiv = 16.891 [m]\n"
     ]
    }
   ],
   "source": [
    "# Imprime resultado\n",
    "print('L_eqiv = %s [m]'%round(L_equiv,3))"
   ]
  },
  {
   "cell_type": "markdown",
   "metadata": {},
   "source": [
    "Planteando la ecuación de energía entre 1 y 2 se obtiene"
   ]
  },
  {
   "cell_type": "markdown",
   "metadata": {},
   "source": [
    "$$ \\frac{P_1}{\\gamma} + \\frac{W_1^2}{2g} + z_1 + H_B = \\frac{P_2}{\\gamma} + \\frac{W_2^2}{2g} + z_2 + \\Delta h_\\mathrm{total} $$"
   ]
  },
  {
   "cell_type": "markdown",
   "metadata": {},
   "source": [
    "Se simplifica a:"
   ]
  },
  {
   "cell_type": "markdown",
   "metadata": {},
   "source": [
    "$$ H_B = z_2 - z_1 + \\Delta h_\\mathrm{total} $$\n",
    "$z_1 =$ cota 1   \n",
    "$z_2 =$ cota 2   \n",
    "$\\Delta h_\\mathrm{total} =$ pérdida de carga total"
   ]
  },
  {
   "cell_type": "code",
   "execution_count": 26,
   "metadata": {},
   "outputs": [],
   "source": [
    "z1 = 0 # [m]\n",
    "z2 = 10 # [m]"
   ]
  },
  {
   "cell_type": "code",
   "execution_count": 27,
   "metadata": {},
   "outputs": [],
   "source": [
    "H_B = z2 - z1 + Dh_tot"
   ]
  },
  {
   "cell_type": "code",
   "execution_count": 28,
   "metadata": {},
   "outputs": [
    {
     "name": "stdout",
     "output_type": "stream",
     "text": [
      "H_B = 16.909 [m]\n"
     ]
    }
   ],
   "source": [
    "# Imprime resultado\n",
    "print('H_B = %s [m]'%round(H_B,3))"
   ]
  },
  {
   "cell_type": "markdown",
   "metadata": {},
   "source": [
    "### Cálculo de potencia requerida en la bomba\n",
    "Potencia requerida en la bomba __(teórico)__"
   ]
  },
  {
   "cell_type": "markdown",
   "metadata": {},
   "source": [
    "$$ N_B = \\gamma H_B Q $$"
   ]
  },
  {
   "cell_type": "markdown",
   "metadata": {},
   "source": [
    "$N_B =$ potencia de la bomba (teórica)   \n",
    "$\\gamma =$ peso específico del agua   \n",
    "$Q =$ caudal"
   ]
  },
  {
   "cell_type": "code",
   "execution_count": 29,
   "metadata": {},
   "outputs": [],
   "source": [
    "gamma = 1000 # [kgf/m³]\n",
    "\n",
    "N_B = gamma*H_B*Q*g"
   ]
  },
  {
   "cell_type": "code",
   "execution_count": 30,
   "metadata": {},
   "outputs": [
    {
     "name": "stdout",
     "output_type": "stream",
     "text": [
      "N_B = 829.382 [Watt]\n",
      "N_B = 84.545 [kgf*m/s]\n"
     ]
    }
   ],
   "source": [
    "# Imprime resultado\n",
    "print('N_B = %s [Watt]'%round(N_B,3))\n",
    "print('N_B = %s [kgf*m/s]'%round(N_B/g,3))"
   ]
  },
  {
   "cell_type": "markdown",
   "metadata": {},
   "source": [
    "__Rendimiento:__"
   ]
  },
  {
   "cell_type": "code",
   "execution_count": 31,
   "metadata": {},
   "outputs": [],
   "source": [
    "Rend_bom = 0.75 # Bomba\n",
    "Rend_mot = 0.95 # Motor eléctrico\n",
    "Rend_tot = Rend_bom * Rend_mot # Total"
   ]
  },
  {
   "cell_type": "markdown",
   "metadata": {},
   "source": [
    "Potencia requerida en la bomba: __(real)__\n",
    "$$N_{B,real} =  \\frac{N_B}{\\mathrm{ Rend_{Tot} }} $$\n",
    "\n",
    "$N_{B,real} = $ potencia de la bomba (real)     \n",
    "$N_B =$ potencia de la bomba (teórica)   \n",
    "$\\mathrm{ Rend_{Tot}} = $ rendimiento total"
   ]
  },
  {
   "cell_type": "code",
   "execution_count": 32,
   "metadata": {},
   "outputs": [],
   "source": [
    "N_Breal = N_B/Rend_tot"
   ]
  },
  {
   "cell_type": "code",
   "execution_count": 33,
   "metadata": {},
   "outputs": [
    {
     "name": "stdout",
     "output_type": "stream",
     "text": [
      "N_Breal = 1164.0 [Watt]\n"
     ]
    }
   ],
   "source": [
    "# Imprime resultado\n",
    "print('N_Breal = %s [Watt]'%round(N_Breal,1))"
   ]
  },
  {
   "cell_type": "markdown",
   "metadata": {},
   "source": [
    "### Expresado en HP"
   ]
  },
  {
   "cell_type": "markdown",
   "metadata": {},
   "source": [
    "Factor de conversión\n",
    "$$ \\mathrm{ \\frac{ 1 \\, [HP] }{ 745,699872 \\, [Watt] } } $$"
   ]
  },
  {
   "cell_type": "code",
   "execution_count": 34,
   "metadata": {},
   "outputs": [
    {
     "name": "stdout",
     "output_type": "stream",
     "text": [
      "N_Breal = 1.56 [HP]\n"
     ]
    }
   ],
   "source": [
    "# Imprime reaultado\n",
    "print('N_Breal = %s [HP]'%round(N_Breal/745.699872,2))"
   ]
  },
  {
   "cell_type": "code",
   "execution_count": 35,
   "metadata": {},
   "outputs": [],
   "source": [
    "%reset -s -f"
   ]
  }
 ],
 "metadata": {
  "kernelspec": {
   "display_name": "Python 3",
   "language": "python",
   "name": "python3"
  },
  "language_info": {
   "codemirror_mode": {
    "name": "ipython",
    "version": 3
   },
   "file_extension": ".py",
   "mimetype": "text/x-python",
   "name": "python",
   "nbconvert_exporter": "python",
   "pygments_lexer": "ipython3",
   "version": "3.7.4"
  }
 },
 "nbformat": 4,
 "nbformat_minor": 4
}
