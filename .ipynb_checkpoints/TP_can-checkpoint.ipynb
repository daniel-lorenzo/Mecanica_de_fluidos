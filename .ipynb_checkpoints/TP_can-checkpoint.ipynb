{
 "cells": [
  {
   "cell_type": "raw",
   "metadata": {
    "jupyter": {
     "source_hidden": true
    }
   },
   "source": [
    "<script>\n",
    "  function code_toggle() {\n",
    "    if (code_shown){\n",
    "      $('div.input').hide('500');\n",
    "      $('#toggleButton').val('Show Code')\n",
    "    } else {\n",
    "      $('div.input').show('500');\n",
    "      $('#toggleButton').val('Hide Code')\n",
    "    }\n",
    "    code_shown = !code_shown\n",
    "  }\n",
    "\n",
    "  $( document ).ready(function(){\n",
    "    code_shown=true;\n",
    "    $('div.input').show()\n",
    "  });\n",
    "</script>\n",
    "<form action=\"javascript:code_toggle()\"><input type=\"submit\" id=\"toggleButton\" value=\"Hide Code\"></form>"
   ]
  },
  {
   "cell_type": "markdown",
   "metadata": {},
   "source": [
    "# Trabajo Práctico Cañerías - Grupo 3"
   ]
  },
  {
   "cell_type": "markdown",
   "metadata": {},
   "source": [
    "Se tiene una cañería de acero comercial de diámetro $2 ^1/_2 \"$, con una rugosidad de $0,05 \\, \\mathrm{[mm]}$, por la misma circula un caudal de $300 \\, \\mathrm{[Lt/min]}$. Viscosidad cinemática del agua $1,21 \\times 10^{-6} \\, \\mathrm{[m^2/s]}$\n",
    "\n",
    "1. Cálculo de la pérdida de carga del circuito, utilizando para la determinación del factor de fricción el diagrama de Moody (1)\n",
    "2. Aplicando método de longitud equivalente (2)\n",
    "3. Aplicando método del factor K (2)\n",
    "4. Comparar y analizar los resultados obtenidos en 2. y 3. (1)\n",
    "\n",
    "Determinar la potencia teórica necesaria que la bomba debería entregarle al fluido. Si esa bomba forma parte de un sistema bomba + máquina eléctrica (Electrobomba) en el cual se tiene un rendimiento del 75% en la bomba y del 95% en el motor eléctrico, cuál sería la potencia a entregar a la electrobomba. Expresar valores en kW y en HP (1).\n",
    "\n",
    "<img src=\"img/tpcan-01.png\" alt=\"tpcan-01.png\">"
   ]
  },
  {
   "cell_type": "markdown",
   "metadata": {},
   "source": [
    "## Solución"
   ]
  },
  {
   "cell_type": "markdown",
   "metadata": {},
   "source": [
    "## Item 1"
   ]
  },
  {
   "cell_type": "code",
   "execution_count": 1,
   "metadata": {},
   "outputs": [],
   "source": [
    "# Datos del problema:\n",
    "Caudal = 300 # [Lt/min]\n",
    "Diametro = 2.5 # [inch]\n",
    "Rugosidad = 0.05 # [mm]\n",
    "n = 1.21e-6 # [m²/s] (viscosidad cinemática del agua)\n",
    "g = 9.81 # [m/s²]\n",
    "\n",
    "# Conversión a SI:\n",
    "# Caudal:\n",
    "Q = Caudal*(1e-3)*(1/60) # [m³/s]\n",
    "# Diámetro:\n",
    "phi = Diametro*25.4e-3 # [m] \n",
    "# Rugosidad:\n",
    "epsilon = Rugosidad*1e-3 # [m]"
   ]
  },
  {
   "cell_type": "code",
   "execution_count": 2,
   "metadata": {},
   "outputs": [
    {
     "name": "stdout",
     "output_type": "stream",
     "text": [
      "Q = 0.005 [m^3/s]\n",
      "phi = 0.0635 [m]\n",
      "phi = 63.5 [mm]\n",
      "epsilon = 5e-05\n"
     ]
    }
   ],
   "source": [
    "print('Datos:')\n",
    "print('Q = %s [m^3/s] (caudal)'%round(Q,3))\n",
    "print('phi = %s [m] (diámetro)'%round(phi,4))\n",
    "print('phi = %s [mm] (diámetro)'%round(phi*1e3,4))\n",
    "print('epsilon = %s'%round(epsilon,5))"
   ]
  },
  {
   "cell_type": "code",
   "execution_count": 3,
   "metadata": {},
   "outputs": [],
   "source": [
    "import math"
   ]
  },
  {
   "cell_type": "markdown",
   "metadata": {},
   "source": [
    "### Cálculo de la longitud de la cañería\n",
    "Calculamos la longitud del tramo E\n",
    "\n",
    "<img src=\"img/tpcan-03.svg\" alt=\"tpcan-03.svg\">"
   ]
  },
  {
   "cell_type": "markdown",
   "metadata": {},
   "source": [
    "$$ \\sin 45^\\circ = \\mathrm{ \\frac{cat. ad.}{hip.} } \\quad \\Rightarrow \\quad \\mathrm{hip. = \\frac{cat. ad.}{\\sin 45^\\circ} = E } $$"
   ]
  },
  {
   "cell_type": "markdown",
   "metadata": {},
   "source": [
    "$\\sin 45^\\circ = \\sin \\left( \\frac{\\pi}{4} \\, \\mathrm{rad} \\right)$"
   ]
  },
  {
   "cell_type": "code",
   "execution_count": 4,
   "metadata": {},
   "outputs": [],
   "source": [
    "cat_ad = 5 # [m]\n",
    "\n",
    "E = cat_ad/math.sin( math.pi/4 )"
   ]
  },
  {
   "cell_type": "code",
   "execution_count": 5,
   "metadata": {},
   "outputs": [
    {
     "name": "stdout",
     "output_type": "stream",
     "text": [
      "Tramo E:\n",
      "E = 7.071 [m]\n"
     ]
    }
   ],
   "source": [
    "print('Tramo E:')\n",
    "print('E = %s [m]'%round(E,3))"
   ]
  },
  {
   "cell_type": "markdown",
   "metadata": {},
   "source": [
    "<table cellspacing=\"0\" border=\"0\">\n",
    "\t<colgroup width=\"85\"></colgroup>\n",
    "\t<colgroup width=\"94\"></colgroup>\n",
    "\t<tr>\n",
    "\t\t<td style=\"border-top: 1px solid #000000; border-bottom: 1px solid #000000; border-left: 1px solid #000000; border-right: 1px solid #000000\" height=\"17\" align=\"center\"><b>Tramo</b></td>\n",
    "\t\t<td style=\"border-top: 1px solid #000000; border-bottom: 1px solid #000000; border-left: 1px solid #000000; border-right: 1px solid #000000\" align=\"center\"><b>Longitud [m]</b></td>\n",
    "\t</tr>\n",
    "\t<tr>\n",
    "\t\t<td style=\"border-top: 1px solid #000000; border-bottom: 1px solid #000000; border-left: 1px solid #000000; border-right: 1px solid #000000\" height=\"17\" align=\"center\">B</td>\n",
    "\t\t<td style=\"border-top: 1px solid #000000; border-bottom: 1px solid #000000; border-left: 1px solid #000000; border-right: 1px solid #000000\" align=\"right\" sdval=\"5\" sdnum=\"11274;\">5,00</td>\n",
    "\t</tr>\n",
    "\t<tr>\n",
    "\t\t<td style=\"border-top: 1px solid #000000; border-bottom: 1px solid #000000; border-left: 1px solid #000000; border-right: 1px solid #000000\" height=\"17\" align=\"center\">C</td>\n",
    "\t\t<td style=\"border-top: 1px solid #000000; border-bottom: 1px solid #000000; border-left: 1px solid #000000; border-right: 1px solid #000000\" align=\"right\" sdval=\"40\" sdnum=\"11274;\">40,00</td>\n",
    "\t</tr>\n",
    "\t<tr>\n",
    "\t\t<td style=\"border-top: 1px solid #000000; border-bottom: 1px solid #000000; border-left: 1px solid #000000; border-right: 1px solid #000000\" height=\"17\" align=\"center\">D</td>\n",
    "\t\t<td style=\"border-top: 1px solid #000000; border-bottom: 1px solid #000000; border-left: 1px solid #000000; border-right: 1px solid #000000\" align=\"right\" sdval=\"50\" sdnum=\"11274;\">50,00</td>\n",
    "\t</tr>\n",
    "\t<tr>\n",
    "\t\t<td style=\"border-top: 1px solid #000000; border-bottom: 1px solid #000000; border-left: 1px solid #000000; border-right: 1px solid #000000\" height=\"17\" align=\"center\">E</td>\n",
    "\t\t<td style=\"border-top: 1px solid #000000; border-bottom: 1px solid #000000; border-left: 1px solid #000000; border-right: 1px solid #000000\" align=\"right\">7,07</td>\n",
    "\t</tr>\n",
    "\t<tr>\n",
    "\t\t<td style=\"border-top: 1px solid #000000; border-bottom: 1px solid #000000; border-left: 1px solid #000000; border-right: 1px solid #000000\" height=\"17\" align=\"center\">F</td>\n",
    "\t\t<td style=\"border-top: 1px solid #000000; border-bottom: 1px solid #000000; border-left: 1px solid #000000; border-right: 1px solid #000000\" align=\"right\" sdval=\"60\" sdnum=\"11274;\">60,00</td>\n",
    "\t</tr>\n",
    "\t<tr>\n",
    "\t\t<td style=\"border-top: 1px solid #000000; border-bottom: 1px solid #000000; border-left: 1px solid #000000; border-right: 1px solid #000000\" height=\"17\" align=\"center\">G</td>\n",
    "\t\t<td style=\"border-top: 1px solid #000000; border-bottom: 1px solid #000000; border-left: 1px solid #000000; border-right: 1px solid #000000\" align=\"right\" sdval=\"3\" sdnum=\"11274;\">3,00</td>\n",
    "\t</tr>\n",
    "\t<tr>\n",
    "\t\t<td style=\"border-top: 1px solid #000000; border-bottom: 1px solid #000000; border-left: 1px solid #000000; border-right: 1px solid #000000\" height=\"17\" align=\"center\">H</td>\n",
    "\t\t<td style=\"border-top: 1px solid #000000; border-bottom: 1px solid #000000; border-left: 1px solid #000000; border-right: 1px solid #000000\" align=\"right\" sdval=\"20\" sdnum=\"11274;\">20,00</td>\n",
    "\t</tr>\n",
    "\t\t<td style=\"border-top: 1px solid #000000; border-bottom: 1px solid #000000; border-left: 1px solid #000000; border-right: 1px solid #000000\" height=\"17\" align=\"center\">$\\sum$</td>\n",
    "\t\t<td style=\"border-top: 1px solid #000000; border-bottom: 1px solid #000000; border-left: 1px solid #000000; border-right: 1px solid #000000\" align=\"right\" sdval=\"20\" sdnum=\"11274;\"><b>140,07</b></td>\n",
    "\t</tr>    \n",
    "</table>"
   ]
  },
  {
   "cell_type": "code",
   "execution_count": 6,
   "metadata": {},
   "outputs": [],
   "source": [
    "# Tramos (longitud en metros [m])\n",
    "B = 5 ; C = 40 ; D = 5 ; F = 60 ; G = 3 ; H = 20\n",
    "# Longitud:\n",
    "L_lineal = B + C + D + E + F + G + H"
   ]
  },
  {
   "cell_type": "code",
   "execution_count": 7,
   "metadata": {},
   "outputs": [
    {
     "name": "stdout",
     "output_type": "stream",
     "text": [
      "Longitud de la cañería (lineal):\n",
      "L_lineal = 140.07 [m]\n"
     ]
    }
   ],
   "source": [
    "# Imprime resultado\n",
    "print('Longitud de la cañería (lineal):')\n",
    "print('L_lineal = %s [m]'%round(L_lineal,2))"
   ]
  },
  {
   "cell_type": "markdown",
   "metadata": {},
   "source": [
    "### Cálculo de la sección (área):\n",
    "$$ A = \\frac{\\pi}{4} \\phi^2 $$\n",
    "$\\phi =$ diámetro de la cañería    \n",
    "$A =$ área o sección de la cañería"
   ]
  },
  {
   "cell_type": "code",
   "execution_count": 8,
   "metadata": {},
   "outputs": [],
   "source": [
    "# Cálculo de la sección de la cañería\n",
    "A = (math.pi/4)*phi**2"
   ]
  },
  {
   "cell_type": "code",
   "execution_count": 9,
   "metadata": {},
   "outputs": [
    {
     "name": "stdout",
     "output_type": "stream",
     "text": [
      "Área o sección de la cañería:\n",
      "A = 0.00317 [m^2]\n"
     ]
    }
   ],
   "source": [
    "# Imprime resultado\n",
    "print('Área o sección de la cañería:')\n",
    "print('A = %s [m^2]'%round(A,5))"
   ]
  },
  {
   "cell_type": "markdown",
   "metadata": {},
   "source": [
    "### Cálculo de velocidad:\n",
    "$$ Q = A \\cdot v \\qquad \\Rightarrow \\qquad v = \\frac{Q}{A} $$\n",
    "$Q = $ caudal    \n",
    "$v =$ velocidad     \n",
    "$A =$ área o sección de la cañería"
   ]
  },
  {
   "cell_type": "code",
   "execution_count": 10,
   "metadata": {},
   "outputs": [],
   "source": [
    "# Cálculo de velocidad\n",
    "v = Q/A"
   ]
  },
  {
   "cell_type": "code",
   "execution_count": 11,
   "metadata": {},
   "outputs": [
    {
     "name": "stdout",
     "output_type": "stream",
     "text": [
      "Velocidad:\n",
      "v = 1.579 [m/s]\n"
     ]
    }
   ],
   "source": [
    "# Imprime resultado\n",
    "print('Velocidad:')\n",
    "print('v = %s [m/s]'%round(v,3))"
   ]
  },
  {
   "cell_type": "markdown",
   "metadata": {},
   "source": [
    "Tenemos un máximo de 1,5 [m/s] para el tramo de succión, que es muy cercano al valor de velocidad obtenido. Por lo tanto utilizaremos el mismo diámetro de $2 ^1/_2 \"$ para toda la cañería."
   ]
  },
  {
   "cell_type": "markdown",
   "metadata": {},
   "source": [
    "### Cálculo del número de Reynolds: \n",
    "$$ Re= \\frac{\\phi \\cdot v}{\\eta} $$\n",
    "$Re =$ número de Reynolds    \n",
    "$\\eta$ = viscosidad cinemática del agua    \n",
    "$v$ = velocidad    \n",
    "$\\phi$ = diámetro"
   ]
  },
  {
   "cell_type": "code",
   "execution_count": 12,
   "metadata": {},
   "outputs": [],
   "source": [
    "# Cálculo del número de Reynolds\n",
    "Re = (phi*v)/n"
   ]
  },
  {
   "cell_type": "code",
   "execution_count": 13,
   "metadata": {},
   "outputs": [
    {
     "name": "stdout",
     "output_type": "stream",
     "text": [
      "Número de Reynolds:\n",
      "Re = 82855.4\n"
     ]
    }
   ],
   "source": [
    "# Imprime resultado\n",
    "print('Número de Reynolds:')\n",
    "print('Re = %s'%round(Re,1))"
   ]
  },
  {
   "cell_type": "markdown",
   "metadata": {},
   "source": [
    "### Cálculo Rugosidad Relativa:\n",
    "$$ \\mathrm{RugRel} = \\frac{\\varepsilon}{\\phi} $$\n",
    "$\\varepsilon =$ rugosidad   \n",
    "$\\phi =$ diámetro de la cañería   \n",
    "$\\mathrm{RugRel} =$ rugosidad relativa"
   ]
  },
  {
   "cell_type": "code",
   "execution_count": 14,
   "metadata": {},
   "outputs": [],
   "source": [
    "# e/D (Rugosidad Relativa)\n",
    "RugRel = epsilon/phi"
   ]
  },
  {
   "cell_type": "code",
   "execution_count": 15,
   "metadata": {},
   "outputs": [
    {
     "name": "stdout",
     "output_type": "stream",
     "text": [
      "Rugosidad relativa:\n",
      "RugRel = 0.0007874\n"
     ]
    }
   ],
   "source": [
    "# Imprime resultado\n",
    "print('Rugosidad relativa:')\n",
    "print('RugRel = %s'%round(RugRel,7))"
   ]
  },
  {
   "cell_type": "markdown",
   "metadata": {},
   "source": [
    "<img src=\"img/Moody_EN_TP.svg\" alt=\"Moody_EN_TP.svg\">"
   ]
  },
  {
   "cell_type": "markdown",
   "metadata": {},
   "source": [
    "<a href=\"http://maleyengineeringprojects.weebly.com/moody-chart-calculator.html\">http://maleyengineeringprojects.weebly.com/moody-chart-calculator.html</a>"
   ]
  },
  {
   "cell_type": "code",
   "execution_count": 16,
   "metadata": {},
   "outputs": [],
   "source": [
    "# Utilizando el diagrama de Moody obtenemos\n",
    "ft = 0.022 # (factor de fricción)"
   ]
  },
  {
   "cell_type": "markdown",
   "metadata": {},
   "source": [
    "### Cálculo de la pérdida primaria\n",
    "Con la ecuación de Darcy obtenemos la pérdida primaria\n",
    "\n",
    "$$ h_p = f_T \\frac{L_\\mathrm{lineal}}{\\phi} \\frac{v^2}{2g} $$\n",
    "$ h_p =$ pérdida primaria    \n",
    "$f_T =$ factor de fricción   \n",
    "$L_\\mathrm{lineal} =$ longitud de la cañería   \n",
    "$\\phi =$ diámetro de la cañería   \n",
    "$v =$ velocidad     \n",
    "$g =$ aceleración de la gravedad"
   ]
  },
  {
   "cell_type": "code",
   "execution_count": 17,
   "metadata": {},
   "outputs": [],
   "source": [
    "hp = ft*(L_lineal/phi)*v**2/(2*g)"
   ]
  },
  {
   "cell_type": "code",
   "execution_count": 18,
   "metadata": {},
   "outputs": [
    {
     "name": "stdout",
     "output_type": "stream",
     "text": [
      "Pérdida primaria:\n",
      "hp = 6.17 [m]\n"
     ]
    }
   ],
   "source": [
    "# Imprime resultado\n",
    "print('Pérdida primaria:')\n",
    "print('hp = %s [m]'%round(hp,2))"
   ]
  },
  {
   "cell_type": "markdown",
   "metadata": {},
   "source": [
    "## Item 2"
   ]
  },
  {
   "cell_type": "markdown",
   "metadata": {},
   "source": [
    "### Cálculo de las pérdidas secundarias (método de longitudes equivalentes)"
   ]
  },
  {
   "cell_type": "markdown",
   "metadata": {},
   "source": [
    "Aplicando método de longitudes equivalentes, para ello utilizamos el siguiente monograma de perdidas secundarias de la firma Gould Pumps. U.S.A. en accesorios de tubería para agua."
   ]
  },
  {
   "cell_type": "markdown",
   "metadata": {},
   "source": [
    "<img src=\"img/monograma-peq.svg\" alt=\"monograma-peq.svg\">"
   ]
  },
  {
   "cell_type": "markdown",
   "metadata": {},
   "source": [
    "<table cellspacing=\"0\" border=\"0\">\n",
    "\t<colgroup width=\"164\"></colgroup>\n",
    "\t<colgroup width=\"118\"></colgroup>\n",
    "\t<colgroup span=\"2\" width=\"85\"></colgroup>\n",
    "\t<tr>\n",
    "\t\t<td style=\"border-top: 1px solid #000000; border-bottom: 1px solid #000000; border-left: 1px solid #000000; border-right: 1px solid #000000\" height=\"17\" align=\"left\" bgcolor=\"#FFF9AE\"><b>Accesorio</b></td>\n",
    "\t\t<td style=\"border-top: 1px solid #000000; border-bottom: 1px solid #000000; border-left: 1px solid #000000; border-right: 1px solid #000000\" align=\"left\" bgcolor=\"#FFF9AE\"><b>Long. Equiv. [m]</b></td>\n",
    "\t\t<td style=\"border-top: 1px solid #000000; border-bottom: 1px solid #000000; border-left: 1px solid #000000; border-right: 1px solid #000000\" align=\"left\" bgcolor=\"#FFF9AE\"><b>Cantidad</b></td>\n",
    "\t\t<td style=\"border-top: 1px solid #000000; border-bottom: 1px solid #000000; border-left: 1px solid #000000; border-right: 1px solid #000000\" align=\"left\" bgcolor=\"#FFF9AE\"><b>Totales [m]</b></td>\n",
    "\t</tr>\n",
    "\t<tr>\n",
    "\t\t<td style=\"border-top: 1px solid #000000; border-bottom: 1px solid #000000; border-left: 1px solid #000000; border-right: 1px solid #000000\" height=\"17\" align=\"left\">Válvula globo</td>\n",
    "\t\t<td style=\"border-top: 1px solid #000000; border-bottom: 1px solid #000000; border-left: 1px solid #000000; border-right: 1px solid #000000\" align=\"right\" sdval=\"21\" sdnum=\"11274;\">21</td>\n",
    "\t\t<td style=\"border-top: 1px solid #000000; border-bottom: 1px solid #000000; border-left: 1px solid #000000; border-right: 1px solid #000000\" align=\"right\" sdval=\"2\" sdnum=\"11274;\">2</td>\n",
    "\t\t<td style=\"border-top: 1px solid #000000; border-bottom: 1px solid #000000; border-left: 1px solid #000000; border-right: 1px solid #000000\" align=\"right\" sdval=\"42\" sdnum=\"11274;\">42</td>\n",
    "\t</tr>\n",
    "\t<tr>\n",
    "\t\t<td style=\"border-top: 1px solid #000000; border-bottom: 1px solid #000000; border-left: 1px solid #000000; border-right: 1px solid #000000\" height=\"17\" align=\"left\">Codo 180°</td>\n",
    "\t\t<td style=\"border-top: 1px solid #000000; border-bottom: 1px solid #000000; border-left: 1px solid #000000; border-right: 1px solid #000000\" align=\"right\" sdval=\"4,9\" sdnum=\"11274;\">4,9</td>\n",
    "\t\t<td style=\"border-top: 1px solid #000000; border-bottom: 1px solid #000000; border-left: 1px solid #000000; border-right: 1px solid #000000\" align=\"right\" sdval=\"1\" sdnum=\"11274;\">1</td>\n",
    "\t\t<td style=\"border-top: 1px solid #000000; border-bottom: 1px solid #000000; border-left: 1px solid #000000; border-right: 1px solid #000000\" align=\"right\" sdval=\"4,9\" sdnum=\"11274;\">4,9</td>\n",
    "\t</tr>\n",
    "\t<tr>\n",
    "\t\t<td style=\"border-top: 1px solid #000000; border-bottom: 1px solid #000000; border-left: 1px solid #000000; border-right: 1px solid #000000\" height=\"17\" align=\"left\">Válvula retención</td>\n",
    "\t\t<td style=\"border-top: 1px solid #000000; border-bottom: 1px solid #000000; border-left: 1px solid #000000; border-right: 1px solid #000000\" align=\"right\" sdval=\"4,1\" sdnum=\"11274;\">4,1</td>\n",
    "\t\t<td style=\"border-top: 1px solid #000000; border-bottom: 1px solid #000000; border-left: 1px solid #000000; border-right: 1px solid #000000\" align=\"right\" sdval=\"1\" sdnum=\"11274;\">1</td>\n",
    "\t\t<td style=\"border-top: 1px solid #000000; border-bottom: 1px solid #000000; border-left: 1px solid #000000; border-right: 1px solid #000000\" align=\"right\" sdval=\"4,1\" sdnum=\"11274;\">4,1</td>\n",
    "\t</tr>\n",
    "\t<tr>\n",
    "\t\t<td style=\"border-top: 1px solid #000000; border-bottom: 1px solid #000000; border-left: 1px solid #000000; border-right: 1px solid #000000\" height=\"17\" align=\"left\">Codo 90° suave</td>\n",
    "\t\t<td style=\"border-top: 1px solid #000000; border-bottom: 1px solid #000000; border-left: 1px solid #000000; border-right: 1px solid #000000\" align=\"right\" sdval=\"1,2\" sdnum=\"11274;\">1,2</td>\n",
    "\t\t<td style=\"border-top: 1px solid #000000; border-bottom: 1px solid #000000; border-left: 1px solid #000000; border-right: 1px solid #000000\" align=\"right\" sdval=\"2\" sdnum=\"11274;\">2</td>\n",
    "\t\t<td style=\"border-top: 1px solid #000000; border-bottom: 1px solid #000000; border-left: 1px solid #000000; border-right: 1px solid #000000\" align=\"right\" sdval=\"2,4\" sdnum=\"11274;\">2,4</td>\n",
    "\t</tr>\n",
    "\t<tr>\n",
    "\t\t<td style=\"border-top: 1px solid #000000; border-bottom: 1px solid #000000; border-left: 1px solid #000000; border-right: 1px solid #000000\" height=\"17\" align=\"left\">Conexión T fujo directo</td>\n",
    "\t\t<td style=\"border-top: 1px solid #000000; border-bottom: 1px solid #000000; border-left: 1px solid #000000; border-right: 1px solid #000000\" align=\"right\" sdval=\"1,2\" sdnum=\"11274;\">1,2</td>\n",
    "\t\t<td style=\"border-top: 1px solid #000000; border-bottom: 1px solid #000000; border-left: 1px solid #000000; border-right: 1px solid #000000\" align=\"right\" sdval=\"3\" sdnum=\"11274;\">3</td>\n",
    "\t\t<td style=\"border-top: 1px solid #000000; border-bottom: 1px solid #000000; border-left: 1px solid #000000; border-right: 1px solid #000000\" align=\"right\" sdval=\"3,6\" sdnum=\"11274;\">3,6</td>\n",
    "\t</tr>\n",
    "\t<tr>\n",
    "\t\t<td style=\"border-top: 1px solid #000000; border-bottom: 1px solid #000000; border-left: 1px solid #000000; border-right: 1px solid #000000\" height=\"17\" align=\"left\">Curva 45°</td>\n",
    "\t\t<td style=\"border-top: 1px solid #000000; border-bottom: 1px solid #000000; border-left: 1px solid #000000; border-right: 1px solid #000000\" align=\"right\" sdval=\"0,92\" sdnum=\"11274;\">0,92</td>\n",
    "\t\t<td style=\"border-top: 1px solid #000000; border-bottom: 1px solid #000000; border-left: 1px solid #000000; border-right: 1px solid #000000\" align=\"right\" sdval=\"2\" sdnum=\"11274;\">2</td>\n",
    "\t\t<td style=\"border-top: 1px solid #000000; border-bottom: 1px solid #000000; border-left: 1px solid #000000; border-right: 1px solid #000000\" align=\"right\" sdval=\"1,84\" sdnum=\"11274;\">1,84</td>\n",
    "\t</tr>\n",
    "\t<tr>\n",
    "\t\t<td style=\"border-top: 1px solid #000000; border-bottom: 1px solid #000000; border-left: 1px solid #000000; border-right: 1px solid #000000\" height=\"17\" align=\"left\">Válvula de cierre (abierta)</td>\n",
    "\t\t<td style=\"border-top: 1px solid #000000; border-bottom: 1px solid #000000; border-left: 1px solid #000000; border-right: 1px solid #000000\" align=\"right\" sdval=\"0,42\" sdnum=\"11274;\">0,42</td>\n",
    "\t\t<td style=\"border-top: 1px solid #000000; border-bottom: 1px solid #000000; border-left: 1px solid #000000; border-right: 1px solid #000000\" align=\"right\" sdval=\"1\" sdnum=\"11274;\">1</td>\n",
    "\t\t<td style=\"border-top: 1px solid #000000; border-bottom: 1px solid #000000; border-left: 1px solid #000000; border-right: 1px solid #000000\" align=\"right\" sdval=\"0,42\" sdnum=\"11274;\">0,42</td>\n",
    "\t</tr>\n",
    "\t<tr>\n",
    "\t\t<td height=\"17\" align=\"left\"><br></td>\n",
    "\t\t<td align=\"left\"><br></td>\n",
    "\t\t<td align=\"left\"><br></td>\n",
    "\t\t<td align=\"right\" sdval=\"59,26\" sdnum=\"11274;\"><b>59,26</b></td>\n",
    "\t</tr>\n",
    "</table>"
   ]
  },
  {
   "cell_type": "code",
   "execution_count": 19,
   "metadata": {},
   "outputs": [],
   "source": [
    "# Longitud equivalente\n",
    "L_equiv = 59.26 # [m]"
   ]
  },
  {
   "cell_type": "markdown",
   "metadata": {},
   "source": [
    "### Cálculo de la pérdida secundaria\n",
    "Con la ecuación de Darcy obtenemos la pérdida secundaria\n",
    "\n",
    "$$ h_s = f_T \\frac{L_\\mathrm{equiv}}{\\phi} \\frac{v^2}{2g} $$\n",
    "$ h_s =$ pérdida secundaria    \n",
    "$f_T =$ factor de fricción   \n",
    "$L_\\mathrm{equiv} =$ longitud equivalente   \n",
    "$\\phi =$ diámetro de la cañería   \n",
    "$v =$ velocidad     \n",
    "$g =$ aceleración de la gravedad"
   ]
  },
  {
   "cell_type": "code",
   "execution_count": 20,
   "metadata": {},
   "outputs": [],
   "source": [
    "hs = ft*(L_equiv/phi)*v**2/(2*g)"
   ]
  },
  {
   "cell_type": "code",
   "execution_count": 21,
   "metadata": {},
   "outputs": [
    {
     "name": "stdout",
     "output_type": "stream",
     "text": [
      "Pérdida secundaria: (método de longitud equivalente)\n",
      "hs = 2.61 [m]\n"
     ]
    }
   ],
   "source": [
    "# Imprime resultado\n",
    "print('Pérdida secundaria: (método de longitud equivalente)')\n",
    "print('hs = %s [m]'%round(hs,2))"
   ]
  },
  {
   "cell_type": "markdown",
   "metadata": {},
   "source": [
    "$$ h_{total} = h_p + h_s $$"
   ]
  },
  {
   "cell_type": "code",
   "execution_count": 22,
   "metadata": {},
   "outputs": [],
   "source": [
    "h_total = hp + hs"
   ]
  },
  {
   "cell_type": "code",
   "execution_count": 23,
   "metadata": {},
   "outputs": [
    {
     "name": "stdout",
     "output_type": "stream",
     "text": [
      "Pérdida total:\n",
      "h_total = 8.77 [m]\n"
     ]
    }
   ],
   "source": [
    "# Imprime resultado\n",
    "print('Pérdida total:')\n",
    "print('h_total = %s [m]'%round(h_total,2))"
   ]
  },
  {
   "cell_type": "markdown",
   "metadata": {},
   "source": [
    "Planteando la ecuación de energía entre 1 y 2 se obtiene"
   ]
  },
  {
   "cell_type": "markdown",
   "metadata": {},
   "source": [
    "$$ \\frac{P_1}{\\gamma} + \\frac{W_1^2}{2g} + z_1 + H_B = \\frac{P_2}{\\gamma} + \\frac{W_2^2}{2g} + z_2 +  h_\\mathrm{total} $$"
   ]
  },
  {
   "cell_type": "markdown",
   "metadata": {},
   "source": [
    "Se simplifica a:"
   ]
  },
  {
   "cell_type": "markdown",
   "metadata": {},
   "source": [
    "$$ H_B = z_2 - z_1 + h_\\mathrm{total} $$\n",
    "$z_1 =$ cota 1   \n",
    "$z_2 =$ cota 2   \n",
    "$ h_\\mathrm{total} =$ pérdida de carga total"
   ]
  },
  {
   "cell_type": "code",
   "execution_count": 24,
   "metadata": {},
   "outputs": [],
   "source": [
    "z1 = 0 # [m]\n",
    "z2 = 10 # [m]"
   ]
  },
  {
   "cell_type": "code",
   "execution_count": 25,
   "metadata": {},
   "outputs": [],
   "source": [
    "H_B = z2 - z1 + h_total"
   ]
  },
  {
   "cell_type": "code",
   "execution_count": 26,
   "metadata": {},
   "outputs": [
    {
     "name": "stdout",
     "output_type": "stream",
     "text": [
      "H_B = 18.774 [m]\n"
     ]
    }
   ],
   "source": [
    "# Imprime resultado\n",
    "print('H_B = %s [m]'%round(H_B,3))"
   ]
  },
  {
   "cell_type": "markdown",
   "metadata": {},
   "source": [
    "### Cálculo de potencia requerida en la bomba\n",
    "Potencia requerida en la bomba __(teórico)__"
   ]
  },
  {
   "cell_type": "markdown",
   "metadata": {},
   "source": [
    "$$ N_B = \\gamma H_B Q $$"
   ]
  },
  {
   "cell_type": "markdown",
   "metadata": {},
   "source": [
    "Entonces\n",
    "$$ N_B = \\delta g H_B Q $$"
   ]
  },
  {
   "cell_type": "markdown",
   "metadata": {},
   "source": [
    "$N_B =$ potencia de la bomba (teórica)   \n",
    "$\\delta =$ densidad específica del agua   \n",
    "$g = $ aceleración de la gravedad     \n",
    "$Q =$ caudal"
   ]
  },
  {
   "cell_type": "code",
   "execution_count": 27,
   "metadata": {},
   "outputs": [],
   "source": [
    "delta = 1000 # [kg/m³]\n",
    "\n",
    "N_B = delta*g*H_B*Q"
   ]
  },
  {
   "cell_type": "code",
   "execution_count": 28,
   "metadata": {},
   "outputs": [
    {
     "name": "stdout",
     "output_type": "stream",
     "text": [
      "Potencia requerida en la bomba: (teórica)\n",
      "N_B = 920.857 [Watt]\n",
      "N_B = 93.869 [kgf*m/s]\n"
     ]
    }
   ],
   "source": [
    "# Imprime resultado\n",
    "print('Potencia requerida en la bomba: (teórica)')\n",
    "print('N_B = %s [Watt]'%round(N_B,3))\n",
    "print('N_B = %s [kgf*m/s]'%round(N_B/g,3))"
   ]
  },
  {
   "cell_type": "markdown",
   "metadata": {},
   "source": [
    "__Rendimiento:__"
   ]
  },
  {
   "cell_type": "code",
   "execution_count": 29,
   "metadata": {},
   "outputs": [],
   "source": [
    "Rend_bom = 0.75 # Bomba\n",
    "Rend_mot = 0.95 # Motor eléctrico\n",
    "Rend_tot = Rend_bom * Rend_mot # Total"
   ]
  },
  {
   "cell_type": "markdown",
   "metadata": {},
   "source": [
    "Potencia requerida en la bomba: __(real)__\n",
    "$$N_{B,real} =  \\frac{N_B}{\\mathrm{ Rend_{Tot} }} $$\n",
    "\n",
    "$N_{B,real} = $ potencia de la bomba (real)     \n",
    "$N_B =$ potencia de la bomba (teórica)   \n",
    "$\\mathrm{ Rend_{Tot}} = $ rendimiento total"
   ]
  },
  {
   "cell_type": "code",
   "execution_count": 30,
   "metadata": {},
   "outputs": [],
   "source": [
    "N_Breal = N_B/Rend_tot"
   ]
  },
  {
   "cell_type": "code",
   "execution_count": 31,
   "metadata": {},
   "outputs": [
    {
     "name": "stdout",
     "output_type": "stream",
     "text": [
      "Potencia requerida en la bomba: (real)\n",
      "N_Breal = 1292.4 [Watt]\n"
     ]
    }
   ],
   "source": [
    "# Imprime resultado\n",
    "print('Potencia requerida en la bomba: (real)')\n",
    "print('N_Breal = %s [Watt]'%round(N_Breal,1))"
   ]
  },
  {
   "cell_type": "markdown",
   "metadata": {},
   "source": [
    "### Expresado en HP"
   ]
  },
  {
   "cell_type": "markdown",
   "metadata": {},
   "source": [
    "Factor de conversión\n",
    "$$ \\mathrm{ \\frac{ 1 \\, [HP] }{ 745,699872 \\, [Watt] } } $$"
   ]
  },
  {
   "cell_type": "code",
   "execution_count": 32,
   "metadata": {},
   "outputs": [
    {
     "name": "stdout",
     "output_type": "stream",
     "text": [
      "Potencia requerida en la bomba: (real)\n",
      "N_Breal = 1.73 [HP]\n"
     ]
    }
   ],
   "source": [
    "# Imprime reaultado\n",
    "print('Potencia requerida en la bomba: (real)')\n",
    "print('N_Breal = %s [HP]'%round(N_Breal/745.699872,2))"
   ]
  },
  {
   "cell_type": "markdown",
   "metadata": {},
   "source": [
    "---------------\n",
    "## Item 3."
   ]
  },
  {
   "cell_type": "markdown",
   "metadata": {},
   "source": [
    "### Cálculo de las pérdidas secundarias (método del factor k)\n",
    "Para el cálculo de las pérdidas secundarias, mediante el factor k tenemos:"
   ]
  },
  {
   "cell_type": "markdown",
   "metadata": {},
   "source": [
    "Fórmulas y valores obtenidos con tablas adjuntas\n",
    "<table cellspacing=\"0\" border=\"0\">\n",
    "\t<colgroup width=\"207\"></colgroup>\n",
    "\t<colgroup span=\"4\" width=\"85\"></colgroup>\n",
    "\t<tr>\n",
    "\t\t<td style=\"border-top: 1px solid #000000; border-bottom: 1px solid #000000; border-left: 1px solid #000000; border-right: 1px solid #000000\" height=\"17\" align=\"left\" bgcolor=\"#FFFBCC\"><b>Accesorio</b></td>\n",
    "\t\t<td style=\"border-top: 1px solid #000000; border-bottom: 1px solid #000000; border-left: 1px solid #000000; border-right: 1px solid #000000\" align=\"center\" bgcolor=\"#FFFBCC\"><b>k</b></td>\n",
    "\t\t<td style=\"border-top: 1px solid #000000; border-bottom: 1px solid #000000; border-left: 1px solid #000000; border-right: 1px solid #000000\" align=\"left\" bgcolor=\"#FFFBCC\"><b>Valor</b></td>\n",
    "\t\t<td style=\"border-top: 1px solid #000000; border-bottom: 1px solid #000000; border-left: 1px solid #000000; border-right: 1px solid #000000\" align=\"left\" bgcolor=\"#FFFBCC\"><b>Cantidad</b></td>\n",
    "\t\t<td style=\"border-top: 1px solid #000000; border-bottom: 1px solid #000000; border-left: 1px solid #000000; border-right: 1px solid #000000\" align=\"left\" bgcolor=\"#FFFBCC\"><b>Total</b></td>\n",
    "\t</tr>\n",
    "\t<tr>\n",
    "\t\t<td style=\"border-top: 1px solid #000000; border-bottom: 1px solid #000000; border-left: 1px solid #000000; border-right: 1px solid #000000\" height=\"17\" align=\"left\">Codo estándar 90°</td>\n",
    "\t\t<td style=\"border-top: 1px solid #000000; border-bottom: 1px solid #000000; border-left: 1px solid #000000; border-right: 1px solid #000000\" align=\"center\">30*ft</td>\n",
    "\t\t<td style=\"border-top: 1px solid #000000; border-bottom: 1px solid #000000; border-left: 1px solid #000000; border-right: 1px solid #000000\" align=\"right\" sdval=\"0,66\" sdnum=\"11274;0;0,000\">0,660</td>\n",
    "\t\t<td style=\"border-top: 1px solid #000000; border-bottom: 1px solid #000000; border-left: 1px solid #000000; border-right: 1px solid #000000\" align=\"right\" sdval=\"2\" sdnum=\"11274;\">2</td>\n",
    "\t\t<td style=\"border-top: 1px solid #000000; border-bottom: 1px solid #000000; border-left: 1px solid #000000; border-right: 1px solid #000000\" align=\"right\" sdval=\"1,32\" sdnum=\"11274;0;0,000\">1,320</td>\n",
    "\t</tr>\n",
    "\t<tr>\n",
    "\t\t<td style=\"border-top: 1px solid #000000; border-bottom: 1px solid #000000; border-left: 1px solid #000000; border-right: 1px solid #000000\" height=\"17\" align=\"left\">Codo estándar 45°</td>\n",
    "\t\t<td style=\"border-top: 1px solid #000000; border-bottom: 1px solid #000000; border-left: 1px solid #000000; border-right: 1px solid #000000\" align=\"center\">16*ft</td>\n",
    "\t\t<td style=\"border-top: 1px solid #000000; border-bottom: 1px solid #000000; border-left: 1px solid #000000; border-right: 1px solid #000000\" align=\"right\" sdval=\"0,352\" sdnum=\"11274;0;0,000\">0,352</td>\n",
    "\t\t<td style=\"border-top: 1px solid #000000; border-bottom: 1px solid #000000; border-left: 1px solid #000000; border-right: 1px solid #000000\" align=\"right\" sdval=\"2\" sdnum=\"11274;\">2</td>\n",
    "\t\t<td style=\"border-top: 1px solid #000000; border-bottom: 1px solid #000000; border-left: 1px solid #000000; border-right: 1px solid #000000\" align=\"right\" sdval=\"0,704\" sdnum=\"11274;0;0,000\">0,704</td>\n",
    "\t</tr>\n",
    "\t<tr>\n",
    "\t\t<td style=\"border-top: 1px solid #000000; border-bottom: 1px solid #000000; border-left: 1px solid #000000; border-right: 1px solid #000000\" height=\"17\" align=\"left\">Conexión estándar T flujo directo</td>\n",
    "\t\t<td style=\"border-top: 1px solid #000000; border-bottom: 1px solid #000000; border-left: 1px solid #000000; border-right: 1px solid #000000\" align=\"center\">20*ft</td>\n",
    "\t\t<td style=\"border-top: 1px solid #000000; border-bottom: 1px solid #000000; border-left: 1px solid #000000; border-right: 1px solid #000000\" align=\"right\" sdval=\"0,44\" sdnum=\"11274;0;0,000\">0,440</td>\n",
    "\t\t<td style=\"border-top: 1px solid #000000; border-bottom: 1px solid #000000; border-left: 1px solid #000000; border-right: 1px solid #000000\" align=\"right\" sdval=\"3\" sdnum=\"11274;\">3</td>\n",
    "\t\t<td style=\"border-top: 1px solid #000000; border-bottom: 1px solid #000000; border-left: 1px solid #000000; border-right: 1px solid #000000\" align=\"right\" sdval=\"1,32\" sdnum=\"11274;0;0,000\">1,320</td>\n",
    "\t</tr>\n",
    "\t<tr>\n",
    "\t\t<td style=\"border-top: 1px solid #000000; border-bottom: 1px solid #000000; border-left: 1px solid #000000; border-right: 1px solid #000000\" height=\"17\" align=\"left\">Válvula de retención</td>\n",
    "\t\t<td style=\"border-top: 1px solid #000000; border-bottom: 1px solid #000000; border-left: 1px solid #000000; border-right: 1px solid #000000\" align=\"center\">50*ft</td>\n",
    "\t\t<td style=\"border-top: 1px solid #000000; border-bottom: 1px solid #000000; border-left: 1px solid #000000; border-right: 1px solid #000000\" align=\"right\" sdval=\"1,1\" sdnum=\"11274;0;0,000\">1,100</td>\n",
    "\t\t<td style=\"border-top: 1px solid #000000; border-bottom: 1px solid #000000; border-left: 1px solid #000000; border-right: 1px solid #000000\" align=\"right\" sdval=\"1\" sdnum=\"11274;\">1</td>\n",
    "\t\t<td style=\"border-top: 1px solid #000000; border-bottom: 1px solid #000000; border-left: 1px solid #000000; border-right: 1px solid #000000\" align=\"right\" sdval=\"1,1\" sdnum=\"11274;0;0,000\">1,100</td>\n",
    "\t</tr>\n",
    "\t<tr>\n",
    "\t\t<td style=\"border-top: 1px solid #000000; border-bottom: 1px solid #000000; border-left: 1px solid #000000; border-right: 1px solid #000000\" height=\"17\" align=\"left\">Válvula globo</td>\n",
    "\t\t<td style=\"border-top: 1px solid #000000; border-bottom: 1px solid #000000; border-left: 1px solid #000000; border-right: 1px solid #000000\" align=\"center\">340*ft</td>\n",
    "\t\t<td style=\"border-top: 1px solid #000000; border-bottom: 1px solid #000000; border-left: 1px solid #000000; border-right: 1px solid #000000\" align=\"right\" sdval=\"7,48\" sdnum=\"11274;0;0,000\">7,480</td>\n",
    "\t\t<td style=\"border-top: 1px solid #000000; border-bottom: 1px solid #000000; border-left: 1px solid #000000; border-right: 1px solid #000000\" align=\"right\" sdval=\"2\" sdnum=\"11274;\">2</td>\n",
    "\t\t<td style=\"border-top: 1px solid #000000; border-bottom: 1px solid #000000; border-left: 1px solid #000000; border-right: 1px solid #000000\" align=\"right\" sdval=\"14,96\" sdnum=\"11274;0;0,000\">14,960</td>\n",
    "\t</tr>\n",
    "\t<tr>\n",
    "\t\t<td style=\"border-top: 1px solid #000000; border-bottom: 1px solid #000000; border-left: 1px solid #000000; border-right: 1px solid #000000\" height=\"17\" align=\"left\">Válvula compuesta</td>\n",
    "\t\t<td style=\"border-top: 1px solid #000000; border-bottom: 1px solid #000000; border-left: 1px solid #000000; border-right: 1px solid #000000\" align=\"center\">8*ft</td>\n",
    "\t\t<td style=\"border-top: 1px solid #000000; border-bottom: 1px solid #000000; border-left: 1px solid #000000; border-right: 1px solid #000000\" align=\"right\" sdval=\"0,176\" sdnum=\"11274;0;0,000\">0,176</td>\n",
    "\t\t<td style=\"border-top: 1px solid #000000; border-bottom: 1px solid #000000; border-left: 1px solid #000000; border-right: 1px solid #000000\" align=\"right\" sdval=\"1\" sdnum=\"11274;\">1</td>\n",
    "\t\t<td style=\"border-top: 1px solid #000000; border-bottom: 1px solid #000000; border-left: 1px solid #000000; border-right: 1px solid #000000\" align=\"right\" sdval=\"0,176\" sdnum=\"11274;0;0,000\">0,176</td>\n",
    "\t</tr>\n",
    "\t<tr>\n",
    "\t\t<td style=\"border-top: 1px solid #000000; border-bottom: 1px solid #000000; border-left: 1px solid #000000; border-right: 1px solid #000000\" height=\"17\" align=\"left\">Curva de 180°</td>\n",
    "\t\t<td style=\"border-top: 1px solid #000000; border-bottom: 1px solid #000000; border-left: 1px solid #000000; border-right: 1px solid #000000\" align=\"center\">50*ft</td>\n",
    "\t\t<td style=\"border-top: 1px solid #000000; border-bottom: 1px solid #000000; border-left: 1px solid #000000; border-right: 1px solid #000000\" align=\"right\" sdval=\"1,1\" sdnum=\"11274;0;0,000\">1,100</td>\n",
    "\t\t<td style=\"border-top: 1px solid #000000; border-bottom: 1px solid #000000; border-left: 1px solid #000000; border-right: 1px solid #000000\" align=\"right\" sdval=\"1\" sdnum=\"11274;\">1</td>\n",
    "\t\t<td style=\"border-top: 1px solid #000000; border-bottom: 1px solid #000000; border-left: 1px solid #000000; border-right: 1px solid #000000\" align=\"right\" sdval=\"1,1\" sdnum=\"11274;0;0,000\">1,100</td>\n",
    "\t</tr>\n",
    "\t<tr>\n",
    "\t\t<td height=\"17\" align=\"left\"><br></td>\n",
    "\t\t<td align=\"left\"><br></td>\n",
    "\t\t<td align=\"left\"><br></td>\n",
    "\t\t<td align=\"left\"><br></td>\n",
    "\t\t<td align=\"right\" sdval=\"20,68\" sdnum=\"11274;0;0,000\"><b>20,680</b></td>\n",
    "\t</tr>\n",
    "</table>"
   ]
  },
  {
   "cell_type": "code",
   "execution_count": 33,
   "metadata": {},
   "outputs": [],
   "source": [
    "k_cd90 = 30*ft # Codo estándar 90°\n",
    "k_cd45 = 16*ft # Codo estándar 45°\n",
    "k_T_fd = 20*ft # Conexión estándar T flujo directo\n",
    "k_T_de = 60*ft # Conexión estándar T flujo desviado\n",
    "k_valret = 50*ft # Válvulo de retención\n",
    "k_valglob = 340*ft # Válvula globo\n",
    "k_valcomp = 8*ft # Válvula compuesta\n",
    "k_cur180 = 50*ft # Curva de 180°"
   ]
  },
  {
   "cell_type": "markdown",
   "metadata": {},
   "source": [
    "Pérdida secundaria (factor k)\n",
    "$$ h_s = \\sum K_L \\frac{v^2}{2g} $$\n",
    "$ h_s =$ pérdida secundaria   \n",
    "$\\sum K_L = $ sumatoria de los coeficientes $k$ de los accesorios   \n",
    "$v =$ velocidad  \n",
    "$g =$ aceleración de la gravedad"
   ]
  },
  {
   "cell_type": "code",
   "execution_count": 34,
   "metadata": {},
   "outputs": [],
   "source": [
    "# Sumatoria de los coeficientes k de los accesorios\n",
    "SumK_L = k_cd90*2 + k_cd45*2 + k_T_fd*3 + k_valret*1 + k_valglob*2 + k_cur180 + k_valcomp"
   ]
  },
  {
   "cell_type": "code",
   "execution_count": 35,
   "metadata": {},
   "outputs": [
    {
     "name": "stdout",
     "output_type": "stream",
     "text": [
      "Sumatoria de los coeficientes k de los accesorios:\n",
      "SumK_L = 20.68\n"
     ]
    }
   ],
   "source": [
    "# Imprime resultado\n",
    "print('Sumatoria de los coeficientes k de los accesorios:')\n",
    "print('SumK_L = %s'%round(SumK_L,3))"
   ]
  },
  {
   "cell_type": "code",
   "execution_count": 36,
   "metadata": {},
   "outputs": [],
   "source": [
    "# Pérdida secundaria\n",
    "hs = SumK_L * v**2/(2*g)"
   ]
  },
  {
   "cell_type": "code",
   "execution_count": 37,
   "metadata": {},
   "outputs": [
    {
     "name": "stdout",
     "output_type": "stream",
     "text": [
      "Pérdida secundaria: (método del factor k)\n",
      "hs = 2.6273 [m]\n"
     ]
    }
   ],
   "source": [
    "# Imprime resultado\n",
    "print('Pérdida secundaria: (método del factor k)')\n",
    "print('hs = %s [m]'%round(hs,4))"
   ]
  },
  {
   "cell_type": "markdown",
   "metadata": {},
   "source": [
    "### Cálculo de pérdida de carga total:\n",
    "$$ h_\\mathrm{total} =  \\left( f_T \\frac{L_\\mathrm{lineal}}{\\phi} + \\sum K_L \\right) \\frac{v^2}{2g} $$\n",
    "$ h_\\mathrm{total} =$ pérdida de carga total   \n",
    "$f_T =$ factor de fricción   \n",
    "$L_\\mathrm{lineal} =$ longitud de la cañería   \n",
    "$\\phi =$ diámetro de la cañería  \n",
    "$\\sum K_L = $ sumatoria de los coeficientes $k$ de los accesorios   \n",
    "$v =$ velocidad  \n",
    "$g =$ aceleración de la gravedad"
   ]
  },
  {
   "cell_type": "markdown",
   "metadata": {},
   "source": [
    "o también: \n",
    "$$ h_{total} = h_p + h_s $$"
   ]
  },
  {
   "cell_type": "code",
   "execution_count": 38,
   "metadata": {},
   "outputs": [],
   "source": [
    "h_total = hp + hs"
   ]
  },
  {
   "cell_type": "code",
   "execution_count": 39,
   "metadata": {},
   "outputs": [
    {
     "name": "stdout",
     "output_type": "stream",
     "text": [
      "Pérdida total:\n",
      "h_tot = 8.7928 [m]\n"
     ]
    }
   ],
   "source": [
    "# Imprime resultado\n",
    "print('Pérdida total:')\n",
    "print('h_tot = %s [m]'%round(h_total,4))"
   ]
  },
  {
   "cell_type": "markdown",
   "metadata": {},
   "source": [
    "Planteando la ecuación de energía entre 1 y 2 se obtiene"
   ]
  },
  {
   "cell_type": "markdown",
   "metadata": {},
   "source": [
    "$$ \\frac{P_1}{\\gamma} + \\frac{W_1^2}{2g} + z_1 + H_B = \\frac{P_2}{\\gamma} + \\frac{W_2^2}{2g} + z_2 +  h_\\mathrm{total} $$"
   ]
  },
  {
   "cell_type": "markdown",
   "metadata": {},
   "source": [
    "Se simplifica a:"
   ]
  },
  {
   "cell_type": "markdown",
   "metadata": {},
   "source": [
    "$$ H_B = z_2 - z_1 + h_\\mathrm{total} $$\n",
    "$z_1 =$ cota 1   \n",
    "$z_2 =$ cota 2   \n",
    "$ h_\\mathrm{total} =$ pérdida de carga total"
   ]
  },
  {
   "cell_type": "code",
   "execution_count": 40,
   "metadata": {},
   "outputs": [],
   "source": [
    "z1 = 0 # [m]\n",
    "z2 = 10 # [m]"
   ]
  },
  {
   "cell_type": "code",
   "execution_count": 41,
   "metadata": {},
   "outputs": [],
   "source": [
    "H_B = z2 - z1 + h_total"
   ]
  },
  {
   "cell_type": "code",
   "execution_count": 42,
   "metadata": {},
   "outputs": [
    {
     "name": "stdout",
     "output_type": "stream",
     "text": [
      "H_B = 18.793 [m]\n"
     ]
    }
   ],
   "source": [
    "# Imprime resultado\n",
    "print('H_B = %s [m]'%round(H_B,3))"
   ]
  },
  {
   "cell_type": "markdown",
   "metadata": {},
   "source": [
    "### Cálculo de potencia requerida en la bomba\n",
    "Potencia requerida en la bomba __(teórico)__"
   ]
  },
  {
   "cell_type": "markdown",
   "metadata": {},
   "source": [
    "$$ N_B = \\gamma H_B Q $$"
   ]
  },
  {
   "cell_type": "markdown",
   "metadata": {},
   "source": [
    "Entonces\n",
    "$$ N_B = \\delta g H_B Q $$"
   ]
  },
  {
   "cell_type": "markdown",
   "metadata": {},
   "source": [
    "$N_B =$ potencia de la bomba (teórica)   \n",
    "$\\delta =$ densidad específica del agua   \n",
    "$g = $ aceleración de la gravedad     \n",
    "$Q =$ caudal"
   ]
  },
  {
   "cell_type": "code",
   "execution_count": 43,
   "metadata": {},
   "outputs": [],
   "source": [
    "delta = 1000 # [kg/m³]\n",
    "\n",
    "N_B = delta*g*H_B*Q"
   ]
  },
  {
   "cell_type": "code",
   "execution_count": 44,
   "metadata": {},
   "outputs": [
    {
     "name": "stdout",
     "output_type": "stream",
     "text": [
      "Potencia requerida en la bomba: (teórico)\n",
      "N_B = 921.786 [Watt]\n",
      "N_B = 93.964 [kgf*m/s]\n"
     ]
    }
   ],
   "source": [
    "# Imprime resultado\n",
    "print('Potencia requerida en la bomba: (teórico)')\n",
    "print('N_B = %s [Watt]'%round(N_B,3))\n",
    "print('N_B = %s [kgf*m/s]'%round(N_B/g,3))"
   ]
  },
  {
   "cell_type": "markdown",
   "metadata": {},
   "source": [
    "__Rendimiento:__"
   ]
  },
  {
   "cell_type": "code",
   "execution_count": 45,
   "metadata": {},
   "outputs": [],
   "source": [
    "Rend_bom = 0.75 # Bomba\n",
    "Rend_mot = 0.95 # Motor eléctrico\n",
    "Rend_tot = Rend_bom * Rend_mot # Total"
   ]
  },
  {
   "cell_type": "markdown",
   "metadata": {},
   "source": [
    "Potencia requerida en la bomba: __(real)__\n",
    "$$N_{B,real} =  \\frac{N_B}{\\mathrm{ Rend_{Tot} }} $$\n",
    "\n",
    "$N_{B,real} = $ potencia de la bomba (real)     \n",
    "$N_B =$ potencia de la bomba (teórica)   \n",
    "$\\mathrm{ Rend_{Tot}} = $ rendimiento total"
   ]
  },
  {
   "cell_type": "code",
   "execution_count": 46,
   "metadata": {},
   "outputs": [],
   "source": [
    "N_Breal = N_B/Rend_tot"
   ]
  },
  {
   "cell_type": "code",
   "execution_count": 47,
   "metadata": {},
   "outputs": [
    {
     "name": "stdout",
     "output_type": "stream",
     "text": [
      "Potencia requerida en la bomba: (real)\n",
      "N_Breal = 1293.7 [Watt]\n"
     ]
    }
   ],
   "source": [
    "# Imprime resultado\n",
    "print('Potencia requerida en la bomba: (real)')\n",
    "print('N_Breal = %s [Watt]'%round(N_Breal,1))"
   ]
  },
  {
   "cell_type": "markdown",
   "metadata": {},
   "source": [
    "### Expresado en HP"
   ]
  },
  {
   "cell_type": "markdown",
   "metadata": {},
   "source": [
    "Factor de conversión\n",
    "$$ \\mathrm{ \\frac{ 1 \\, [HP] }{ 745,699872 \\, [Watt] } } $$"
   ]
  },
  {
   "cell_type": "code",
   "execution_count": 48,
   "metadata": {},
   "outputs": [
    {
     "name": "stdout",
     "output_type": "stream",
     "text": [
      "Potencia requerida en la bomba: (real)\n",
      "N_Breal = 1.73 [HP]\n"
     ]
    }
   ],
   "source": [
    "# Imprime reaultado\n",
    "print('Potencia requerida en la bomba: (real)')\n",
    "print('N_Breal = %s [HP]'%round(N_Breal/745.699872,2))"
   ]
  },
  {
   "cell_type": "markdown",
   "metadata": {},
   "source": [
    "## Item 4\n",
    "Cuadro comparativo\n",
    "\n",
    "<table cellspacing=\"0\" border=\"0\">\n",
    "\t<colgroup width=\"85\"></colgroup>\n",
    "\t<colgroup width=\"93\"></colgroup>\n",
    "\t<colgroup span=\"2\" width=\"85\"></colgroup>\n",
    "\t<tr>\n",
    "\t\t<td style=\"border-top: 1px solid #000000; border-bottom: 1px solid #000000; border-left: 1px solid #000000; border-right: 1px solid #000000\" height=\"17\" align=\"left\" bgcolor=\"#FFFBCC\"><br></td>\n",
    "\t\t<td style=\"border-top: 1px solid #000000; border-bottom: 1px solid #000000; border-left: 1px solid #000000; border-right: 1px solid #000000\" align=\"left\" bgcolor=\"#FFFBCC\"><b>Long. Equiv.</b></td>\n",
    "\t\t<td style=\"border-top: 1px solid #000000; border-bottom: 1px solid #000000; border-left: 1px solid #000000; border-right: 1px solid #000000\" align=\"left\" bgcolor=\"#FFFBCC\"><b>Factor k</b></td>\n",
    "\t\t<td style=\"border-top: 1px solid #000000; border-bottom: 1px solid #000000; border-left: 1px solid #000000; border-right: 1px solid #000000\" align=\"left\" bgcolor=\"#FFFBCC\"><b>Unidades</b></td>\n",
    "\t</tr>\n",
    "\t<tr>\n",
    "\t\t<td style=\"border-top: 1px solid #000000; border-bottom: 1px solid #000000; border-left: 1px solid #000000; border-right: 1px solid #000000\" height=\"17\" align=\"left\"><b>h_s</b></td>\n",
    "\t\t<td style=\"border-top: 1px solid #000000; border-bottom: 1px solid #000000; border-left: 1px solid #000000; border-right: 1px solid #000000\" align=\"right\" sdval=\"18,774\" sdnum=\"11274;\">2,61</td>\n",
    "\t\t<td style=\"border-top: 1px solid #000000; border-bottom: 1px solid #000000; border-left: 1px solid #000000; border-right: 1px solid #000000\" align=\"right\" sdval=\"18,793\" sdnum=\"11274;\">2,63</td>\n",
    "\t\t<td style=\"border-top: 1px solid #000000; border-bottom: 1px solid #000000; border-left: 1px solid #000000; border-right: 1px solid #000000\" align=\"left\">[m]</td>\n",
    "\t</tr>    \n",
    "\t<tr>\n",
    "\t\t<td style=\"border-top: 1px solid #000000; border-bottom: 1px solid #000000; border-left: 1px solid #000000; border-right: 1px solid #000000\" height=\"17\" align=\"left\"><b>H_B</b></td>\n",
    "\t\t<td style=\"border-top: 1px solid #000000; border-bottom: 1px solid #000000; border-left: 1px solid #000000; border-right: 1px solid #000000\" align=\"right\" sdval=\"18,774\" sdnum=\"11274;\">18,774</td>\n",
    "\t\t<td style=\"border-top: 1px solid #000000; border-bottom: 1px solid #000000; border-left: 1px solid #000000; border-right: 1px solid #000000\" align=\"right\" sdval=\"18,793\" sdnum=\"11274;\">18,793</td>\n",
    "\t\t<td style=\"border-top: 1px solid #000000; border-bottom: 1px solid #000000; border-left: 1px solid #000000; border-right: 1px solid #000000\" align=\"left\">[m]</td>\n",
    "\t</tr>\n",
    "\t<tr>\n",
    "\t\t<td style=\"border-top: 1px solid #000000; border-bottom: 1px solid #000000; border-left: 1px solid #000000; border-right: 1px solid #000000\" height=\"17\" align=\"left\"><b>N_B teórico</b></td>\n",
    "\t\t<td style=\"border-top: 1px solid #000000; border-bottom: 1px solid #000000; border-left: 1px solid #000000; border-right: 1px solid #000000\" align=\"right\" sdval=\"920,857\" sdnum=\"11274;\">920,857</td>\n",
    "\t\t<td style=\"border-top: 1px solid #000000; border-bottom: 1px solid #000000; border-left: 1px solid #000000; border-right: 1px solid #000000\" align=\"right\" sdval=\"921,786\" sdnum=\"11274;\">921,786</td>\n",
    "\t\t<td style=\"border-top: 1px solid #000000; border-bottom: 1px solid #000000; border-left: 1px solid #000000; border-right: 1px solid #000000\" align=\"left\">[Watts]</td>\n",
    "\t</tr>\n",
    "\t<tr>\n",
    "\t\t<td style=\"border-top: 1px solid #000000; border-bottom: 1px solid #000000; border-left: 1px solid #000000; border-right: 1px solid #000000\" height=\"17\" align=\"left\"><b>N_B real</b></td>\n",
    "\t\t<td style=\"border-top: 1px solid #000000; border-bottom: 1px solid #000000; border-left: 1px solid #000000; border-right: 1px solid #000000\" align=\"right\" sdval=\"1292,4\" sdnum=\"11274;\">1292,4</td>\n",
    "\t\t<td style=\"border-top: 1px solid #000000; border-bottom: 1px solid #000000; border-left: 1px solid #000000; border-right: 1px solid #000000\" align=\"right\" sdval=\"1293,7\" sdnum=\"11274;\">1293,7</td>\n",
    "\t\t<td style=\"border-top: 1px solid #000000; border-bottom: 1px solid #000000; border-left: 1px solid #000000; border-right: 1px solid #000000\" align=\"left\">[Watts]</td>\n",
    "\t</tr>\n",
    "\t<tr>\n",
    "\t\t<td style=\"border-top: 1px solid #000000; border-bottom: 1px solid #000000; border-left: 1px solid #000000; border-right: 1px solid #000000\" height=\"17\" align=\"left\"><b>N_B real</b></td>\n",
    "\t\t<td style=\"border-top: 1px solid #000000; border-bottom: 1px solid #000000; border-left: 1px solid #000000; border-right: 1px solid #000000\" align=\"right\" sdval=\"1,73\" sdnum=\"11274;\">1,73</td>\n",
    "\t\t<td style=\"border-top: 1px solid #000000; border-bottom: 1px solid #000000; border-left: 1px solid #000000; border-right: 1px solid #000000\" align=\"right\" sdval=\"1,73\" sdnum=\"11274;\">1,73</td>\n",
    "\t\t<td style=\"border-top: 1px solid #000000; border-bottom: 1px solid #000000; border-left: 1px solid #000000; border-right: 1px solid #000000\" align=\"left\">[HP]</td>\n",
    "\t</tr>\n",
    "</table>"
   ]
  },
  {
   "cell_type": "markdown",
   "metadata": {},
   "source": [
    "Con ambos métodos llegamos a resultados muy similares."
   ]
  },
  {
   "cell_type": "code",
   "execution_count": 49,
   "metadata": {},
   "outputs": [],
   "source": [
    "%reset -s -f"
   ]
  }
 ],
 "metadata": {
  "kernelspec": {
   "display_name": "Python 3",
   "language": "python",
   "name": "python3"
  },
  "language_info": {
   "codemirror_mode": {
    "name": "ipython",
    "version": 3
   },
   "file_extension": ".py",
   "mimetype": "text/x-python",
   "name": "python",
   "nbconvert_exporter": "python",
   "pygments_lexer": "ipython3",
   "version": "3.7.4"
  }
 },
 "nbformat": 4,
 "nbformat_minor": 4
}
