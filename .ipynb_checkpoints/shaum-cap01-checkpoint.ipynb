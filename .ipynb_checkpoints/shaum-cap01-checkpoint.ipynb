{
 "cells": [
  {
   "cell_type": "markdown",
   "metadata": {},
   "source": [
    "## Problemas resueltos"
   ]
  },
  {
   "cell_type": "markdown",
   "metadata": {},
   "source": [
    "## Problema 1\n",
    "Calcularel peso específico $\\gamma$, y el volumen específico $\\nu_s$ y la densidad $\\rho$ del metano a 38°C y 8,50 kp/cm² de presión absoluta."
   ]
  },
  {
   "cell_type": "markdown",
   "metadata": {},
   "source": [
    "### Solución\n",
    "![sc01-01.png](img/sc01-01.png)\n",
    "\n",
    "De la tabla 1A del Apéndice, R = 53, m/K\n",
    "$$ \\mbox{peso específico } \\gamma = \\frac{p}{RT} $$\n",
    "$$ \\mbox{volumen específico } \\nu_s = \\frac{1}{\\gamma} $$\n",
    "$$ \\mbox{densidad } \\rho = \\frac{\\gamma}{g} $$"
   ]
  },
  {
   "cell_type": "code",
   "execution_count": 9,
   "metadata": {},
   "outputs": [
    {
     "name": "stdout",
     "output_type": "stream",
     "text": [
      "gamma = 5.16 kp/m^3\n",
      "v_s = 0.194 m^3/kp\n",
      "dens = 0.526 UTM/m^3\n"
     ]
    }
   ],
   "source": [
    "p = 8.5e4 # kp/m^2\n",
    "R = 53 # m/K\n",
    "T = 38 + 273 # K\n",
    "g = 9.81 # m/s^2\n",
    "gamma = p/(R*T)\n",
    "v_s = 1 / gamma\n",
    "dens = gamma/g\n",
    "print('gamma = %s kp/m^3'%round(gamma,2))\n",
    "print('v_s = %s m^3/kp'%round(v_s,3))\n",
    "print('dens = %s UTM/m^3'%round(dens,3))"
   ]
  },
  {
   "cell_type": "code",
   "execution_count": null,
   "metadata": {},
   "outputs": [],
   "source": []
  }
 ],
 "metadata": {
  "kernelspec": {
   "display_name": "Python 3",
   "language": "python",
   "name": "python3"
  },
  "language_info": {
   "codemirror_mode": {
    "name": "ipython",
    "version": 3
   },
   "file_extension": ".py",
   "mimetype": "text/x-python",
   "name": "python",
   "nbconvert_exporter": "python",
   "pygments_lexer": "ipython3",
   "version": "3.7.3"
  }
 },
 "nbformat": 4,
 "nbformat_minor": 2
}
