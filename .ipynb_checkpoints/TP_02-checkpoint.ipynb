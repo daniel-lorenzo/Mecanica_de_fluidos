{
 "cells": [
  {
   "cell_type": "markdown",
   "metadata": {},
   "source": [
    "# Mecánica de fluidos - Práctico 2\n",
    "__UNLZ - FI -- Jupyter Notebook + Python 3__\n",
    "   \n",
    "__Alumno: Lorenzo, Daniel Antonio__"
   ]
  },
  {
   "cell_type": "markdown",
   "metadata": {},
   "source": [
    "## Ejercicio 1\n",
    "Un depósito abierto de sección cuadrada de 1,8 m de lado pesa 350 kg y contiene 90 cm de agua. Está sometido a la acción de una fuerza de 1060 kg paralela a uno de los lados. ¿Cuánto será la diferencias de alturas debido a la aceleración?\n",
    "\n",
    "![tp2-01.png](img/tp2-01.png)"
   ]
  },
  {
   "cell_type": "markdown",
   "metadata": {},
   "source": [
    "### Solución\n",
    "El peso del depósito es $P_d = 350 \\, \\mathrm{kgf} \\quad \\therefore \\quad m_d = 350 \\, \\mathrm{kg}$\n",
    "\n",
    "El volumen de agua en el depósito es:\n",
    "$$ V_{H_2O} = \\mathrm{(1,8 \\, m)^2 \\cdot 0,9 \\, \\mathrm{m} } $$\n",
    "La masa de agua es:\n",
    "$$ \\mu = \\frac{m}{V} \\quad  \\Rightarrow \\quad m_{H_2O} = \\mu_{H_2O} \\cdot V_{H_2O} $$\n",
    "\n",
    "La fuerza que actúa sobre el depósito es:\n",
    "$$ F = \\mathrm{ 1060 \\, kgf = 1060 \\, kgf \\, \\frac{9,81 \\, m/s^2}{kgf}  = 10398,6 \\, N}$$\n",
    "como\n",
    "$$ F = m \\, a \\quad \\Rightarrow \\quad F = (m_d + m_{H_2O}) \\, a $$\n",
    "La aceleración es\n",
    "$$ a = \\frac{F}{(m_d + m_{H_2O})} $$"
   ]
  },
  {
   "cell_type": "code",
   "execution_count": 3,
   "metadata": {},
   "outputs": [],
   "source": [
    "# Datos:\n",
    "b = 1.8 # m (base)\n",
    "h = 0.9 # m (altura del agua)\n",
    "P_d = 350 # [kgf] (peso del depósito)\n",
    "m_d = 350 # [kg] (masa del depósito)\n",
    "g = 9.81 # [m/s^2] (aceleración de la gravedad)\n",
    "rho_H2O = 1000 # [kg/m^3] (densidad del agua)\n",
    "\n",
    "# Cálculo del volumen de agua\n",
    "V_H2O = b**2 * h\n",
    "# Cálculo de la masa de agua\n",
    "m_H2O = rho_H2O * V_H2O\n",
    "# Cálculo de la fuerza que actúa sobre el depósito\n",
    "F = 1060 * g\n",
    "# Cálcula de la aceleración\n",
    "a = F/(m_d + m_H2O)"
   ]
  },
  {
   "cell_type": "code",
   "execution_count": 4,
   "metadata": {},
   "outputs": [
    {
     "name": "stdout",
     "output_type": "stream",
     "text": [
      "Resultados:\n",
      "V_H2O = 2.916 m^3\n",
      "m_H2O = 2916.0 kg\n",
      "F = 10398.6 N\n",
      "a = 3.184 m/s^2\n"
     ]
    }
   ],
   "source": [
    "print('Resultados:')\n",
    "print('V_H2O = %s m^3'%round(V_H2O,3))\n",
    "print('m_H2O = %s kg'%round(m_H2O,2))\n",
    "print('F = %s N'%F)\n",
    "print('a = %s m/s^2'%round(a,3))"
   ]
  },
  {
   "cell_type": "markdown",
   "metadata": {},
   "source": [
    "Tomando unos ejes solidarios al depósito el líquido está en equilibrio relativo, es decir, con respecto al recipiente. Si no hay velocidad relativa ni entre el fluido y el contorno ni entre las capas de fluido la viscosidad no interviene y pueden aplicarse las ecuaciones de la hidrostática.\n",
    "\n",
    "Luego teniendo en cuenta\n",
    "\n",
    "$$ \\left\\{\n",
    "\\begin{array}{l}\n",
    "\\displaystyle \\frac{\\partial P}{\\partial x} = \\rho a \\\\\n",
    "\\displaystyle \\frac{\\partial P}{\\partial z} = - \\rho g\n",
    "\\end{array}\n",
    "\\right.\n",
    "\\; \\Rightarrow \\; dP = \\rho a \\; dx - \\rho g \\, dz\n",
    "$$\n",
    "Integrando entre A y B se tiene\n",
    "$$ \\int_{P_A}^{P_B} dP = \\int_{x_A}^{x_B} \\rho a \\, dx - \\int_{z_A}^{z_B} \\rho g \\, dz  $$\n",
    "\n",
    "$$ \\underbrace{P_B - P_A}_{= \\, 0} = \\rho a \\, (x_B - x_A) - \\rho g \\, (z_B - z_A)  $$\n",
    "\n",
    "$$ \\rho g \\, \\overbrace{(z_B - z_A)}^{\\displaystyle \\Delta h} = \\rho a \\, (x_B - x_A) $$\n",
    "\n",
    "$$ \\Delta h = \\frac{a \\, (x_B - x_A)}{g}  $$"
   ]
  },
  {
   "cell_type": "code",
   "execution_count": 5,
   "metadata": {},
   "outputs": [],
   "source": [
    "# Datos\n",
    "x_A = 0 # m\n",
    "x_B = 1.8 # m\n",
    "\n",
    "# Cálculo de Dh\n",
    "Dh = a*(x_B - x_A)/g # m"
   ]
  },
  {
   "cell_type": "code",
   "execution_count": 6,
   "metadata": {},
   "outputs": [
    {
     "name": "stdout",
     "output_type": "stream",
     "text": [
      "Resultado:\n",
      "Dh = 0.5842 m\n"
     ]
    }
   ],
   "source": [
    "print('Resultado:')\n",
    "print('Dh = %s m'%round(Dh,4))"
   ]
  },
  {
   "cell_type": "markdown",
   "metadata": {},
   "source": [
    "Nota: $\\displaystyle \\frac{\\Delta h}{\\Delta x} = \\;$ pendiente de la superficie libre donde $p_{rel} = 0$"
   ]
  },
  {
   "cell_type": "code",
   "execution_count": null,
   "metadata": {},
   "outputs": [],
   "source": []
  }
 ],
 "metadata": {
  "kernelspec": {
   "display_name": "Python 3",
   "language": "python",
   "name": "python3"
  },
  "language_info": {
   "codemirror_mode": {
    "name": "ipython",
    "version": 3
   },
   "file_extension": ".py",
   "mimetype": "text/x-python",
   "name": "python",
   "nbconvert_exporter": "python",
   "pygments_lexer": "ipython3",
   "version": "3.7.3"
  }
 },
 "nbformat": 4,
 "nbformat_minor": 2
}
