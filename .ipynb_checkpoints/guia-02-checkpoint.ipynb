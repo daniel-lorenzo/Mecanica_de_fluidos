{
 "cells": [
  {
   "cell_type": "markdown",
   "metadata": {},
   "source": [
    "# Mecánica de fluidos\n",
    "## Guia de ejercicios hidrodinámica\n",
    "------------"
   ]
  },
  {
   "cell_type": "markdown",
   "metadata": {},
   "source": [
    "## Ejercicio 1\n",
    "Por una canilla de sección $2 \\, \\mathrm{cm^2}$ sale agua a razón de 1 litro cada 10 seg. ¿Cuál es la velocidad de salida del agua en cm/seg?"
   ]
  },
  {
   "cell_type": "markdown",
   "metadata": {},
   "source": [
    "### Solución"
   ]
  },
  {
   "cell_type": "markdown",
   "metadata": {},
   "source": [
    "$$ Q = \\mathrm{ \\frac{Vol.}{Tiempo} \\; \\left[ \\frac{m^3}{seg} \\right] } $$"
   ]
  },
  {
   "cell_type": "markdown",
   "metadata": {},
   "source": [
    "$$ e = e_0 + vt + \\frac{1}{2} a t^2 $$"
   ]
  },
  {
   "cell_type": "markdown",
   "metadata": {},
   "source": [
    "Considerando $e_0 = 0$ y $a = 0$\n",
    "$$ e = v t $$"
   ]
  },
  {
   "cell_type": "markdown",
   "metadata": {},
   "source": [
    "$$ \\mathrm{Secci \\acute o n} \\cdot e = \\mathrm{Vol.} $$"
   ]
  },
  {
   "cell_type": "markdown",
   "metadata": {},
   "source": [
    "$$ Q = \\frac{s \\cdot e}{t} = \\frac{s \\cdot v \\cdot t}{t} $$"
   ]
  },
  {
   "cell_type": "markdown",
   "metadata": {},
   "source": [
    "Entonces\n",
    "$$ Q = s \\cdot v \\qquad \\rightarrow \\qquad v = \\frac{Q}{s} $$"
   ]
  },
  {
   "cell_type": "code",
   "execution_count": 4,
   "metadata": {},
   "outputs": [],
   "source": [
    "# Datos:\n",
    "s = 2 # [cm^2]\n",
    "Q = 1000/10 # [cm^3/s]"
   ]
  },
  {
   "cell_type": "code",
   "execution_count": 5,
   "metadata": {},
   "outputs": [],
   "source": [
    "v = Q/s"
   ]
  },
  {
   "cell_type": "code",
   "execution_count": 6,
   "metadata": {},
   "outputs": [
    {
     "name": "stdout",
     "output_type": "stream",
     "text": [
      "v = 50.0 [cm/s]\n"
     ]
    }
   ],
   "source": [
    "print('v = %s [cm/s]'%round(v,2))"
   ]
  },
  {
   "cell_type": "code",
   "execution_count": 7,
   "metadata": {},
   "outputs": [],
   "source": [
    "%reset -s -f"
   ]
  },
  {
   "cell_type": "markdown",
   "metadata": {},
   "source": [
    "## Ejercicio 2\n",
    "Con los datos del problema anterior, desde la canilla se conecta a una cañería de 4 cm² de sección, y luego pasa a una cañería que varía su velocidad a 10 cm/seg. Determinar las velocidades y secciones faltantes del circuito abierto."
   ]
  },
  {
   "cell_type": "code",
   "execution_count": 8,
   "metadata": {},
   "outputs": [],
   "source": [
    "# Datos:\n",
    "s0 = 2 # [cm^2]\n",
    "Q = 1000/10 # [cm^3/s]\n",
    "s1 = 4 # [cm^2]"
   ]
  },
  {
   "cell_type": "code",
   "execution_count": 9,
   "metadata": {},
   "outputs": [],
   "source": [
    "v1 = Q/s1"
   ]
  },
  {
   "cell_type": "code",
   "execution_count": 10,
   "metadata": {},
   "outputs": [
    {
     "name": "stdout",
     "output_type": "stream",
     "text": [
      "v1 = 25.0 [cm/s]\n"
     ]
    }
   ],
   "source": [
    "print('v1 = %s [cm/s]'%round(v1,2))"
   ]
  },
  {
   "cell_type": "code",
   "execution_count": 11,
   "metadata": {},
   "outputs": [],
   "source": [
    "# Dato:\n",
    "v2 = 10 # [cm/s]"
   ]
  },
  {
   "cell_type": "code",
   "execution_count": 12,
   "metadata": {},
   "outputs": [],
   "source": [
    "s2 = Q/v2"
   ]
  },
  {
   "cell_type": "code",
   "execution_count": 13,
   "metadata": {},
   "outputs": [
    {
     "name": "stdout",
     "output_type": "stream",
     "text": [
      "s2 = 10.0 [cm^2]\n"
     ]
    }
   ],
   "source": [
    "print('s2 = %s [cm^2]'%round(s2,2))"
   ]
  },
  {
   "cell_type": "code",
   "execution_count": 14,
   "metadata": {},
   "outputs": [],
   "source": [
    "%reset -s -f"
   ]
  },
  {
   "cell_type": "markdown",
   "metadata": {},
   "source": [
    "## Ejercicio 3\n",
    "Por un caño horizontal circula un caudal de 10 [m³/seg] de agua.\n",
    "\n",
    "Determinar:\n",
    "1. La velocidad del fluido en sección inicial de 2 [m²] y luego en la que posee 1 [m²]\n",
    "2. La diferencia de presión entre las 2 secciones.\n",
    "\n",
    "<img src=\"img/g2-03.png\" alt=\"g2-03.png\">"
   ]
  },
  {
   "cell_type": "markdown",
   "metadata": {},
   "source": [
    "### Solución\n",
    "$$\\left.\n",
    "\\begin{array}{l}\n",
    "Q = Q_1 = Q_2 \\\\\n",
    "s_1 v_1 = s_2 v_2\n",
    "\\end{array}\n",
    "\\right\\} \\quad \\rightarrow \\quad\n",
    "\\begin{array}{l}\n",
    "Q = s_1 v_1 \\\\\n",
    "Q = s_2 v_2\n",
    "\\end{array}$$"
   ]
  },
  {
   "cell_type": "markdown",
   "metadata": {},
   "source": [
    "$$ v_1 = \\frac{Q}{s_1} \\qquad \\wedge \\qquad v_2 = \\frac{Q}{s_2} $$"
   ]
  },
  {
   "cell_type": "code",
   "execution_count": 1,
   "metadata": {},
   "outputs": [],
   "source": [
    "# Datos:\n",
    "s1 = 2 # [m^2]\n",
    "s2 = 1 # [m^2]\n",
    "Q = 10 # [m^3/s]"
   ]
  },
  {
   "cell_type": "code",
   "execution_count": 2,
   "metadata": {},
   "outputs": [],
   "source": [
    "# Cálculo de v1 y v2:\n",
    "v1 = Q/s1 ; v2 = Q/s2"
   ]
  },
  {
   "cell_type": "code",
   "execution_count": 4,
   "metadata": {},
   "outputs": [
    {
     "name": "stdout",
     "output_type": "stream",
     "text": [
      "v1 =  5.0 [m/s]\n",
      "v2 = 10.0 [m/s]\n"
     ]
    }
   ],
   "source": [
    "# Imprime resultados:\n",
    "print('v1 =  %s [m/s]'%round(v1,2))\n",
    "print('v2 = %s [m/s]'%round(v2,2))"
   ]
  },
  {
   "cell_type": "code",
   "execution_count": 5,
   "metadata": {},
   "outputs": [],
   "source": [
    "%reset -s -f"
   ]
  },
  {
   "cell_type": "markdown",
   "metadata": {},
   "source": [
    "## Ejercicio 4\n",
    "Se tiene una manguera de diámetro interno 23,5 mm, circula agua a una velocidad de 2 m/s y llega a una regadera que posee 10 agujeros de 2 mm de diámetro cada uno. ¿Cuál será la rapidez del agua que sale por cada agujero?"
   ]
  },
  {
   "cell_type": "markdown",
   "metadata": {},
   "source": [
    "### Solución\n",
    "$$\\begin{array}{c}\n",
    "Q_1 = Q_2 \\\\\n",
    "s_1 v_1 = s_2 v_2\n",
    "\\end{array}$$"
   ]
  },
  {
   "cell_type": "markdown",
   "metadata": {},
   "source": [
    "$$\\begin{array}{l}\n",
    "\\displaystyle s_1 = \\pi \\frac{d_1^2}{4} \\\\\n",
    "\\displaystyle s_2 = \\pi \\frac{d_2^2}{4}\n",
    "\\end{array} \\quad ; \\quad Q = s_1 v_1 \\quad ; \\quad v_2 = \\frac{Q}{s_2}$$"
   ]
  },
  {
   "cell_type": "code",
   "execution_count": 6,
   "metadata": {},
   "outputs": [],
   "source": [
    "import math"
   ]
  },
  {
   "cell_type": "code",
   "execution_count": 7,
   "metadata": {},
   "outputs": [],
   "source": [
    "# Datos:\n",
    "d1 = 23.5e-3 # [m]\n",
    "v1 = 2 # [m/s]\n",
    "d2 = 10*2e-3 # [m]"
   ]
  },
  {
   "cell_type": "code",
   "execution_count": 8,
   "metadata": {},
   "outputs": [],
   "source": [
    "# Cálculo de s1 y s2\n",
    "s1 = (math.pi*d1**2)/4\n",
    "s2 = (math.pi*d2**2)/4\n",
    "# Cálculo de Q1\n",
    "Q = s1*v1\n",
    "# Cálculo de v2\n",
    "v2 = Q/s2"
   ]
  },
  {
   "cell_type": "code",
   "execution_count": 12,
   "metadata": {},
   "outputs": [
    {
     "name": "stdout",
     "output_type": "stream",
     "text": [
      "Resultados:\n",
      "s1 = 4.337 [cm^2]\n",
      "s2 = 3.142 [cm^2]\n",
      "Q = 0.867 [L/s]\n",
      "v2 = 2.76 [m/s]\n"
     ]
    }
   ],
   "source": [
    "print('Resultados:')\n",
    "print('s1 = %s [cm^2]'%round(s1*1e4,3))\n",
    "print('s2 = %s [cm^2]'%round(s2*1e4,3))\n",
    "print('Q = %s [L/s]'%round(Q*1e3,3))\n",
    "print('v2 = %s [m/s]'%round(v2,2))"
   ]
  },
  {
   "cell_type": "code",
   "execution_count": 13,
   "metadata": {},
   "outputs": [],
   "source": [
    "%reset -s -f"
   ]
  },
  {
   "cell_type": "markdown",
   "metadata": {},
   "source": [
    "## Ejercicio 5\n",
    "Una tubería horizontal de 20 mm de diámetro conduce agua a una velocidad de 1 m/s. La presión de entrada es de 10000 Pa. Existe una estrechamiento que lleva el diámetro a 10 mm. Determinar la diferencia de presiones."
   ]
  },
  {
   "cell_type": "markdown",
   "metadata": {},
   "source": [
    "### Solución\n",
    "$$ \\overbrace{ P_1 + \\delta g h_1 + \\frac{1}{2} \\delta v_1^2 }^{(1)} = \\overbrace{ P_2 + \\delta g h_2 + \\frac{1}{2} \\delta v_2^2 }^{(2)} $$"
   ]
  },
  {
   "cell_type": "markdown",
   "metadata": {},
   "source": [
    "Como es horizontal, $h_1 = h_2$\n",
    "$$ P_1 + \\frac{1}{2} \\delta v_1^2 = P_2 + \\frac{1}{2} \\delta v_2^2 $$"
   ]
  },
  {
   "cell_type": "markdown",
   "metadata": {},
   "source": [
    "Factor común:\n",
    "$$ P_1 - P_2 = \\frac{1}{2} \\delta \\left(v_2^2 - v_1^2 \\right) $$"
   ]
  },
  {
   "cell_type": "markdown",
   "metadata": {},
   "source": [
    "Entonces:\n",
    "$$ \\Delta P = \\frac{1}{2} \\delta \\left(v_2^2 - v_1^2 \\right) $$"
   ]
  },
  {
   "cell_type": "code",
   "execution_count": 21,
   "metadata": {},
   "outputs": [],
   "source": [
    "# Datos:\n",
    "d1 = 20e-3 # [m]\n",
    "d2 = 10e-3 # [m]\n",
    "v1 = 1 # [m/s]\n",
    "P1 = 1e4 # [Pa]\n",
    "dens = 1000 # [kg/m^3]"
   ]
  },
  {
   "cell_type": "code",
   "execution_count": 22,
   "metadata": {},
   "outputs": [],
   "source": [
    "import math"
   ]
  },
  {
   "cell_type": "code",
   "execution_count": 23,
   "metadata": {},
   "outputs": [],
   "source": [
    "# Cálculo de secciones s1 y s2\n",
    "s1 = (math.pi*d1**2)/4\n",
    "s2 = (math.pi*d2**2)/4\n",
    "# Cálculo de caudal\n",
    "Q = s1*v1\n",
    "# Cálculo de v2\n",
    "v2 = Q/s2\n",
    "# Cálculo de variación de presión\n",
    "DP = (1/2)*dens*(v2**2 - v1**2)\n",
    "# Cálculo de P2\n",
    "P2 = P1 - DP"
   ]
  },
  {
   "cell_type": "code",
   "execution_count": 24,
   "metadata": {},
   "outputs": [
    {
     "name": "stdout",
     "output_type": "stream",
     "text": [
      "Resultados:\n",
      "s1 = 3.142 [cm^2]\n",
      "s2 = 0.785 [cm^2]\n",
      "Q = 0.314 [L/s]\n",
      "v2 = 4.0 [m/s]\n",
      "DP = 7500.0 [Pa]\n",
      "P2 = 2500.0 [Pa]\n"
     ]
    }
   ],
   "source": [
    "print('Resultados:')\n",
    "print('s1 = %s [cm^2]'%round(s1*1e4,3))\n",
    "print('s2 = %s [cm^2]'%round(s2*1e4,3))\n",
    "print('Q = %s [L/s]'%round(Q*1e3,3))\n",
    "print('v2 = %s [m/s]'%round(v2,2))\n",
    "print('DP = %s [Pa]'%round(DP,2))\n",
    "print('P2 = %s [Pa]'%round(P2,2))"
   ]
  },
  {
   "cell_type": "code",
   "execution_count": 20,
   "metadata": {},
   "outputs": [],
   "source": [
    "%reset -s -f"
   ]
  },
  {
   "cell_type": "markdown",
   "metadata": {},
   "source": [
    "## Ejemplo 5-2 Descarga de agua de un tanque\n",
    "Un tanque cilíndrico de agua con 4 ft de alto y 3 ft de diámetro cuya parte superior está abierta a la atmósfera está al principio lleno con agua. Ahora, se quita el tapón de descarga que está cerca del fondo del tanque cuyo diámetro es de 0,5 m y un chorro de agua se vierte hacia fuera. La velocidad promedio del chorro se da por $V = \\sqrt{2gh}$, en donde $h$ es la altura del agua en el tanque medida desde el centro del agujero (una variable) y $g$ es la aceleración gravitacional. Determínese cuánto tiempo transcurrirá para que el nivel del agua en el tanque descienda hasta 2 ft,  medido desde el fondo.\n",
    "<center>\n",
    "<img src=\"img/ej-5-2.svg\" alt=\"ej-5-2.svg\" width=\"280\" height=auto>\n",
    "    </center>"
   ]
  },
  {
   "cell_type": "markdown",
   "metadata": {},
   "source": [
    "### Solución\n",
    "Se quita el tapón cercano al fondo de un tanque de agua. Se debe determinar el tiempo que tarda en descargarse la mitad del agua que está en el tanque."
   ]
  },
  {
   "cell_type": "markdown",
   "metadata": {},
   "source": [
    "__Hipótesis:__ \n",
    "1. El agua es una sustancia incompresible.\n",
    "2. La distancia entre el fondo del tanque y el centro del agujero es despreciable en comparación con la altura total del agua.\n",
    "3. La aceleración gravitacional es de 32.2 ft/s²."
   ]
  },
  {
   "cell_type": "markdown",
   "metadata": {},
   "source": [
    "__Análisis:__ Se toma el volumen ocupado por el agua como el volumen de control. En este caso, decrece el tamaño de este volumen, conforme el nivel de agua desciende y, donde éste es un volumen de control variable (también se pudo tratar como un volumen fijo de control, que consiste en el volumen interior del tanque descartando el aire que reemplaza el espacio que deja vacío el agua). Es obvio que es un problema de flujo no estacionario, ya que las propiedades (como la cantidad de masa) en el interior del volumen de control cambian con el tiempo."
   ]
  },
  {
   "cell_type": "markdown",
   "metadata": {},
   "source": [
    "La relación de conservación de la masa para un volumen de control que pasa por cualquier proceso se da en la forma de razón como:"
   ]
  },
  {
   "cell_type": "markdown",
   "metadata": {},
   "source": [
    "$$ \\dot{m}_{ent} - \\dot{m}_{sal} = \\frac{dm_{VC}}{dt} \\tag{1} $$"
   ]
  },
  {
   "cell_type": "markdown",
   "metadata": {},
   "source": [
    "En el transcurso de este proceso nada de masa entra al volumen de control $(\\dot{m}_{ent} = 0$, y el gasto de masa del agua descargada se pude expresar como:"
   ]
  },
  {
   "cell_type": "markdown",
   "metadata": {},
   "source": [
    "$$ \\dot{m}_{sal} = (\\rho VA)_{sal} = \\rho \\sqrt{2gh} \\cdot A_{chorro} \\tag{2} $$"
   ]
  },
  {
   "cell_type": "markdown",
   "metadata": {},
   "source": [
    "donde $A_{chorro} = \\pi D_{chorro}^2/4$ es el área de la sección transversal del chorro, la cual es constante. Nótese que la densidad del agua es constante, la masa del agua en el tanque en cualquier instante es:"
   ]
  },
  {
   "cell_type": "markdown",
   "metadata": {},
   "source": [
    "$$ m_{VC} = \\rho V = \\rho A_{chorro} h \\tag{3} $$"
   ]
  },
  {
   "cell_type": "markdown",
   "metadata": {},
   "source": [
    "donde $A_{tanque} = \\pi D^2_{tanque}/4$ es el área de la base del tanque cilíndrico. Si se sustituyen las ecuaciones $2$ y $3$ en la relación de balance de masa (ecuación 1) da:"
   ]
  },
  {
   "cell_type": "markdown",
   "metadata": {},
   "source": [
    "$$ -\\rho \\sqrt{2gh} \\cdot A_{chorro} = \\frac{d(\\rho A_{tanque} h)}{dt} $$"
   ]
  },
  {
   "cell_type": "markdown",
   "metadata": {},
   "source": [
    "$$ -\\rho \\sqrt{2gh} \\cdot A_{chorro} = \\frac{\\rho (\\pi D^2_{tanque}/4) dh}{dt} $$"
   ]
  },
  {
   "cell_type": "markdown",
   "metadata": {},
   "source": [
    "Cuando se cancelan las densidades y otros términos comunes, y se separan las variables, da:"
   ]
  },
  {
   "cell_type": "markdown",
   "metadata": {},
   "source": [
    "$$ dt = - \\frac{D^2_{tanque}}{D^2_{chorro}} \\frac{dh}{\\sqrt{2gh}} $$"
   ]
  },
  {
   "cell_type": "markdown",
   "metadata": {},
   "source": [
    "Se integra desde $t=0$, en el cual $h = h_0$, hasta $t = t$, en el cual $h = h_2$, da:"
   ]
  },
  {
   "cell_type": "markdown",
   "metadata": {},
   "source": [
    "$$ \\int_0^t dt = - \\frac{D^2_{tanque}}{D^2_{chorro} \\sqrt{2g}} \\; \\int_{h_0}^{h_2} \\frac{dh}{\\sqrt{h}} $$"
   ]
  },
  {
   "cell_type": "markdown",
   "metadata": {},
   "source": [
    "Entonces:\n",
    "$$ t = \\frac{ \\sqrt{h_0} - \\sqrt{h_2} }{ \\sqrt{g/2} } \\left( \\frac{ D_{tanque} }{ D_{chorro} } \\right)^2 $$"
   ]
  },
  {
   "cell_type": "markdown",
   "metadata": {},
   "source": [
    "Al sustituir, se determina que el tiempo de descarga es:"
   ]
  },
  {
   "cell_type": "code",
   "execution_count": 25,
   "metadata": {},
   "outputs": [],
   "source": [
    "# Datos:\n",
    "h0 = 4 # [ft]\n",
    "h2 = 2 # [ft]\n",
    "g = 32.2 # [ft/s^2]\n",
    "D_tanq = 3*12 # [in]\n",
    "D_chor = 0.5 # [in]"
   ]
  },
  {
   "cell_type": "code",
   "execution_count": 26,
   "metadata": {},
   "outputs": [],
   "source": [
    "import math"
   ]
  },
  {
   "cell_type": "code",
   "execution_count": 27,
   "metadata": {},
   "outputs": [],
   "source": [
    "# Cálculo del tiempo de descarga\n",
    "t = ( math.sqrt(h0) - math.sqrt(h2) )/( math.sqrt(g/2) ) * (D_tanq/D_chor)**2"
   ]
  },
  {
   "cell_type": "code",
   "execution_count": 28,
   "metadata": {},
   "outputs": [
    {
     "name": "stdout",
     "output_type": "stream",
     "text": [
      "t = 756.8 [s]\n",
      "t = 12.6 [min]\n"
     ]
    }
   ],
   "source": [
    "print('t = %s [s]'%round(t,1))\n",
    "print('t = %s [min]'%round(t/60,1))"
   ]
  },
  {
   "cell_type": "code",
   "execution_count": 29,
   "metadata": {},
   "outputs": [],
   "source": [
    "%reset -s -f"
   ]
  },
  {
   "cell_type": "markdown",
   "metadata": {},
   "source": [
    "## Ejemplo 5-6 Descarga de agua desde un tanque grande\n",
    "Un tanque grande está abierto a la atmósfera y lleno con agua hasta una altura de 5 m, proveniente desde la toma de salida (Fig. 5-39). Ahora se abre una toma cercana al fondo del tanque y el agua fluye hacia afuera por la salida lisa y redondeada. Determine la velocidad del agua en la salida.\n",
    "<center>\n",
    "<img src=\"img/ej-5-6.png\" alt=\"ej-5-6.png\">\n",
    "    </center>"
   ]
  },
  {
   "cell_type": "markdown",
   "metadata": {},
   "source": [
    "### Solución\n",
    "Se abre una toma cerca del fondo de un tanque. Debe determinarse la velocidad de salida del agua del tanque."
   ]
  },
  {
   "cell_type": "markdown",
   "metadata": {},
   "source": [
    "__Hipótesis__ \n",
    "1. El flujo es incompresible e irrotacional (excepto muy cerca de lasparedes). \n",
    "2. El agua drena con lentitud suficiente como para que pueda considerarse aproximadamente como estacionario (en realidad cuasiestacionario cuando el tanque empieza a drenar)."
   ]
  },
  {
   "cell_type": "markdown",
   "metadata": {},
   "source": [
    "__Análisis:__ Este problema incluye la transformación de las energías de flujo, cinética y potencial entre sí, sin que intervengan bombas, turbinas ni componentes de disipación con pérdidas grandes por fricción y resulta adecuado para la aplicación de la ecuación de Bernoulli."
   ]
  },
  {
   "cell_type": "markdown",
   "metadata": {},
   "source": [
    "Se toma el punto 1 en la superficie libre del agua, de modo que $P_1 = P_\\mathrm{atm}$ (abierto a la atmósfera), $V_1 \\approx 0$ (el tanque es grande en relación con la salida) y $z_1 = 5 \\, \\mathrm{m}$ y $z_2 = 0$ (se toma el nivel de referencia en el centro de la salida). Asimismo, $P_2 = P_\\mathrm{atm}$ (el agua se descarga hacia la at\n",
    "mósfera). Entonces la ecuación de Bernoulli se simplifica a:"
   ]
  },
  {
   "cell_type": "markdown",
   "metadata": {},
   "source": [
    "$$ \\overbrace{ \\frac{P_1}{\\rho g} }^\\surd + \\overbrace{ \\frac{V_1^2}{2g} }^{\\nearrow 0} + z_1 = \\overbrace{ \\frac{P_2}{\\rho g} }^\\surd + \\frac{V_2^2}{2g} + \\overbrace{z_2}^{\\nearrow 0} $$"
   ]
  },
  {
   "cell_type": "markdown",
   "metadata": {},
   "source": [
    "Entonces:\n",
    "$$ z_1 = \\frac{V_2^2}{2g} $$"
   ]
  },
  {
   "cell_type": "markdown",
   "metadata": {},
   "source": [
    "Si se despeja $V_2$ y se sustituye:"
   ]
  },
  {
   "cell_type": "markdown",
   "metadata": {},
   "source": [
    "$$ V_2 = \\sqrt{2gz_1} $$"
   ]
  },
  {
   "cell_type": "code",
   "execution_count": 1,
   "metadata": {},
   "outputs": [],
   "source": [
    "# Datos:\n",
    "g = 9.81 # [m/s^2]\n",
    "z1 = 5 # [m]"
   ]
  },
  {
   "cell_type": "code",
   "execution_count": 2,
   "metadata": {},
   "outputs": [],
   "source": [
    "import math"
   ]
  },
  {
   "cell_type": "code",
   "execution_count": 3,
   "metadata": {},
   "outputs": [],
   "source": [
    "V2 = math.sqrt(2*g*z1)"
   ]
  },
  {
   "cell_type": "code",
   "execution_count": 4,
   "metadata": {},
   "outputs": [
    {
     "name": "stdout",
     "output_type": "stream",
     "text": [
      "V2 = 9.9 [m/s]\n"
     ]
    }
   ],
   "source": [
    "print('V2 = %s [m/s]'%round(V2,2))"
   ]
  },
  {
   "cell_type": "markdown",
   "metadata": {},
   "source": [
    "La relación $V = \\sqrt{2 g z_1}$ se llama __ecuación de Torricelli__.        \n",
    "Por lo tanto, el agua sale del tanque con una velocidad inicial de 9.9 m/s. Ésta es la misma velocidad que se manifestaría si se dejara caer un sólido a lo largo de una distancia de 5 m, en ausencia de resistencia al movimiento del aire por fricción."
   ]
  },
  {
   "cell_type": "code",
   "execution_count": 5,
   "metadata": {},
   "outputs": [],
   "source": [
    "%reset -s -f"
   ]
  },
  {
   "cell_type": "markdown",
   "metadata": {},
   "source": [
    "## Ejercicio 6\n",
    "Se posee un tanque cilindrico de diámetro 1,2 m el cual está con agua con una cota de 0,8 m. En la base del tanque se verifica un orificio de 2 cm de diámetro.\n",
    "\n",
    "Determinar:    \n",
    "1. La velocidad al inicio de salida del fluido, mediante aplicación de Bernoulli.\n",
    "2. El tiempo de vaciado del tanque.\n",
    "\n",
    "<center>\n",
    "<img src=\"img/g2-06.svg\" alt=\"g2-06.svg\" width=\"280\" height=auto>\n",
    "    </center>"
   ]
  },
  {
   "cell_type": "markdown",
   "metadata": {},
   "source": [
    "### Solución"
   ]
  },
  {
   "cell_type": "code",
   "execution_count": null,
   "metadata": {},
   "outputs": [],
   "source": []
  }
 ],
 "metadata": {
  "kernelspec": {
   "display_name": "Python 3",
   "language": "python",
   "name": "python3"
  },
  "language_info": {
   "codemirror_mode": {
    "name": "ipython",
    "version": 3
   },
   "file_extension": ".py",
   "mimetype": "text/x-python",
   "name": "python",
   "nbconvert_exporter": "python",
   "pygments_lexer": "ipython3",
   "version": "3.7.3"
  }
 },
 "nbformat": 4,
 "nbformat_minor": 2
}
