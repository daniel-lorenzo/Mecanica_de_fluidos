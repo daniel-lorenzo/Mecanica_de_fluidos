{
 "cells": [
  {
   "cell_type": "raw",
   "metadata": {},
   "source": [
    "<script>\n",
    "  function code_toggle() {\n",
    "    if (code_shown){\n",
    "      $('div.input').hide('500');\n",
    "      $('#toggleButton').val('Show Code')\n",
    "    } else {\n",
    "      $('div.input').show('500');\n",
    "      $('#toggleButton').val('Hide Code')\n",
    "    }\n",
    "    code_shown = !code_shown\n",
    "  }\n",
    "\n",
    "  $( document ).ready(function(){\n",
    "    code_shown=true;\n",
    "    $('div.input').show()\n",
    "  });\n",
    "</script>\n",
    "<form action=\"javascript:code_toggle()\"><input type=\"submit\" id=\"toggleButton\" value=\"Hide Code\"></form>"
   ]
  },
  {
   "cell_type": "markdown",
   "metadata": {},
   "source": [
    "# Mecánica de fluidos - Práctico 1\n",
    "__UNLZ - FI -- Jupyter Notebook + Python 3__\n",
    "   \n",
    "__Alumno: Lorenzo, Daniel Antonio__\n",
    "\n",
    "[Index](https://github.com/daniel-lorenzo/Mecanica_de_fluidos/blob/master/Readme.md) -\n",
    "[Next ->](https://nbviewer.jupyter.org/github/daniel-lorenzo/Mecanica_de_fluidos/blob/master/TP_02.ipynb)"
   ]
  },
  {
   "cell_type": "markdown",
   "metadata": {},
   "source": [
    "## Problema 1\n",
    "Con referencia  a la figura y despreciando el rozamiento entre el pistón A y el cilindro que contiene el gas, determinar la presión manométrica en B en metros de columna de agua. Suponer el peso específico del gas 0,56 kg/m³.\n",
    "\n",
    "![tp1-01.png](img/tp1-01.png)"
   ]
  },
  {
   "cell_type": "markdown",
   "metadata": {},
   "source": [
    "### Solución\n",
    "El área de $A = A_a = \\pi r^2 $"
   ]
  },
  {
   "cell_type": "markdown",
   "metadata": {},
   "source": [
    "$$ A = \\mathrm{ \\pi \\, (30 \\, m)^2 = 2827,43 \\, m^2 } $$"
   ]
  },
  {
   "cell_type": "markdown",
   "metadata": {},
   "source": [
    "La presión relativa bajo A es\n",
    "$$ p_A = \\frac{P_A}{A_a} = \\mathrm{ \\frac{1600000 \\, kgf}{2827,43 \\, m^2} \\approx 565,88 \\, kgf/m^2 } $$"
   ]
  },
  {
   "cell_type": "markdown",
   "metadata": {},
   "source": [
    "Para un gas ideal en condiciones isotérmicas\n",
    "$$ p v = p_1 v_1 = R \\tag{1} $$"
   ]
  },
  {
   "cell_type": "markdown",
   "metadata": {},
   "source": [
    "ahora como\n",
    "$$ \\gamma = g \\delta \\quad \\Rightarrow \\frac{1}{\\delta} = \\frac{g}{\\delta} $$"
   ]
  },
  {
   "cell_type": "markdown",
   "metadata": {},
   "source": [
    "y como \n",
    "$$ v = \\frac{1}{\\delta} \\quad \\Rightarrow \\quad v = \\frac{q}{\\gamma} \\tag{2} $$"
   ]
  },
  {
   "cell_type": "markdown",
   "metadata": {},
   "source": [
    "reemplazando (2) en (1) resulta:\n",
    "\n",
    "$$ p \\frac{g}{\\gamma} = p_1 \\frac{g_1}{\\gamma_1} = R \\tag{3} $$"
   ]
  },
  {
   "cell_type": "markdown",
   "metadata": {},
   "source": [
    "Suponiendo que el intervalo de elevación no es lo suficientemente grande como para que introduzca una variación significativa en $g$, de manera que $g$ puede considerarse como una constante. Luego, dividiendo por $g$ en [3]"
   ]
  },
  {
   "cell_type": "markdown",
   "metadata": {},
   "source": [
    "$$ \\frac{g}{\\gamma} = \\frac{p_1}{\\gamma_1} = \\frac{R}{g} = C \\tag{4} $$"
   ]
  },
  {
   "cell_type": "markdown",
   "metadata": {},
   "source": [
    "$$ \\therefore \\quad \\gamma = \\frac{P}{C} \\tag{5} $$"
   ]
  },
  {
   "cell_type": "markdown",
   "metadata": {},
   "source": [
    "Utilizando [5], puede expresarse la ecuación diferencial básica como sigue:"
   ]
  },
  {
   "cell_type": "markdown",
   "metadata": {},
   "source": [
    "$$ \\frac{dP}{dz} = \\gamma = \\frac{P}{C} $$"
   ]
  },
  {
   "cell_type": "markdown",
   "metadata": {},
   "source": [
    "Separando variables e integrando entre $p_1$ y $p$ y entre $z_1$ y $z$, se tiene"
   ]
  },
  {
   "cell_type": "markdown",
   "metadata": {},
   "source": [
    "$$ \\int_{p_1}^p \\frac{dP}{P} = \\int_{z_1}^z \\frac{dz}{C} \\qquad \\Rightarrow \\qquad \\left. \\ln p \\right|_{p_1}^p = \\left. \\frac{z}{C} \\right|_{z_1}^z \\qquad \\Rightarrow \\qquad \\ln \\frac{p}{p_1} = \\frac{1}{C} (z - z_1) $$"
   ]
  },
  {
   "cell_type": "markdown",
   "metadata": {},
   "source": [
    "despejando $p$ y utilizando la ecuación (4)  $\\quad p_1/ \\gamma_1 = C$"
   ]
  },
  {
   "cell_type": "markdown",
   "metadata": {},
   "source": [
    "$$ \\frac{p}{p_1} = e^{(\\gamma_1 / p_1) (z-z_1)} \\tag{6} $$"
   ]
  },
  {
   "cell_type": "markdown",
   "metadata": {},
   "source": [
    "$$ p = p_1 \\, e^{(\\gamma_1 / p_1) (z-z_1)} \\tag{7} $$"
   ]
  },
  {
   "cell_type": "markdown",
   "metadata": {},
   "source": [
    "Como $p_1 = p_a = 565,88 \\, \\mathrm{ kgf/m^2 }$ y $z_1 = 0$, $z = 70 \\, \\mathrm{m}$ reemplazando en (7) resulta"
   ]
  },
  {
   "cell_type": "markdown",
   "metadata": {},
   "source": [
    "$$ \\Rightarrow \\; p_B = p_1 \\, e^{(\\gamma_1 / p_1) (z-z_1)} $$"
   ]
  },
  {
   "cell_type": "markdown",
   "metadata": {},
   "source": [
    "$$ p_{H_2O} = \\gamma_{H_2O} \\cdot h = \\mathrm{ 1000 \\, kgf/m^3 \\cdot 1 \\, m = 1000 \\, kgf/m^2 = 1 \\, mca } $$"
   ]
  },
  {
   "cell_type": "markdown",
   "metadata": {},
   "source": [
    "$$ p_B = \\mathrm{ 606,47 \\, kgf/m^2 = 0,606 \\, mca = 60,64 \\, cmca } $$"
   ]
  },
  {
   "cell_type": "code",
   "execution_count": 12,
   "metadata": {},
   "outputs": [
    {
     "name": "stdout",
     "output_type": "stream",
     "text": [
      "Resultados:\n",
      "A_a = 2827.43 m^2\n",
      "p_a = 565.88 kgf/m^2\n",
      "p_b = 606.47 kgf/m^2\n"
     ]
    }
   ],
   "source": [
    "import math as m\n",
    "# Datos:\n",
    "r = 60 / 2 # m\n",
    "gamma = 0.56 # kgf/m^3\n",
    "z = 70\n",
    "z_1 = 0 # m\n",
    "P_A = 1600 * 1000 # kgf peso del pistón\n",
    "\n",
    "# Fórmulas:\n",
    "A_a = m.pi * r**2 # área pistón A m^2\n",
    "p_a = P_A / A_a # presión relativa bajo A\n",
    "p_1 = p_a\n",
    "p_b = p_1 * m.e**(gamma/p_1*(z-z_1))\n",
    "\n",
    "print('Resultados:')\n",
    "print('A_a = %s m^2'%round(A_a,2))\n",
    "print('p_a = %s kgf/m^2'%round(p_a,2))\n",
    "print('p_b = %s kgf/m^2'%round(p_b,2))"
   ]
  },
  {
   "cell_type": "code",
   "execution_count": 13,
   "metadata": {},
   "outputs": [],
   "source": [
    "%reset -s -f"
   ]
  },
  {
   "cell_type": "markdown",
   "metadata": {},
   "source": [
    "## Problema 2\n",
    "El aire del recipiente de la izquierda de la figura está a una presión de -23 cm de columna de mercurio. Determinar la cota del líquido manométrico en la parte derecha, en A.\n",
    "\n",
    "![tp1-02.png](img/tp1-02.png)"
   ]
  },
  {
   "cell_type": "markdown",
   "metadata": {},
   "source": [
    "### Solución\n",
    "Considero que la presión dada para el aire en el recipiente de la izquierda es la presión a los 36m. Luego la presión en B es igual a la presión en A porque están al mismo nivel, (horizontal) y están interconectados por el mismo fluido estático.\n",
    "\n",
    "      1 cmHg = 135,95 kgf/m²           1 kgf/cm² = 10000 kgf/m²\n",
    "    \n",
    "    -23 kgf/cm² = 10000 kgf/m²    y    0,2 kgf/cm² = 2000 kgf/m²"
   ]
  },
  {
   "cell_type": "markdown",
   "metadata": {},
   "source": [
    "$$ p_B = p_A \\tag{1} $$"
   ]
  },
  {
   "cell_type": "markdown",
   "metadata": {},
   "source": [
    "$$ p_B = p_{B.aire} + \\gamma_{aceite} \\cdot h_{aceite} + \\gamma_l \\cdot z \\tag{2} $$"
   ]
  },
  {
   "cell_type": "markdown",
   "metadata": {},
   "source": [
    "$$ p_A = p_{A.aire} + \\gamma_{agua} \\, (h_{agua} + z) \\tag{3} $$"
   ]
  },
  {
   "cell_type": "markdown",
   "metadata": {},
   "source": [
    "Reemplazando (3) y (2) en (1) resulta"
   ]
  },
  {
   "cell_type": "markdown",
   "metadata": {},
   "source": [
    "$$ p_{B.aire} + \\gamma_{aceite} \\cdot h_{aceite} + \\gamma_l \\cdot z = p_{A.aire} + \\gamma_{agua} \\, (h_{agua} + z) $$ "
   ]
  },
  {
   "cell_type": "markdown",
   "metadata": {},
   "source": [
    "Resolvemos en $z$\n",
    "\n",
    "Tenemos que:\n",
    "$$ h_A = 32 - z $$"
   ]
  },
  {
   "cell_type": "code",
   "execution_count": 14,
   "metadata": {},
   "outputs": [],
   "source": [
    "from sympy import * # importa biblioteca sympy"
   ]
  },
  {
   "cell_type": "code",
   "execution_count": 15,
   "metadata": {},
   "outputs": [
    {
     "name": "stdout",
     "output_type": "stream",
     "text": [
      "Resultados:\n",
      "z = 5.7114 m\n",
      "Altura en A:\n",
      "h_A = 26.3 m\n"
     ]
    }
   ],
   "source": [
    "z = symbols('z')\n",
    "PB_aire = 135.95 * -23 # kgf/m^2\n",
    "gamma_aceite = 0.8 * 1000 # kgf/m^3\n",
    "h_aceite = 4 # m\n",
    "gamma_l = 1.6 * 1000 # kgf/m^3\n",
    "PA_aire = 2000 # kgf/m^3\n",
    "gamma_agua = 1000 # kgf/m^3\n",
    "h_agua = 1.5 # m\n",
    "\n",
    "# Presión en A\n",
    "PA = PA_aire  + gamma_agua*(h_agua + z) \n",
    "# Presión en B\n",
    "PB = PB_aire + gamma_aceite*h_aceite + gamma_l*z  \n",
    "\n",
    "# ecuación 1: PA = PB\n",
    "eq1 = Eq(PA , PB)\n",
    "# Resuelve ecuación 1, en z\n",
    "seq1 = solve(eq1,z)\n",
    "z = seq1[0]\n",
    "# Tenemos que:\n",
    "h_A = 32 - z\n",
    "\n",
    "print('Resultados:')\n",
    "print('z = %s m'%round(z,4)) \n",
    "print('Altura en A:')\n",
    "print('h_A = %s m'%round(h_A,1))"
   ]
  },
  {
   "cell_type": "code",
   "execution_count": 16,
   "metadata": {},
   "outputs": [],
   "source": [
    "%reset -s -f"
   ]
  },
  {
   "cell_type": "markdown",
   "metadata": {},
   "source": [
    "## Problema 3\n",
    "Un tanque cilíndrico contiene agua hasta una altura de 50 mm. Dentro de éste se encuentra un tanque cilíndrico más pequeño, abierto, que contiene queroseno hasta una altura h, con una densidad de 0,8. Las siguientes presiones se conocen en los manómetros indicados: $p_B = 13,80 \\, \\mathrm{ kPa }$, $\\, p_C = 13,82 \\, \\mathrm{ kPa }$. ¿Cuáles son la presión manométrica $p_A$ y la altura $h$ del queroseno? Suponga que se impide el movimiento del queroseno hacia la parte superior del tanque.\n",
    "\n",
    "![tp1-03.png](img/tp1-03.png)"
   ]
  },
  {
   "cell_type": "markdown",
   "metadata": {},
   "source": [
    "### Solución\n",
    "$\n",
    "\\left\\{ \\begin{array}{l}\n",
    "\\mathrm{ 1 \\, kgf/cm^2 = 98066,52 \\, Pa = 98,07 \\, kPa } \\\\\n",
    "\\mathrm{ 1 \\, kgf/m^2 = 9,81 \\, Pa = 9,81 \\times 10^{-3} \\, kPa}\n",
    "\\end{array}\n",
    "\\right.\n",
    "$\n",
    "\n",
    "$$ p_A = p_C - \\gamma_{H_2O} \\cdot h_{H_2O} $$"
   ]
  },
  {
   "cell_type": "markdown",
   "metadata": {},
   "source": [
    "__Cálculo de h__\n",
    "\n",
    "$\n",
    "\\begin{array}{l}\n",
    "p_C - \\gamma_{H_2O} \\cdot h = p_B - \\gamma_k \\cdot h \\\\\n",
    "p_C - p_B = (\\gamma_{H_2O} - \\gamma_k) \\cdot h \n",
    "\\end{array}\n",
    "$\n",
    "$$ \\Rightarrow \\; h = \\frac{p_C-p_B}{\\gamma_{H_2O}-\\gamma_k} $$"
   ]
  },
  {
   "cell_type": "code",
   "execution_count": 1,
   "metadata": {},
   "outputs": [
    {
     "name": "stdout",
     "output_type": "stream",
     "text": [
      "Resultados:\n",
      "p_A = 1358.77 kgf/m^2 = 13.86 kPa\n",
      "h = 0.01019 m = 1.019 cm\n"
     ]
    }
   ],
   "source": [
    "# Datos:\n",
    "g = 9.81 # m/s^2\n",
    "p_C = (13.82*10**3) * (1/g) # kgf/m^2\n",
    "gamma_agua = 1000 # kgf/m^3\n",
    "h_agua = 50 / 1000 # m\n",
    "gamma_k = 0.8 * 1000 # kgf/m^3\n",
    "# Presión en A\n",
    "p_A = p_C - gamma_agua * h_agua\n",
    "# Presión en B\n",
    "p_B = (13.8*10**3) * (1/g) # kgf/m^2\n",
    "# Altura h del queroseno\n",
    "h = (p_C - p_B)/(gamma_agua - gamma_k)\n",
    "\n",
    "print('Resultados:')\n",
    "print('p_A = %s kgf/m^2 = %s kPa'%(round(p_A,2),round(p_A/98.07,2)) )\n",
    "print('h = %s m = %s cm'%(round(h,5),round(h*100,3)))"
   ]
  },
  {
   "cell_type": "code",
   "execution_count": 23,
   "metadata": {},
   "outputs": [],
   "source": [
    "%reset -s -f"
   ]
  },
  {
   "cell_type": "markdown",
   "metadata": {},
   "source": [
    "## Ejercicio 4\n",
    "¿Cuál es la presión manométrica dentro del tanque de aire?\n",
    "\n",
    "<img src=\"img/tp1-04.png\" alt=\"tp1-04.png\" width=\"55%\" height=\"55%\">"
   ]
  },
  {
   "cell_type": "markdown",
   "metadata": {},
   "source": [
    "### Solución\n",
    "Considero:\n",
    "\n",
    "$\n",
    "\\begin{array}{l}\n",
    "P_a = P_b \\\\\n",
    "P_b = P_c \\\\\n",
    "P_d = P_c - \\gamma_{Hg} \\cdot 200 \\, \\mathrm{mm} \\\\\n",
    "P_e = P_d + \\gamma_{H_2O} \\cdot 100 \\, \\mathrm{mm} \\\\\n",
    "P_f = P_e \\\\\n",
    "P_f = \\gamma_{Hg} 260 \\mathrm{mm}\n",
    "\\end{array}\n",
    "$"
   ]
  },
  {
   "cell_type": "code",
   "execution_count": 24,
   "metadata": {},
   "outputs": [
    {
     "name": "stdout",
     "output_type": "stream",
     "text": [
      "Resultados:\n",
      "P_f = 3536.0 kgf/m^2\n",
      "P_e = 3536.0 kgf/m^2\n",
      "P_d = 3436.0 kgf/m^2\n",
      "P_c = 6156.0 kgf/m^2\n",
      "P_b = 6156.0 kgf/m^2\n",
      "P_a = 6156.0 kgf/m^2\n"
     ]
    }
   ],
   "source": [
    "# Cálculo de presión en f y e\n",
    "gamma_Hg = 13600 # kgf/m^3\n",
    "\n",
    "P_f = gamma_Hg * (460-200)/1000\n",
    "P_e = P_f\n",
    "\n",
    "# Cálculo de presión en d\n",
    "gamma_agua = 1000 # kgf/m^2\n",
    "\n",
    "P_d = P_e - gamma_agua * 100/1000\n",
    "\n",
    "# Cálculo de presión en c, b y a\n",
    "P_c = P_d + gamma_Hg * 200/1000\n",
    "P_b = P_c\n",
    "P_a = P_b\n",
    "\n",
    "print('Resultados:')\n",
    "print('P_f = %s kgf/m^2'%P_f)\n",
    "print('P_e = %s kgf/m^2'%P_e)\n",
    "print('P_d = %s kgf/m^2'%P_d)\n",
    "print('P_c = %s kgf/m^2'%P_c)\n",
    "print('P_b = %s kgf/m^2'%P_b)\n",
    "print('P_a = %s kgf/m^2'%P_a)"
   ]
  },
  {
   "cell_type": "code",
   "execution_count": 25,
   "metadata": {},
   "outputs": [],
   "source": [
    "%reset -s -f"
   ]
  },
  {
   "cell_type": "markdown",
   "metadata": {},
   "source": [
    "## Ejercicio 5\n",
    "Encuentre la diferencia de presión entre los tanques A y B si $d_1 = 300 \\, \\mathrm{mm}$, $d_2 = 150 \\, \\mathrm{mm}$, $d_3 = 460 \\, \\mathrm{mm}$, $d_4 = 200 \\, \\mathrm{mm}$ y la densidad relativa del mercurio es 13,6.\n",
    "\n",
    "![tp1-05.png](img/tp1-05.png)"
   ]
  },
  {
   "cell_type": "markdown",
   "metadata": {},
   "source": [
    "### Solución\n",
    "Considero $\\sin 45^\\circ = h/4$\n",
    "\n",
    "$h = \\sin 45^\\circ d_4$"
   ]
  },
  {
   "cell_type": "markdown",
   "metadata": {},
   "source": [
    "$$ P_a = P_b + \\gamma_{Hg} \\cdot (d_4 \\cdot \\sin 45^\\circ + d_3) - \\gamma_{H_2O} \\cdot d_1 $$"
   ]
  },
  {
   "cell_type": "markdown",
   "metadata": {},
   "source": [
    "$$ \\Delta P_{ab} = P_a - P_b = \\gamma_{Hg} \\cdot (d_4 \\cdot \\sin 45^\\circ + d_3) - \\gamma_{H_2O} \\cdot d_1 $$"
   ]
  },
  {
   "cell_type": "code",
   "execution_count": 28,
   "metadata": {},
   "outputs": [
    {
     "name": "stdout",
     "output_type": "stream",
     "text": [
      "Resultado:\n",
      "DP_ab = 7879.33 kgf/m^2\n"
     ]
    }
   ],
   "source": [
    "import math as m\n",
    "gamma_Hg = 13600 # kgf/m^3\n",
    "gamma_agua = 1000 # kgf/m^3\n",
    "d1 = 300/1000 # m\n",
    "d2 = 150/1000 # m\n",
    "d3 = 460/1000 # m\n",
    "d4 = 200/1000 # m\n",
    "ang = 45 * m.pi/180 # radianes\n",
    "\n",
    "DP_ab = gamma_Hg * (d4*m.sin(ang)+d3)-gamma_agua*d1\n",
    "\n",
    "print('Resultado:')\n",
    "print('DP_ab = %s kgf/m^2'%round(DP_ab,2))"
   ]
  },
  {
   "cell_type": "code",
   "execution_count": 29,
   "metadata": {},
   "outputs": [],
   "source": [
    "%reset -s -f"
   ]
  },
  {
   "cell_type": "markdown",
   "metadata": {},
   "source": [
    "## Ejercicio 6\n",
    "Un elevador hidráulico está provisto de dos émbolos, uno de superficie igual a 1 m² y otro de superficie igual a 5 cm². ¿Qué fuerza mínima debemos ejercer para elevar una masa de 1000 kg? ¿En cuál de los émbolos?\n",
    "\n",
    "<img src=\"img/tp1-06.png\" alt=\"tp1-06.png\" width=\"30%\" height=\"30%\">"
   ]
  },
  {
   "cell_type": "markdown",
   "metadata": {},
   "source": [
    "### Solución\n",
    "$\n",
    "\\begin{array}{l}\n",
    "A_1 = \\mathrm{ 5 \\, cm^2 = 5 \\times 10^{-4} \\, m^2 } \\\\\n",
    "A_2 = \\mathrm{ 1 \\, m^2 }\n",
    "\\end{array}\n",
    "$"
   ]
  },
  {
   "cell_type": "markdown",
   "metadata": {},
   "source": [
    "$$ \\frac{F_1}{A_1} = \\frac{F_2}{A_2} $$"
   ]
  },
  {
   "cell_type": "code",
   "execution_count": 30,
   "metadata": {},
   "outputs": [
    {
     "name": "stdout",
     "output_type": "stream",
     "text": [
      "Resultados:\n",
      "P1 = P2 = 9810.0 N/m^2\n",
      "F1 = 4.905 N (fuerza mínima)\n"
     ]
    }
   ],
   "source": [
    "# Datos:\n",
    "A1 = 5*10**(-4) # m^2\n",
    "A2 = 1 # m^2\n",
    "m = 1000 # kg\n",
    "g = 9.81 # m/s^2 (aceleración de la gravedad)\n",
    "F2 = m*g # N\n",
    "\n",
    "P2 = F2/A2 # N/m^2\n",
    "P1 = P2\n",
    "F1 = P2*A1 # N\n",
    "\n",
    "print('Resultados:')\n",
    "print('P1 = P2 = %s N/m^2'%P1)\n",
    "print('F1 = %s N (fuerza mínima)'%F1)"
   ]
  },
  {
   "cell_type": "markdown",
   "metadata": {},
   "source": [
    "La fuerza debe aplicarse en el émbolo más pequeño ya que la relación entre las fuerzas viene dada por:"
   ]
  },
  {
   "cell_type": "markdown",
   "metadata": {},
   "source": [
    "$$ \\frac{F_1}{F_2} = \\frac{A_1}{A_2} $$"
   ]
  },
  {
   "cell_type": "markdown",
   "metadata": {},
   "source": [
    "En esta forma, con $A_B > A_A$ puede obtenerse una considerable ventaja mecánica."
   ]
  },
  {
   "cell_type": "code",
   "execution_count": 31,
   "metadata": {},
   "outputs": [],
   "source": [
    "%reset -s -f"
   ]
  },
  {
   "cell_type": "markdown",
   "metadata": {},
   "source": [
    "## Ejercico 7\n",
    "¿Cuál es la presión $P_A$? La densidad realtiva del aceite es 0,8\n",
    "\n",
    "![tp1-07.png](img/tp1-07.png)"
   ]
  },
  {
   "cell_type": "markdown",
   "metadata": {},
   "source": [
    "### Solución\n",
    "$$ P_A = \\gamma_{Hg} \\cdot (0,3 \\, \\mathrm{m}) - \\gamma_{H_2O} \\cdot (1,6 \\, \\mathrm{m}) - (0,8) \\cdot (\\gamma_{H_2O}) \\cdot (3 \\, \\mathrm{m}) $$"
   ]
  },
  {
   "cell_type": "code",
   "execution_count": 32,
   "metadata": {},
   "outputs": [
    {
     "name": "stdout",
     "output_type": "stream",
     "text": [
      "Resultado:\n",
      "P_A = 80.0 kgf/m^2\n"
     ]
    }
   ],
   "source": [
    "# Datos:\n",
    "gamma_Hg = 13600 # kgf/m^3\n",
    "gamma_agua = 1000 # kgf/m^3\n",
    "gamma_aceite = 0.8*gamma_agua\n",
    "\n",
    "P_A = gamma_Hg*0.3 - gamma_agua*(4.6 - 3) - gamma_aceite*3\n",
    "\n",
    "print('Resultado:')\n",
    "print('P_A = %s kgf/m^2'%round(P_A,2))"
   ]
  },
  {
   "cell_type": "code",
   "execution_count": 33,
   "metadata": {},
   "outputs": [],
   "source": [
    "%reset -s -f"
   ]
  },
  {
   "cell_type": "markdown",
   "metadata": {},
   "source": [
    "## Ejercicio 8\n",
    "Los compartimentos B y C de la figura están cerrados y llenos de aire. La presión atmosférica es de 1 kg/cm². Cuando los manómetros A y D marcan las lecturas indicadas, ¿Qué valor tendrá la cota x en el manómetro de mercurio E?\n",
    "\n",
    "![tp1-08](img/tp1-08.png)"
   ]
  },
  {
   "cell_type": "markdown",
   "metadata": {},
   "source": [
    "### Solución\n",
    "$$ P_A = 21000 \\, \\mathrm{ kgf/m^2 } $$"
   ]
  },
  {
   "cell_type": "markdown",
   "metadata": {},
   "source": [
    "$$ P_C = - \\gamma_{Hg} \\cdot (0,25 \\, \\mathrm{m}) $$"
   ]
  },
  {
   "cell_type": "markdown",
   "metadata": {},
   "source": [
    "$$ P_A = P_C + \\gamma_{Hg} \\cdot x \\tag{1} $$"
   ]
  },
  {
   "cell_type": "markdown",
   "metadata": {},
   "source": [
    "$$ x = \\frac{P_A + \\gamma_{Hg} \\cdot (0,25 \\, \\mathrm{m})}{\\gamma_{Hg}} $$"
   ]
  },
  {
   "cell_type": "code",
   "execution_count": 34,
   "metadata": {},
   "outputs": [
    {
     "name": "stdout",
     "output_type": "stream",
     "text": [
      "x = 1.7941 m\n"
     ]
    }
   ],
   "source": [
    "# Con sympy (solamente para probar la biblioteca o library)\n",
    "# es una ecuación una ecuación de 1 incógnita, como que no hace falta\n",
    "from sympy import *\n",
    "x = symbols('x')\n",
    "P_A = 2.1 * 10000 # kgf/m^2 (presión en A)\n",
    "gamma_Hg = 13600 # kgf/m^3\n",
    "\n",
    "P_C = -gamma_Hg * 0.25 # kgf/m^2 (presión en C)\n",
    "\n",
    "eq1 = Eq(P_A , P_C + gamma_Hg * x) # ecuación 1\n",
    "seq1 = solve(eq1,x) # resuelve la ecuación [1]\n",
    "x = seq1[0]\n",
    "\n",
    "print('x =',round(x,4),'m')"
   ]
  },
  {
   "cell_type": "code",
   "execution_count": 35,
   "metadata": {},
   "outputs": [
    {
     "name": "stdout",
     "output_type": "stream",
     "text": [
      "x = 1.7941 m\n"
     ]
    }
   ],
   "source": [
    "# o también\n",
    "\n",
    "x = (P_A + gamma_Hg * 0.25)/gamma_Hg\n",
    "\n",
    "print('x =',round(x,4),'m')"
   ]
  },
  {
   "cell_type": "code",
   "execution_count": 36,
   "metadata": {},
   "outputs": [],
   "source": [
    "%reset -s -f"
   ]
  },
  {
   "cell_type": "markdown",
   "metadata": {},
   "source": [
    "## Ejercicio 9\n",
    "Encuentre la distancia d para el tubo en U.\n",
    "\n",
    "![tp1-09.png](img/tp1-09.png)"
   ]
  },
  {
   "cell_type": "markdown",
   "metadata": {},
   "source": [
    "### Solución\n",
    "$$P_B = P_A + \\gamma_{ac} \\mathrm{ (0,05 \\, m + 0,01 \\, m) }$$"
   ]
  },
  {
   "cell_type": "markdown",
   "metadata": {},
   "source": [
    "$$P_C = P_B - \\gamma_{Hg} (0,02 \\, \\mathrm{m}) $$"
   ]
  },
  {
   "cell_type": "markdown",
   "metadata": {},
   "source": [
    "$$P_D = P_C - 1,4 \\gamma_{H2O} \\cdot d $$"
   ]
  },
  {
   "cell_type": "markdown",
   "metadata": {},
   "source": [
    "$$ P_D = P_A + (0,6 \\cdot \\gamma_{H_2O}) (0,06 \\, \\mathrm{m})-\\gamma_{Hg}(0,02 \\, \\mathrm{m})- (1,4 \\cdot \\gamma_{H_2O}) \\cdot d $$"
   ]
  },
  {
   "cell_type": "markdown",
   "metadata": {},
   "source": [
    "Como $P_D = 0$ resulta\n",
    "\n",
    "$$ d = \\frac{P_A + (0,6 \\cdot \\gamma_{H_2O})(0,6 \\, \\mathrm{m}) - \\gamma_{Hg}(0,02 \\, \\mathrm{m})}{1,4 \\cdot \\gamma_{H_2O}} $$"
   ]
  },
  {
   "cell_type": "code",
   "execution_count": 37,
   "metadata": {},
   "outputs": [
    {
     "name": "stdout",
     "output_type": "stream",
     "text": [
      "Resultado:\n",
      "d = 0.028 m = 28.085 mm\n"
     ]
    }
   ],
   "source": [
    "# Datos:\n",
    "# 1 kPa = 101.97 kgf/m^2\n",
    "P_A = 2.7 * 101.97 # kgf/m^2\n",
    "gamma_Hg = 13600 # kgf/m^3\n",
    "gamma_agua = 1000 # kgf/m^3\n",
    "gamma_aceite = 0.6*gamma_agua # kgf/m^3\n",
    "gamma_liq = 1.4*gamma_agua # kgf/m^3\n",
    "\n",
    "d = (P_A + gamma_aceite*0.06 - gamma_Hg*0.02)/gamma_liq\n",
    "\n",
    "print('Resultado:')\n",
    "print('d = %s m = %s mm'%(round(d,3),round(d*1000,3)) )"
   ]
  },
  {
   "cell_type": "code",
   "execution_count": 40,
   "metadata": {},
   "outputs": [],
   "source": [
    "%reset -s -f"
   ]
  },
  {
   "cell_type": "markdown",
   "metadata": {},
   "source": [
    "## Ejercicio 10\n",
    "El depósito de la figura contiene agua.\n",
    "1. Si abrimos la llave de paso, ¿qué altura tendrá el agua en cada lado del depósito cuando se alcance el equilibrio?\n",
    "2. ¿Qué cantidad de agua pasará de un recipiene al otro hasta que se alcance el equilibrio?\n",
    "\n",
    "![tp1-10.png](img/tp1-10.png)"
   ]
  },
  {
   "cell_type": "markdown",
   "metadata": {},
   "source": [
    "### Solución\n",
    "1) En el equilibrio la presión en el fondo de los recipientes es igual, por lo tanto:\n",
    "\n",
    "$h_{iA} =$ altura inicial en A, $h_{iB} =$ altura inicial en B, $h_{fA} =$ altura final en A, $h_{fB} =$ altura final en B, $A_A =$ área A, $A_B =$ área B"
   ]
  },
  {
   "cell_type": "markdown",
   "metadata": {},
   "source": [
    "$$ \\gamma_{agua} \\cdot h_{fA} = \\gamma_{agua} \\cdot h_{fB} + P_{atm} \\quad \\Rightarrow \\quad h_{fA} = h_{fB} + \\frac{P_{atm}}{\\gamma_{agua}} \\tag{1} $$"
   ]
  },
  {
   "cell_type": "markdown",
   "metadata": {},
   "source": [
    "además el volumen total de agua no cambia por lo tanto:"
   ]
  },
  {
   "cell_type": "markdown",
   "metadata": {},
   "source": [
    "$$ h_{iA} \\cdot Area_A + h_{iB} \\cdot Area_B = h_{fA} \\cdot Area_A + h_{fB} \\cdot Area_B \\tag{2} $$"
   ]
  },
  {
   "cell_type": "code",
   "execution_count": 42,
   "metadata": {},
   "outputs": [
    {
     "name": "stdout",
     "output_type": "stream",
     "text": [
      "[{hf_A: 18.3333333333333, hf_B: 8.33333333333333}]\n",
      "Entonces:\n",
      "hf_A = 18.333 m\n",
      "hf_B = 8.333 m\n"
     ]
    }
   ],
   "source": [
    "from sympy import *\n",
    "hf_A, hf_B = symbols('hf_A , hf_B')\n",
    "hi_A = 15 # m altura inicial A\n",
    "hi_B = 10 # m altura inicial B\n",
    "Area_A = 10 # m^2\n",
    "Area_B = 20 # m^2\n",
    "gamma_agua = 1000 # kgf/m^3\n",
    "P_atm = 10000 # kgf/m^2\n",
    "\n",
    "eq1 = Eq(hf_A , hf_B + P_atm/gamma_agua) # ecuación 1\n",
    "eq2 = Eq(hi_A*Area_A+hi_B*Area_B , hf_A*Area_A+hf_B*Area_B) # ecuación 2\n",
    "Sol = solve([eq1,eq2],[hf_A,hf_B],dict=True)\n",
    "\n",
    "print(Sol)\n",
    "\n",
    "hf_A = Sol[0][hf_A] # altura final A\n",
    "hf_B = Sol[0][hf_B] # altura final B\n",
    "\n",
    "print('Entonces:')\n",
    "print('hf_A =',round(hf_A,3),'m')\n",
    "print('hf_B =',round(hf_B,3),'m')"
   ]
  },
  {
   "cell_type": "markdown",
   "metadata": {},
   "source": [
    "2) La cantidad de agua que pasa de un recipiente al otro será:"
   ]
  },
  {
   "cell_type": "markdown",
   "metadata": {},
   "source": [
    "$$ V_{fA} - V_{iA} = h_{fA} \\cdot Area_A - h_{iA} \\cdot Area_A $$"
   ]
  },
  {
   "cell_type": "markdown",
   "metadata": {},
   "source": [
    "$$ \\Delta V_A = -\\Delta V_B $$"
   ]
  },
  {
   "cell_type": "code",
   "execution_count": 43,
   "metadata": {},
   "outputs": [
    {
     "name": "stdout",
     "output_type": "stream",
     "text": [
      "DV_A = 33.333 m^3\n"
     ]
    }
   ],
   "source": [
    "DV_A = hf_A * Area_A -hi_A * Area_A\n",
    "\n",
    "print('DV_A = %s m^3'%round(DV_A,3))"
   ]
  },
  {
   "cell_type": "code",
   "execution_count": 1,
   "metadata": {},
   "outputs": [],
   "source": [
    "%reset -s -f"
   ]
  },
  {
   "cell_type": "markdown",
   "metadata": {},
   "source": [
    "## Ejercicio de clase\n",
    "Hallar la presión en cada punto\n",
    "\n",
    "<img src=\"img/c_01.png\" alt=\"c_01.png\" width=\"50%\" height=\"50%\">"
   ]
  },
  {
   "cell_type": "markdown",
   "metadata": {},
   "source": [
    "### Solución"
   ]
  },
  {
   "cell_type": "code",
   "execution_count": 44,
   "metadata": {},
   "outputs": [
    {
     "name": "stdout",
     "output_type": "stream",
     "text": [
      "P_A = 3000 kg/m^2\n",
      "P_B = -2000 kg/m^2\n",
      "P_C = -2000 kg/m^2\n",
      "P_D = 580.0 kg/m^2\n",
      "P_E = -1140.0 kg/m^2\n",
      "P_F = -1140.0 kg/m^2\n"
     ]
    }
   ],
   "source": [
    "# Datos:\n",
    "gamma_agua = 1000 # kg/m^3\n",
    "gamma_aire = 1.2 # kg/m^3\n",
    "gamma_gas = 1.4 # kg/m^3\n",
    "gamma_aceite = 0.86 * gamma_agua # kg/m^3\n",
    "\n",
    "# Presiones relativas\n",
    "P_A = gamma_agua * 3\n",
    "P_B = gamma_agua * (-2)\n",
    "P_C = P_B\n",
    "P_D = P_C + gamma_aceite * 3\n",
    "P_E = P_C + gamma_aceite * 1\n",
    "P_F = P_E\n",
    "\n",
    "print('P_A = %s kg/m^2'%P_A)\n",
    "print('P_B = %s kg/m^2'%P_B)\n",
    "print('P_C = %s kg/m^2'%P_C)\n",
    "print('P_D = %s kg/m^2'%P_D)\n",
    "print('P_E = %s kg/m^2'%P_E)\n",
    "print('P_F = %s kg/m^2'%P_F)"
   ]
  },
  {
   "cell_type": "code",
   "execution_count": 45,
   "metadata": {},
   "outputs": [],
   "source": [
    "%reset -s -f"
   ]
  },
  {
   "cell_type": "markdown",
   "metadata": {},
   "source": [
    "## Ejercicio\n",
    "Una placa cuadrada de 50 cm de lado se desliza con una velocidad constante de 9 m/s por un hueco inclinado a 30° lleno de aceite con $\\mu=0,004 \\; \\mathrm{kgf \\cdot s/cm^2}$ y un espesor entre placa y pared de 0,01 cm. Calcular los esfuerzos sobre las paredes de la placa.\n",
    "\n",
    "![c-02.png](img/c-02.png)"
   ]
  },
  {
   "cell_type": "markdown",
   "metadata": {},
   "source": [
    "### Solución\n",
    "$\\left\\{\n",
    "\\begin{array}{l}\n",
    "P_x = P \\sin 30^\\circ \\\\\n",
    "P_y = P \\cos 30^\\circ\n",
    "\\end{array}\n",
    "\\right.\n",
    "$\n",
    "\n",
    "Como $v = cte$ entonces $\\sum F_x = 0 \\quad \\Rightarrow \\quad P_x - \\tau A = 0 \\quad \\Rightarrow \\quad P_x = \\tau A$"
   ]
  },
  {
   "cell_type": "markdown",
   "metadata": {},
   "source": [
    "Se supone un perfil de velocidad lineal en la película de aceite. Por lo tanto:"
   ]
  },
  {
   "cell_type": "markdown",
   "metadata": {},
   "source": [
    "$$ \\frac{\\partial W}{\\partial h} = \\mathrm{ \\frac{900 \\; cm/s - 0}{0,01 \\; cm} = 90000 \\; s^{-1} } $$"
   ]
  },
  {
   "cell_type": "markdown",
   "metadata": {},
   "source": [
    "El esfuerzo cortante sobre las paredes de la placa es:"
   ]
  },
  {
   "cell_type": "markdown",
   "metadata": {},
   "source": [
    "$$ \\tau = \\mu \\frac{\\partial W}{\\partial h} \\quad ; \\quad F_R = \\tau A \\quad ; \\quad P = \\frac{P_x}{\\sin 30^\\circ} $$"
   ]
  },
  {
   "cell_type": "code",
   "execution_count": 48,
   "metadata": {},
   "outputs": [],
   "source": [
    "import math as m"
   ]
  },
  {
   "cell_type": "code",
   "execution_count": 50,
   "metadata": {},
   "outputs": [
    {
     "name": "stdout",
     "output_type": "stream",
     "text": [
      "tau = 360.0 kgf/cm^2\n",
      "F_R = 360.0 kgf\n",
      "P = 720.0 kgf\n"
     ]
    }
   ],
   "source": [
    "dW = 900 # cm/s\n",
    "dh = 0.01 # cm\n",
    "mu = 0.004 # kgf·s/cm^2\n",
    "A = 50*dh*2 # cm^2\n",
    "ang = 30*m.pi/180 # radianes\n",
    "\n",
    "tau = mu*dW/dh\n",
    "F_R = tau*A\n",
    "P_x = F_R\n",
    "P = P_x/m.sin(ang)\n",
    "\n",
    "print('tau = %s kgf/cm^2'%tau)\n",
    "print('F_R = %s kgf'%F_R)\n",
    "print('P = %s kgf'%round(P,2))"
   ]
  },
  {
   "cell_type": "code",
   "execution_count": 51,
   "metadata": {},
   "outputs": [],
   "source": [
    "%reset -s -f"
   ]
  },
  {
   "cell_type": "markdown",
   "metadata": {},
   "source": [
    "## Ejercicio\n",
    "El indicador de nafta de un auto marca proporcionalmente a la presión manométrica del fondo del tanque. Si este contiene accidentalmente 2 cm de agua. ¿Cuántos cm de aire habrá en el extremo superior cuando el indicador marque que el tanque esta lleno? La altura del tanque es de 30 cm, y la densidad relativa de la nafta es 0,67.\n",
    "\n",
    "![c_03.png](img/c_03.png)"
   ]
  },
  {
   "cell_type": "markdown",
   "metadata": {},
   "source": [
    "### Solución\n",
    "$$ \\delta_{rel \\; nafta} = \\frac{\\gamma_{nafta}}{\\gamma_{H_2O}} $$"
   ]
  },
  {
   "cell_type": "code",
   "execution_count": 52,
   "metadata": {},
   "outputs": [
    {
     "name": "stdout",
     "output_type": "stream",
     "text": [
      "gamma_nafta = 6570.02 N/m^3\n"
     ]
    }
   ],
   "source": [
    "g = 9.806 # m/s^2\n",
    "gamma_agua = 1000*g # N/m^3\n",
    "gamma_nafta = 0.67*gamma_agua # N/m^3\n",
    "\n",
    "print('gamma_nafta = %s N/m^3'%round(gamma_nafta,2))"
   ]
  },
  {
   "cell_type": "markdown",
   "metadata": {},
   "source": [
    "Si el tanque contiene solo nafta la $P_{rel}$ en el fondo cuando esté lleno será:"
   ]
  },
  {
   "cell_type": "markdown",
   "metadata": {},
   "source": [
    "$$ P_{relT} = \\gamma_{nafta} \\cdot h $$"
   ]
  },
  {
   "cell_type": "code",
   "execution_count": 53,
   "metadata": {},
   "outputs": [
    {
     "name": "stdout",
     "output_type": "stream",
     "text": [
      "P_relT = 1971.006 Pa\n"
     ]
    }
   ],
   "source": [
    "h = 0.3 # m\n",
    "P_relT = gamma_nafta*h\n",
    "\n",
    "print('P_relT = %s Pa'%P_relT)"
   ]
  },
  {
   "cell_type": "markdown",
   "metadata": {},
   "source": [
    "El indicador marcará que el tanque está lleno cuando se registre una presión manométrica en el fondo de 1971 Pa"
   ]
  },
  {
   "cell_type": "markdown",
   "metadata": {},
   "source": [
    "$$ P_{rel T} = P_{rel N} + P_{rel H_2O} $$"
   ]
  },
  {
   "cell_type": "markdown",
   "metadata": {},
   "source": [
    "$$ P_{rel N} = P_{rel T} - P_{rel H_2O} $$"
   ]
  },
  {
   "cell_type": "markdown",
   "metadata": {},
   "source": [
    "$$ \\gamma_{nafta} \\, h_{nafta} = P_{rel T} - \\gamma_{H_2O} \\, h_{H_2O} $$"
   ]
  },
  {
   "cell_type": "markdown",
   "metadata": {},
   "source": [
    "$$ h_{nafta} = \\frac{ P_{rel T} - \\gamma_{H_2O} \\, h_{H_2O} } {\\gamma_{nafta} } $$"
   ]
  },
  {
   "cell_type": "code",
   "execution_count": 54,
   "metadata": {},
   "outputs": [
    {
     "name": "stdout",
     "output_type": "stream",
     "text": [
      "h_nafta = 0.27 m\n"
     ]
    }
   ],
   "source": [
    "h_agua = 0.02 # m\n",
    "h_nafta = (P_relT - gamma_agua*h_agua)/gamma_nafta\n",
    "\n",
    "print('h_nafta = %s m'%round(h_nafta,2))"
   ]
  },
  {
   "cell_type": "code",
   "execution_count": 55,
   "metadata": {},
   "outputs": [
    {
     "name": "stdout",
     "output_type": "stream",
     "text": [
      "h_aire = 0.01 m\n"
     ]
    }
   ],
   "source": [
    "h_aire = h - h_nafta - h_agua\n",
    "\n",
    "print('h_aire = %s m'%round(h_aire,2))"
   ]
  },
  {
   "cell_type": "code",
   "execution_count": 56,
   "metadata": {},
   "outputs": [],
   "source": [
    "%reset -s -f"
   ]
  },
  {
   "cell_type": "markdown",
   "metadata": {},
   "source": [
    "-----------------------------------------------------\n",
    "[Index](https://github.com/daniel-lorenzo/Mecanica_de_fluidos/blob/master/Readme.md) -\n",
    "[Next ->](https://nbviewer.jupyter.org/github/daniel-lorenzo/Mecanica_de_fluidos/blob/master/TP_02.ipynb)"
   ]
  }
 ],
 "metadata": {
  "kernelspec": {
   "display_name": "Python 3",
   "language": "python",
   "name": "python3"
  },
  "language_info": {
   "codemirror_mode": {
    "name": "ipython",
    "version": 3
   },
   "file_extension": ".py",
   "mimetype": "text/x-python",
   "name": "python",
   "nbconvert_exporter": "python",
   "pygments_lexer": "ipython3",
   "version": "3.7.3"
  }
 },
 "nbformat": 4,
 "nbformat_minor": 2
}
