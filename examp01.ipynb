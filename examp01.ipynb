{
 "cells": [
  {
   "cell_type": "markdown",
   "metadata": {},
   "source": [
    "## Rotación de cuerpo rígido\n",
    "\n",
    "Después de un transitorio inicial de \"arranque\", un fluido contenido en un tanque que gira con una velocidad angular constante $v$ alrededor de un eje, como se muestra en la figura, rotará con el tanque como un cuerpo rígido. Se sabe por la dinámica de las partículas elementales que la aceleración de una partícula fluida ubicada a una distancia $r$ del eje de rotación es igual en magnitud a $r \\omega^2$, y la dirección de la aceleración es hacia el eje de rotación, como se ilustra en la figura. Dado que los caminos de las partículas de fluido son circulares, es conveniente utilizar coordenadas polares cilíndricas $r$, $u$ y $z$, definidas en el inserto de la figura.\n",
    "\n",
    "$$\\nabla p = \\frac{\\partial p}{\\partial r} \\, \\hat{e}_r + \\frac{1}{r} \\frac{\\partial p}{\\partial \\theta} \\, \\hat{e}_\\theta + \\frac{\\partial p}{\\partial z} \\, \\hat{e}_z$$"
   ]
  },
  {
   "cell_type": "markdown",
   "metadata": {},
   "source": [
    "Por lo tanto, en términos de este sistema de coordenadas\n",
    "\n",
    "$$ a_r = -r \\omega^2 \\, \\hat{e}_r \\qquad a_\\theta = 0 \\qquad a_z = -g \\, \\hat{e}_z $$"
   ]
  },
  {
   "cell_type": "markdown",
   "metadata": {},
   "source": [
    "Luego\n",
    "$$ \\frac{\\partial p}{\\partial r} = \\rho r \\omega^2 \\qquad \\frac{\\partial p}{\\partial \\theta} = 0 \\qquad \\frac{\\partial p}{\\partial z} = - \\rho g = - \\gamma$$\n"
   ]
  },
  {
   "cell_type": "markdown",
   "metadata": {},
   "source": [
    "Estos resultados muestran que para este tipo de rotación de cuerpo rígido, la presión es una función de dos variables r y z, y por lo tanto la presión diferencial es"
   ]
  },
  {
   "cell_type": "markdown",
   "metadata": {},
   "source": [
    "$$ dp = \\frac{\\partial p}{\\partial r} \\, dr + \\frac{\\partial p}{\\partial z} \\, dz $$\n",
    "ó\n",
    "$$ dp = \\rho r \\omega^2 \\, dr - \\gamma \\, dz \\tag{1}$$"
   ]
  },
  {
   "cell_type": "markdown",
   "metadata": {},
   "source": [
    "En un plano horizontal $(dz = 0)$, se deduce de la ecuación 1 que $dp/dr = \\rho \\omega^2 r$, que es mayor que cero. Por lo tanto, como se ilustra en la figura en el margen, debido a la aceleración centrífuga, la presión aumenta en la dirección radial.   \n",
    "A lo largo de una superficie de presión constante, como la superficie libre, $dp=0$, de modo que de la ecuación 1  utilizando $\\gamma =  \\rho g$\n",
    "\n",
    "$$ \\frac{dz}{dr} = \\frac{r \\omega^2}{g} $$"
   ]
  },
  {
   "cell_type": "markdown",
   "metadata": {},
   "source": [
    "La integración de este resultado da la ecuación para superficies de presión constante como\n",
    "\n",
    "$$ z = \\frac{\\omega^2 r^2}{2 g} + \\mathrm{constante} $$"
   ]
  },
  {
   "cell_type": "markdown",
   "metadata": {},
   "source": [
    "![br1.png](img/br1.png)\n",
    "\n",
    "Esta ecuación revela que estas superficies de presión constante son parabólicas, como se ilustra en la Fig."
   ]
  },
  {
   "cell_type": "markdown",
   "metadata": {},
   "source": [
    "Integrando la ecuación 1, produce\n",
    "\n",
    "$$ \\int dp = \\rho \\omega^2 \\int r \\, dr - \\gamma \\int dz $$"
   ]
  },
  {
   "cell_type": "markdown",
   "metadata": {},
   "source": [
    "$$ p = \\frac{\\rho \\omega^2 r^2}{2} - \\gamma z + \\mathrm{constante} $$\n",
    "\n",
    "![br2.png](img/br2.png)"
   ]
  },
  {
   "cell_type": "markdown",
   "metadata": {},
   "source": [
    "### Telescopio giratorio de espejo de mercurio\n",
    "Un espejo telescópico tiene la misma forma que la superficie libre parabólica de un líquido en un tanque giratorio. El telescopio de espejo líquido (LMT) consiste en una bandeja de líquido (normalmente mercurio debido a su excelente reflectividad) que gira para producir la forma parabólica requerida del espejo de superficie libre. Con los avances tecnológicos recientes, es posible obtener la rotación libre de vibraciones y la velocidad angular constante necesaria para producir una superficie de espejo líquido lo suficientemente precisa para uso astronómico. Recientemente se completó la construcción del LMT más grande, ubicado en la Universidad de Columbia Británica. Con un diámetro de 6 pies y una velocidad de rotación de 7 rpm, este espejo utiliza 30 litros de mercurio para su espejo parabólico de 1 mm de espesor. Uno de los principales beneficios de un LMT (en comparación con un telescopio de espejo de vidrio normal) es su bajo costo.\n",
    "Quizás la principal desventaja es que un LMT solo puede mirar hacia arriba, aunque hay muchas galaxias, explosiones de supernovas y pedazos de basura espacial para ver en cualquier parte del cielo. Los LMT de próxima generación pueden tener espejos secundarios móviles para permitir que se vea una porción más grande del cielo."
   ]
  },
  {
   "cell_type": "code",
   "execution_count": null,
   "metadata": {},
   "outputs": [],
   "source": []
  }
 ],
 "metadata": {
  "kernelspec": {
   "display_name": "Python 3",
   "language": "python",
   "name": "python3"
  },
  "language_info": {
   "codemirror_mode": {
    "name": "ipython",
    "version": 3
   },
   "file_extension": ".py",
   "mimetype": "text/x-python",
   "name": "python",
   "nbconvert_exporter": "python",
   "pygments_lexer": "ipython3",
   "version": "3.7.3"
  }
 },
 "nbformat": 4,
 "nbformat_minor": 2
}
