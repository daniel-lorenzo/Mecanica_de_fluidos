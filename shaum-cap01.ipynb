{
 "cells": [
  {
   "cell_type": "markdown",
   "metadata": {},
   "source": [
    "## Problemas resueltos"
   ]
  },
  {
   "cell_type": "markdown",
   "metadata": {},
   "source": [
    "## Problema 1\n",
    "Calcularel peso específico $\\gamma$, y el volumen específico $\\nu_s$ y la densidad $\\rho$ del metano a 38°C y 8,50 kp/cm² de presión absoluta."
   ]
  },
  {
   "cell_type": "markdown",
   "metadata": {},
   "source": [
    "### Solución\n",
    "![sc01-01.png](img/sc01-01.png)\n",
    "\n",
    "De la tabla 1A del Apéndice, R = 53, m/K\n",
    "$$ \\mbox{peso específico } \\gamma = \\frac{p}{RT} $$\n",
    "$$ \\mbox{volumen específico } \\nu_s = \\frac{1}{\\gamma} $$\n",
    "$$ \\mbox{densidad } \\rho = \\frac{\\gamma}{g} $$"
   ]
  },
  {
   "cell_type": "code",
   "execution_count": 9,
   "metadata": {},
   "outputs": [
    {
     "name": "stdout",
     "output_type": "stream",
     "text": [
      "gamma = 5.16 kp/m^3\n",
      "v_s = 0.194 m^3/kp\n",
      "dens = 0.526 UTM/m^3\n"
     ]
    }
   ],
   "source": [
    "p = 8.5e4 # kp/m^2\n",
    "R = 53 # m/K\n",
    "T = 38 + 273 # K\n",
    "g = 9.81 # m/s^2\n",
    "gamma = p/(R*T)\n",
    "v_s = 1 / gamma\n",
    "dens = gamma/g\n",
    "print('gamma = %s kp/m^3'%round(gamma,2))\n",
    "print('v_s = %s m^3/kp'%round(v_s,3))\n",
    "print('dens = %s UTM/m^3'%round(dens,3))"
   ]
  },
  {
   "cell_type": "markdown",
   "metadata": {},
   "source": [
    "## Ejercicio 2\n",
    "Si 6 m³ de un aceite pesan 47 kN, calcular su peso específico $\\gamma$, densidad $\\rho$ y densidad relativa.\n",
    "### Solución"
   ]
  },
  {
   "cell_type": "code",
   "execution_count": 11,
   "metadata": {},
   "outputs": [
    {
     "name": "stdout",
     "output_type": "stream",
     "text": [
      "gamma_aceite = 7.833 kN/m^3\n",
      "densidad = 798.5 kg/m^3\n",
      "densidad_relativa = 0.8\n"
     ]
    }
   ],
   "source": [
    "# Datos:\n",
    "P = 47 # kN\n",
    "V = 6 # m^3\n",
    "g = 9.81 # m/s^2\n",
    "gamma_agua = (998.23/1000)*g # kN/m^3\n",
    "# Fórmulas:\n",
    "gamma_aceite = P/V # kN/m^3\n",
    "\n",
    "densidad = gamma_aceite/g * 1000 # Kg/m^3\n",
    "\n",
    "densidad_relativa = gamma_aceite/gamma_agua\n",
    "\n",
    "print('gamma_aceite = %s kN/m^3'%round(gamma_aceite,3))\n",
    "print('densidad = %s kg/m^3'%round(densidad,2))\n",
    "print('densidad_relativa = %s'%round(densidad_relativa,2))"
   ]
  },
  {
   "cell_type": "code",
   "execution_count": 9,
   "metadata": {},
   "outputs": [
    {
     "data": {
      "text/plain": [
       "997.9612640163099"
      ]
     },
     "execution_count": 9,
     "metadata": {},
     "output_type": "execute_result"
    }
   ],
   "source": [
    "9.79*1000/g"
   ]
  },
  {
   "cell_type": "code",
   "execution_count": null,
   "metadata": {},
   "outputs": [],
   "source": []
  }
 ],
 "metadata": {
  "kernelspec": {
   "display_name": "Python 3",
   "language": "python",
   "name": "python3"
  },
  "language_info": {
   "codemirror_mode": {
    "name": "ipython",
    "version": 3
   },
   "file_extension": ".py",
   "mimetype": "text/x-python",
   "name": "python",
   "nbconvert_exporter": "python",
   "pygments_lexer": "ipython3",
   "version": "3.7.3"
  }
 },
 "nbformat": 4,
 "nbformat_minor": 2
}
