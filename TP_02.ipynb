{
 "cells": [
  {
   "cell_type": "markdown",
   "metadata": {},
   "source": [
    "# Mecánica de fluidos - Práctico 2\n",
    "__UNLZ - FI -- Jupyter Notebook + Python 3__\n",
    "   \n",
    "__Alumno: Lorenzo, Daniel Antonio__"
   ]
  },
  {
   "cell_type": "markdown",
   "metadata": {},
   "source": [
    "# Ejercicio 1\n",
    "Un depósito abierto de sección cuadrada de 1,8 m de lado pesa 350 kg y contiene 90 cm de agua. Está sometido a la acción de una fuerza de 1060 kg paralela a uno de los lados. ¿Cuánto será la diferencias de alturas debido a la aceleración?\n",
    "\n",
    "![tp2-01.png](img/tp2-01.png)"
   ]
  },
  {
   "cell_type": "markdown",
   "metadata": {},
   "source": [
    "## Solución\n",
    "El peso del depósito es $P_d = 350 \\, \\mathrm{kgf} \\quad \\therefore \\quad m_d = 350 \\, \\mathrm{kg}$\n",
    "\n",
    "El volumen de agua en el depósito es:\n",
    "$$ V_{agua} = \\mathrm{(1,8 \\, m)^2 \\cdot 0,9 \\, \\mathrm{m} } $$\n",
    "La masa de agua es:\n",
    "$$ \\mu = \\frac{m}{V} \\quad  \\Rightarrow \\quad m_{agua} = \\mu_{agua} \\cdot V_{agua} $$\n",
    "\n",
    "La fuerza que actúa sobre el depósito es:\n",
    "$$ F = \\mathrm{ 1060 \\, kgf = 1060 \\, kgf \\, \\frac{9,81 \\, m/s^2}{kgf}  = 10398,6 \\, N}$$\n",
    "como\n",
    "$$ F = m \\, a \\quad \\Rightarrow \\quad F = (m_d + m_{agua}) \\, a $$\n",
    "La aceleración es\n",
    "$$ a = \\frac{F}{(m_d + m_{agua})} $$"
   ]
  },
  {
   "cell_type": "code",
   "execution_count": 1,
   "metadata": {},
   "outputs": [],
   "source": [
    "# Datos:\n",
    "b = 1.8 # m (base)\n",
    "h = 0.9 # m (altura del agua)\n",
    "P_d = 350 # [kgf] (peso del depósito)\n",
    "m_d = 350 # [kg] (masa del depósito)\n",
    "g = 9.81 # [m/s^2] (aceleración de la gravedad)\n",
    "rho_agua = 1000 # [kg/m^3] (densidad del agua)\n",
    "\n",
    "# Cálculo del volumen de agua\n",
    "V_agua = b**2 * h\n",
    "# Cálculo de la masa de agua\n",
    "m_agua = rho_agua * V_agua\n",
    "# Cálculo de la fuerza que actúa sobre el depósito\n",
    "F = 1060 * g\n",
    "# Cálculo de la aceleración\n",
    "a = F/(m_d + m_agua)"
   ]
  },
  {
   "cell_type": "code",
   "execution_count": 2,
   "metadata": {},
   "outputs": [
    {
     "name": "stdout",
     "output_type": "stream",
     "text": [
      "Resultados:\n",
      "V_agua = 2.916 m^3\n",
      "m_agua = 2916.0 kg\n",
      "F = 10398.6 N\n",
      "a = 3.184 m/s^2\n"
     ]
    }
   ],
   "source": [
    "print('Resultados:')\n",
    "print('V_agua = %s m^3'%round(V_agua,3))\n",
    "print('m_agua = %s kg'%round(m_agua,2))\n",
    "print('F = %s N'%F)\n",
    "print('a = %s m/s^2'%round(a,3))"
   ]
  },
  {
   "cell_type": "markdown",
   "metadata": {},
   "source": [
    "Tomando unos ejes solidarios al depósito el líquido está en equilibrio relativo, es decir, con respecto al recipiente. Si no hay velocidad relativa ni entre el fluido y el contorno ni entre las capas de fluido la viscosidad no interviene y pueden aplicarse las ecuaciones de la hidrostática.\n",
    "\n",
    "Luego teniendo en cuenta\n",
    "\n",
    "$$ \\left\\{\n",
    "\\begin{array}{l}\n",
    "\\displaystyle \\frac{\\partial P}{\\partial x} = \\rho a \\\\\n",
    "\\displaystyle \\frac{\\partial P}{\\partial z} = - \\rho g\n",
    "\\end{array}\n",
    "\\right.\n",
    "\\; \\Rightarrow \\; dP = \\rho a \\; dx - \\rho g \\, dz\n",
    "$$\n",
    "Integrando entre A y B se tiene\n",
    "$$ \\int_{P_A}^{P_B} dP = \\int_{x_A}^{x_B} \\rho a \\, dx - \\int_{z_A}^{z_B} \\rho g \\, dz  $$\n",
    "\n",
    "$$ \\underbrace{P_B - P_A}_{= \\, 0} = \\rho a \\, (x_B - x_A) - \\rho g \\, (z_B - z_A)  $$\n",
    "\n",
    "$$ \\rho g \\, \\overbrace{(z_B - z_A)}^{\\displaystyle \\Delta h} = \\rho a \\, (x_B - x_A) $$\n",
    "\n",
    "$$ \\Delta h = \\frac{a \\, (x_B - x_A)}{g}  $$"
   ]
  },
  {
   "cell_type": "code",
   "execution_count": 5,
   "metadata": {},
   "outputs": [],
   "source": [
    "# Datos\n",
    "x_A = 0 # m\n",
    "x_B = 1.8 # m\n",
    "\n",
    "# Cálculo de Dh\n",
    "Dh = a*(x_B - x_A)/g # m"
   ]
  },
  {
   "cell_type": "code",
   "execution_count": 6,
   "metadata": {},
   "outputs": [
    {
     "name": "stdout",
     "output_type": "stream",
     "text": [
      "Resultado:\n",
      "Dh = 0.5842 m\n"
     ]
    }
   ],
   "source": [
    "print('Resultado:')\n",
    "print('Dh = %s m'%round(Dh,4))"
   ]
  },
  {
   "cell_type": "markdown",
   "metadata": {},
   "source": [
    "Nota: $\\displaystyle \\frac{\\Delta h}{\\Delta x} = \\;$ pendiente de la superficie libre donde $p_{rel} = 0$"
   ]
  },
  {
   "cell_type": "markdown",
   "metadata": {},
   "source": [
    "# Ejercicio 2\n",
    "Un tubo de 2 m de longitud y 5 cm de diámetro tiene, sus extremos cerrados y está lleno de agua a una presión de 0,88 kgf/cm². Situado en una posición horizontal se le hace girar alrededor de un eje vertical que pasa por sus extremos a una velocidad angular de 3 rad/s. ¿Cuál será la presión en el extremo más alejado del eje de giro?\n",
    "\n",
    "![tp2-02.png](img/tp2-02.png)"
   ]
  },
  {
   "cell_type": "markdown",
   "metadata": {},
   "source": [
    "## Solución\n",
    "$$ P_A = P_0 + \\gamma \\, \\frac{\\omega^2 r^2_A}{2g} $$"
   ]
  },
  {
   "cell_type": "code",
   "execution_count": 7,
   "metadata": {},
   "outputs": [],
   "source": [
    "# Datos:\n",
    "P_0 = 8800 # kgf/m^2\n",
    "gamma_agua = 1000 # kgf/m^3\n",
    "omega = 3 # rad/s\n",
    "r = 2 # m\n",
    "g = 9.81 # m/s^2\n",
    "\n",
    "# Cálculo de P_A\n",
    "P_A = P_0 + gamma_agua * (omega**2 * r**2)/(2*g)"
   ]
  },
  {
   "cell_type": "code",
   "execution_count": 8,
   "metadata": {},
   "outputs": [
    {
     "name": "stdout",
     "output_type": "stream",
     "text": [
      "Resultado\n",
      "P_A = 10634.86 kgf/m^2\n"
     ]
    }
   ],
   "source": [
    "print('Resultado')\n",
    "print('P_A = %s kgf/m^2'%round(P_A,2))"
   ]
  },
  {
   "cell_type": "code",
   "execution_count": 9,
   "metadata": {},
   "outputs": [],
   "source": [
    "%reset -s -f"
   ]
  },
  {
   "cell_type": "markdown",
   "metadata": {},
   "source": [
    "# Ejercicio 3\n",
    "El sistema en reposo de la figura se rota con una velocidad de 24 rpm. Una vez que se alcanza el estado permanente. ¿Cuál será la altura $h$ del fluido en cada uno de los tubos capilares exteriores? No considere los efectos de capilaridad.\n",
    "![tp2-03.1.png](img/tp2-03.1.png)"
   ]
  },
  {
   "cell_type": "markdown",
   "metadata": {},
   "source": [
    "## Solución\n",
    "$$ \\omega = 2 \\pi \\left( \\frac{24 \\, \\mathrm{rev}}{60 \\, \\mathrm{s}} \\right) = 0,8 \\pi \\, \\mathrm{rad/s} $$\n",
    "\n",
    "Configuración de estado permanente\n",
    "\n",
    "![tp2-03.2.png](img/tp2-03.2.png)\n",
    "$$ \\Delta z = \\frac{\\omega^2 (r^2_B - r^2_A)}{2g} $$"
   ]
  },
  {
   "cell_type": "code",
   "execution_count": 8,
   "metadata": {},
   "outputs": [],
   "source": [
    "import math as m"
   ]
  },
  {
   "cell_type": "code",
   "execution_count": 9,
   "metadata": {},
   "outputs": [],
   "source": [
    "rpm = 24\n",
    "omega = 2*m.pi*(rpm/60)\n",
    "r_B = 0.3 # m\n",
    "r_A = 0 # m\n",
    "g = 9.806 # m/s^2\n",
    "\n",
    "Dz = (omega**2 * (r_B**2 - r_A**2))/(2*g)"
   ]
  },
  {
   "cell_type": "code",
   "execution_count": 10,
   "metadata": {},
   "outputs": [
    {
     "name": "stdout",
     "output_type": "stream",
     "text": [
      "Dz = 0.029 m = 29.0 mm\n"
     ]
    }
   ],
   "source": [
    "print('Dz = %s m = %s mm'%(round(Dz,4),round(Dz*1000,1) ) )"
   ]
  },
  {
   "cell_type": "markdown",
   "metadata": {},
   "source": [
    "Un tubo capilar tiene un diámetro aprox. de 1 mm. Por lo que el volumen de líquido que puede contener en un máximo de 29 mm, es despreciable con respecto al volumen del recipiente.\n",
    "\n",
    "Si consideramos que el recipiente al que estan conectados los tubos es cilindrico, es volumen de líquido que contiene es:\n",
    "\n",
    "$$ V_{recp} = \\pi r^2 H = \\mathrm{\\pi (0,3 \\, m)^2 (0,02 \\, m) = 5,65487 \\times 10^{-3} \\, m^3}$$\n",
    "\n",
    "$$ V_{recp} \\approx \\mathrm{5,65 \\, litros} $$\n",
    "\n",
    "El volumen de líquido que pueden contener los tubos capilares es un máximo de:\n",
    "\n",
    "$$ V_{tubos} = 2 \\times \\pi \\, \\left( \\frac{d^2}{4} \\right) \\, \\Delta z $$\n",
    "\n",
    "$$ V_{tubos} = \\mathrm{ 2 \\times \\pi \\, \\left[ \\frac{(0,001 \\, m)^2}{4} \\right] \\, 0,029 \\, m = 4,5553 \\times 10^{-8} \\, m^3 }$$ \n",
    "\n",
    "$$ V_{tubos} \\approx \\mathrm{4,55 \\times 10^{-5} \\, litros} $$\n",
    "\n",
    "Podemos ver que el volumen de líquido contenido en los tubos es despreciable con respecto al volumen de líquido del recipiente.\n",
    "\n",
    "Entonces la altura máx. que alcanza es $\\Delta z + H$:"
   ]
  },
  {
   "cell_type": "code",
   "execution_count": 11,
   "metadata": {},
   "outputs": [
    {
     "name": "stdout",
     "output_type": "stream",
     "text": [
      "h_max = 49.0 mm\n"
     ]
    }
   ],
   "source": [
    "H = 20/1000 # m\n",
    "h_max = Dz + H\n",
    "\n",
    "print('h_max = %s mm'%round(h_max*1000,1))"
   ]
  },
  {
   "cell_type": "code",
   "execution_count": 9,
   "metadata": {},
   "outputs": [],
   "source": [
    "%reset -s -f"
   ]
  },
  {
   "cell_type": "markdown",
   "metadata": {},
   "source": [
    "# Ejemplo 2.12\n",
    "Se ha sugerido que la velocidad angular, $\\omega$, de un cuerpo o eje giratorio se puede medir conectando un cilindro abierto de líquido, como se muestra en la figura, y midiendo con algún tipo de medidor de profundidad el cambio en el fluido nivel, $H - h_0$, causado por la rotación del fluido.\n",
    "\n",
    "__Encuentre:__ Determine la relación entre este cambio en el nivel del fluido y la velocidad angular.\n",
    "\n",
    "![ex2.12.png](img/ex2.12.png)"
   ]
  },
  {
   "cell_type": "markdown",
   "metadata": {},
   "source": [
    "## Solución\n",
    "La altura, $h$, de la superficie libre sobre el fondo del tanque se puede determinar a partir de la ecuación, y se deduce que\n",
    "\n",
    "$$  h = h_0 + \\frac{\\omega^2 r^2}{2g} $$\n",
    "\n",
    "El volumen inicial de fluido en el tanque, $V_i$, es igual a\n",
    "\n",
    "$$ V_i = \\pi R^2 H $$\n",
    "\n",
    "El volumen del fluido con el tanque giratorio se puede encontrar con la ayuda del elemento diferencial que se muestra en la Fig. Esta carcasa cilíndrica se toma en un radio arbitrario, r, y su volumen es\n",
    "\n",
    "$$ dV = 2 \\pi r h \\, dr $$\n",
    "\n",
    "El volumen total es, por lo tanto,\n",
    "\n",
    "$$ V = 2 \\pi \\int_0^R r \\left( \\frac{\\omega^2 r^2}{2g}  + h_0 \\right) \\, dr $$\n",
    "\n",
    "$$ V = \\frac{\\pi \\omega^2 R^4}{4g} + \\pi R^2 h_0 $$\n",
    "\n",
    "Dado que el volumen del fluido en el tanque debe permanecer constante (suponiendo que ninguno se derrame por la parte superior), se deduce que\n",
    "\n",
    "$$ \\pi R^2 H = \\frac{\\pi \\omega^2 R^4}{4g} + \\pi R^2 h_0 $$\n",
    "ó\n",
    "$$ H - h_0 = \\frac{\\omega^2 R^2}{4g} $$\n",
    "\n",
    "__Comentario:__ Esta es la relación que estábamos buscando. Muestra que el cambio de profundidad podría usarse para determinar la velocidad de rotación, aunque la relación entre el cambio de profundidad y la velocidad no es lineal."
   ]
  },
  {
   "cell_type": "markdown",
   "metadata": {},
   "source": [
    "# Ejercicio 4\n",
    "Un tanque de agua debe rotar con una velocidad angular de $\\omega \\, \\mathrm{rad/s}$. ¿A qué velocidad empezará a derramarse el agua cuando se alcance el estado permanente con respecto al tanque?\n",
    "\n",
    "![tp2-04.png](img/tp2-04.png)"
   ]
  },
  {
   "cell_type": "markdown",
   "metadata": {},
   "source": [
    "## Solución\n",
    "El agua emperará a derramarse cuando $z_B = 0,3 \\, \\mathrm{m}$   \n",
    "La altura en $z_B$ es\n",
    "\n",
    "$$ z_B = h_0 + \\frac{\\omega^2 R^2}{2g} \\tag{1} $$\n",
    "\n",
    "Del ejemplo anterior tenemos que\n",
    "\n",
    "$$ H - h_0 = \\frac{\\omega^2 R^2}{4g} \\quad \\rightarrow \\quad h_0 = H - \\frac{\\omega^2 R^2}{4g} $$\n",
    "\n",
    "Reemplazando $h_0$ en $(1)$\n",
    "\n",
    "$$ z_B = H - \\frac{\\omega^2 R^2}{4g} + \\frac{\\omega^2 R^2}{2g} $$\n",
    "\n",
    "Entonces:\n",
    "\n",
    "$$ z_B = H + \\frac{\\omega^2 R^2}{4g} \\tag{2}$$\n",
    "\n",
    "Despejo $\\omega$ de la ecuación $(2)$\n",
    "\n",
    "$$ \\omega = \\frac{\\sqrt{(z_B - H) \\, 4g}}{R} $$\n",
    "\n",
    "Reemplazando, resulta\n",
    "\n",
    "$$ \\mathrm{ \\omega = \\frac{\\sqrt{(0,3 \\, m) - (0,2 \\, m) \\, 4 \\, (9,81 \\, m/s^2)} }{(0,25 \\, m)} } $$"
   ]
  },
  {
   "cell_type": "code",
   "execution_count": 5,
   "metadata": {},
   "outputs": [],
   "source": [
    "import math as m"
   ]
  },
  {
   "cell_type": "code",
   "execution_count": 6,
   "metadata": {},
   "outputs": [
    {
     "name": "stdout",
     "output_type": "stream",
     "text": [
      "omega = 7.924 rad/s\n"
     ]
    }
   ],
   "source": [
    "# Datos\n",
    "z_B = 0.3 # m\n",
    "H = 0.2 # m\n",
    "g = 9.81 # m/s^2\n",
    "R = 0.25 # m\n",
    "\n",
    "omega = m.sqrt((z_B - H)*4*g)/R\n",
    "\n",
    "print('omega = %s rad/s'%round(omega,3))"
   ]
  },
  {
   "cell_type": "markdown",
   "metadata": {},
   "source": [
    "$$ \\mathrm{ \\omega \\approx 7,924 \\, rad/s } $$\n",
    "\n",
    "El agua empezará a derramarse a una velocidad angular de 7,924 rad/s."
   ]
  },
  {
   "cell_type": "code",
   "execution_count": 3,
   "metadata": {},
   "outputs": [],
   "source": [
    "%reset -s -f"
   ]
  },
  {
   "cell_type": "code",
   "execution_count": null,
   "metadata": {},
   "outputs": [],
   "source": []
  }
 ],
 "metadata": {
  "kernelspec": {
   "display_name": "Python 3",
   "language": "python",
   "name": "python3"
  },
  "language_info": {
   "codemirror_mode": {
    "name": "ipython",
    "version": 3
   },
   "file_extension": ".py",
   "mimetype": "text/x-python",
   "name": "python",
   "nbconvert_exporter": "python",
   "pygments_lexer": "ipython3",
   "version": "3.7.3"
  }
 },
 "nbformat": 4,
 "nbformat_minor": 2
}
