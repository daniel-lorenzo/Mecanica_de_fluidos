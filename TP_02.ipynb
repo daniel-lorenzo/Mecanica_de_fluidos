{
 "cells": [
  {
   "cell_type": "markdown",
   "metadata": {},
   "source": [
    "# Mecánica de fluidos - Práctico 2\n",
    "__UNLZ - FI -- Jupyter Notebook + Python 3__\n",
    "   \n",
    "__Alumno: Lorenzo, Daniel Antonio__"
   ]
  },
  {
   "cell_type": "markdown",
   "metadata": {},
   "source": [
    "## Ejercicio 1\n",
    "Un depósito abierto de sección cuadrada de 1,8 m de lado pesa 350 kg y contiene 90 cm de agua. Está sometido a la acción de una fuerza de 1060 kg paralela a uno de los lados. ¿Cuánto será la diferencias de alturas debido a la aceleración?\n",
    "\n",
    "![tp2-01.png](img/tp2-01.png)"
   ]
  },
  {
   "cell_type": "markdown",
   "metadata": {},
   "source": [
    "### Solución"
   ]
  },
  {
   "cell_type": "code",
   "execution_count": 4,
   "metadata": {},
   "outputs": [
    {
     "name": "stdout",
     "output_type": "stream",
     "text": [
      "V_H2O = 2.916 m^3\n",
      "m_H2O = 2916.0 kg\n",
      "F = 10398.6 N\n",
      "a = 3.184 m/s^2\n"
     ]
    }
   ],
   "source": [
    "P_d = 350 # [kgf] (peso del depósito)\n",
    "m_d = 350 # [kg] (masa del depósito)\n",
    "V_H2O = 1.8 * 1.8 * 0.9 # [m^3] (volumen de agua)\n",
    "d_H2O = 1000 # [kg/m^3] (densidad del agua)\n",
    "m_H2O = d_H2O * V_H2O # kg  (masa de agua)\n",
    "g = 9.81 # [m/s^2]\n",
    "F = 1060 * g # [N] (fuerza que actúa sobre el depósito)\n",
    "a = F/(m_d + m_H2O)\n",
    "print('V_H2O = %s m^3'%round(V_H2O,3))\n",
    "print('m_H2O = %s kg'%round(m_H2O,2))\n",
    "print('F = %s N'%F)\n",
    "print('a = %s m/s^2'%round(a,3))"
   ]
  },
  {
   "cell_type": "markdown",
   "metadata": {},
   "source": [
    "Tomando unos ejes solidarios al depósito el líquido está en equilibrio relativo, es decir, con respecto al recipiente. Si no hay velocidad relativa ni entre el fluido y el contorno no entre las capas de fluido la viscosidad no interviene y pueden aplicarse las ecuaciones de la hidrostática.\n",
    "\n",
    "Luego teniendo en cuenta\n",
    "\n",
    "$$ \\left\\{\n",
    "\\begin{array}{l}\n",
    "\\displaystyle \\frac{\\partial P}{\\partial x} = \\delta a \\\\\n",
    "\\displaystyle \\frac{\\partial P}{\\partial z} = - \\delta g\n",
    "\\end{array}\n",
    "\\right.\n",
    "\\; \\Rightarrow \\; dP = \\delta a \\; dx - \\delta g \\, dz\n",
    "$$\n",
    "Integrando entre A y B se tiene\n",
    "$$ \\int_{P_A}^{P_B} dP = \\int_{x_A}^{x_B} \\delta a \\, dx - \\int_{z_A}^{z_B} \\delta g \\, dz  $$\n",
    "\n",
    "$$ P_B - P_A = \\delta a \\, (x_B - x_A) + \\delta g \\, (z_A - z_B)  $$\n",
    "\n",
    "$$ \\delta a \\, (x_B - x_A) = \\delta g \\, \\overbrace{(z_B - z_A)}^{\\displaystyle \\Delta h}  $$\n",
    "\n",
    "$$ \\Delta h = \\frac{a \\, (x_B - x_A)}{g}  $$"
   ]
  },
  {
   "cell_type": "code",
   "execution_count": 7,
   "metadata": {},
   "outputs": [
    {
     "name": "stdout",
     "output_type": "stream",
     "text": [
      "Dh = 0.5842 m\n"
     ]
    }
   ],
   "source": [
    "x_A = 0 # m\n",
    "x_B = 1.8 # m\n",
    "Dh = a*(x_B - x_A)/g # m\n",
    "print('Dh = %s m'%round(Dh,4))"
   ]
  },
  {
   "cell_type": "markdown",
   "metadata": {},
   "source": [
    "Nota: $\\displaystyle \\frac{\\Delta h}{\\Delta x} = \\;$ pendiente de la superficie libre donde $p_{rel} = 0$"
   ]
  },
  {
   "cell_type": "code",
   "execution_count": null,
   "metadata": {},
   "outputs": [],
   "source": []
  }
 ],
 "metadata": {
  "kernelspec": {
   "display_name": "Python 3",
   "language": "python",
   "name": "python3"
  },
  "language_info": {
   "codemirror_mode": {
    "name": "ipython",
    "version": 3
   },
   "file_extension": ".py",
   "mimetype": "text/x-python",
   "name": "python",
   "nbconvert_exporter": "python",
   "pygments_lexer": "ipython3",
   "version": "3.7.3"
  }
 },
 "nbformat": 4,
 "nbformat_minor": 2
}
