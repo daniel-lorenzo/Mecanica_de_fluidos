{
 "cells": [
  {
   "cell_type": "markdown",
   "metadata": {},
   "source": [
    "# Mecánica de fluidos - Práctico 2\n",
    "__UNLZ - FI -- Jupyter Notebook + Python 3__\n",
    "   \n",
    "__Alumno: Lorenzo, Daniel Antonio__\n",
    "\n",
    "[<- Previous](https://nbviewer.jupyter.org/github/daniel-lorenzo/Mecanica_de_fluidos/blob/master/TP_01.ipynb) - \n",
    "[Index](https://github.com/daniel-lorenzo/Mecanica_de_fluidos)"
   ]
  },
  {
   "cell_type": "markdown",
   "metadata": {},
   "source": [
    "# Ejercicio 1\n",
    "Un depósito abierto de sección cuadrada de 1,8 m de lado pesa 350 kg y contiene 90 cm de agua. Está sometido a la acción de una fuerza de 1060 kg paralela a uno de los lados. ¿Cuánto será la diferencias de alturas debido a la aceleración?\n",
    "\n",
    "![tp2-01.png](img/tp2-01.png)"
   ]
  },
  {
   "cell_type": "markdown",
   "metadata": {},
   "source": [
    "## Solución\n",
    "El peso del depósito es $P_d = 350 \\, \\mathrm{kgf} \\quad \\therefore \\quad m_d = 350 \\, \\mathrm{kg}$\n",
    "\n",
    "El volumen de agua en el depósito es:\n",
    "$$ V_{agua} = \\mathrm{(1,8 \\, m)^2 \\cdot 0,9 \\, \\mathrm{m} } $$\n",
    "La masa de agua es:\n",
    "$$ \\mu = \\frac{m}{V} \\quad  \\Rightarrow \\quad m_{agua} = \\mu_{agua} \\cdot V_{agua} $$\n",
    "\n",
    "La fuerza que actúa sobre el depósito es:\n",
    "$$ F = \\mathrm{ 1060 \\, kgf} $$\n",
    "\n",
    "$$ F = \\mathrm{1060 \\, kgf \\, \\left( \\frac{9,81 \\, m/s^2}{kgf} \\right)  = 10398,6 \\, N} $$\n",
    "como\n",
    "$$ F = m \\, a \\quad \\Rightarrow \\quad F = (m_d + m_{agua}) \\, a $$\n",
    "La aceleración es\n",
    "$$ a = \\frac{F}{(m_d + m_{agua})} $$"
   ]
  },
  {
   "cell_type": "code",
   "execution_count": 1,
   "metadata": {},
   "outputs": [],
   "source": [
    "# Datos:\n",
    "b = 1.8 # m (base)\n",
    "h = 0.9 # m (altura del agua)\n",
    "P_d = 350 # [kgf] (peso del depósito)\n",
    "m_d = 350 # [kg] (masa del depósito)\n",
    "g = 9.81 # [m/s^2] (aceleración de la gravedad)\n",
    "rho_agua = 1000 # [kg/m^3] (densidad del agua)\n",
    "\n",
    "# Cálculo del volumen de agua\n",
    "V_agua = b**2 * h\n",
    "# Cálculo de la masa de agua\n",
    "m_agua = rho_agua * V_agua\n",
    "# Cálculo de la fuerza que actúa sobre el depósito\n",
    "F = 1060 * g\n",
    "# Cálculo de la aceleración\n",
    "a = F/(m_d + m_agua)"
   ]
  },
  {
   "cell_type": "code",
   "execution_count": 2,
   "metadata": {},
   "outputs": [
    {
     "name": "stdout",
     "output_type": "stream",
     "text": [
      "Resultados:\n",
      "V_agua = 2.916 m^3\n",
      "m_agua = 2916.0 kg\n",
      "F = 10398.6 N\n",
      "a = 3.184 m/s^2\n"
     ]
    }
   ],
   "source": [
    "print('Resultados:')\n",
    "print('V_agua = %s m^3'%round(V_agua,3))\n",
    "print('m_agua = %s kg'%round(m_agua,2))\n",
    "print('F = %s N'%F)\n",
    "print('a = %s m/s^2'%round(a,3))"
   ]
  },
  {
   "cell_type": "markdown",
   "metadata": {},
   "source": [
    "Tomando unos ejes solidarios al depósito el líquido está en equilibrio relativo, es decir, con respecto al recipiente. Si no hay velocidad relativa ni entre el fluido y el contorno ni entre las capas de fluido la viscosidad no interviene y pueden aplicarse las ecuaciones de la hidrostática.\n",
    "\n",
    "Luego teniendo en cuenta\n",
    "\n",
    "$$ \\left\\{\n",
    "\\begin{array}{l}\n",
    "\\displaystyle \\frac{\\partial P}{\\partial x} = \\rho a \\\\\n",
    "\\displaystyle \\frac{\\partial P}{\\partial z} = - \\rho g\n",
    "\\end{array}\n",
    "\\right.\n",
    "\\; \\Rightarrow \\; dP = \\rho a \\; dx - \\rho g \\, dz\n",
    "$$\n",
    "Integrando entre A y B se tiene\n",
    "$$ \\int_{P_A}^{P_B} dP = \\int_{x_A}^{x_B} \\rho a \\, dx - \\int_{z_A}^{z_B} \\rho g \\, dz  $$\n",
    "\n",
    "$$ \\underbrace{P_B - P_A}_{= \\, 0} = \\rho a \\, (x_B - x_A) - \\rho g \\, (z_B - z_A)  $$\n",
    "\n",
    "$$ \\rho g \\, \\overbrace{(z_B - z_A)}^{\\displaystyle \\Delta h} = \\rho a \\, (x_B - x_A) $$\n",
    "\n",
    "$$ \\Delta h = \\frac{a \\, (x_B - x_A)}{g}  $$"
   ]
  },
  {
   "cell_type": "code",
   "execution_count": 5,
   "metadata": {},
   "outputs": [],
   "source": [
    "# Datos\n",
    "x_A = 0 # m\n",
    "x_B = 1.8 # m\n",
    "\n",
    "# Cálculo de Dh\n",
    "Dh = a*(x_B - x_A)/g # m"
   ]
  },
  {
   "cell_type": "code",
   "execution_count": 6,
   "metadata": {},
   "outputs": [
    {
     "name": "stdout",
     "output_type": "stream",
     "text": [
      "Resultado:\n",
      "Dh = 0.5842 m\n"
     ]
    }
   ],
   "source": [
    "print('Resultado:')\n",
    "print('Dh = %s m'%round(Dh,4))"
   ]
  },
  {
   "cell_type": "markdown",
   "metadata": {},
   "source": [
    "Nota: $\\displaystyle \\frac{\\Delta h}{\\Delta x} = \\;$ pendiente de la superficie libre donde $p_{rel} = 0$"
   ]
  },
  {
   "cell_type": "markdown",
   "metadata": {},
   "source": [
    "# Rotación de cuerpo rígido\n",
    "\n",
    "Después de un transitorio inicial de \"arranque\", un fluido contenido en un tanque que gira con una velocidad angular constante $v$ alrededor de un eje, como se muestra en la figura, rotará con el tanque como un cuerpo rígido. Se sabe por la dinámica de las partículas elementales que la aceleración de una partícula fluida ubicada a una distancia $r$ del eje de rotación es igual en magnitud a $r \\omega^2$, y la dirección de la aceleración es hacia el eje de rotación, como se ilustra en la figura. Dado que los caminos de las partículas de fluido son circulares, es conveniente utilizar coordenadas polares cilíndricas $r$, $u$ y $z$, definidas en el inserto de la figura.\n",
    "\n",
    "$$\\nabla p = \\frac{\\partial p}{\\partial r} \\, \\hat{e}_r + \\frac{1}{r} \\frac{\\partial p}{\\partial \\theta} \\, \\hat{e}_\\theta + \\frac{\\partial p}{\\partial z} \\, \\hat{e}_z$$\n",
    "\n",
    "Por lo tanto, en términos de este sistema de coordenadas\n",
    "\n",
    "$$ a_r = -r \\omega^2 \\, \\hat{e}_r \\qquad a_\\theta = 0 \\qquad a_z = -g \\, \\hat{e}_z $$\n",
    "Luego\n",
    "$$ \\frac{\\partial p}{\\partial r} = \\rho r \\omega^2 \\qquad \\frac{\\partial p}{\\partial \\theta} = 0 \\qquad \\frac{\\partial p}{\\partial z} = - \\rho g = - \\gamma$$\n",
    "\n",
    "Estos resultados muestran que para este tipo de rotación de cuerpo rígido, la presión es una función de dos variables r y z, y por lo tanto la presión diferencial es\n",
    "\n",
    "$$ dp = \\frac{\\partial p}{\\partial r} \\, dr + \\frac{\\partial p}{\\partial z} \\, dz $$\n",
    "ó\n",
    "$$ dp = \\rho r \\omega^2 \\, dr - \\gamma \\, dz \\tag{1}$$\n",
    "\n",
    "En un plano horizontal $(dz = 0)$, se deduce de la ecuación 1 que $dp/dr = \\rho \\omega^2 r$, que es mayor que cero. Por lo tanto, como se ilustra en la figura en el margen, debido a la aceleración centrífuga, la presión aumenta en la dirección radial.   \n",
    "A lo largo de una superficie de presión constante, como la superficie libre, $dp=0$, de modo que de la ecuación 1  utilizando $\\gamma =  \\rho g$\n",
    "\n",
    "$$ dz = \\frac{r \\omega^2}{g} \\, dr $$\n",
    "Luego\n",
    "$$ \\int dz =  \\frac{\\omega^2}{g} \\int r \\, dr $$\n",
    "\n",
    "La integración de este resultado da la ecuación para superficies de presión constante como\n",
    "\n",
    "$$ z = \\frac{\\omega^2 r^2}{2 g} + \\mathrm{constante} $$\n",
    "![br1.png](img/br1.png)\n",
    "\n",
    "Esta ecuación revela que estas superficies de presión constante son parabólicas, como se ilustra en la Fig.\n",
    "\n",
    "Integrando la ecuación 1, produce\n",
    "\n",
    "$$ \\int dp = \\rho \\omega^2 \\int r \\, dr - \\gamma \\int dz $$\n",
    "\n",
    "$$ p = \\frac{\\rho \\omega^2 r^2}{2} - \\gamma z + \\mathrm{constante} $$\n",
    "\n",
    "![br2.png](img/br2.png)"
   ]
  },
  {
   "cell_type": "markdown",
   "metadata": {},
   "source": [
    "# Ejercicio 2\n",
    "Un tubo de 2 m de longitud y 5 cm de diámetro tiene, sus extremos cerrados y está lleno de agua a una presión de 0,88 kgf/cm². Situado en una posición horizontal se le hace girar alrededor de un eje vertical que pasa por sus extremos a una velocidad angular de 3 rad/s. ¿Cuál será la presión en el extremo más alejado del eje de giro?\n",
    "\n",
    "![tp2-02.png](img/tp2-02.png)"
   ]
  },
  {
   "cell_type": "markdown",
   "metadata": {},
   "source": [
    "## Solución\n",
    "$$ P_A = P_0 + \\gamma \\, \\frac{\\omega^2 r^2_A}{2g} $$"
   ]
  },
  {
   "cell_type": "code",
   "execution_count": 7,
   "metadata": {},
   "outputs": [],
   "source": [
    "# Datos:\n",
    "P_0 = 8800 # kgf/m^2\n",
    "gamma_agua = 1000 # kgf/m^3\n",
    "omega = 3 # rad/s\n",
    "r = 2 # m\n",
    "g = 9.81 # m/s^2\n",
    "\n",
    "# Cálculo de P_A\n",
    "P_A = P_0 + gamma_agua * (omega**2 * r**2)/(2*g)"
   ]
  },
  {
   "cell_type": "code",
   "execution_count": 8,
   "metadata": {},
   "outputs": [
    {
     "name": "stdout",
     "output_type": "stream",
     "text": [
      "Resultado\n",
      "P_A = 10634.86 kgf/m^2\n"
     ]
    }
   ],
   "source": [
    "print('Resultado')\n",
    "print('P_A = %s kgf/m^2'%round(P_A,2))"
   ]
  },
  {
   "cell_type": "code",
   "execution_count": 9,
   "metadata": {},
   "outputs": [],
   "source": [
    "%reset -s -f"
   ]
  },
  {
   "cell_type": "markdown",
   "metadata": {},
   "source": [
    "# Ejercicio 3\n",
    "El sistema en reposo de la figura se rota con una velocidad de 24 rpm. Una vez que se alcanza el estado permanente. ¿Cuál será la altura $h$ del fluido en cada uno de los tubos capilares exteriores? No considere los efectos de capilaridad.\n",
    "![tp2-03.1.png](img/tp2-03.1.png)"
   ]
  },
  {
   "cell_type": "markdown",
   "metadata": {},
   "source": [
    "## Solución\n",
    "$$ \\omega = 2 \\pi \\left( \\frac{24 \\, \\mathrm{rev}}{60 \\, \\mathrm{s}} \\right) = 0,8 \\pi \\, \\mathrm{rad/s} $$\n",
    "\n",
    "Configuración de estado permanente\n",
    "\n",
    "![tp2-03.2.png](img/tp2-03.2.png)\n",
    "$$ \\Delta z = \\frac{\\omega^2 (r^2_B - r^2_A)}{2g} $$"
   ]
  },
  {
   "cell_type": "code",
   "execution_count": 8,
   "metadata": {},
   "outputs": [],
   "source": [
    "import math as m"
   ]
  },
  {
   "cell_type": "code",
   "execution_count": 9,
   "metadata": {},
   "outputs": [],
   "source": [
    "# Datos\n",
    "rpm = 24\n",
    "omega = 2*m.pi*(rpm/60)\n",
    "r_B = 0.3 # m\n",
    "r_A = 0 # m\n",
    "g = 9.806 # m/s^2\n",
    "\n",
    "Dz = (omega**2 * (r_B**2 - r_A**2))/(2*g)"
   ]
  },
  {
   "cell_type": "code",
   "execution_count": 10,
   "metadata": {},
   "outputs": [
    {
     "name": "stdout",
     "output_type": "stream",
     "text": [
      "Dz = 0.029 m = 29.0 mm\n"
     ]
    }
   ],
   "source": [
    "print('Dz = %s m = %s mm'%(round(Dz,4),round(Dz*1000,1) ) )"
   ]
  },
  {
   "cell_type": "markdown",
   "metadata": {},
   "source": [
    "Un tubo capilar tiene un diámetro aprox. de 1 mm. Por lo que el volumen de líquido que puede contener en un máximo de 29 mm, es despreciable con respecto al volumen del recipiente.\n",
    "\n",
    "Si consideramos que el recipiente al que estan conectados los tubos es cilindrico, es volumen de líquido que contiene es:\n",
    "\n",
    "$$ V_{recp} = \\pi r^2 H = \\mathrm{\\pi (0,3 \\, m)^2 (0,02 \\, m) = 5,65487 \\times 10^{-3} \\, m^3}$$\n",
    "\n",
    "$$ V_{recp} \\approx \\mathrm{5,65 \\, litros} $$\n",
    "\n",
    "El volumen de líquido que pueden contener los tubos capilares es un máximo de:\n",
    "\n",
    "$$ V_{tubos} = 2 \\times \\pi \\, \\left( \\frac{d^2}{4} \\right) \\, \\Delta z $$\n",
    "\n",
    "$$ V_{tubos} = \\mathrm{ 2 \\times \\pi \\, \\left[ \\frac{(0,001 \\, m)^2}{4} \\right] \\, 0,029 \\, m = 4,5553 \\times 10^{-8} \\, m^3 }$$ \n",
    "\n",
    "$$ V_{tubos} \\approx \\mathrm{4,55 \\times 10^{-5} \\, litros} $$\n",
    "\n",
    "Podemos ver que el volumen de líquido contenido en los tubos es despreciable con respecto al volumen de líquido del recipiente.\n",
    "\n",
    "Entonces la altura máx. que alcanza es $\\Delta z + H$:"
   ]
  },
  {
   "cell_type": "code",
   "execution_count": 11,
   "metadata": {},
   "outputs": [
    {
     "name": "stdout",
     "output_type": "stream",
     "text": [
      "h_max = 49.0 mm\n"
     ]
    }
   ],
   "source": [
    "H = 20/1000 # m\n",
    "h_max = Dz + H\n",
    "\n",
    "print('h_max = %s mm'%round(h_max*1000,1))"
   ]
  },
  {
   "cell_type": "code",
   "execution_count": 9,
   "metadata": {},
   "outputs": [],
   "source": [
    "%reset -s -f"
   ]
  },
  {
   "cell_type": "markdown",
   "metadata": {},
   "source": [
    "# Ejemplo 2.12\n",
    "Se ha sugerido que la velocidad angular, $\\omega$, de un cuerpo o eje giratorio se puede medir conectando un cilindro abierto de líquido, como se muestra en la figura, y midiendo con algún tipo de medidor de profundidad el cambio en el fluido nivel, $H - h_0$, causado por la rotación del fluido.\n",
    "\n",
    "__Encuentre:__ Determine la relación entre este cambio en el nivel del fluido y la velocidad angular.\n",
    "\n",
    "![ex2.12.png](img/ex2.12.png)"
   ]
  },
  {
   "cell_type": "markdown",
   "metadata": {},
   "source": [
    "## Solución\n",
    "La altura, $h$, de la superficie libre sobre el fondo del tanque se puede determinar a partir de la ecuación, y se deduce que\n",
    "\n",
    "$$  h = h_0 + \\frac{\\omega^2 r^2}{2g} $$\n",
    "\n",
    "El volumen inicial de fluido en el tanque, $V_i$, es igual a\n",
    "\n",
    "$$ V_i = \\pi R^2 H $$\n",
    "\n",
    "El volumen del fluido con el tanque giratorio se puede encontrar con la ayuda del elemento diferencial que se muestra en la Fig. Esta carcasa cilíndrica se toma en un radio arbitrario, r, y su volumen es\n",
    "\n",
    "$$ dV = 2 \\pi r h \\, dr $$\n",
    "\n",
    "El volumen total es, por lo tanto,\n",
    "\n",
    "$$ V = 2 \\pi \\int_0^R r \\left( \\frac{\\omega^2 r^2}{2g}  + h_0 \\right) \\, dr $$\n",
    "    \n",
    "$$ V = \\frac{\\pi \\omega^2 R^4}{4g} + \\pi R^2 h_0 $$\n",
    "\n",
    "Dado que el volumen del fluido en el tanque debe permanecer constante (suponiendo que ninguno se derrame por la parte superior), se deduce que\n",
    "\n",
    "$$ \\pi R^2 H = \\frac{\\pi \\omega^2 R^4}{4g} + \\pi R^2 h_0 $$\n",
    "ó\n",
    "$$ H - h_0 = \\frac{\\omega^2 R^2}{4g} $$\n",
    "\n",
    "__Comentario:__ Esta es la relación que estábamos buscando. Muestra que el cambio de profundidad podría usarse para determinar la velocidad de rotación, aunque la relación entre el cambio de profundidad y la velocidad no es lineal."
   ]
  },
  {
   "cell_type": "markdown",
   "metadata": {},
   "source": [
    "# Ejercicio 4\n",
    "Un tanque de agua debe rotar con una velocidad angular de $\\omega \\, \\mathrm{rad/s}$. ¿A qué velocidad empezará a derramarse el agua cuando se alcance el estado permanente con respecto al tanque?\n",
    "\n",
    "![tp2-04.png](img/tp2-04.png)"
   ]
  },
  {
   "cell_type": "markdown",
   "metadata": {},
   "source": [
    "## Solución\n",
    "El agua emperará a derramarse cuando $z_B = 0,3 \\, \\mathrm{m}$   \n",
    "La altura en $z_B$ es\n",
    "\n",
    "$$ z_B = h_0 + \\frac{\\omega^2 R^2}{2g} \\tag{1} $$\n",
    "\n",
    "Del ejemplo anterior tenemos que\n",
    "\n",
    "$$ H - h_0 = \\frac{\\omega^2 R^2}{4g} \\quad \\rightarrow \\quad h_0 = H - \\frac{\\omega^2 R^2}{4g} $$\n",
    "\n",
    "Reemplazando $h_0$ en $(1)$\n",
    "\n",
    "$$ z_B = H - \\frac{\\omega^2 R^2}{4g} + \\frac{\\omega^2 R^2}{2g} $$\n",
    "\n",
    "Entonces:\n",
    "\n",
    "$$ z_B = H + \\frac{\\omega^2 R^2}{4g} \\tag{2}$$\n",
    "\n",
    "Despejo $\\omega$ de la ecuación $(2)$\n",
    "\n",
    "$$ \\omega = \\frac{\\sqrt{(z_B - H) \\, 4g}}{R} $$\n",
    "\n",
    "Reemplazando, resulta\n",
    "\n",
    "$$ \\mathrm{ \\omega = \\frac{\\sqrt{(0,3 \\, m) - (0,2 \\, m) \\, 4 \\, (9,81 \\, m/s^2)} }{(0,25 \\, m)} } $$"
   ]
  },
  {
   "cell_type": "code",
   "execution_count": 5,
   "metadata": {},
   "outputs": [],
   "source": [
    "import math as m"
   ]
  },
  {
   "cell_type": "code",
   "execution_count": 6,
   "metadata": {},
   "outputs": [
    {
     "name": "stdout",
     "output_type": "stream",
     "text": [
      "omega = 7.924 rad/s\n"
     ]
    }
   ],
   "source": [
    "# Datos\n",
    "z_B = 0.3 # m\n",
    "H = 0.2 # m\n",
    "g = 9.81 # m/s^2\n",
    "R = 0.25 # m\n",
    "\n",
    "omega = m.sqrt((z_B - H)*4*g)/R\n",
    "\n",
    "print('omega = %s rad/s'%round(omega,3))"
   ]
  },
  {
   "cell_type": "markdown",
   "metadata": {},
   "source": [
    "$$ \\mathrm{ \\omega \\approx 7,924 \\, rad/s } $$\n",
    "\n",
    "El agua empezará a derramarse a una velocidad angular de 7,924 rad/s."
   ]
  },
  {
   "cell_type": "code",
   "execution_count": 3,
   "metadata": {},
   "outputs": [],
   "source": [
    "%reset -s -f"
   ]
  },
  {
   "cell_type": "markdown",
   "metadata": {},
   "source": [
    "# Ejercicio 5\n",
    "Un cable anclado en el fondo de un lago sostiene una esfera hueca de plástico bajo su superficie. El volumen de las esfera es de 0,3 m³ y la tensión del cable 900 N.\n",
    "1. ¿Qué masa tiene la esfera?\n",
    "2. El cable se rompe y la esfera sube a la superficie. Cuando está en equilibrio, ¿qué fracción del volumen de la esfera estará sumergida?\n",
    "\n",
    "Densidad del agua de mar 1,03 g/cm³"
   ]
  },
  {
   "cell_type": "markdown",
   "metadata": {},
   "source": [
    "## Solución\n",
    "__Item 1:__    \n",
    "![tp2-05.png](img/tp2-05.png)\n",
    "$$ T + P - E = 0 $$\n",
    "$$ P = E -T $$\n",
    "$$ m g = \\gamma_{agua} \\, V - T $$\n",
    "Luego\n",
    "$$ m = \\frac{\\gamma_{agua} \\, V - T}{g} = \\rho_{agua} \\, V - \\frac{T}{g} $$"
   ]
  },
  {
   "cell_type": "code",
   "execution_count": 3,
   "metadata": {},
   "outputs": [],
   "source": [
    "# Datos:\n",
    "rho_agua = 1.03*1000 # kg/m^3\n",
    "V = 0.3 # m^3\n",
    "T = 900 # N\n",
    "g = 9.81 # m/s^2\n",
    "\n",
    "m = rho_agua * V - T/g"
   ]
  },
  {
   "cell_type": "code",
   "execution_count": 4,
   "metadata": {},
   "outputs": [
    {
     "name": "stdout",
     "output_type": "stream",
     "text": [
      "m = 217.26 kg\n"
     ]
    }
   ],
   "source": [
    "print('m = %s kg'%round(m,2))"
   ]
  },
  {
   "cell_type": "markdown",
   "metadata": {},
   "source": [
    "__Item 2__    \n",
    "Cuando alcanza el equilibrio $E = P$\n",
    "\n",
    "$$ \\rho_{agua} \\, g \\, V_\\mathrm{sum} = m_\\mathrm{esf} \\, g $$\n",
    "\n",
    "$$ V_\\mathrm{sum} = \\frac{m_\\mathrm{esf}}{\\rho_{agua}} $$"
   ]
  },
  {
   "cell_type": "code",
   "execution_count": 5,
   "metadata": {},
   "outputs": [],
   "source": [
    "V_sum = m/rho_agua"
   ]
  },
  {
   "cell_type": "code",
   "execution_count": 6,
   "metadata": {},
   "outputs": [
    {
     "name": "stdout",
     "output_type": "stream",
     "text": [
      "V_sum = 0.211 m^3\n"
     ]
    }
   ],
   "source": [
    "print('V_sum = %s m^3'%round(V_sum,3))"
   ]
  },
  {
   "cell_type": "markdown",
   "metadata": {},
   "source": [
    "La fracción del volumen de la esfera sumergido será:\n",
    "\n",
    "$$ \\frac{V_\\mathrm{sum}}{V} $$"
   ]
  },
  {
   "cell_type": "code",
   "execution_count": 8,
   "metadata": {},
   "outputs": [],
   "source": [
    "frac_sum = V_sum/V"
   ]
  },
  {
   "cell_type": "code",
   "execution_count": 9,
   "metadata": {},
   "outputs": [
    {
     "name": "stdout",
     "output_type": "stream",
     "text": [
      "frac_sum = 0.703\n"
     ]
    }
   ],
   "source": [
    "print('frac_sum = %s'%round(frac_sum,3))"
   ]
  },
  {
   "cell_type": "code",
   "execution_count": 10,
   "metadata": {},
   "outputs": [],
   "source": [
    "%reset -s -f"
   ]
  },
  {
   "cell_type": "markdown",
   "metadata": {},
   "source": [
    "# Ejercicio 6\n",
    "Un objeto prismático de 20 cm de espesor por 20 cm de ancho y 40 cm de longitud, se pesa en el agua a una profundidad de 50 cm, arrojando una medida de 5 kg. ¿Cuánto pesa en el aire y cuál es su densidad relativa?\n",
    "\n",
    "![tp2-06.png](img/tp2-06.png)"
   ]
  },
  {
   "cell_type": "markdown",
   "metadata": {},
   "source": [
    "# Solución\n",
    "$$ V_\\mathrm{prisma} = \\mathrm{ancho \\times longitud \\times espesor} $$\n",
    "\n",
    "$$ T = W - E $$\n",
    "\n",
    "$$ W = T + E $$"
   ]
  },
  {
   "cell_type": "code",
   "execution_count": 22,
   "metadata": {},
   "outputs": [],
   "source": [
    "ancho = 0.2 # m\n",
    "long = 0.4 # m\n",
    "espesor = 0.2 # m\n",
    "g = 9.81 # m/s^2\n",
    "T = 5*g # N\n",
    "rho_agua = 1000 # kg/m^3\n",
    "\n",
    "Vpris = ancho*long*espesor\n",
    "E = rho_agua*g*Vpris\n",
    "W = T + E\n",
    "m = W/g"
   ]
  },
  {
   "cell_type": "code",
   "execution_count": 24,
   "metadata": {},
   "outputs": [
    {
     "name": "stdout",
     "output_type": "stream",
     "text": [
      "Vpris = 0.016 m^3\n",
      "W = 206.01 N\n",
      "m = 21.0 kg\n"
     ]
    }
   ],
   "source": [
    "print('Vpris = %s m^3'%round(Vpris,3))\n",
    "print('W = %s N'%round(W,2))\n",
    "print('m = %s kg'%round(m,2))"
   ]
  },
  {
   "cell_type": "markdown",
   "metadata": {},
   "source": [
    "$$m_\\mathrm{prisma} = \\frac{W}{g} \\qquad \\; \\qquad  \\rho_\\mathrm{prisma} = \\frac{m}{V} $$\n",
    "\n",
    "$$ \\rho_\\mathrm{rel} = \\frac{\\rho_\\mathrm{prisma}}{\\rho_{agua}}  $$"
   ]
  },
  {
   "cell_type": "code",
   "execution_count": 25,
   "metadata": {},
   "outputs": [],
   "source": [
    "rho_pris = m/Vpris\n",
    "rho_rel = rho_pris/rho_agua"
   ]
  },
  {
   "cell_type": "code",
   "execution_count": 26,
   "metadata": {},
   "outputs": [
    {
     "name": "stdout",
     "output_type": "stream",
     "text": [
      "rho_rel = 1.3125\n"
     ]
    }
   ],
   "source": [
    "print('rho_rel = %s'%round(rho_rel,4))"
   ]
  },
  {
   "cell_type": "code",
   "execution_count": 27,
   "metadata": {},
   "outputs": [],
   "source": [
    "%reset -s -f"
   ]
  },
  {
   "cell_type": "markdown",
   "metadata": {},
   "source": [
    "# Ejercicio 7\n",
    "Entre las placas de la figura circula un aceite de viscosidad absoluta 0,004 kgf·s/m². Se observa que la placa móvil mantiene respecto a la placa fija una separación de 0,01 cm y un dinamómetro conectado a la placa móvil, registra una fuerza de 90 kgf. Calcule la velocidad a la que circula el aceite.\n",
    "\n",
    "![tp2-07.png](img/tp2-07.png)"
   ]
  },
  {
   "cell_type": "markdown",
   "metadata": {},
   "source": [
    "## Solución\n",
    "$$ \\tau = \\frac{F}{A} = \\mu \\, \\frac{dW}{dh} $$\n",
    "\n",
    "$$ dW = \\frac{F}{A} \\, \\frac{dh}{\\mu} $$\n",
    "\n",
    "Asumiendo un perfil de velocidades lineal\n",
    "\n",
    "$$ W = \\frac{F}{A} \\, \\frac{h}{\\mu} $$"
   ]
  },
  {
   "cell_type": "code",
   "execution_count": 1,
   "metadata": {},
   "outputs": [],
   "source": [
    "# Datos:\n",
    "F = 90 # kgf\n",
    "mu = 0.004 # kgf·s/m^2\n",
    "A = 1 # m^2\n",
    "h = 0.0001 # m^2\n",
    "\n",
    "W = F/A * h/mu"
   ]
  },
  {
   "cell_type": "code",
   "execution_count": 2,
   "metadata": {},
   "outputs": [
    {
     "name": "stdout",
     "output_type": "stream",
     "text": [
      "W = 2.25 m/s\n"
     ]
    }
   ],
   "source": [
    "print('W = %s m/s'%round(W,2))"
   ]
  },
  {
   "cell_type": "code",
   "execution_count": 3,
   "metadata": {},
   "outputs": [],
   "source": [
    "%reset -s -f"
   ]
  },
  {
   "cell_type": "markdown",
   "metadata": {},
   "source": [
    "# Ejercicio 8\n",
    "Dos superficies planas paralelas de grandes dimensiones están separadas 25 mm y el espacio entre ellas está lleno con un líquido cuya viscosidad absoluta es de 10 kgf·s/m². Suponiendo que el gradiente de velocidades es lineal. ¿Qué fuerza se requiere para arrastrar una placa de muy poco espesor y de 40 dm² de área a una velocidad de 32 cm/s. Si la placa dista 8 mm de una de las superficies fijas?\n",
    "\n",
    "![tp2-08.png](img/tp2-08.png)"
   ]
  },
  {
   "cell_type": "markdown",
   "metadata": {},
   "source": [
    "## Solución\n",
    "Datos:\n",
    "$\\left\\{\n",
    "\\begin{array}{l}\n",
    "\\mu =\\mathrm{ 10 \\, kgf \\cdot s/m^2 } \\\\\n",
    "dW = \\mathrm{0,32 \\, m/s} \\\\\n",
    "dh_1 = \\mathrm{0,025 \\, m - 0,008 \\, m = 0,017 \\, m} \\\\\n",
    "dh_2 = \\mathrm{0,008 \\, m} \\\\\n",
    "A = \\mathrm{0,4 \\, m^2}\n",
    "\\end{array}\n",
    "\\right.\n",
    "$\n",
    "\n",
    "$$ \\tau_1 = \\mu \\, \\frac{dW}{dh_1} $$\n",
    "\n",
    "$$ \\tau_2 = \\mu \\, \\frac{dW}{dh_2} $$\n",
    "Luego:\n",
    "$$\\begin{array}{l} \\tau = \\tau_1 + \\tau_2 \\\\\n",
    " F = \\tau \\, A \n",
    " \\end{array}$$"
   ]
  },
  {
   "cell_type": "code",
   "execution_count": 10,
   "metadata": {},
   "outputs": [],
   "source": [
    "# Datos\n",
    "mu = 10 # kgf·s/m^2\n",
    "dW = 0.32 # m/s\n",
    "dh1 = 0.017 # m\n",
    "dh2 = 0.008 # m\n",
    "A = 0.4 # m^2\n",
    "\n",
    "tau1 = mu*dW/dh1\n",
    "tau2 = mu*dW/dh2\n",
    "\n",
    "tau = tau1 + tau2\n",
    "F = tau*A"
   ]
  },
  {
   "cell_type": "code",
   "execution_count": 11,
   "metadata": {},
   "outputs": [
    {
     "name": "stdout",
     "output_type": "stream",
     "text": [
      "tau1 = 188.24 kgf/m^2\n",
      "tau2 = 400.0 kgf/m^2\n",
      "F = 235.29 kgf\n"
     ]
    }
   ],
   "source": [
    "print('tau1 = %s kgf/m^2'%round(tau1,2))\n",
    "print('tau2 = %s kgf/m^2'%round(tau2,2))\n",
    "print('F = %s kgf'%round(F,2))"
   ]
  },
  {
   "cell_type": "code",
   "execution_count": 9,
   "metadata": {},
   "outputs": [],
   "source": [
    "%reset -s -f"
   ]
  },
  {
   "cell_type": "markdown",
   "metadata": {},
   "source": [
    "# Ejercicio 9\n",
    "Un émbolo se mueve a lo largo de un cilindro con una velocidad de 20 pies/s. La película de aceite que separa el émbolo del cilindro tiene una viscosidad de 0,020 lb·s/pie². ¿Cuál es la fuerza que se requiere para mantener este movimiento?\n",
    "\n",
    "![tp2-09.png](img/tp2-09.png)"
   ]
  },
  {
   "cell_type": "markdown",
   "metadata": {},
   "source": [
    "## Solución\n",
    "$$ A = 2 \\pi r \\ell $$"
   ]
  },
  {
   "cell_type": "code",
   "execution_count": 12,
   "metadata": {},
   "outputs": [],
   "source": [
    "import math as m"
   ]
  },
  {
   "cell_type": "code",
   "execution_count": 13,
   "metadata": {},
   "outputs": [],
   "source": [
    "# Datos (convertimos pulgadas a pies)\n",
    "l = 3 * (1/12) # pies\n",
    "r = (4.99/2) * (1/12) # pies\n",
    "\n",
    "A = 2*m.pi*r*l"
   ]
  },
  {
   "cell_type": "code",
   "execution_count": 14,
   "metadata": {},
   "outputs": [
    {
     "name": "stdout",
     "output_type": "stream",
     "text": [
      "A = 0.3266 pies^2\n"
     ]
    }
   ],
   "source": [
    "print('A = %s pies^2'%round(A,4))"
   ]
  },
  {
   "cell_type": "markdown",
   "metadata": {},
   "source": [
    "Suponiendo un gradiente de velocidad lineal\n",
    "\n",
    "$$ F = \\tau \\, A = A \\, \\mu \\, \\frac{dW}{dh} $$"
   ]
  },
  {
   "cell_type": "code",
   "execution_count": 15,
   "metadata": {},
   "outputs": [],
   "source": [
    "dh = (5 - 4.99)/2 * (1/12) # pies\n",
    "dW = 20 # pies/s\n",
    "mu = 0.020 # lb·s/pie^2\n",
    "\n",
    "F = A*mu*dW/dh"
   ]
  },
  {
   "cell_type": "code",
   "execution_count": 17,
   "metadata": {},
   "outputs": [
    {
     "name": "stdout",
     "output_type": "stream",
     "text": [
      "F = 313.531 lb\n",
      "F = 1395.213 N\n",
      "F = 142.224 kgf\n"
     ]
    }
   ],
   "source": [
    "print('F = %s lb'%round(F,3))\n",
    "print('F = %s N'%round(F*4.45,3))\n",
    "print('F = %s kgf'%round(F*4.45/9.81,3))"
   ]
  },
  {
   "cell_type": "code",
   "execution_count": 18,
   "metadata": {},
   "outputs": [],
   "source": [
    "%reset -s -f"
   ]
  },
  {
   "cell_type": "markdown",
   "metadata": {},
   "source": [
    "# Ejercicio 10\n",
    "Dos placas están separadas a 1/4 de pulgada. La placa inferior está detenida. La placa superior se mueve a una velocidad de 10 ft/s, el espacio entre las placas está lleno de aceite SAE y tiene la misma velocidad de la superficie de contacto. La variación de la velocidad del aceite se asume lineal. ¿Cuál es el esfuerzo cortante en el aceite?"
   ]
  },
  {
   "cell_type": "markdown",
   "metadata": {},
   "source": [
    "## Solución\n",
    "SAE 10W $\\rightarrow \\, \\mu = 0,10 \\, \\mathrm{kg/m \\cdot s \\approx 0,10 \\, N \\cdot s/m^2}$\n",
    "\n",
    "Suponiendo un gradiente de velocidad lineal\n",
    "\n",
    "$$ \\tau = \\frac{F}{A} = \\mu \\, \\frac{dW}{dh} $$"
   ]
  },
  {
   "cell_type": "code",
   "execution_count": 23,
   "metadata": {},
   "outputs": [],
   "source": [
    "# Datos (convertimos a SI)\n",
    "mu = 0.1 # N·s/m^2\n",
    "dW = 10 * 0.3048 # m/s\n",
    "dh = 1/4 * 0.0254 # m\n",
    "\n",
    "tau = mu*dW/dh"
   ]
  },
  {
   "cell_type": "code",
   "execution_count": 24,
   "metadata": {},
   "outputs": [
    {
     "name": "stdout",
     "output_type": "stream",
     "text": [
      "tau = 48.0 N/m^2\n"
     ]
    }
   ],
   "source": [
    "print('tau = %s N/m^2'%round(tau,1))"
   ]
  },
  {
   "cell_type": "code",
   "execution_count": 25,
   "metadata": {},
   "outputs": [],
   "source": [
    "%reset -s -f"
   ]
  },
  {
   "cell_type": "markdown",
   "metadata": {},
   "source": [
    "# Ejercicio 11\n",
    "Un bloque de 1 kN de peso y 200 mm de lado se desliza hacia abajo en un plano inclinado sobre una película de aceite con un espesor de 0,0050 mm. ¿Cuál es la velocidad del bloque? La viscosidad del aceite es 0,005 kgf·s/m².\n",
    "\n",
    "![tp2-11.png](img/tp2-11.png)"
   ]
  },
  {
   "cell_type": "markdown",
   "metadata": {},
   "source": [
    "## Solución\n",
    "$$ P_x = P \\sin (20^\\circ) $$\n",
    "\n",
    "$$ \\frac{P_x}{A} = \\tau = \\mu \\, \\frac{W}{h} $$\n",
    "Entonces:\n",
    "$$ W = \\frac{P_x h}{A \\mu} $$"
   ]
  },
  {
   "cell_type": "code",
   "execution_count": 26,
   "metadata": {},
   "outputs": [],
   "source": [
    "import math as m"
   ]
  },
  {
   "cell_type": "code",
   "execution_count": 27,
   "metadata": {},
   "outputs": [],
   "source": [
    "# Datos\n",
    "g = 9.81 # m/s^2\n",
    "P = 1000 / g # kgf\n",
    "h = 0.0050e-3 # m\n",
    "L = 0.2 # m\n",
    "ang = 20*(m.pi/180) # rad\n",
    "mu = 0.005 # kgf·s/m^2\n",
    "\n",
    "# Área\n",
    "A = L**2\n",
    "# Peso en x\n",
    "Px = P*m.sin(ang)\n",
    "# Velocidad\n",
    "W = (Px*h)/(A*mu)"
   ]
  },
  {
   "cell_type": "code",
   "execution_count": 28,
   "metadata": {},
   "outputs": [
    {
     "name": "stdout",
     "output_type": "stream",
     "text": [
      "W = 0.87 m/s\n"
     ]
    }
   ],
   "source": [
    "print('W = %s m/s'%round(W,2))"
   ]
  },
  {
   "cell_type": "code",
   "execution_count": 29,
   "metadata": {},
   "outputs": [],
   "source": [
    "%reset -s -f"
   ]
  },
  {
   "cell_type": "markdown",
   "metadata": {},
   "source": [
    "# Ejercicio 12\n",
    "Un cilindro de 12 cm de radio gira concentricamente en el interior de otro cilindro de 30 cm. Determinar la viscosidad del líquido que llena el espacio entre los cilindros, si se necesita un par de 9 kg·cm para mantener una velocidad de rotación de 60 rpm.\n",
    "\n",
    "![tp2-12.png](img/tp2-12.png)"
   ]
  },
  {
   "cell_type": "markdown",
   "metadata": {},
   "source": [
    "## Solución\n",
    "$$ \\frac{M}{A \\, r} = \\frac{F}{A} = \\tau = \\mu \\, \\frac{dW}{dh} $$\n",
    "\n",
    "Suponiendo un gradiente de velocidad lineal\n",
    "\n",
    "$$ \\mu = \\frac{M \\, h}{A \\, r \\, W} $$"
   ]
  },
  {
   "cell_type": "code",
   "execution_count": 31,
   "metadata": {},
   "outputs": [],
   "source": [
    "import math as m"
   ]
  },
  {
   "cell_type": "code",
   "execution_count": 39,
   "metadata": {},
   "outputs": [],
   "source": [
    "# Datos\n",
    "M = 9*0.01 # kgf·m\n",
    "r = 0.12 # m\n",
    "L = 0.3 # m\n",
    "h = 0.006 # m\n",
    "rpm = 60 \n",
    "W = 2*m.pi*r*rpm/60 # rad/s\n",
    "\n",
    "A = 2*m.pi*r*L\n",
    "\n",
    "mu = (M*h)/(A*r*W)"
   ]
  },
  {
   "cell_type": "code",
   "execution_count": 41,
   "metadata": {},
   "outputs": [
    {
     "name": "stdout",
     "output_type": "stream",
     "text": [
      "W = 0.754 rad/s\n",
      "A = 0.2262 m^2\n",
      "mu = 0.0264 kgf·s/m^2\n"
     ]
    }
   ],
   "source": [
    "print('W = %s rad/s'%round(W,4))\n",
    "print('A = %s m^2'%round(A,4))\n",
    "print('mu = %s kgf·s/m^2'%round(mu,4))"
   ]
  },
  {
   "cell_type": "code",
   "execution_count": 42,
   "metadata": {},
   "outputs": [],
   "source": [
    "%reset -s -f"
   ]
  },
  {
   "cell_type": "markdown",
   "metadata": {},
   "source": [
    "# Ejercicio 13\n",
    "Disponemos de una plancha de corcho de 1 dm de espesor. Calcular la superficie mínima que se debe emplear para que flote en agua, sosteniendo un naúfrago de 70 kg. La densidad del corcho es de 0,24 g/cm³, (240 kg/m³).   \n",
    "__Nota:__ entendemos por superficie mínima la que permite mantener, al hombre completamente fuera del agua aunque la tabla esté totalmente inmensamente en ella.\n",
    "\n",
    "![tp2-13.png](img/tp2-13.png)"
   ]
  },
  {
   "cell_type": "markdown",
   "metadata": {},
   "source": [
    "## Solución\n",
    "$$ \\sum F_y = 0 $$\n",
    "\n",
    "$$ P + (70 \\, \\mathrm{kgf}) - E = 0 $$\n",
    "\n",
    "$$ E = P + (70 \\, \\mathrm{kgf}) $$\n",
    "\n",
    "$$ \\gamma_{corcho} = 0,24 \\, \\gamma_{agua} $$\n",
    "\n",
    "$$ \\gamma_{agua} \\cdot  \\underbrace{A \\, h}_{V_\\mathrm{desalojado}} = 0,24 \\, \\gamma_{agua} \\cdot  \\underbrace{A \\, (0,1 \\, \\mathrm{m})}_{V_{corcho}} + (70 \\, \\mathrm{kgf}) $$\n",
    "Despejando $A$\n",
    "$$ A = \\frac{70 \\, \\mathrm{kgf}}{\\gamma_{agua} \\, (h - 0,024 \\, \\mathrm{m})} $$\n",
    "Físicamente: $0,24 \\, \\mathrm{m} < h \\leq 0,1 \\, \\mathrm{m}$\n",
    "\n",
    "El área $A$ es mínima cuando $h = 0,1 \\, \\mathrm{m}$"
   ]
  },
  {
   "cell_type": "code",
   "execution_count": 3,
   "metadata": {},
   "outputs": [],
   "source": [
    "gamma_agua = 1000 # kgf/m^3\n",
    "h = 0.1 # m\n",
    "\n",
    "A = 70/(gamma_agua*(h - 0.024))"
   ]
  },
  {
   "cell_type": "code",
   "execution_count": 4,
   "metadata": {},
   "outputs": [
    {
     "name": "stdout",
     "output_type": "stream",
     "text": [
      "A = 0.921 m^2\n"
     ]
    }
   ],
   "source": [
    "print('A = %s m^2'%round(A,3))"
   ]
  },
  {
   "cell_type": "markdown",
   "metadata": {},
   "source": [
    "El área mínima es: $A_{min} = 0,921 \\, \\mathrm{m^2}$"
   ]
  },
  {
   "cell_type": "code",
   "execution_count": 5,
   "metadata": {},
   "outputs": [],
   "source": [
    "%reset -s -f"
   ]
  },
  {
   "cell_type": "markdown",
   "metadata": {},
   "source": [
    "--------------------------------------------\n",
    "[<- Previous](https://nbviewer.jupyter.org/github/daniel-lorenzo/Mecanica_de_fluidos/blob/master/TP_01.ipynb) - \n",
    "[Index](https://github.com/daniel-lorenzo/Mecanica_de_fluidos/blob/master/Readme.md)"
   ]
  }
 ],
 "metadata": {
  "kernelspec": {
   "display_name": "Python 3",
   "language": "python",
   "name": "python3"
  },
  "language_info": {
   "codemirror_mode": {
    "name": "ipython",
    "version": 3
   },
   "file_extension": ".py",
   "mimetype": "text/x-python",
   "name": "python",
   "nbconvert_exporter": "python",
   "pygments_lexer": "ipython3",
   "version": "3.7.3"
  }
 },
 "nbformat": 4,
 "nbformat_minor": 2
}
