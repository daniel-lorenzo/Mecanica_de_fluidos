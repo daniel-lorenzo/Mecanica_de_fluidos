{
 "cells": [
  {
   "cell_type": "raw",
   "metadata": {},
   "source": [
    "<script>\n",
    "  function code_toggle() {\n",
    "    if (code_shown){\n",
    "      $('div.input').hide('500');\n",
    "      $('#toggleButton').val('Show Code')\n",
    "    } else {\n",
    "      $('div.input').show('500');\n",
    "      $('#toggleButton').val('Hide Code')\n",
    "    }\n",
    "    code_shown = !code_shown\n",
    "  }\n",
    "\n",
    "  $( document ).ready(function(){\n",
    "    code_shown=true;\n",
    "    $('div.input').show()\n",
    "  });\n",
    "</script>\n",
    "<form action=\"javascript:code_toggle()\"><input type=\"submit\" id=\"toggleButton\" value=\"Hide Code\"></form>"
   ]
  },
  {
   "cell_type": "markdown",
   "metadata": {},
   "source": [
    "## Ejercicio 1\n",
    "Entre los extremos de un tubo de 0,006 m de diámetro y 1 m de longitud, se aplica una diferencia de presión relativa de 50000 Pa. Si el caudal que fluye es de $\\mathrm{3,5 \\times 10^{-6} \\, m^3/s}$. Halle la viscosidad absoluta del fluido circundante.\n",
    "![e_01](img/e_01.png)\n",
    "$\\begin{array}{l}\n",
    "D = \\mathrm{ 0,006 \\, m} \\\\\n",
    "L = \\mathrm{1 \\, m} \\\\\n",
    "\\Delta P = \\mathrm{ 50\\,000 \\, Pa} \\\\\n",
    "Q = \\mathrm{ 3,5 \\times 10^{-6} \\, m^3/s} \\\\\n",
    "\\mu = ?\n",
    "\\end{array}$"
   ]
  },
  {
   "cell_type": "markdown",
   "metadata": {},
   "source": [
    "### Solución\n",
    "$A_p = 2 \\pi r \\quad ; \\quad A_s = \\pi r^2 $"
   ]
  },
  {
   "cell_type": "markdown",
   "metadata": {},
   "source": [
    "$$ Q = W \\, A_s \\quad \\Rightarrow \\quad W = \\frac{Q}{A_s} $$"
   ]
  },
  {
   "cell_type": "markdown",
   "metadata": {},
   "source": [
    "$$ \\tau = \\mu \\frac{dW}{dz} = \\frac{F}{A_p} = \\frac{\\Delta P}{A_p} $$"
   ]
  },
  {
   "cell_type": "markdown",
   "metadata": {},
   "source": [
    "$$ \\mu = \\frac{F}{A_p} \\frac{z}{W} = \\frac{\\Delta P \\, A_s \\, z}{A_p \\, W} $$"
   ]
  },
  {
   "cell_type": "markdown",
   "metadata": {},
   "source": [
    "$$ \\mu = \\frac{r \\, \\Delta P \\pi r^2}{2 \\pi r L W} = \\frac{\\Delta P \\, r^2}{2 L W} $$"
   ]
  },
  {
   "cell_type": "code",
   "execution_count": 12,
   "metadata": {},
   "outputs": [],
   "source": [
    "import math as m"
   ]
  },
  {
   "cell_type": "code",
   "execution_count": 13,
   "metadata": {},
   "outputs": [],
   "source": [
    "# Datos:\n",
    "r = 0.006/2 # radio\n",
    "L = 1 # m\n",
    "g = 9.806 # m/s^2\n",
    "DP = 50000/g # kg/m^2\n",
    "Q = 3.5e-6 # m^3/s\n",
    "\n",
    "As = m.pi*r**2  # m^2\n",
    "W = Q/As        # m/s\n",
    "mu = (DP*r**2)/(2*L*W) # kg·s/m^2"
   ]
  },
  {
   "cell_type": "code",
   "execution_count": 14,
   "metadata": {},
   "outputs": [
    {
     "name": "stdout",
     "output_type": "stream",
     "text": [
      "Resultados:\n",
      "W = 0.1238 m/s\n",
      "mu = 0.185 kg·s/m^2\n"
     ]
    }
   ],
   "source": [
    "print('Resultados:')\n",
    "print('W = %s m/s'%round(W,4))\n",
    "print('mu = %s kg·s/m^2'%round(mu,3))"
   ]
  },
  {
   "cell_type": "code",
   "execution_count": 6,
   "metadata": {},
   "outputs": [],
   "source": [
    "%reset -s -f"
   ]
  },
  {
   "cell_type": "markdown",
   "metadata": {},
   "source": [
    "$$ \\mu \\approx 0,185 \\, \\mathrm{kg \\cdot s /m^2} $$"
   ]
  },
  {
   "cell_type": "markdown",
   "metadata": {},
   "source": [
    "## Ejercicio 2\n",
    "$\\begin{array}{l}\n",
    "Q = 30 \\, \\mathrm{ltr/s} \\\\\n",
    "\\eta_{Bomba} = 70\\% \\\\\n",
    "\\mathrm{Calcular:} \\, N_{Bomba}\n",
    "\\end{array}$\n",
    "\n",
    "![e_02.png](img/e_02.png)"
   ]
  },
  {
   "cell_type": "markdown",
   "metadata": {},
   "source": [
    "## Solución\n",
    "$$ N_{Hidr} = \\frac{N \\, L}{T} = \\frac{P \\, A \\, L}{T} = P\\, A \\, w  $$"
   ]
  },
  {
   "cell_type": "markdown",
   "metadata": {},
   "source": [
    "$$ N_{Hidr} = P \\, Q = \\gamma \\, H \\, Q $$"
   ]
  },
  {
   "cell_type": "markdown",
   "metadata": {},
   "source": [
    "$$ \\eta_{\\%} = \\frac{N_{Hidr}}{N_{Mec}} \\times 100 $$"
   ]
  },
  {
   "cell_type": "markdown",
   "metadata": {},
   "source": [
    "$$ A_1 = \\pi \\frac{D_1^2}{4} \\quad ; \\quad A_2 = \\pi \\frac{D_2^2}{4} $$"
   ]
  },
  {
   "cell_type": "markdown",
   "metadata": {},
   "source": [
    "$Q = w_1 \\, A_1 = w_2 \\, A_2 $\n",
    "$$ \\therefore \\quad w_1 = \\frac{Q}{A_1} \\quad ; \\quad w_2 = \\frac{Q}{A_2} $$"
   ]
  },
  {
   "cell_type": "markdown",
   "metadata": {},
   "source": [
    "$$ P_1 - \\gamma_{Agua} (x + 0,7) + \\gamma_{Hg} 0,7 = P_2 - \\gamma_{Agua} x $$"
   ]
  },
  {
   "cell_type": "markdown",
   "metadata": {},
   "source": [
    "Despejando:\n",
    "\n",
    "$$ \\Delta P = P_2 - P_1 = 0,7 \\, (\\gamma_{Hg} - \\gamma_{Agua})$$"
   ]
  },
  {
   "cell_type": "markdown",
   "metadata": {},
   "source": [
    "Ecuación de energía entre los puntos 1 y 2 $\\quad z_1 = z_2$"
   ]
  },
  {
   "cell_type": "markdown",
   "metadata": {},
   "source": [
    "$$ \\frac{P_1}{\\gamma_{Agua}} + \\frac{w_1^2}{2g} + z_1 + H_{Hdr} = \\frac{P_2}{\\gamma_{Agua}} + \\frac{w_2^2}{2g} + z_2 $$"
   ]
  },
  {
   "cell_type": "markdown",
   "metadata": {},
   "source": [
    "Se cancela $z_1$ con $z_2$\n",
    "$$ \\frac{P_1}{\\gamma_{Agua}} + \\frac{w_1^2}{2g} + H_{Hdr} = \\frac{P_2}{\\gamma_{Agua}} + \\frac{w_2^2}{2g} $$"
   ]
  },
  {
   "cell_type": "markdown",
   "metadata": {},
   "source": [
    "Despejando $H_{Hdr}$\n",
    "$$ H_{Hdr} = \\frac{w_2^2 - w_1^2}{2g} + \\frac{\\Delta P}{\\gamma_{Agua}} $$"
   ]
  },
  {
   "cell_type": "markdown",
   "metadata": {},
   "source": [
    "$$ N_{Hdr} = \\gamma_{Agua} \\, H_{Hdr} \\, Q  $$"
   ]
  },
  {
   "cell_type": "markdown",
   "metadata": {},
   "source": [
    "$$ N_{Bomba} = \\frac{N_{Hdr}}{0,7} $$"
   ]
  },
  {
   "cell_type": "code",
   "execution_count": 9,
   "metadata": {},
   "outputs": [],
   "source": [
    "import math as m"
   ]
  },
  {
   "cell_type": "code",
   "execution_count": 10,
   "metadata": {},
   "outputs": [],
   "source": [
    "# Datos:\n",
    "D1 = 0.15 # m (diámetro)\n",
    "D2 = 0.20 # m (diámetro)\n",
    "Q = 0.03 # m^3/s (caudal)\n",
    "gamma_agua = 1000 # kg/m^3 (peso específico del agua)\n",
    "gamma_Hg = 13600 # kg/m^3 (peso específico del mercurio)\n",
    "g = 9.806 # m/s^2 (aceleración de la gravedad)\n",
    "eta = 0.7 # (rendimiento de la bomba)\n",
    "\n",
    "# Cálculo del Area 1\n",
    "A1 = (m.pi*D1**2) / 4 \n",
    "# Cálculo del Area 2\n",
    "A2 = (m.pi*D2**2) / 4 \n",
    "\n",
    "# Cálculo de la velocidad 1\n",
    "w1 = Q/A1\n",
    "# Cálculo del la velocidad 2\n",
    "w2 = Q/A2\n",
    "# P2 - P1\n",
    "DP = 0.7*(gamma_Hg - gamma_agua)\n",
    "\n",
    "Hhdr = (w2**2 - w1**2)/(2*g) + DP/gamma_agua\n",
    "# Potencia necesaria\n",
    "Nhdr = gamma_agua * Hhdr * Q\n",
    "# Potencia en la bomba\n",
    "Nbom = Nhdr/eta"
   ]
  },
  {
   "cell_type": "code",
   "execution_count": 11,
   "metadata": {},
   "outputs": [
    {
     "name": "stdout",
     "output_type": "stream",
     "text": [
      "Resultados:\n",
      "A1 = 0.0177 m^2\n",
      "A2 = 0.0314 m^2\n",
      "w1 = 1.698 m/s\n",
      "w2 = 0.955 m/s\n",
      "DP = 8820.0 kgf/m^2\n",
      "Hhdr= 8.72 m\n",
      "Nhdr = 261.59 kgf·m/s\n",
      "Nbom = 373.69 kgf·m/s\n"
     ]
    }
   ],
   "source": [
    "print('Resultados:')\n",
    "print('A1 = %s m^2'%round(A1,4))\n",
    "print('A2 = %s m^2'%round(A2,4))\n",
    "print('w1 = %s m/s'%round(w1,3))\n",
    "print('w2 = %s m/s'%round(w2,3))\n",
    "print('DP = %s kgf/m^2'%round(DP,3))\n",
    "print('Hhdr= %s m'%round(Hhdr,3))\n",
    "print('Nhdr = %s kgf·m/s'%round(Nhdr,2))\n",
    "print('Nbom = %s kgf·m/s'%round(Nbom,2))"
   ]
  },
  {
   "cell_type": "code",
   "execution_count": 15,
   "metadata": {},
   "outputs": [],
   "source": [
    "%reset -s -f"
   ]
  },
  {
   "cell_type": "markdown",
   "metadata": {},
   "source": [
    "## Ejercicio 3\n",
    "La velocidad del aire por encima de las alas de un avión es de 500 m/s y por debajo 400 m/s. El avión tiene 800 ton de masa y el área de las alas es de 20 m². Si la densidad de aire es de 1 kg/m³. ¿El avión sube o baja? ¿Qué aceleración tiene?\n",
    "\n",
    "$\\mathrm{Datos:}\n",
    "\\left\\{\n",
    "\\begin{array}{l}\n",
    "w_{sup} = 500 \\, \\mathrm{m/s} \\\\\n",
    "w_{inf} = 400 \\, \\mathrm{m/s} \\\\\n",
    "m_{avion} = 80 \\, \\mathrm{ton} \\\\\n",
    "A_{alas} = 20 \\, \\mathrm{m^2} \\\\\n",
    "\\rho_{aire} = 1 \\, \\mathrm{kg/m^3} \\\\\n",
    "\\end{array}\n",
    "\\right. \\quad \\Rightarrow \\quad\n",
    "\\begin{array}{l}\n",
    "\\mathrm{¿Sube \\, o \\, baja?} \\\\\n",
    "\\mathrm{¿Qu \\acute{e} \\, aceleraci \\acute{o} n \\, tiene?}\n",
    "\\end{array}\n",
    "$"
   ]
  },
  {
   "cell_type": "markdown",
   "metadata": {},
   "source": [
    "### Solución\n",
    "Ecuación de energía\n",
    "$$ \\frac{P_{sup}}{\\gamma_{aire}} + \\frac{w^2_{sup}}{2g} = \\frac{P_{inf}}{\\gamma_{aire}} + \\frac{w^2_{inf}}{2g} $$"
   ]
  },
  {
   "cell_type": "markdown",
   "metadata": {},
   "source": [
    "Despejo\n",
    "$$ \\Delta P = P_{inf} - P_{sup} = \\frac{w^2_{sup} - w^2_{inf}}{2g} \\gamma_{aire} $$"
   ]
  },
  {
   "cell_type": "markdown",
   "metadata": {},
   "source": [
    "Recordemos que $\\gamma = \\rho g$, entonces:\n",
    "$$ \\Delta P = \\frac{w^2_{sup} - w^2_{inf}}{2} \\rho_{aire} $$"
   ]
  },
  {
   "cell_type": "markdown",
   "metadata": {},
   "source": [
    "Fuerza de sustentación\n",
    "$$ F_{sust} = \\Delta P \\cdot A_{alas} $$"
   ]
  },
  {
   "cell_type": "markdown",
   "metadata": {},
   "source": [
    "Fuerza debida al peso del avión\n",
    "$$ F_{peso} = m_{avion} \\cdot g $$"
   ]
  },
  {
   "cell_type": "markdown",
   "metadata": {},
   "source": [
    "Fuerza neta\n",
    "$$ F_{neta} = F_{sust} - F_{peso} $$"
   ]
  },
  {
   "cell_type": "markdown",
   "metadata": {},
   "source": [
    "Aceleración\n",
    "$$ a = \\frac{F_{neta}}{m_{avion}} $$"
   ]
  },
  {
   "cell_type": "code",
   "execution_count": 11,
   "metadata": {},
   "outputs": [],
   "source": [
    "# Datos:\n",
    "w1 = 500 # m/s (superior)\n",
    "w2 = 400 # m/s (inferior)\n",
    "m_avion = 80000 # kg\n",
    "A_alas = 20 # m^2\n",
    "rho_aire = 1 # kg/m^3\n",
    "g = 9.806 # m/s^2\n",
    "\n",
    "# Variación de presión\n",
    "DP = (w1**2 - w2**2)/2 * rho_aire\n",
    "# Fuerza de sustentación\n",
    "F_sust = DP * A_alas\n",
    "# Fuerza debida al peso del avión\n",
    "F_peso = m_avion * g\n",
    "# Fuerza neta\n",
    "F_neta = F_sust - F_peso\n",
    "# Aceleración (vertical)\n",
    "a = F_neta/m_avion"
   ]
  },
  {
   "cell_type": "code",
   "execution_count": 12,
   "metadata": {},
   "outputs": [
    {
     "name": "stdout",
     "output_type": "stream",
     "text": [
      "Resultados:\n",
      "DP = 45000.0 N/m^2\n",
      "F_sust = 900000.0 N\n",
      "F_peso = 784480.0 N\n",
      "F_neta = 115520.0 N\n",
      "a = 1.44 m/s^2\n"
     ]
    }
   ],
   "source": [
    "print('Resultados:')\n",
    "print('DP = %s N/m^2'%round(DP,0))\n",
    "print('F_sust = %s N'%round(F_sust,0))\n",
    "print('F_peso = %s N'%round(F_peso,0))\n",
    "print('F_neta = %s N'%round(F_neta,0))\n",
    "print('a = %s m/s^2'%round(a,2))"
   ]
  },
  {
   "cell_type": "code",
   "execution_count": 13,
   "metadata": {},
   "outputs": [],
   "source": [
    "%reset -s -f"
   ]
  },
  {
   "cell_type": "markdown",
   "metadata": {},
   "source": [
    "## Ejercicio 4\n",
    "Calcular la potencia necesaria para mover el arbol.\n",
    "\n",
    "![e_04.png](img/e_04.png)"
   ]
  },
  {
   "cell_type": "markdown",
   "metadata": {},
   "source": [
    "### Solución\n",
    "$$ \\tau = \\mu \\, \\frac{W}{e} \\qquad ; \\qquad \\omega = \\frac{2 \\pi n}{60} $$"
   ]
  },
  {
   "cell_type": "markdown",
   "metadata": {},
   "source": [
    "$$ \\omega = \\frac{2 \\pi (200)}{60} \\qquad ; \\qquad W = \\omega r   $$"
   ]
  },
  {
   "cell_type": "code",
   "execution_count": 14,
   "metadata": {},
   "outputs": [],
   "source": [
    "import math as m"
   ]
  },
  {
   "cell_type": "code",
   "execution_count": 15,
   "metadata": {},
   "outputs": [],
   "source": [
    "d = 0.35 # m\n",
    "r = d/2\n",
    "n = 200 # RPM\n",
    "mu = 0.05 # (kg·s)/m^2\n",
    "e = 0.0002 # m\n",
    "L = 0.9 # m\n",
    "\n",
    "omega = 2*m.pi*n/60\n",
    "W = omega*r\n",
    "tau = mu * W/e\n",
    "A = 2*m.pi*r*L\n",
    "F = tau*A\n",
    "N = F*W"
   ]
  },
  {
   "cell_type": "code",
   "execution_count": 16,
   "metadata": {},
   "outputs": [
    {
     "name": "stdout",
     "output_type": "stream",
     "text": [
      "Resultados:\n",
      "omega = 20.94 rad/s\n",
      "W = 3.67 m/s\n",
      "tau = 916.3 kg/m^2\n",
      "F = 906.77 kgf/m^2\n",
      "N = 3323.49 kg·m/s\n"
     ]
    }
   ],
   "source": [
    "print('Resultados:')\n",
    "print('omega = %s rad/s'%round(omega,2))\n",
    "print('W = %s m/s'%round(W,2))\n",
    "print('tau = %s kg/m^2'%round(tau,2))\n",
    "print('F = %s kgf/m^2'%round(F,2))\n",
    "print('N = %s kg·m/s'%round(N,2))"
   ]
  },
  {
   "cell_type": "code",
   "execution_count": 17,
   "metadata": {},
   "outputs": [],
   "source": [
    "%reset -s -f"
   ]
  },
  {
   "cell_type": "markdown",
   "metadata": {},
   "source": [
    "## Ejercicio 5\n",
    "Calcular la fuerza ejercida por el aceite.\n",
    "\n",
    "![e_05.png](img/e_05.png)"
   ]
  },
  {
   "cell_type": "markdown",
   "metadata": {},
   "source": [
    "### Solución\n",
    "$$ \\sum F_x = P_1 A_1 - P_2 A_2 + R_x - \\rho Q W_2 + \\rho Q W_1 = 0 $$"
   ]
  },
  {
   "cell_type": "markdown",
   "metadata": {},
   "source": [
    "$$ \\begin{array}{l}\n",
    "\\displaystyle A_1 = \\pi \\, \\frac{d_1^2}{4} \\\\\n",
    "\\displaystyle A_2 = \\pi \\, \\frac{d_2^2}{4}\n",
    "\\end{array} \\qquad \\Rightarrow \\qquad\n",
    "\\begin{array}{l}\n",
    "\\displaystyle W_1 = \\frac{Q}{A_1} \\\\\n",
    "\\displaystyle W_2 = \\frac{Q}{A_2}\n",
    "\\end{array}\n",
    "$$"
   ]
  },
  {
   "cell_type": "markdown",
   "metadata": {},
   "source": [
    "Ecuación de energía\n",
    "$$ \\frac{P_1}{\\gamma} + \\frac{W^2_1}{2g} = \\frac{P_2}{\\gamma} + \\frac{W^2_2}{2g} $$"
   ]
  },
  {
   "cell_type": "markdown",
   "metadata": {},
   "source": [
    "Despejando $P_2$\n",
    "$$P_2 = P_1 + \\frac{W^2_1 - W^2_2}{2} \\rho $$"
   ]
  },
  {
   "cell_type": "markdown",
   "metadata": {},
   "source": [
    "Entonces\n",
    "$$R_x = \\rho Q (W_2 - W_1) + P_2 A_2 - P_1 A_1 $$"
   ]
  },
  {
   "cell_type": "code",
   "execution_count": 39,
   "metadata": {},
   "outputs": [],
   "source": [
    "import math as m"
   ]
  },
  {
   "cell_type": "code",
   "execution_count": 40,
   "metadata": {},
   "outputs": [],
   "source": [
    "Q = 0.9 # m^3/s\n",
    "d1 = 0.6 # m\n",
    "d2 = 0.3 # m\n",
    "rho = 0.85\n",
    "P1 = 2.8*100**2 # kgf/m^2\n",
    "\n",
    "A1 = m.pi*(d1**2)/4\n",
    "A2 = m.pi*(d2**2)/4\n",
    "W1 = Q/A1\n",
    "W2 = Q/A2\n",
    "P2 = P1 + (W1**2 - W2**2)/2*rho\n",
    "Rx = rho*Q*(W1 - W2) + P2*A2 - P1*A1"
   ]
  },
  {
   "cell_type": "code",
   "execution_count": 41,
   "metadata": {},
   "outputs": [
    {
     "name": "stdout",
     "output_type": "stream",
     "text": [
      "Resultados:\n",
      "W1 = 3.18 m/s\n",
      "W2 = 12.73 m/s\n",
      "P2 = 27935.41 kgf/m^2\n",
      "Rx = -5949.48 kgf\n"
     ]
    }
   ],
   "source": [
    "print('Resultados:')\n",
    "print('W1 = %s m/s'%round(W1,2))\n",
    "print('W2 = %s m/s'%round(W2,2))\n",
    "print('P2 = %s kgf/m^2'%round(P2,2))\n",
    "print('Rx = %s kgf'%round(Rx,2))"
   ]
  },
  {
   "cell_type": "markdown",
   "metadata": {},
   "source": [
    "-----------------------\n",
    "\n",
    "Usando sympy (opcional)"
   ]
  },
  {
   "cell_type": "code",
   "execution_count": 33,
   "metadata": {},
   "outputs": [],
   "source": [
    "%reset -s -f\n",
    "import sympy as sp"
   ]
  },
  {
   "cell_type": "code",
   "execution_count": 37,
   "metadata": {},
   "outputs": [
    {
     "name": "stdout",
     "output_type": "stream",
     "text": [
      "P2 = 27935.41 kg/m^2\n"
     ]
    }
   ],
   "source": [
    "Q = 0.9 # m^3/s\n",
    "d1 = 0.6 # m\n",
    "d2 = 0.3 # m\n",
    "rho = 0.85\n",
    "P1 = 2.8*100**2 # kgf/m^2\n",
    "\n",
    "A1 = sp.pi*(d1**2)/4\n",
    "A2 = sp.pi*(d2**2)/4\n",
    "W1 = Q/A1\n",
    "W2 = Q/A2\n",
    "g = 9.806 # m/s^2\n",
    "gamma = g*rho\n",
    "\n",
    "P2 = sp.symbols('P2')\n",
    "eq1 = sp.Eq(P1/gamma + W1**2/(2*g),P2/gamma + W2**2/(2*g) )\n",
    "Soleq1 = sp.solve(eq1,P2)\n",
    "P2 = Soleq1[0]\n",
    "print('P2 = %s kg/m^2'%round(P2,2))"
   ]
  },
  {
   "cell_type": "code",
   "execution_count": 32,
   "metadata": {},
   "outputs": [],
   "source": [
    "%reset -s -f"
   ]
  }
 ],
 "metadata": {
  "kernelspec": {
   "display_name": "Python 3",
   "language": "python",
   "name": "python3"
  },
  "language_info": {
   "codemirror_mode": {
    "name": "ipython",
    "version": 3
   },
   "file_extension": ".py",
   "mimetype": "text/x-python",
   "name": "python",
   "nbconvert_exporter": "python",
   "pygments_lexer": "ipython3",
   "version": "3.7.3"
  }
 },
 "nbformat": 4,
 "nbformat_minor": 2
}
