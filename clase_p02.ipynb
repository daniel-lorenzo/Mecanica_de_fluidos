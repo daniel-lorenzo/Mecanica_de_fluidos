{
 "cells": [
  {
   "cell_type": "raw",
   "metadata": {},
   "source": [
    "<script>\n",
    "  function code_toggle() {\n",
    "    if (code_shown){\n",
    "      $('div.input').hide('500');\n",
    "      $('#toggleButton').val('Show Code')\n",
    "    } else {\n",
    "      $('div.input').show('500');\n",
    "      $('#toggleButton').val('Hide Code')\n",
    "    }\n",
    "    code_shown = !code_shown\n",
    "  }\n",
    "\n",
    "  $( document ).ready(function(){\n",
    "    code_shown=true;\n",
    "    $('div.input').show()\n",
    "  });\n",
    "</script>\n",
    "<form action=\"javascript:code_toggle()\"><input type=\"submit\" id=\"toggleButton\" value=\"Hide Code\"></form>"
   ]
  },
  {
   "cell_type": "markdown",
   "metadata": {},
   "source": [
    "# Ejercicio\n",
    "Dos superficies de grandes dimensiones están separadas 32 mm, el espacio entre ellas está lleno con un líquido cuya viscosidad absoluta es de 0,15 poises. Suponiendo que el gradiente de velocidad es lineal, se pide:\n",
    "1. ¿Qué fuerza se requiere para arrastrar una placa de muy poso espesor y 0,5 m² de área a una velocidad constante de 20 cm/s, si la placa dista 10 mm de una de las superficies?\n",
    "2. ¿Cuál es la potencia disipada?"
   ]
  },
  {
   "cell_type": "markdown",
   "metadata": {},
   "source": [
    "## Solución\n",
    "$\\mathrm{1 \\, poise = 0,1 \\, kg/m \\cdot s}$\n",
    "\n",
    "![cp2-1.png](img/cp2-1.png)"
   ]
  },
  {
   "cell_type": "markdown",
   "metadata": {},
   "source": [
    "$A = 0,5 \\, \\mathrm{m^2}$ \n",
    "\n",
    "$$ \\tau_1 = \\frac{\\mu W}{d h_1} \\quad \\wedge \\quad \\tau_2 = \\frac{\\mu W}{d h_2} $$"
   ]
  },
  {
   "cell_type": "code",
   "execution_count": 1,
   "metadata": {},
   "outputs": [
    {
     "name": "stdout",
     "output_type": "stream",
     "text": [
      "tau_1 = 0.1364 kgf/m^2\n",
      "tau_2 = 0.3 kgf/m^2\n"
     ]
    }
   ],
   "source": [
    "mu = 0.015 # kgf·s/m^2\n",
    "W = 0.2 # m/s\n",
    "dh_1 = 0.022 # m\n",
    "dh_2 = 0.01 # m\n",
    "\n",
    "tau_1 = (mu*W)/dh_1\n",
    "tau_2 = (mu*W)/dh_2\n",
    "\n",
    "print('tau_1 = %s kgf/m^2'%round(tau_1,4))\n",
    "print('tau_2 = %s kgf/m^2'%round(tau_2,4))"
   ]
  },
  {
   "cell_type": "code",
   "execution_count": 4,
   "metadata": {},
   "outputs": [
    {
     "name": "stdout",
     "output_type": "stream",
     "text": [
      "F = 2.14 N\n"
     ]
    }
   ],
   "source": [
    "A = 0.5 # m^2\n",
    "g = 9.81 # m/s^2\n",
    "\n",
    "F = g*(tau_1 + tau_2)*A\n",
    "\n",
    "print('F = %s N'%round(F,3))"
   ]
  },
  {
   "cell_type": "code",
   "execution_count": 5,
   "metadata": {},
   "outputs": [
    {
     "name": "stdout",
     "output_type": "stream",
     "text": [
      "Potencia = 0.428 watts\n"
     ]
    }
   ],
   "source": [
    "Potencia = F*W\n",
    "print('Potencia = %s watts'%round(Potencia,3))"
   ]
  },
  {
   "cell_type": "code",
   "execution_count": 6,
   "metadata": {},
   "outputs": [],
   "source": [
    "%reset -s -f"
   ]
  },
  {
   "cell_type": "markdown",
   "metadata": {},
   "source": [
    "# Ejercicio\n",
    "Calcular:\n",
    "* $h$ a la cual se estabiliza el nivel de A\n",
    "* Velocidad a la cual llega el agua a B\n",
    "* Tiempo de llenado del tanque B\n",
    "\n",
    "![cp2-2.png](img/cp2-2.png)"
   ]
  },
  {
   "cell_type": "markdown",
   "metadata": {},
   "source": [
    "## Solución\n",
    "$\\begin{array}{l}\n",
    "\\mathrm{d_2 = 1/2 \\, in \\left( \\frac{0,0254 \\, m}{1 \\, in} \\right)} \\\\\n",
    "Q = 1,5 \\times 10^{-3} \\, \\mathrm{m^3/s}\n",
    "\\end{array}$\n",
    "$$ A_2 = \\frac{\\pi}{4} d_2^2 $$\n",
    "\n",
    "$$ W_2 = \\frac{Q}{A_2} $$\n",
    "\n",
    "$$ \\overbrace{ \\frac{P_1}{\\gamma} }^{= \\, 0} + \\overbrace{ \\frac{W_1^2}{2g} }^{= \\, 0} + z_1 = \\overbrace{ \\frac{P_2}{\\gamma} }^{= \\, 0} + \\frac{W_2^2}{2g} + \\overbrace{ z_2 }^{= \\, 0} $$"
   ]
  },
  {
   "cell_type": "markdown",
   "metadata": {},
   "source": [
    "$$ h = z_1 = \\frac{W_2^2}{2g} $$"
   ]
  },
  {
   "cell_type": "code",
   "execution_count": 8,
   "metadata": {},
   "outputs": [],
   "source": [
    "import math"
   ]
  },
  {
   "cell_type": "code",
   "execution_count": 9,
   "metadata": {},
   "outputs": [
    {
     "name": "stdout",
     "output_type": "stream",
     "text": [
      "W_2 = 11.84 m/s\n"
     ]
    }
   ],
   "source": [
    "d_2 = 1/2 * 2.54/100 # m\n",
    "Q = 1.5e-3 # m^3/s\n",
    "\n",
    "A_2 = math.pi/4*d_2**2\n",
    "W_2 = Q/A_2\n",
    "\n",
    "print('W_2 = %s m/s'%round(W_2,2))"
   ]
  },
  {
   "cell_type": "code",
   "execution_count": 10,
   "metadata": {},
   "outputs": [
    {
     "name": "stdout",
     "output_type": "stream",
     "text": [
      "h = 7.15 m\n"
     ]
    }
   ],
   "source": [
    "g = 9.81 # m/s^2\n",
    "\n",
    "h = W_2**2/(2*g)\n",
    "\n",
    "print('h = %s m'%round(h,2))"
   ]
  },
  {
   "cell_type": "markdown",
   "metadata": {},
   "source": [
    "$$ \\overbrace{ \\frac{P_2}{\\gamma} }^{= \\, 0} + \\frac{W_2^2}{2g} + z_2 = \\overbrace{ \\frac{P_3}{\\gamma} }^{= \\, 0} + \\frac{W_3^2}{2g} + z_3 $$"
   ]
  },
  {
   "cell_type": "markdown",
   "metadata": {},
   "source": [
    "$$ W_3 = \\sqrt{ \\left[ (z_2 - z_3) + \\frac{W_2^2}{2g} \\right] 2g } $$"
   ]
  },
  {
   "cell_type": "code",
   "execution_count": 11,
   "metadata": {},
   "outputs": [
    {
     "name": "stdout",
     "output_type": "stream",
     "text": [
      "W_3 = 12.33 m/s\n"
     ]
    }
   ],
   "source": [
    "z_2 = 1.5 # m\n",
    "z_3 = 0.9 # m\n",
    "\n",
    "W_3 = math.sqrt( ( (z_2 - z_3) + W_2**2/(2*g) )*2*g )\n",
    "\n",
    "print('W_3 = %s m/s'%round(W_3,2))"
   ]
  },
  {
   "cell_type": "markdown",
   "metadata": {},
   "source": [
    "$$ Vol_B = \\frac{\\pi}{4} d_B^2 $$"
   ]
  },
  {
   "cell_type": "code",
   "execution_count": 14,
   "metadata": {},
   "outputs": [
    {
     "name": "stdout",
     "output_type": "stream",
     "text": [
      "Vol_B = 0.2545 m^3\n"
     ]
    }
   ],
   "source": [
    "d_B = 0.6 # m\n",
    "\n",
    "Vol_B = math.pi/4*d_B**2 * z_3\n",
    "\n",
    "print('Vol_B = %s m^3'%round(Vol_B,4))"
   ]
  },
  {
   "cell_type": "markdown",
   "metadata": {},
   "source": [
    "$$ t = \\frac{Vol_B}{Q} $$"
   ]
  },
  {
   "cell_type": "code",
   "execution_count": 15,
   "metadata": {},
   "outputs": [
    {
     "name": "stdout",
     "output_type": "stream",
     "text": [
      "t = 169.65 s\n"
     ]
    }
   ],
   "source": [
    "t = Vol_B/Q\n",
    "\n",
    "print('t = %s s'%round(t,2))"
   ]
  },
  {
   "cell_type": "code",
   "execution_count": 16,
   "metadata": {},
   "outputs": [],
   "source": [
    "%reset -s -f"
   ]
  },
  {
   "cell_type": "code",
   "execution_count": null,
   "metadata": {},
   "outputs": [],
   "source": []
  }
 ],
 "metadata": {
  "kernelspec": {
   "display_name": "Python 3",
   "language": "python",
   "name": "python3"
  },
  "language_info": {
   "codemirror_mode": {
    "name": "ipython",
    "version": 3
   },
   "file_extension": ".py",
   "mimetype": "text/x-python",
   "name": "python",
   "nbconvert_exporter": "python",
   "pygments_lexer": "ipython3",
   "version": "3.7.3"
  }
 },
 "nbformat": 4,
 "nbformat_minor": 2
}
