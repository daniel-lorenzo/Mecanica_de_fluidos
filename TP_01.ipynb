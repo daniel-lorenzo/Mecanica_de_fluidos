{
 "cells": [
  {
   "cell_type": "markdown",
   "metadata": {},
   "source": [
    "# Mecánica de fluidos - Práctico 1"
   ]
  },
  {
   "cell_type": "markdown",
   "metadata": {},
   "source": [
    "## Problema 1\n",
    "Con referencia  a la figura y despreciando el rozamiento entre el pistón A y el cilindro que contiene el gas, determinar la presión manométrica en B en metros de columna de agua. Suponer el peso específico del gas 0,56 kg/m³.\n",
    "\n",
    "![tp1-01.png](tp1-01.png)"
   ]
  },
  {
   "cell_type": "markdown",
   "metadata": {},
   "source": [
    "### Solución\n",
    "El área de $A = A_a = \\pi r^2 = \\pi \\, (30 \\, m)^2 $"
   ]
  },
  {
   "cell_type": "code",
   "execution_count": 3,
   "metadata": {},
   "outputs": [
    {
     "name": "stdout",
     "output_type": "stream",
     "text": [
      "A_a = 2827.43 m^2\n"
     ]
    }
   ],
   "source": [
    "import math\n",
    "r = 60 / 2 # m\n",
    "A_a = math.pi * r**2 # m^2\n",
    "print('A_a =',round(A_a,2),'m^2')"
   ]
  },
  {
   "cell_type": "markdown",
   "metadata": {},
   "source": [
    "La presión relativa bajo A es\n",
    "$$ p_a = \\frac{P_A}{A_a} $$"
   ]
  },
  {
   "cell_type": "code",
   "execution_count": 5,
   "metadata": {},
   "outputs": [
    {
     "name": "stdout",
     "output_type": "stream",
     "text": [
      "p_a = 565.88 kgf/m^2\n"
     ]
    }
   ],
   "source": [
    "P_A = 1600 * 1000 # kgf peso del pistón\n",
    "p_a = P_A / A_a # presión relativa bajo A\n",
    "print('p_a =',round(p_a,2),'kgf/m^2')"
   ]
  },
  {
   "cell_type": "markdown",
   "metadata": {},
   "source": [
    "Para un gas ideal en condiciones isotérmicas\n",
    "$$ p v = p_1 v_1 = R \\qquad \\qquad [1] $$\n",
    "ahora como\n",
    "$$ \\gamma = g \\delta \\quad \\Rightarrow \\frac{1}{\\delta} = \\frac{g}{\\delta} $$ y como \n",
    "$$ v = \\frac{1}{\\delta} \\quad \\Rightarrow \\quad v = \\frac{q}{\\gamma} \\qquad [2] $$\n",
    "reemplazando [2] en [1] resulta:\n",
    "$$ p \\frac{g}{\\gamma} = p_1 \\frac{g_1}{\\gamma_1} = R \\qquad [3] $$\n",
    "Suponiendo que el intervalo de elevación no es lo suficientemente grande como para que introduzca una variación significativa en $g$, de manera que $g$ puede considerarse como una constante. Luego, dividiendo por $g$ en [3]\n",
    "$$ \\frac{g}{\\gamma} = \\frac{p_1}{\\gamma_1} = \\frac{R}{g} = C \\qquad [4] \\qquad \\therefore \\quad \\gamma = \\frac{P}{C} \\qquad [5] $$\n",
    "Utilizando [5], puede expresarse la ecuación diferencial básica como sigue:\n",
    "$$ \\frac{dP}{dz} = \\gamma = \\frac{P}{C} $$\n",
    "Separando variables e integrando entre $p_1$ y $p$ y entre $z_1$ y $z$, se tiene\n",
    "## $$ \\int_{p_1}^p \\frac{dP}{P} = \\int_{z_1}^z \\frac{dz}{C} \\qquad \\Rightarrow \\qquad \\left. \\ln p \\right|_{p_1}^p = \\left. \\frac{z}{C} \\right|_{z_1}^z \\qquad \\Rightarrow \\qquad \\ln \\frac{p}{p_1} = \\frac{1}{C} (z - z_1) $$\n",
    "despejando $p$ y utilizando la ecuación [4] $p_1/ \\gamma_1 = C$\n",
    "## $$ \\frac{p}{p_1} = e^{(\\gamma_1 / p_1) (z-z_1)} $$\n",
    "## $$ p = p_1 \\, e^{(\\gamma_1 / p_1) (z-z_1)} \\qquad [7] $$\n",
    "Como $p_1 = p_a = 565,88 \\, kgf/m^2$ y $z_1 = 0$, $z = 70 \\, m$ reemplazando en [7] resulta"
   ]
  },
  {
   "cell_type": "code",
   "execution_count": 10,
   "metadata": {},
   "outputs": [
    {
     "name": "stdout",
     "output_type": "stream",
     "text": [
      "p_b = 606.47 kgf/m^2\n"
     ]
    }
   ],
   "source": [
    "p_1 = p_a\n",
    "gamma = 0.56 # kgf/m^3\n",
    "z = 70\n",
    "z_1 = 0 # m\n",
    "p_b = p_1 * math.e**(gamma/p_1*(z-z_1))\n",
    "print('p_b =',round(p_b,2),'kgf/m^2')"
   ]
  },
  {
   "cell_type": "markdown",
   "metadata": {},
   "source": [
    "### $$ p_{H_2O} = \\gamma_{H_2O} \\cdot h = 1000 \\, kgf/m^3 \\cdot 1 \\, m = 1000 \\, kgf/m^2 = 1 \\, mca $$\n",
    "## $$ p_B = 606,47 \\, kgf/m^2 = 0,606 \\, mca = 60,64 \\, cmca $$"
   ]
  },
  {
   "cell_type": "code",
   "execution_count": 1,
   "metadata": {},
   "outputs": [],
   "source": [
    "%reset -f"
   ]
  },
  {
   "cell_type": "markdown",
   "metadata": {},
   "source": [
    "## Problema 2\n",
    "El aire del recipiente de la izquierda de la figura está a una presión de -23 cm de columna de mercurio. Determinar la cota del líquido manométrico en la parte derecha, en A.\n",
    "\n",
    "![tp1-02.png](tp1-02.png)"
   ]
  },
  {
   "cell_type": "markdown",
   "metadata": {},
   "source": [
    "### Solución\n",
    "Considero que la presión dada para el aire en el recipiente de la izquierda es la presión a los 36m. Luego la presión en B es igual a la presión en A porque están al mismo nivel, (horizontal) y están interconectados por el mismo fluido estático.\n",
    "\n",
    "    1 cmHg = 135,95 kgf/m²       1 kgf/cm² = 10000 kgf/m²"
   ]
  },
  {
   "cell_type": "code",
   "execution_count": 1,
   "metadata": {},
   "outputs": [],
   "source": [
    "from sympy import *"
   ]
  },
  {
   "cell_type": "code",
   "execution_count": 4,
   "metadata": {},
   "outputs": [
    {
     "name": "stdout",
     "output_type": "stream",
     "text": [
      "z = 5.7114 m\n"
     ]
    }
   ],
   "source": [
    "z = symbols('z')\n",
    "PB_aire = 135.95 * -23 # kgf/m^2\n",
    "gamma_aceite = 0.8 * 1000 # kgf/m^3\n",
    "h_aceite = 4 # m\n",
    "gamma_l = 1.6 * 1000 # kgf/m^3\n",
    "PA_aire = 2000 # kgf/m^3\n",
    "gamma_agua = 1000 # kgf/m^3\n",
    "h_agua = 1.5 # m\n",
    "# Presión en A\n",
    "PA = PA_aire  + gamma_agua*(h_agua + z) \n",
    "# Presión en B\n",
    "PB = PB_aire + gamma_aceite*h_aceite + gamma_l*z  \n",
    "# ecuación 1: PA = PB\n",
    "eq1 = Eq(PA , PB)\n",
    "# Resuelve ecuación 1, en z\n",
    "seq1 = solve(eq1,z)\n",
    "z = seq1[0]\n",
    "print('z =',round(z,4),'m') "
   ]
  },
  {
   "cell_type": "code",
   "execution_count": 8,
   "metadata": {},
   "outputs": [
    {
     "name": "stdout",
     "output_type": "stream",
     "text": [
      "Altura en A:\n",
      "h_A = 26.3 m\n"
     ]
    }
   ],
   "source": [
    "h_A = 32 - z\n",
    "print('Altura en A:')\n",
    "print('h_A =',round(h_A,1),'m')"
   ]
  },
  {
   "cell_type": "markdown",
   "metadata": {},
   "source": [
    "## Problema 3\n",
    "Un tanque cilíndrico contiene agua hasta una altura de 50 mm. Dentro de éste se encuentra un tanque cilíndrico más pequeño, abierto, que contiene queroseno hasta una altura h, con una densidad de 0,8. Las siguientes presiones se conocen en los manómetros indicados: $p_B = 13,80 \\, kPa$, $p_C = 13,82 \\, kPa$. ¿Cuáles son la presión manométrica $p_A$ y la altura $h$ del queroseno? Suponga que se impide el movimiento del queroseno hacia la parte superior del tanque.\n",
    "![tp1-03.png](tp1-03.png)"
   ]
  },
  {
   "cell_type": "markdown",
   "metadata": {},
   "source": [
    "### Solución\n",
    "\n",
    "$\n",
    "\\left\\{\n",
    "\\begin{array}{l}\n",
    "\\mathrm{ 1 \\, kgf/cm^2 = 98066,52 \\, Pa = 98,07 \\, kPa } \\\\\n",
    "\\mathrm{ 1 \\, kgf/m^2 = 9,81 \\, Pa = 9,81 \\times 10^{-3} \\, kPa}\n",
    "\\end{array}\n",
    "\\right.\n",
    "$\n",
    "\n",
    "### $$ p_A = p_C - \\gamma_{H_2O} \\cdot h_{H_2O} $$"
   ]
  },
  {
   "cell_type": "code",
   "execution_count": 4,
   "metadata": {},
   "outputs": [
    {
     "name": "stdout",
     "output_type": "stream",
     "text": [
      "p_A = 1358.77 kgf/m^2  =  13.86 kPa\n"
     ]
    }
   ],
   "source": [
    "g = 9.81 # m/s^2\n",
    "p_C = (13.82*10**3) * (1/g) # kgf/m^2\n",
    "gamma_agua = 1000 # kgf/m^3\n",
    "h_agua = 50 / 1000 # m\n",
    "p_A = p_C - gamma_agua * h_agua\n",
    "print('p_A =',round(p_A,2),'kgf/m^2',' = ',round(p_A/98.07,2),'kPa')"
   ]
  },
  {
   "cell_type": "markdown",
   "metadata": {},
   "source": [
    "__Cálculo de h__\n",
    "### $\n",
    "\\begin{array}{l}\n",
    "p_C - \\gamma_{H_2O} \\cdot h = p_B - \\gamma_k \\cdot h \\\\\n",
    "p_C - p_B = (\\gamma_{H_2O} - \\gamma_k) \\cdot h \n",
    "\\end{array}\n",
    "$\n",
    "## $$ \\Rightarrow \\; h = \\frac{p_C-p_B}{\\gamma_{H_2O}-\\gamma_k} $$"
   ]
  },
  {
   "cell_type": "code",
   "execution_count": 5,
   "metadata": {},
   "outputs": [
    {
     "name": "stdout",
     "output_type": "stream",
     "text": [
      "h = 0.01019 m\n"
     ]
    }
   ],
   "source": [
    "p_B = (13.8*10**3) * (1/g) # kgf/m^2\n",
    "gamma_k = 0.8 * 1000 # kgf/m^3\n",
    "\n",
    "h = (p_C - p_B)/(gamma_agua - gamma_k)\n",
    "print('h =',round(h,5),'m')"
   ]
  },
  {
   "cell_type": "markdown",
   "metadata": {},
   "source": [
    "## Ejercicio 4\n",
    "¿Cuál es la presión manométrica dentro del tanque de aire?\n",
    "![tp1-04.png](tp1-04.png)"
   ]
  },
  {
   "cell_type": "markdown",
   "metadata": {},
   "source": [
    "Considero:\n",
    "\n",
    "$\n",
    "\\begin{array}{l}\n",
    "P_a = P_b \\\\\n",
    "P_b = P_c \\\\\n",
    "P_d = P_c - \\gamma_{Hg} 200 \\, mm \\\\\n",
    "P_e = P_d + \\gamma_{H_2O} 100 \\, mm \\\\\n",
    "P_f = P_e \\\\\n",
    "P_f = \\gamma_{Hg} 260 mm\n",
    "\\end{array}\n",
    "$"
   ]
  },
  {
   "cell_type": "code",
   "execution_count": null,
   "metadata": {},
   "outputs": [],
   "source": []
  }
 ],
 "metadata": {
  "kernelspec": {
   "display_name": "Python 3",
   "language": "python",
   "name": "python3"
  },
  "language_info": {
   "codemirror_mode": {
    "name": "ipython",
    "version": 3
   },
   "file_extension": ".py",
   "mimetype": "text/x-python",
   "name": "python",
   "nbconvert_exporter": "python",
   "pygments_lexer": "ipython3",
   "version": "3.7.1"
  }
 },
 "nbformat": 4,
 "nbformat_minor": 2
}
