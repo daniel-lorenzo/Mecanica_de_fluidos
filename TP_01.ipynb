{
 "cells": [
  {
   "cell_type": "markdown",
   "metadata": {},
   "source": [
    "# Mecánica de fluidos - Práctico 1"
   ]
  },
  {
   "cell_type": "markdown",
   "metadata": {},
   "source": [
    "## Problema 1\n",
    "Con referencia  a la figura y despreciando el rozamiento entre el pistón A y el cilindro que contiene el gas, determinar la presión manométrica en B en metros de columna de agua. Suponer el peso específico del gas 0,56 kg/m³.\n",
    "\n",
    "![tp1-01.png](tp1-01.png)"
   ]
  },
  {
   "cell_type": "markdown",
   "metadata": {},
   "source": [
    "### Solución\n",
    "El área de $A = A_a = \\pi r^2 = \\pi \\, (30 \\, m)^2 $"
   ]
  },
  {
   "cell_type": "code",
   "execution_count": 3,
   "metadata": {},
   "outputs": [
    {
     "name": "stdout",
     "output_type": "stream",
     "text": [
      "A_a = 2827.43 m^2\n"
     ]
    }
   ],
   "source": [
    "import math\n",
    "r = 60 / 2 # m\n",
    "A_a = math.pi * r**2 # m^2\n",
    "print('A_a =',round(A_a,2),'m^2')"
   ]
  },
  {
   "cell_type": "markdown",
   "metadata": {},
   "source": [
    "La presión relativa bajo A es\n",
    "$$ p_a = \\frac{P_A}{A_a} $$"
   ]
  },
  {
   "cell_type": "code",
   "execution_count": 5,
   "metadata": {},
   "outputs": [
    {
     "name": "stdout",
     "output_type": "stream",
     "text": [
      "p_a = 565.88 kgf/m^2\n"
     ]
    }
   ],
   "source": [
    "P_A = 1600 * 1000 # kgf peso del pistón\n",
    "p_a = P_A / A_a # presión relativa bajo A\n",
    "print('p_a =',round(p_a,2),'kgf/m^2')"
   ]
  },
  {
   "cell_type": "markdown",
   "metadata": {},
   "source": [
    "Para un gas ideal en condiciones isotérmicas\n",
    "$$ p v = p_1 v_1 = R \\qquad \\qquad [1] $$\n",
    "ahora como\n",
    "$$ \\gamma = g \\delta \\quad \\Rightarrow \\frac{1}{\\delta} = \\frac{g}{\\delta} $$ y como \n",
    "$$ v = \\frac{1}{\\delta} \\quad \\Rightarrow \\quad v = \\frac{q}{\\gamma} \\qquad [2] $$\n",
    "reemplazando [2] en [1] resulta:\n",
    "$$ p \\frac{g}{\\gamma} = p_1 \\frac{g_1}{\\gamma_1} = R \\qquad [3] $$\n",
    "Suponiendo que el intervalo de elevación no es lo suficientemente grande como para que introduzca una variación significativa en $g$, de manera que $g$ puede considerarse como una constante. Luego, dividiendo por $g$ en [3]\n",
    "$$ \\frac{g}{\\gamma} = \\frac{p_1}{\\gamma_1} = \\frac{R}{g} = C \\qquad [4] \\qquad \\therefore \\quad \\gamma = \\frac{P}{C} \\qquad [5] $$\n",
    "Utilizando [5], puede expresarse la ecuación diferencial básica como sigue:\n",
    "$$ \\frac{dP}{dz} = \\gamma = \\frac{P}{C} $$\n",
    "Separando variables e integrando entre $p_1$ y $p$ y entre $z_1$ y $z$, se tiene\n",
    "## $$ \\int_{p_1}^P \\frac{dP}{P} = \\int_{z_1}^z \\frac{dz}{C} \\qquad \\Rightarrow \\qquad \\left. \\ln p \\right|_{p_1}^p = \\left. \\frac{z}{C} \\right|_{z_1}^z \\qquad \\Rightarrow \\qquad \\ln \\frac{p}{p_1} = \\frac{1}{C} (z - z_1) $$\n",
    "despejando $p$ y utilizando la ecuación [4] $p_1/ \\gamma_1 = C$\n",
    "$$ \\frac{p}{p_1} = e^{(\\gamma_1 / p_1) (z-z_1)} $$\n",
    "## $$ p = p_1 \\, e^{(\\gamma_1 / p_1) (z-z_1)} \\qquad [7] $$\n",
    "Como $p_1 = p_a = 565,88 \\, kgf/m^2$ y $z_1 = 0$, $z = 70 \\, m$ reemplazando en [7] resulta"
   ]
  },
  {
   "cell_type": "code",
   "execution_count": 10,
   "metadata": {},
   "outputs": [
    {
     "name": "stdout",
     "output_type": "stream",
     "text": [
      "p_b = 606.47 kgf/m^2\n"
     ]
    }
   ],
   "source": [
    "p_1 = p_a\n",
    "gamma = 0.56 # kgf/m^3\n",
    "z = 70\n",
    "z_1 = 0 # m\n",
    "p_b = p_1 * math.e**(gamma/p_1*(z-z_1))\n",
    "print('p_b =',round(p_b,2),'kgf/m^2')"
   ]
  },
  {
   "cell_type": "markdown",
   "metadata": {},
   "source": [
    "### $$ p_{H_2O} = \\gamma_{H_2O} \\cdot h = 1000 \\, kgf/m^3 \\cdot 1 \\, m = 1000 \\, kgf/m^2 = 1 \\, mca $$\n",
    "## $$ p_B = 606,47 \\, kgf/m^2 = 0,606 \\, mca = 60,64 \\, cmca $$"
   ]
  },
  {
   "cell_type": "code",
   "execution_count": null,
   "metadata": {},
   "outputs": [],
   "source": [
    "%reset -f"
   ]
  }
 ],
 "metadata": {
  "kernelspec": {
   "display_name": "Python 3",
   "language": "python",
   "name": "python3"
  },
  "language_info": {
   "codemirror_mode": {
    "name": "ipython",
    "version": 3
   },
   "file_extension": ".py",
   "mimetype": "text/x-python",
   "name": "python",
   "nbconvert_exporter": "python",
   "pygments_lexer": "ipython3",
   "version": "3.6.7"
  }
 },
 "nbformat": 4,
 "nbformat_minor": 2
}
