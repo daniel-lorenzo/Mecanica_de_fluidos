{
 "cells": [
  {
   "cell_type": "markdown",
   "metadata": {},
   "source": [
    "# Mecánica de fluidos - Práctico 1\n",
    "__UNLZ - FI -- Jupyter Notebook + Python 3__\n",
    "   \n",
    "__Alumno: Lorenzo, Daniel Antonio__"
   ]
  },
  {
   "cell_type": "markdown",
   "metadata": {},
   "source": [
    "## Problema 1\n",
    "Con referencia  a la figura y despreciando el rozamiento entre el pistón A y el cilindro que contiene el gas, determinar la presión manométrica en B en metros de columna de agua. Suponer el peso específico del gas 0,56 kg/m³.\n",
    "\n",
    "![tp1-01.png](tp1-01.png)"
   ]
  },
  {
   "cell_type": "markdown",
   "metadata": {},
   "source": [
    "### Solución\n",
    "El área de $A = A_a = \\pi r^2 = \\pi \\, (30 \\, m)^2 $"
   ]
  },
  {
   "cell_type": "code",
   "execution_count": 3,
   "metadata": {},
   "outputs": [
    {
     "name": "stdout",
     "output_type": "stream",
     "text": [
      "A_a = 2827.43 m^2\n"
     ]
    }
   ],
   "source": [
    "import math\n",
    "r = 60 / 2 # m\n",
    "A_a = math.pi * r**2 # m^2\n",
    "print('A_a =',round(A_a,2),'m^2')"
   ]
  },
  {
   "cell_type": "markdown",
   "metadata": {},
   "source": [
    "La presión relativa bajo A es\n",
    "$$ p_a = \\frac{P_A}{A_a} $$"
   ]
  },
  {
   "cell_type": "code",
   "execution_count": 5,
   "metadata": {},
   "outputs": [
    {
     "name": "stdout",
     "output_type": "stream",
     "text": [
      "p_a = 565.88 kgf/m^2\n"
     ]
    }
   ],
   "source": [
    "P_A = 1600 * 1000 # kgf peso del pistón\n",
    "p_a = P_A / A_a # presión relativa bajo A\n",
    "print('p_a =',round(p_a,2),'kgf/m^2')"
   ]
  },
  {
   "cell_type": "markdown",
   "metadata": {},
   "source": [
    "Para un gas ideal en condiciones isotérmicas\n",
    "$$ p v = p_1 v_1 = R \\qquad \\qquad [1] $$\n",
    "ahora como\n",
    "$$ \\gamma = g \\delta \\quad \\Rightarrow \\frac{1}{\\delta} = \\frac{g}{\\delta} $$ y como \n",
    "$$ v = \\frac{1}{\\delta} \\quad \\Rightarrow \\quad v = \\frac{q}{\\gamma} \\qquad [2] $$\n",
    "reemplazando [2] en [1] resulta:\n",
    "$$ p \\frac{g}{\\gamma} = p_1 \\frac{g_1}{\\gamma_1} = R \\qquad [3] $$\n",
    "Suponiendo que el intervalo de elevación no es lo suficientemente grande como para que introduzca una variación significativa en $g$, de manera que $g$ puede considerarse como una constante. Luego, dividiendo por $g$ en [3]\n",
    "$$ \\frac{g}{\\gamma} = \\frac{p_1}{\\gamma_1} = \\frac{R}{g} = C \\qquad [4] \\qquad \\therefore \\quad \\gamma = \\frac{P}{C} \\qquad [5] $$\n",
    "Utilizando [5], puede expresarse la ecuación diferencial básica como sigue:\n",
    "$$ \\frac{dP}{dz} = \\gamma = \\frac{P}{C} $$\n",
    "Separando variables e integrando entre $p_1$ y $p$ y entre $z_1$ y $z$, se tiene\n",
    "## $$ \\int_{p_1}^p \\frac{dP}{P} = \\int_{z_1}^z \\frac{dz}{C} \\qquad \\Rightarrow \\qquad \\left. \\ln p \\right|_{p_1}^p = \\left. \\frac{z}{C} \\right|_{z_1}^z \\qquad \\Rightarrow \\qquad \\ln \\frac{p}{p_1} = \\frac{1}{C} (z - z_1) $$\n",
    "despejando $p$ y utilizando la ecuación [4] $p_1/ \\gamma_1 = C$\n",
    "## $$ \\frac{p}{p_1} = e^{(\\gamma_1 / p_1) (z-z_1)} $$\n",
    "## $$ p = p_1 \\, e^{(\\gamma_1 / p_1) (z-z_1)} \\qquad [7] $$\n",
    "Como $p_1 = p_a = 565,88 \\, kgf/m^2$ y $z_1 = 0$, $z = 70 \\, m$ reemplazando en [7] resulta"
   ]
  },
  {
   "cell_type": "code",
   "execution_count": 10,
   "metadata": {},
   "outputs": [
    {
     "name": "stdout",
     "output_type": "stream",
     "text": [
      "p_b = 606.47 kgf/m^2\n"
     ]
    }
   ],
   "source": [
    "p_1 = p_a\n",
    "gamma = 0.56 # kgf/m^3\n",
    "z = 70\n",
    "z_1 = 0 # m\n",
    "p_b = p_1 * math.e**(gamma/p_1*(z-z_1))\n",
    "print('p_b =',round(p_b,2),'kgf/m^2')"
   ]
  },
  {
   "cell_type": "markdown",
   "metadata": {},
   "source": [
    "### $$ p_{H_2O} = \\gamma_{H_2O} \\cdot h = 1000 \\, kgf/m^3 \\cdot 1 \\, m = 1000 \\, kgf/m^2 = 1 \\, mca $$\n",
    "## $$ p_B = 606,47 \\, kgf/m^2 = 0,606 \\, mca = 60,64 \\, cmca $$"
   ]
  },
  {
   "cell_type": "code",
   "execution_count": 1,
   "metadata": {},
   "outputs": [],
   "source": [
    "%reset -f"
   ]
  },
  {
   "cell_type": "markdown",
   "metadata": {},
   "source": [
    "## Problema 2\n",
    "El aire del recipiente de la izquierda de la figura está a una presión de -23 cm de columna de mercurio. Determinar la cota del líquido manométrico en la parte derecha, en A.\n",
    "\n",
    "![tp1-02.png](tp1-02.png)"
   ]
  },
  {
   "cell_type": "markdown",
   "metadata": {},
   "source": [
    "### Solución\n",
    "Considero que la presión dada para el aire en el recipiente de la izquierda es la presión a los 36m. Luego la presión en B es igual a la presión en A porque están al mismo nivel, (horizontal) y están interconectados por el mismo fluido estático.\n",
    "\n",
    "    1 cmHg = 135,95 kgf/m²       1 kgf/cm² = 10000 kgf/m²"
   ]
  },
  {
   "cell_type": "code",
   "execution_count": 1,
   "metadata": {},
   "outputs": [],
   "source": [
    "from sympy import *"
   ]
  },
  {
   "cell_type": "code",
   "execution_count": 4,
   "metadata": {},
   "outputs": [
    {
     "name": "stdout",
     "output_type": "stream",
     "text": [
      "z = 5.7114 m\n"
     ]
    }
   ],
   "source": [
    "z = symbols('z')\n",
    "PB_aire = 135.95 * -23 # kgf/m^2\n",
    "gamma_aceite = 0.8 * 1000 # kgf/m^3\n",
    "h_aceite = 4 # m\n",
    "gamma_l = 1.6 * 1000 # kgf/m^3\n",
    "PA_aire = 2000 # kgf/m^3\n",
    "gamma_agua = 1000 # kgf/m^3\n",
    "h_agua = 1.5 # m\n",
    "# Presión en A\n",
    "PA = PA_aire  + gamma_agua*(h_agua + z) \n",
    "# Presión en B\n",
    "PB = PB_aire + gamma_aceite*h_aceite + gamma_l*z  \n",
    "# ecuación 1: PA = PB\n",
    "eq1 = Eq(PA , PB)\n",
    "# Resuelve ecuación 1, en z\n",
    "seq1 = solve(eq1,z)\n",
    "z = seq1[0]\n",
    "print('z =',round(z,4),'m') "
   ]
  },
  {
   "cell_type": "code",
   "execution_count": 8,
   "metadata": {},
   "outputs": [
    {
     "name": "stdout",
     "output_type": "stream",
     "text": [
      "Altura en A:\n",
      "h_A = 26.3 m\n"
     ]
    }
   ],
   "source": [
    "h_A = 32 - z\n",
    "print('Altura en A:')\n",
    "print('h_A =',round(h_A,1),'m')"
   ]
  },
  {
   "cell_type": "code",
   "execution_count": null,
   "metadata": {},
   "outputs": [],
   "source": [
    "%reset -f"
   ]
  },
  {
   "cell_type": "markdown",
   "metadata": {},
   "source": [
    "## Problema 3\n",
    "Un tanque cilíndrico contiene agua hasta una altura de 50 mm. Dentro de éste se encuentra un tanque cilíndrico más pequeño, abierto, que contiene queroseno hasta una altura h, con una densidad de 0,8. Las siguientes presiones se conocen en los manómetros indicados: $p_B = 13,80 \\, kPa$, $p_C = 13,82 \\, kPa$. ¿Cuáles son la presión manométrica $p_A$ y la altura $h$ del queroseno? Suponga que se impide el movimiento del queroseno hacia la parte superior del tanque.\n",
    "![tp1-03.png](tp1-03.png)"
   ]
  },
  {
   "cell_type": "markdown",
   "metadata": {},
   "source": [
    "### Solución\n",
    "$\n",
    "\\left\\{ \\begin{array}{l}\n",
    "\\mathrm{ 1 \\, kgf/cm^2 = 98066,52 \\, Pa = 98,07 \\, kPa } \\\\\n",
    "\\mathrm{ 1 \\, kgf/m^2 = 9,81 \\, Pa = 9,81 \\times 10^{-3} \\, kPa}\n",
    "\\end{array}\n",
    "\\right.\n",
    "$\n",
    "\n",
    "### $$ p_A = p_C - \\gamma_{H_2O} \\cdot h_{H_2O} $$"
   ]
  },
  {
   "cell_type": "code",
   "execution_count": 4,
   "metadata": {},
   "outputs": [
    {
     "name": "stdout",
     "output_type": "stream",
     "text": [
      "p_A = 1358.77 kgf/m^2  =  13.86 kPa\n"
     ]
    }
   ],
   "source": [
    "g = 9.81 # m/s^2\n",
    "p_C = (13.82*10**3) * (1/g) # kgf/m^2\n",
    "gamma_agua = 1000 # kgf/m^3\n",
    "h_agua = 50 / 1000 # m\n",
    "p_A = p_C - gamma_agua * h_agua\n",
    "print('p_A =',round(p_A,2),'kgf/m^2',' = ',round(p_A/98.07,2),'kPa')"
   ]
  },
  {
   "cell_type": "markdown",
   "metadata": {},
   "source": [
    "__Cálculo de h__\n",
    "\n",
    "$\n",
    "\\begin{array}{l}\n",
    "p_C - \\gamma_{H_2O} \\cdot h = p_B - \\gamma_k \\cdot h \\\\\n",
    "p_C - p_B = (\\gamma_{H_2O} - \\gamma_k) \\cdot h \n",
    "\\end{array}\n",
    "$\n",
    "## $$ \\Rightarrow \\; h = \\frac{p_C-p_B}{\\gamma_{H_2O}-\\gamma_k} $$"
   ]
  },
  {
   "cell_type": "code",
   "execution_count": 5,
   "metadata": {},
   "outputs": [
    {
     "name": "stdout",
     "output_type": "stream",
     "text": [
      "h = 0.01019 m\n"
     ]
    }
   ],
   "source": [
    "p_B = (13.8*10**3) * (1/g) # kgf/m^2\n",
    "gamma_k = 0.8 * 1000 # kgf/m^3\n",
    "\n",
    "h = (p_C - p_B)/(gamma_agua - gamma_k)\n",
    "print('h =',round(h,5),'m')"
   ]
  },
  {
   "cell_type": "code",
   "execution_count": null,
   "metadata": {},
   "outputs": [],
   "source": [
    "%reset -f"
   ]
  },
  {
   "cell_type": "markdown",
   "metadata": {},
   "source": [
    "## Ejercicio 4\n",
    "¿Cuál es la presión manométrica dentro del tanque de aire?\n",
    "![tp1-04.png](tp1-04.png)"
   ]
  },
  {
   "cell_type": "markdown",
   "metadata": {},
   "source": [
    "### Solución\n",
    "Considero:\n",
    "\n",
    "$\n",
    "\\begin{array}{l}\n",
    "P_a = P_b \\\\\n",
    "P_b = P_c \\\\\n",
    "P_d = P_c - \\gamma_{Hg} \\cdot 200 \\, mm \\\\\n",
    "P_e = P_d + \\gamma_{H_2O} \\cdot 100 \\, mm \\\\\n",
    "P_f = P_e \\\\\n",
    "P_f = \\gamma_{Hg} 260 mm\n",
    "\\end{array}\n",
    "$"
   ]
  },
  {
   "cell_type": "code",
   "execution_count": 2,
   "metadata": {},
   "outputs": [
    {
     "name": "stdout",
     "output_type": "stream",
     "text": [
      "P_f = 3536.0 kgf/m^2\n",
      "P_e = 3536.0 kgf/m^2\n"
     ]
    }
   ],
   "source": [
    "# Cálculo de presión en f y e\n",
    "gamma_Hg = 13600 # kgf/m^3\n",
    "P_f = gamma_Hg * (460-200)/1000\n",
    "P_e = P_f\n",
    "print('P_f =',P_f,'kgf/m^2')\n",
    "print('P_e =',P_e,'kgf/m^2')"
   ]
  },
  {
   "cell_type": "code",
   "execution_count": 3,
   "metadata": {},
   "outputs": [
    {
     "name": "stdout",
     "output_type": "stream",
     "text": [
      "P_d = 3436.0 kgf/m^2\n"
     ]
    }
   ],
   "source": [
    "# Cálculo de presión en d\n",
    "gamma_agua = 1000 # kgf/m^2\n",
    "P_d = P_e - gamma_agua * 100/1000\n",
    "print('P_d =',P_d,'kgf/m^2')"
   ]
  },
  {
   "cell_type": "code",
   "execution_count": 6,
   "metadata": {},
   "outputs": [
    {
     "name": "stdout",
     "output_type": "stream",
     "text": [
      "P_c = 6156.0 kgf/m^2\n",
      "P_b = 6156.0 kgf/m^2\n",
      "P_a = 6156.0 kgf/m^2\n"
     ]
    }
   ],
   "source": [
    "# Cálculo de presión en c, b y a\n",
    "P_c = P_d + gamma_Hg * 200/1000\n",
    "P_b = P_c\n",
    "P_a = P_b\n",
    "print('P_c =',P_c,'kgf/m^2')\n",
    "print('P_b =',P_b,'kgf/m^2')\n",
    "print('P_a =',P_a,'kgf/m^2')"
   ]
  },
  {
   "cell_type": "code",
   "execution_count": 7,
   "metadata": {},
   "outputs": [],
   "source": [
    "%reset -f"
   ]
  },
  {
   "cell_type": "markdown",
   "metadata": {},
   "source": [
    "## Ejercicio 5\n",
    "Encuentre la diferencia de presión entre los tanques A y B si $d_1 = 300 \\, mm$, $d_2 = 150 \\, mm$, $d_3 = 460 \\, mm$, $d_4 = 200 \\, mm$ y la densidad relativa del mercurio es 13,6.\n",
    "![tp1-05.png](tp1-05.png)"
   ]
  },
  {
   "cell_type": "markdown",
   "metadata": {},
   "source": [
    "### Solución\n",
    "Considero $\\sin 45^\\circ = h/4$\n",
    "\n",
    "$h = \\sin 45^\\circ d_4$\n",
    "$$ P_a = P_b + \\gamma_{Hg} \\cdot (d_4 \\cdot \\sin 45^\\circ + d_3) - \\gamma_{H_2O} \\cdot d_1 $$\n",
    "### $$ \\Delta P_{ab} = P_a - P_b = \\gamma_{Hg} \\cdot (d_4 \\cdot \\sin 45^\\circ + d_3) - \\gamma_{H_2O} \\cdot d_1 $$"
   ]
  },
  {
   "cell_type": "code",
   "execution_count": 10,
   "metadata": {},
   "outputs": [
    {
     "name": "stdout",
     "output_type": "stream",
     "text": [
      "DP_ab = 7879.33 kgf/m^2\n"
     ]
    }
   ],
   "source": [
    "import math\n",
    "gamma_Hg = 13600 # kgf/m^3\n",
    "gamma_agua = 1000 # kgf/m^3\n",
    "d1 = 300/1000 # m\n",
    "d2 = 150/1000 # m\n",
    "d3 = 460/1000 # m\n",
    "d4 = 200/1000 # m\n",
    "ang = 45 * math.pi/180 # radianes\n",
    "DP_ab = gamma_Hg * (d4*math.sin(ang)+d3)-gamma_agua*d1\n",
    "print('DP_ab =',round(DP_ab,2),'kgf/m^2')"
   ]
  },
  {
   "cell_type": "code",
   "execution_count": 1,
   "metadata": {},
   "outputs": [],
   "source": [
    "%reset -f"
   ]
  },
  {
   "cell_type": "markdown",
   "metadata": {},
   "source": [
    "## Ejercicio 6\n",
    "Un elevador hidráulico está provisto de dos émbolos, uno de superficie igual a 1 m² y otro de superficie igual a 5 cm². ¿Qué fuerza mínima debemos ejercer para elevar una masa de 1000 kg? ¿En cuál de los émbolos?\n",
    "![tp1-06.png](tp1-06.png)"
   ]
  },
  {
   "cell_type": "markdown",
   "metadata": {},
   "source": [
    "### Solución\n",
    "$\n",
    "\\begin{array}{l}\n",
    "A_1 = 5 \\, cm^2 = 5 \\times 10^{-4} \\, m^2 \\\\\n",
    "A_2 = 1 \\, m^2\n",
    "\\end{array}\n",
    "$\n",
    "### $$ \\frac{F_1}{A_1} = \\frac{F_2}{A_2} $$"
   ]
  },
  {
   "cell_type": "code",
   "execution_count": 4,
   "metadata": {},
   "outputs": [
    {
     "name": "stdout",
     "output_type": "stream",
     "text": [
      "P1 = P2 = 9810.0 N/m^2\n",
      "F1 = 4.905 N, (fuerza mínima)\n"
     ]
    }
   ],
   "source": [
    "A1 = 5*10**(-4) # m^2\n",
    "A2 = 1 # m^2\n",
    "m = 1000 # kg\n",
    "g = 9.81 # m/s^2 (aceleración de la gravedad)\n",
    "F2 = m*g # N\n",
    "P2 = F2/A2 # N/m^2\n",
    "P1 = P2\n",
    "F1 = P2*A1 # N\n",
    "print('P1 = P2 =',P1,'N/m^2')\n",
    "print('F1 =',F1,'N, (fuerza mínima)')"
   ]
  },
  {
   "cell_type": "markdown",
   "metadata": {},
   "source": [
    "La fuerza debe aplicarse en el émbolo más pequeño ya que la relación entre las fuerzas viene dada por:\n",
    "### $$ \\frac{F_1}{F_2} = \\frac{A_1}{A_2} $$\n",
    "En esta forma, con $A_B > A_A$ puede obtenerse una considerable ventaja mecánica."
   ]
  },
  {
   "cell_type": "code",
   "execution_count": 3,
   "metadata": {},
   "outputs": [],
   "source": [
    "%reset -f"
   ]
  },
  {
   "cell_type": "markdown",
   "metadata": {},
   "source": [
    "## Ejercico 7\n",
    "¿Cuál es la presión $P_A$? La densidad realtiva del aceite es 0,8\n",
    "![tp1-07.png](tp1-07.png)"
   ]
  },
  {
   "cell_type": "markdown",
   "metadata": {},
   "source": [
    "### Solución\n",
    "$$ P_A = \\gamma_{Hg} \\cdot (0,3 m) - \\gamma_{H_2O} \\cdot (1,6 m) - (0,8) \\cdot (\\gamma_{H_2O}) \\cdot (3 m) $$"
   ]
  },
  {
   "cell_type": "code",
   "execution_count": 2,
   "metadata": {},
   "outputs": [
    {
     "name": "stdout",
     "output_type": "stream",
     "text": [
      "P_A = 80.0 kgf/m^2\n"
     ]
    }
   ],
   "source": [
    "gamma_Hg = 13600 # kgf/m^3\n",
    "gamma_agua = 1000 # kgf/m^3\n",
    "gamma_aceite = 0.8*gamma_agua\n",
    "P_A = gamma_Hg*0.3 - gamma_agua*(4.6-3) - gamma_aceite*3\n",
    "print('P_A =',round(P_A,2),'kgf/m^2')"
   ]
  },
  {
   "cell_type": "code",
   "execution_count": null,
   "metadata": {},
   "outputs": [],
   "source": [
    "%reset -f"
   ]
  },
  {
   "cell_type": "markdown",
   "metadata": {},
   "source": [
    "## Ejercicio 8\n",
    "Los compartimentos B y C de la figura están cerrados y llenos de aire. La presión atmosférica es de 1 kg/cm². Cuando los manómetros A y D marcan las lecturas indicadas, ¿Qué valor tendrá la cota x en el manómetro de mercurio E?\n",
    "![tp1-08](tp1-08.png)"
   ]
  },
  {
   "cell_type": "markdown",
   "metadata": {},
   "source": [
    "### Solución\n",
    "$$ P_A = 21000 \\, kgf/m^2 $$\n",
    "$$ P_C = - \\gamma_{Hg} \\cdot (0,25 m) $$\n",
    "\n",
    "$$ P_A = P_C + \\gamma_{Hg} \\cdot x \\qquad [1] $$\n",
    "\n",
    "### $$ x = \\frac{P_A + \\gamma_{Hg} \\cdot (0,25 m)}{\\gamma_{Hg}} $$"
   ]
  },
  {
   "cell_type": "code",
   "execution_count": 5,
   "metadata": {},
   "outputs": [
    {
     "name": "stdout",
     "output_type": "stream",
     "text": [
      "x = 1.7941 m\n"
     ]
    }
   ],
   "source": [
    "# Con sympy (solamente para probar la biblioteca o library)\n",
    "# es una ecuación una ecuación de 1 incógnita, como que no hace falta\n",
    "from sympy import *\n",
    "x = symbols('x')\n",
    "P_A = 2.1 * 10000 # kgf/m^2 (presión en A)\n",
    "gamma_Hg = 13600 # kgf/m^3\n",
    "P_C = -gamma_Hg * 0.25 # kgf/m^2 (presión en C)\n",
    "eq1 = Eq(P_A , P_C + gamma_Hg * x) # ecuación 1\n",
    "seq1 = solve(eq1,x) # resuelve la ecuación [1]\n",
    "x = seq1[0]\n",
    "print('x =',round(x,4),'m')"
   ]
  },
  {
   "cell_type": "code",
   "execution_count": 6,
   "metadata": {},
   "outputs": [
    {
     "name": "stdout",
     "output_type": "stream",
     "text": [
      "x = 1.7941 m\n"
     ]
    }
   ],
   "source": [
    "x = (P_A + gamma_Hg * 0.25)/gamma_Hg\n",
    "print('x =',round(x,4),'m')"
   ]
  },
  {
   "cell_type": "code",
   "execution_count": 7,
   "metadata": {},
   "outputs": [],
   "source": [
    "%reset -f"
   ]
  },
  {
   "cell_type": "markdown",
   "metadata": {},
   "source": [
    "## Ejercicio 9\n",
    "Encuentre la distancia d para el tubo en U.\n",
    "![tp1-09.png](tp1-09.png)"
   ]
  },
  {
   "cell_type": "markdown",
   "metadata": {},
   "source": [
    "### Solución\n",
    "$$P_B = P_A + \\gamma_{ac} (0,05m+0,01m)$$\n",
    "$$P_C = P_B - \\gamma_{Hg} (0,02m) $$\n",
    "$$P_D = P_C - 1,4 \\gamma_{H2O} \\cdot d $$\n",
    "### $$ P_D = P_A + (0,6 \\cdot \\gamma_{H_2O}) (0,06m)-\\gamma_{Hg}(0,02m)- (1,4 \\cdot \\gamma_{H_2O}) \\cdot d $$\n",
    "Como $P_D = 0$ resulta\n",
    "### $$ d = \\frac{P_A + (0,6 \\cdot \\gamma_{H_2O})(0,6m) - \\gamma_{Hg}(0,02m)}{1,4 \\cdot \\gamma_{H_2O}} $$"
   ]
  },
  {
   "cell_type": "code",
   "execution_count": 9,
   "metadata": {},
   "outputs": [
    {
     "name": "stdout",
     "output_type": "stream",
     "text": [
      "d = 0.028 m = 28.085 mm\n"
     ]
    }
   ],
   "source": [
    "# 1 kPa = 101.97 kgf/m^2\n",
    "P_A = 2.7 * 101.97 # kgf/m^2\n",
    "gamma_Hg = 13600 # kgf/m^3\n",
    "gamma_agua = 1000 # kgf/m^3\n",
    "gamma_aceite = 0.6*gamma_agua # kgf/m^3\n",
    "gamma_liq = 1.4*gamma_agua # kgf/m^3\n",
    "\n",
    "d = (P_A + gamma_aceite*0.06 - gamma_Hg*0.02)/gamma_liq\n",
    "print('d =',round(d,3),'m =',round(d*1000,3),'mm')"
   ]
  },
  {
   "cell_type": "code",
   "execution_count": null,
   "metadata": {},
   "outputs": [],
   "source": [
    "%reset -f"
   ]
  },
  {
   "cell_type": "markdown",
   "metadata": {},
   "source": [
    "## Ejercicio 10\n",
    "El depósito de la figura contiene agua.\n",
    "1. Si abrimos la llave de paso, ¿qué altura tendrá el agua en cada lado del depósito cuando se alcance el equilibrio?\n",
    "2. ¿Qué cantidad de agua pasará de un recipiene al otro hasta que se alcance el equilibrio?\n",
    "![tp1-10.png](tp1-10.png)"
   ]
  },
  {
   "cell_type": "markdown",
   "metadata": {},
   "source": [
    "### Solución\n",
    "1) En el equilibrio la presión en el fondo de los recipientes es igual, por lo tanto:\n",
    "\n",
    "$h_{iA} =$ altura inicial en A, $h_{iB} =$ altura inicial en B, $h_{fA} =$ altura final en A, $h_{fB} =$ altura final en B, $A_A =$ área A, $A_B =$ área B\n",
    "\n",
    "### $$ \\gamma_{agua} \\cdot h_{fA} = \\gamma_{agua} \\cdot h_{fB} + P_{atm} \\quad \\Rightarrow \\quad h_{fA} = h_{fB} + \\frac{P_{atm}}{\\gamma_{agua}} \\qquad [1] $$\n",
    "además el volumen total de agua no cambia por lo tanto:\n",
    "### $$ h_{iA} \\cdot Area_A + h_{iB} \\cdot Area_B = h_{fA} \\cdot Area_A + h_{fB} \\cdot Area_B \\qquad [2] $$"
   ]
  },
  {
   "cell_type": "code",
   "execution_count": 38,
   "metadata": {},
   "outputs": [
    {
     "name": "stdout",
     "output_type": "stream",
     "text": [
      "[{hf_A: 18.3333333333333, hf_B: 8.33333333333333}]\n",
      "Entonces:\n",
      "hf_A = 18.333 m\n",
      "hf_B = 8.333 m\n"
     ]
    }
   ],
   "source": [
    "from sympy import *\n",
    "hf_A, hf_B = symbols('hf_A , hf_B')\n",
    "hi_A = 15 # m altura inicial A\n",
    "hi_B = 10 # m altura inicial B\n",
    "Area_A = 10 # m^2\n",
    "Area_B = 20 # m^2\n",
    "gamma_agua = 1000 # kgf/m^3\n",
    "P_atm = 10000 # kgf/m^2\n",
    "eq1=Eq(hf_A , hf_B + P_atm/gamma_agua) # ecuación 1\n",
    "eq2=Eq(hi_A*Area_A+hi_B*Area_B , hf_A*Area_A+hf_B*Area_B) # ecuación 2\n",
    "Sol=solve([eq1,eq2],[hf_A,hf_B],dict=True)\n",
    "print(Sol)\n",
    "hf_A = Sol[0][hf_A] # altura final A\n",
    "hf_B = Sol[0][hf_B] # altura final B\n",
    "print('Entonces:')\n",
    "print('hf_A =',round(hf_A,3),'m')\n",
    "print('hf_B =',round(hf_B,3),'m')"
   ]
  },
  {
   "cell_type": "markdown",
   "metadata": {},
   "source": [
    "2) La cantidad de agua que pasa de un recipiente al otro será:\n",
    "### $$ V_{fA} - V_{iA} = h_{fA} \\cdot Area_A - h_{iA} \\cdot Area_A $$\n",
    "## $$ \\Delta V_A = -\\Delta V_B $$"
   ]
  },
  {
   "cell_type": "code",
   "execution_count": 40,
   "metadata": {},
   "outputs": [
    {
     "name": "stdout",
     "output_type": "stream",
     "text": [
      "DVA = 33.333 m^3\n"
     ]
    }
   ],
   "source": [
    "DVA = hf_A * Area_A -hi_A * Area_A\n",
    "print('DVA =',round(DVA,3),'m^3')"
   ]
  },
  {
   "cell_type": "code",
   "execution_count": null,
   "metadata": {},
   "outputs": [],
   "source": [
    "%reset -f"
   ]
  }
 ],
 "metadata": {
  "kernelspec": {
   "display_name": "Python 3",
   "language": "python",
   "name": "python3"
  },
  "language_info": {
   "codemirror_mode": {
    "name": "ipython",
    "version": 3
   },
   "file_extension": ".py",
   "mimetype": "text/x-python",
   "name": "python",
   "nbconvert_exporter": "python",
   "pygments_lexer": "ipython3",
   "version": "3.7.1"
  }
 },
 "nbformat": 4,
 "nbformat_minor": 2
}
